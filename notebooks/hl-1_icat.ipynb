{
 "cells": [
  {
   "cell_type": "markdown",
   "metadata": {},
   "source": [
    "# Imports"
   ]
  },
  {
   "cell_type": "code",
   "execution_count": 1,
   "metadata": {},
   "outputs": [],
   "source": [
    "from pyabc import (ABCSMC, Distribution, RV,\n",
    "                   History, Model,\n",
    "                   ModelResult, MedianEpsilon)\n",
    "from pyabc.transition import MultivariateNormalTransition\n",
    "from pyabc.visualization import plot_kde_matrix\n",
    "from pyabc.sampler import MulticoreEvalParallelSampler\n",
    "import seaborn as sns\n",
    "import matplotlib.pyplot as plt\n",
    "%matplotlib inline\n",
    "%config Inline.Backend.figure_format = 'retina'\n",
    "import os\n",
    "import tempfile\n",
    "import math\n",
    "import pandas as pd\n",
    "import scipy as sp\n",
    "import numpy as np\n",
    "import subprocess\n",
    "from io import BytesIO\n",
    "\n",
    "from pyabc_custom import MyokitSimulation\n",
    "from prangle_distance import PrangleDistance, PrangleEpsilon, PranglePopulationSize"
   ]
  },
  {
   "cell_type": "code",
   "execution_count": 2,
   "metadata": {},
   "outputs": [],
   "source": [
    "# Loading bar for long notebook loops\n",
    "def log_progress(sequence, every=None, size=None, name='Items'):\n",
    "    from ipywidgets import IntProgress, HTML, VBox\n",
    "    from IPython.display import display\n",
    "\n",
    "    is_iterator = False\n",
    "    if size is None:\n",
    "        try:\n",
    "            size = len(sequence)\n",
    "        except TypeError:\n",
    "            is_iterator = True\n",
    "    if size is not None:\n",
    "        if every is None:\n",
    "            if size <= 200:\n",
    "                every = 1\n",
    "            else:\n",
    "                every = int(size / 200)     # every 0.5%\n",
    "    else:\n",
    "        assert every is not None, 'sequence is iterator, set every'\n",
    "\n",
    "    if is_iterator:\n",
    "        progress = IntProgress(min=0, max=1, value=1)\n",
    "        progress.bar_style = 'info'\n",
    "    else:\n",
    "        progress = IntProgress(min=0, max=size, value=0)\n",
    "    label = HTML()\n",
    "    box = VBox(children=[label, progress])\n",
    "    display(box)\n",
    "\n",
    "    index = 0\n",
    "    try:\n",
    "        for index, record in enumerate(sequence, 1):\n",
    "            if index == 1 or index % every == 0:\n",
    "                if is_iterator:\n",
    "                    label.value = '{name}: {index} / ?'.format(\n",
    "                        name=name,\n",
    "                        index=index\n",
    "                    )\n",
    "                else:\n",
    "                    progress.value = index\n",
    "                    label.value = u'{name}: {index} / {size}'.format(\n",
    "                        name=name,\n",
    "                        index=index,\n",
    "                        size=size\n",
    "                    )\n",
    "            yield record\n",
    "    except:\n",
    "        progress.bar_style = 'danger'\n",
    "        raise\n",
    "    else:\n",
    "        progress.bar_style = 'success'\n",
    "        progress.value = index\n",
    "        label.value = \"{name}: {index}\".format(\n",
    "            name=name,\n",
    "            index=str(index or '?')\n",
    "        )"
   ]
  },
  {
   "cell_type": "markdown",
   "metadata": {},
   "source": [
    "# Get experimental measurements"
   ]
  },
  {
   "cell_type": "code",
   "execution_count": 3,
   "metadata": {},
   "outputs": [],
   "source": [
    "myokit_python = (\"/scratch/cph211/miniconda3/envs\" +\n",
    "                 \"/ion_channel_ABC/bin/python\")\n",
    "args = [myokit_python, \"get_measurements.py\"]\n",
    "args.append('icat')\n",
    "re = subprocess.run(args, stdout=subprocess.PIPE)\n",
    "measurements = pd.read_table(BytesIO(re.stdout),\n",
    "                             delim_whitespace=True,\n",
    "                             header=0, index_col=False)\n",
    "obs = measurements.to_dict()['y']\n",
    "exp = measurements.to_dict()['exp']\n",
    "errs = measurements.to_dict()['errs']"
   ]
  },
  {
   "cell_type": "markdown",
   "metadata": {},
   "source": [
    "# Set limits and generate uniform initial priors"
   ]
  },
  {
   "cell_type": "code",
   "execution_count": 4,
   "metadata": {},
   "outputs": [],
   "source": [
    "limits = dict(g_CaT=(0, 2),\n",
    "              E_CaT=(0, 50),\n",
    "              p1=(0, 100),\n",
    "              p2=(0, 10),\n",
    "              p3=(0, 5), # increased from (0, 1) to (0, 2) after initial run\n",
    "              p4=(0, 10),\n",
    "              p5=(0, 0.5),\n",
    "              p6=(0, 500),\n",
    "              q1=(0, 100),\n",
    "              q2=(0, 50),\n",
    "              q3=(0, 50),\n",
    "              q4=(0, 500),\n",
    "              q5=(0, 0.5),\n",
    "              q6=(0, 100))\n",
    "prior = Distribution(**{key: RV(\"uniform\", a, b - a)\n",
    "                        for key, (a,b) in limits.items()})"
   ]
  },
  {
   "cell_type": "markdown",
   "metadata": {},
   "source": [
    "# Define ABC parameters and initialize database"
   ]
  },
  {
   "cell_type": "code",
   "execution_count": 5,
   "metadata": {},
   "outputs": [],
   "source": [
    "def model_measure(df):\n",
    "    keys = range(len(df))\n",
    "    return dict(zip(keys, df.y))\n",
    "myokit_model = MyokitSimulation('icat', measure_fn=model_measure)"
   ]
  },
  {
   "cell_type": "code",
   "execution_count": 6,
   "metadata": {
    "collapsed": true
   },
   "outputs": [
    {
     "data": {
      "text/plain": [
       "{0: -0.017117,\n",
       " 1: -0.038363999999999995,\n",
       " 2: -0.083885,\n",
       " 3: -0.181119,\n",
       " 4: -0.386218,\n",
       " 5: -0.7984060000000001,\n",
       " 6: -1.532723,\n",
       " 7: -2.5352740000000002,\n",
       " 8: -3.4209400000000003,\n",
       " 9: -3.756993,\n",
       " 10: -3.584664,\n",
       " 11: -3.179023,\n",
       " 12: -2.7466150000000003,\n",
       " 13: -2.344986,\n",
       " 14: -2.004277,\n",
       " 15: -1.7019419999999998,\n",
       " 16: -1.426851,\n",
       " 17: -1.167729,\n",
       " 18: -0.9158209999999999,\n",
       " 19: -0.6652640000000001,\n",
       " 20: -0.41259700000000005,\n",
       " 21: -0.156069,\n",
       " 22: 0.10496199999999999,\n",
       " 23: 0.002564,\n",
       " 24: 0.006027,\n",
       " 25: 0.01385,\n",
       " 26: 0.031511000000000004,\n",
       " 27: 0.071012,\n",
       " 28: 0.155642,\n",
       " 29: 0.317942,\n",
       " 30: 0.561929,\n",
       " 31: 0.813984,\n",
       " 32: 0.964894,\n",
       " 33: 1.0,\n",
       " 34: 0.970504,\n",
       " 35: 0.92584,\n",
       " 36: 0.8823709999999999,\n",
       " 37: 0.853402,\n",
       " 38: 0.834469,\n",
       " 39: 0.8245180000000001,\n",
       " 40: 1.0,\n",
       " 41: 0.896482,\n",
       " 42: 0.726709,\n",
       " 43: 0.505367,\n",
       " 44: 0.29834099999999997,\n",
       " 45: 0.155038,\n",
       " 46: 0.075831,\n",
       " 47: 0.037108999999999996,\n",
       " 48: 0.01944,\n",
       " 49: 0.011433,\n",
       " 50: 0.006503,\n",
       " 51: 0.0032189999999999996,\n",
       " 52: 0.635473,\n",
       " 53: 0.866986,\n",
       " 54: 0.9514459999999999,\n",
       " 55: 0.9824149999999999,\n",
       " 56: 0.993682,\n",
       " 57: 0.99774,\n",
       " 58: 0.999274,\n",
       " 59: 0.999812,\n",
       " 60: 0.999942,\n",
       " 61: 1.0,\n",
       " 62: -0.001049,\n",
       " 63: -0.999956,\n",
       " 64: -0.5798399999999999,\n",
       " 65: -0.24996,\n",
       " 66: -0.12067699999999999,\n",
       " 67: -0.044784,\n",
       " 68: -0.015097,\n",
       " 69: -0.004425,\n",
       " 70: -0.001472,\n",
       " 71: -0.001351,\n",
       " 72: -0.0013449999999999998,\n",
       " 73: -0.001347,\n",
       " 74: -0.0013460000000000002,\n",
       " 75: -0.001347,\n",
       " 76: -0.001347,\n",
       " 77: -0.001347,\n",
       " 78: -0.001347,\n",
       " 79: -0.001347,\n",
       " 80: -0.001347}"
      ]
     },
     "execution_count": 6,
     "metadata": {},
     "output_type": "execute_result"
    }
   ],
   "source": [
    "myokit_model.sample({})"
   ]
  },
  {
   "cell_type": "code",
   "execution_count": 7,
   "metadata": {},
   "outputs": [],
   "source": [
    "db_path = (\"sqlite:///\" +\n",
    "           os.path.join(tempfile.gettempdir(), \"hl-1_icat.db\"))"
   ]
  },
  {
   "cell_type": "code",
   "execution_count": 8,
   "metadata": {},
   "outputs": [],
   "source": [
    "abc = ABCSMC(models=myokit_model,\n",
    "             parameter_priors=prior,\n",
    "             distance_function=PrangleDistance(exp_map=exp,\n",
    "                                               err_bars=errs,\n",
    "                                               alpha=0.5,\n",
    "                                               delta=0.5,\n",
    "                                               adapt=False),\n",
    "             population_size=PranglePopulationSize(2500, 0.5,\n",
    "                 adapt=True,\n",
    "                 mean_cv=0.5, \n",
    "                 min_population_size=100,\n",
    "                 max_population_size=2500),\n",
    "             eps=PrangleEpsilon(),\n",
    "             sampler=MulticoreEvalParallelSampler(n_procs=24))"
   ]
  },
  {
   "cell_type": "code",
   "execution_count": 9,
   "metadata": {
    "scrolled": true
   },
   "outputs": [
    {
     "name": "stderr",
     "output_type": "stream",
     "text": [
      "INFO:Epsilon:initial epsilon is inf\n",
      "INFO:History:Start <ABCSMC(id=2, start_time=2018-08-14 10:34:43.129745, end_time=None)>\n"
     ]
    }
   ],
   "source": [
    "abc_id = abc.new(db_path, obs)"
   ]
  },
  {
   "cell_type": "code",
   "execution_count": 10,
   "metadata": {
    "scrolled": true
   },
   "outputs": [
    {
     "name": "stderr",
     "output_type": "stream",
     "text": [
      "INFO:ABC:t:0 M eps:[inf]\n",
      "/scratch/cph211/ion-channel-ABC/prangle_distance.py:102: FutureWarning: Method .as_matrix will be removed in a future version. Use .values instead.\n",
      "  distances = df_weighted.distance.as_matrix()\n",
      "/scratch/cph211/ion-channel-ABC/prangle_distance.py:104: FutureWarning: Method .as_matrix will be removed in a future version. Use .values instead.\n",
      "  weights = df_weighted.w.as_matrix()\n",
      "INFO:ABC:t:0 N eps:22.659645512878672\n",
      "INFO:ABC:N population size: 2500\n",
      "INFO:ABC:t:1 M eps:[        inf 22.65964551]\n",
      "/storage/hhecm/cellrotor/chouston/pyabc/pyabc/storage/history.py:200: FutureWarning: Method .as_matrix will be removed in a future version. Use .values instead.\n",
      "  w_arr = w.w.as_matrix()\n",
      "/storage/hhecm/cellrotor/chouston/pyabc/pyabc/transition/multivariatenormal.py:64: FutureWarning: Method .as_matrix will be removed in a future version. Use .values instead.\n",
      "  self._X_arr = X.as_matrix()\n",
      "/storage/hhecm/cellrotor/chouston/pyabc/pyabc/smc.py:690: FutureWarning: Method .as_matrix will be removed in a future version. Use .values instead.\n",
      "  self.history.max_t)[\"p\"].as_matrix()\n",
      "INFO:Adaptation:Change nr particles 2500 -> 2500\n",
      "/scratch/cph211/ion-channel-ABC/prangle_distance.py:102: FutureWarning: Method .as_matrix will be removed in a future version. Use .values instead.\n",
      "  distances = df_weighted.distance.as_matrix()\n",
      "/scratch/cph211/ion-channel-ABC/prangle_distance.py:104: FutureWarning: Method .as_matrix will be removed in a future version. Use .values instead.\n",
      "  weights = df_weighted.w.as_matrix()\n",
      "INFO:ABC:t:1 N eps:15.008982851514858\n",
      "INFO:ABC:N population size: 2500\n",
      "INFO:ABC:t:2 M eps:[        inf 22.65964551 15.00898285]\n",
      "/storage/hhecm/cellrotor/chouston/pyabc/pyabc/storage/history.py:200: FutureWarning: Method .as_matrix will be removed in a future version. Use .values instead.\n",
      "  w_arr = w.w.as_matrix()\n",
      "/storage/hhecm/cellrotor/chouston/pyabc/pyabc/transition/multivariatenormal.py:64: FutureWarning: Method .as_matrix will be removed in a future version. Use .values instead.\n",
      "  self._X_arr = X.as_matrix()\n",
      "/storage/hhecm/cellrotor/chouston/pyabc/pyabc/smc.py:690: FutureWarning: Method .as_matrix will be removed in a future version. Use .values instead.\n",
      "  self.history.max_t)[\"p\"].as_matrix()\n",
      "INFO:Adaptation:Change nr particles 2500 -> 2500\n",
      "/scratch/cph211/ion-channel-ABC/prangle_distance.py:102: FutureWarning: Method .as_matrix will be removed in a future version. Use .values instead.\n",
      "  distances = df_weighted.distance.as_matrix()\n",
      "/scratch/cph211/ion-channel-ABC/prangle_distance.py:104: FutureWarning: Method .as_matrix will be removed in a future version. Use .values instead.\n",
      "  weights = df_weighted.w.as_matrix()\n",
      "INFO:ABC:t:2 N eps:9.483313201996973\n",
      "INFO:ABC:N population size: 2500\n",
      "INFO:ABC:t:3 M eps:[        inf 22.65964551 15.00898285  9.4833132 ]\n",
      "/storage/hhecm/cellrotor/chouston/pyabc/pyabc/storage/history.py:200: FutureWarning: Method .as_matrix will be removed in a future version. Use .values instead.\n",
      "  w_arr = w.w.as_matrix()\n",
      "/storage/hhecm/cellrotor/chouston/pyabc/pyabc/transition/multivariatenormal.py:64: FutureWarning: Method .as_matrix will be removed in a future version. Use .values instead.\n",
      "  self._X_arr = X.as_matrix()\n",
      "/storage/hhecm/cellrotor/chouston/pyabc/pyabc/smc.py:690: FutureWarning: Method .as_matrix will be removed in a future version. Use .values instead.\n",
      "  self.history.max_t)[\"p\"].as_matrix()\n",
      "INFO:Adaptation:Change nr particles 2500 -> 2500\n",
      "/scratch/cph211/ion-channel-ABC/prangle_distance.py:102: FutureWarning: Method .as_matrix will be removed in a future version. Use .values instead.\n",
      "  distances = df_weighted.distance.as_matrix()\n",
      "/scratch/cph211/ion-channel-ABC/prangle_distance.py:104: FutureWarning: Method .as_matrix will be removed in a future version. Use .values instead.\n",
      "  weights = df_weighted.w.as_matrix()\n",
      "INFO:ABC:t:3 N eps:5.206240205952403\n",
      "INFO:ABC:N population size: 2500\n",
      "INFO:ABC:t:4 M eps:[        inf 22.65964551 15.00898285  9.4833132   5.20624021]\n",
      "/storage/hhecm/cellrotor/chouston/pyabc/pyabc/storage/history.py:200: FutureWarning: Method .as_matrix will be removed in a future version. Use .values instead.\n",
      "  w_arr = w.w.as_matrix()\n",
      "/storage/hhecm/cellrotor/chouston/pyabc/pyabc/transition/multivariatenormal.py:64: FutureWarning: Method .as_matrix will be removed in a future version. Use .values instead.\n",
      "  self._X_arr = X.as_matrix()\n",
      "/storage/hhecm/cellrotor/chouston/pyabc/pyabc/smc.py:690: FutureWarning: Method .as_matrix will be removed in a future version. Use .values instead.\n",
      "  self.history.max_t)[\"p\"].as_matrix()\n",
      "INFO:Adaptation:Change nr particles 2500 -> 2500\n",
      "/scratch/cph211/ion-channel-ABC/prangle_distance.py:102: FutureWarning: Method .as_matrix will be removed in a future version. Use .values instead.\n",
      "  distances = df_weighted.distance.as_matrix()\n",
      "/scratch/cph211/ion-channel-ABC/prangle_distance.py:104: FutureWarning: Method .as_matrix will be removed in a future version. Use .values instead.\n",
      "  weights = df_weighted.w.as_matrix()\n",
      "INFO:ABC:t:4 N eps:3.9380925816634256\n",
      "INFO:ABC:N population size: 2500\n",
      "INFO:ABC:t:5 M eps:[        inf 22.65964551 15.00898285  9.4833132   5.20624021  3.93809258]\n",
      "/storage/hhecm/cellrotor/chouston/pyabc/pyabc/storage/history.py:200: FutureWarning: Method .as_matrix will be removed in a future version. Use .values instead.\n",
      "  w_arr = w.w.as_matrix()\n",
      "/storage/hhecm/cellrotor/chouston/pyabc/pyabc/transition/multivariatenormal.py:64: FutureWarning: Method .as_matrix will be removed in a future version. Use .values instead.\n",
      "  self._X_arr = X.as_matrix()\n",
      "/storage/hhecm/cellrotor/chouston/pyabc/pyabc/smc.py:690: FutureWarning: Method .as_matrix will be removed in a future version. Use .values instead.\n",
      "  self.history.max_t)[\"p\"].as_matrix()\n",
      "INFO:Adaptation:Change nr particles 2500 -> 2500\n",
      "/scratch/cph211/ion-channel-ABC/prangle_distance.py:102: FutureWarning: Method .as_matrix will be removed in a future version. Use .values instead.\n",
      "  distances = df_weighted.distance.as_matrix()\n",
      "/scratch/cph211/ion-channel-ABC/prangle_distance.py:104: FutureWarning: Method .as_matrix will be removed in a future version. Use .values instead.\n",
      "  weights = df_weighted.w.as_matrix()\n",
      "INFO:ABC:t:5 N eps:3.2512502885815264\n",
      "INFO:ABC:N population size: 2500\n",
      "INFO:ABC:t:6 M eps:[        inf 22.65964551 15.00898285  9.4833132   5.20624021  3.93809258\n",
      "  3.25125029]\n",
      "/storage/hhecm/cellrotor/chouston/pyabc/pyabc/storage/history.py:200: FutureWarning: Method .as_matrix will be removed in a future version. Use .values instead.\n",
      "  w_arr = w.w.as_matrix()\n",
      "/storage/hhecm/cellrotor/chouston/pyabc/pyabc/transition/multivariatenormal.py:64: FutureWarning: Method .as_matrix will be removed in a future version. Use .values instead.\n",
      "  self._X_arr = X.as_matrix()\n",
      "/storage/hhecm/cellrotor/chouston/pyabc/pyabc/smc.py:690: FutureWarning: Method .as_matrix will be removed in a future version. Use .values instead.\n",
      "  self.history.max_t)[\"p\"].as_matrix()\n",
      "INFO:Adaptation:Change nr particles 2500 -> 2500\n",
      "/scratch/cph211/ion-channel-ABC/prangle_distance.py:102: FutureWarning: Method .as_matrix will be removed in a future version. Use .values instead.\n",
      "  distances = df_weighted.distance.as_matrix()\n",
      "/scratch/cph211/ion-channel-ABC/prangle_distance.py:104: FutureWarning: Method .as_matrix will be removed in a future version. Use .values instead.\n",
      "  weights = df_weighted.w.as_matrix()\n",
      "INFO:ABC:t:6 N eps:2.8122039549920754\n",
      "INFO:ABC:N population size: 2500\n",
      "INFO:ABC:t:7 M eps:[        inf 22.65964551 15.00898285  9.4833132   5.20624021  3.93809258\n",
      "  3.25125029  2.81220395]\n",
      "/storage/hhecm/cellrotor/chouston/pyabc/pyabc/storage/history.py:200: FutureWarning: Method .as_matrix will be removed in a future version. Use .values instead.\n",
      "  w_arr = w.w.as_matrix()\n",
      "/storage/hhecm/cellrotor/chouston/pyabc/pyabc/transition/multivariatenormal.py:64: FutureWarning: Method .as_matrix will be removed in a future version. Use .values instead.\n",
      "  self._X_arr = X.as_matrix()\n",
      "/storage/hhecm/cellrotor/chouston/pyabc/pyabc/smc.py:690: FutureWarning: Method .as_matrix will be removed in a future version. Use .values instead.\n",
      "  self.history.max_t)[\"p\"].as_matrix()\n",
      "INFO:Adaptation:Change nr particles 2500 -> 2500\n",
      "/scratch/cph211/ion-channel-ABC/prangle_distance.py:102: FutureWarning: Method .as_matrix will be removed in a future version. Use .values instead.\n",
      "  distances = df_weighted.distance.as_matrix()\n",
      "/scratch/cph211/ion-channel-ABC/prangle_distance.py:104: FutureWarning: Method .as_matrix will be removed in a future version. Use .values instead.\n",
      "  weights = df_weighted.w.as_matrix()\n",
      "INFO:ABC:t:7 N eps:2.524379758146645\n"
     ]
    },
    {
     "name": "stderr",
     "output_type": "stream",
     "text": [
      "INFO:ABC:N population size: 2500\n",
      "INFO:ABC:t:8 M eps:[        inf 22.65964551 15.00898285  9.4833132   5.20624021  3.93809258\n",
      "  3.25125029  2.81220395  2.52437976]\n",
      "/storage/hhecm/cellrotor/chouston/pyabc/pyabc/storage/history.py:200: FutureWarning: Method .as_matrix will be removed in a future version. Use .values instead.\n",
      "  w_arr = w.w.as_matrix()\n",
      "/storage/hhecm/cellrotor/chouston/pyabc/pyabc/transition/multivariatenormal.py:64: FutureWarning: Method .as_matrix will be removed in a future version. Use .values instead.\n",
      "  self._X_arr = X.as_matrix()\n",
      "/storage/hhecm/cellrotor/chouston/pyabc/pyabc/smc.py:690: FutureWarning: Method .as_matrix will be removed in a future version. Use .values instead.\n",
      "  self.history.max_t)[\"p\"].as_matrix()\n",
      "INFO:Adaptation:Change nr particles 2500 -> 2500\n",
      "/scratch/cph211/ion-channel-ABC/prangle_distance.py:102: FutureWarning: Method .as_matrix will be removed in a future version. Use .values instead.\n",
      "  distances = df_weighted.distance.as_matrix()\n",
      "/scratch/cph211/ion-channel-ABC/prangle_distance.py:104: FutureWarning: Method .as_matrix will be removed in a future version. Use .values instead.\n",
      "  weights = df_weighted.w.as_matrix()\n",
      "INFO:ABC:t:8 N eps:2.2829103073056984\n",
      "INFO:ABC:N population size: 2500\n",
      "INFO:ABC:t:9 M eps:[        inf 22.65964551 15.00898285  9.4833132   5.20624021  3.93809258\n",
      "  3.25125029  2.81220395  2.52437976  2.28291031]\n",
      "/storage/hhecm/cellrotor/chouston/pyabc/pyabc/storage/history.py:200: FutureWarning: Method .as_matrix will be removed in a future version. Use .values instead.\n",
      "  w_arr = w.w.as_matrix()\n",
      "/storage/hhecm/cellrotor/chouston/pyabc/pyabc/transition/multivariatenormal.py:64: FutureWarning: Method .as_matrix will be removed in a future version. Use .values instead.\n",
      "  self._X_arr = X.as_matrix()\n",
      "/storage/hhecm/cellrotor/chouston/pyabc/pyabc/smc.py:690: FutureWarning: Method .as_matrix will be removed in a future version. Use .values instead.\n",
      "  self.history.max_t)[\"p\"].as_matrix()\n",
      "INFO:Adaptation:Change nr particles 2500 -> 2500\n",
      "/scratch/cph211/ion-channel-ABC/prangle_distance.py:102: FutureWarning: Method .as_matrix will be removed in a future version. Use .values instead.\n",
      "  distances = df_weighted.distance.as_matrix()\n",
      "/scratch/cph211/ion-channel-ABC/prangle_distance.py:104: FutureWarning: Method .as_matrix will be removed in a future version. Use .values instead.\n",
      "  weights = df_weighted.w.as_matrix()\n",
      "INFO:ABC:t:9 N eps:2.0824892211985304\n",
      "INFO:ABC:N population size: 2500\n",
      "INFO:History:Done <ABCSMC(id=2, start_time=2018-08-14 10:34:43.129745, end_time=2018-08-14 16:48:20.916832)>\n"
     ]
    }
   ],
   "source": [
    "history = abc.run(minimum_epsilon=0.1, max_nr_populations=10)"
   ]
  },
  {
   "cell_type": "code",
   "execution_count": 11,
   "metadata": {},
   "outputs": [
    {
     "name": "stderr",
     "output_type": "stream",
     "text": [
      "INFO:ABC:t:10 M eps:[        inf 22.65964551 15.00898285  9.4833132   5.20624021  3.93809258\n",
      "  3.25125029  2.81220395  2.52437976  2.28291031  2.08248922]\n",
      "/storage/hhecm/cellrotor/chouston/pyabc/pyabc/storage/history.py:200: FutureWarning: Method .as_matrix will be removed in a future version. Use .values instead.\n",
      "  w_arr = w.w.as_matrix()\n",
      "/storage/hhecm/cellrotor/chouston/pyabc/pyabc/transition/multivariatenormal.py:64: FutureWarning: Method .as_matrix will be removed in a future version. Use .values instead.\n",
      "  self._X_arr = X.as_matrix()\n",
      "/storage/hhecm/cellrotor/chouston/pyabc/pyabc/smc.py:690: FutureWarning: Method .as_matrix will be removed in a future version. Use .values instead.\n",
      "  self.history.max_t)[\"p\"].as_matrix()\n",
      "INFO:Adaptation:Change nr particles 2500 -> 2500\n",
      "/scratch/cph211/ion-channel-ABC/prangle_distance.py:102: FutureWarning: Method .as_matrix will be removed in a future version. Use .values instead.\n",
      "  distances = df_weighted.distance.as_matrix()\n",
      "/scratch/cph211/ion-channel-ABC/prangle_distance.py:104: FutureWarning: Method .as_matrix will be removed in a future version. Use .values instead.\n",
      "  weights = df_weighted.w.as_matrix()\n",
      "INFO:ABC:t:10 N eps:1.9073175831932663\n",
      "INFO:ABC:N population size: 2500\n",
      "INFO:ABC:t:11 M eps:[        inf 22.65964551 15.00898285  9.4833132   5.20624021  3.93809258\n",
      "  3.25125029  2.81220395  2.52437976  2.28291031  2.08248922  1.90731758]\n",
      "/storage/hhecm/cellrotor/chouston/pyabc/pyabc/storage/history.py:200: FutureWarning: Method .as_matrix will be removed in a future version. Use .values instead.\n",
      "  w_arr = w.w.as_matrix()\n",
      "/storage/hhecm/cellrotor/chouston/pyabc/pyabc/transition/multivariatenormal.py:64: FutureWarning: Method .as_matrix will be removed in a future version. Use .values instead.\n",
      "  self._X_arr = X.as_matrix()\n",
      "/storage/hhecm/cellrotor/chouston/pyabc/pyabc/smc.py:690: FutureWarning: Method .as_matrix will be removed in a future version. Use .values instead.\n",
      "  self.history.max_t)[\"p\"].as_matrix()\n",
      "INFO:Adaptation:Change nr particles 2500 -> 2500\n",
      "/scratch/cph211/ion-channel-ABC/prangle_distance.py:102: FutureWarning: Method .as_matrix will be removed in a future version. Use .values instead.\n",
      "  distances = df_weighted.distance.as_matrix()\n",
      "/scratch/cph211/ion-channel-ABC/prangle_distance.py:104: FutureWarning: Method .as_matrix will be removed in a future version. Use .values instead.\n",
      "  weights = df_weighted.w.as_matrix()\n",
      "INFO:ABC:t:11 N eps:1.7872053283280698\n",
      "INFO:ABC:N population size: 2500\n",
      "INFO:ABC:t:12 M eps:[        inf 22.65964551 15.00898285  9.4833132   5.20624021  3.93809258\n",
      "  3.25125029  2.81220395  2.52437976  2.28291031  2.08248922  1.90731758\n",
      "  1.78720533]\n",
      "/storage/hhecm/cellrotor/chouston/pyabc/pyabc/storage/history.py:200: FutureWarning: Method .as_matrix will be removed in a future version. Use .values instead.\n",
      "  w_arr = w.w.as_matrix()\n",
      "/storage/hhecm/cellrotor/chouston/pyabc/pyabc/transition/multivariatenormal.py:64: FutureWarning: Method .as_matrix will be removed in a future version. Use .values instead.\n",
      "  self._X_arr = X.as_matrix()\n",
      "/storage/hhecm/cellrotor/chouston/pyabc/pyabc/smc.py:690: FutureWarning: Method .as_matrix will be removed in a future version. Use .values instead.\n",
      "  self.history.max_t)[\"p\"].as_matrix()\n",
      "INFO:Adaptation:Change nr particles 2500 -> 2500\n",
      "/scratch/cph211/ion-channel-ABC/prangle_distance.py:102: FutureWarning: Method .as_matrix will be removed in a future version. Use .values instead.\n",
      "  distances = df_weighted.distance.as_matrix()\n",
      "/scratch/cph211/ion-channel-ABC/prangle_distance.py:104: FutureWarning: Method .as_matrix will be removed in a future version. Use .values instead.\n",
      "  weights = df_weighted.w.as_matrix()\n",
      "INFO:ABC:t:12 N eps:1.676800577446288\n",
      "INFO:ABC:N population size: 2500\n",
      "INFO:ABC:t:13 M eps:[        inf 22.65964551 15.00898285  9.4833132   5.20624021  3.93809258\n",
      "  3.25125029  2.81220395  2.52437976  2.28291031  2.08248922  1.90731758\n",
      "  1.78720533  1.67680058]\n",
      "/storage/hhecm/cellrotor/chouston/pyabc/pyabc/storage/history.py:200: FutureWarning: Method .as_matrix will be removed in a future version. Use .values instead.\n",
      "  w_arr = w.w.as_matrix()\n",
      "/storage/hhecm/cellrotor/chouston/pyabc/pyabc/transition/multivariatenormal.py:64: FutureWarning: Method .as_matrix will be removed in a future version. Use .values instead.\n",
      "  self._X_arr = X.as_matrix()\n",
      "/storage/hhecm/cellrotor/chouston/pyabc/pyabc/smc.py:690: FutureWarning: Method .as_matrix will be removed in a future version. Use .values instead.\n",
      "  self.history.max_t)[\"p\"].as_matrix()\n",
      "INFO:Adaptation:Change nr particles 2500 -> 2500\n",
      "/scratch/cph211/ion-channel-ABC/prangle_distance.py:102: FutureWarning: Method .as_matrix will be removed in a future version. Use .values instead.\n",
      "  distances = df_weighted.distance.as_matrix()\n",
      "/scratch/cph211/ion-channel-ABC/prangle_distance.py:104: FutureWarning: Method .as_matrix will be removed in a future version. Use .values instead.\n",
      "  weights = df_weighted.w.as_matrix()\n",
      "INFO:ABC:t:13 N eps:1.591552811940356\n",
      "INFO:ABC:N population size: 2500\n",
      "INFO:ABC:t:14 M eps:[        inf 22.65964551 15.00898285  9.4833132   5.20624021  3.93809258\n",
      "  3.25125029  2.81220395  2.52437976  2.28291031  2.08248922  1.90731758\n",
      "  1.78720533  1.67680058  1.59155281]\n",
      "/storage/hhecm/cellrotor/chouston/pyabc/pyabc/storage/history.py:200: FutureWarning: Method .as_matrix will be removed in a future version. Use .values instead.\n",
      "  w_arr = w.w.as_matrix()\n",
      "/storage/hhecm/cellrotor/chouston/pyabc/pyabc/transition/multivariatenormal.py:64: FutureWarning: Method .as_matrix will be removed in a future version. Use .values instead.\n",
      "  self._X_arr = X.as_matrix()\n",
      "/storage/hhecm/cellrotor/chouston/pyabc/pyabc/smc.py:690: FutureWarning: Method .as_matrix will be removed in a future version. Use .values instead.\n",
      "  self.history.max_t)[\"p\"].as_matrix()\n",
      "INFO:Adaptation:Change nr particles 2500 -> 2500\n",
      "/scratch/cph211/ion-channel-ABC/prangle_distance.py:102: FutureWarning: Method .as_matrix will be removed in a future version. Use .values instead.\n",
      "  distances = df_weighted.distance.as_matrix()\n",
      "/scratch/cph211/ion-channel-ABC/prangle_distance.py:104: FutureWarning: Method .as_matrix will be removed in a future version. Use .values instead.\n",
      "  weights = df_weighted.w.as_matrix()\n",
      "INFO:ABC:t:14 N eps:1.5034912070773503\n",
      "INFO:ABC:N population size: 2500\n",
      "INFO:ABC:t:15 M eps:[        inf 22.65964551 15.00898285  9.4833132   5.20624021  3.93809258\n",
      "  3.25125029  2.81220395  2.52437976  2.28291031  2.08248922  1.90731758\n",
      "  1.78720533  1.67680058  1.59155281  1.50349121]\n",
      "/storage/hhecm/cellrotor/chouston/pyabc/pyabc/storage/history.py:200: FutureWarning: Method .as_matrix will be removed in a future version. Use .values instead.\n",
      "  w_arr = w.w.as_matrix()\n",
      "/storage/hhecm/cellrotor/chouston/pyabc/pyabc/transition/multivariatenormal.py:64: FutureWarning: Method .as_matrix will be removed in a future version. Use .values instead.\n",
      "  self._X_arr = X.as_matrix()\n",
      "/storage/hhecm/cellrotor/chouston/pyabc/pyabc/smc.py:690: FutureWarning: Method .as_matrix will be removed in a future version. Use .values instead.\n",
      "  self.history.max_t)[\"p\"].as_matrix()\n",
      "INFO:Adaptation:Change nr particles 2500 -> 2500\n",
      "/scratch/cph211/ion-channel-ABC/prangle_distance.py:102: FutureWarning: Method .as_matrix will be removed in a future version. Use .values instead.\n",
      "  distances = df_weighted.distance.as_matrix()\n",
      "/scratch/cph211/ion-channel-ABC/prangle_distance.py:104: FutureWarning: Method .as_matrix will be removed in a future version. Use .values instead.\n",
      "  weights = df_weighted.w.as_matrix()\n",
      "INFO:ABC:t:15 N eps:1.4362759236978127\n",
      "INFO:ABC:N population size: 2500\n",
      "INFO:ABC:t:16 M eps:[        inf 22.65964551 15.00898285  9.4833132   5.20624021  3.93809258\n",
      "  3.25125029  2.81220395  2.52437976  2.28291031  2.08248922  1.90731758\n",
      "  1.78720533  1.67680058  1.59155281  1.50349121  1.43627592]\n",
      "/storage/hhecm/cellrotor/chouston/pyabc/pyabc/storage/history.py:200: FutureWarning: Method .as_matrix will be removed in a future version. Use .values instead.\n",
      "  w_arr = w.w.as_matrix()\n",
      "/storage/hhecm/cellrotor/chouston/pyabc/pyabc/transition/multivariatenormal.py:64: FutureWarning: Method .as_matrix will be removed in a future version. Use .values instead.\n",
      "  self._X_arr = X.as_matrix()\n",
      "/storage/hhecm/cellrotor/chouston/pyabc/pyabc/smc.py:690: FutureWarning: Method .as_matrix will be removed in a future version. Use .values instead.\n",
      "  self.history.max_t)[\"p\"].as_matrix()\n"
     ]
    },
    {
     "name": "stderr",
     "output_type": "stream",
     "text": [
      "INFO:Adaptation:Change nr particles 2500 -> 2500\n",
      "/scratch/cph211/ion-channel-ABC/prangle_distance.py:102: FutureWarning: Method .as_matrix will be removed in a future version. Use .values instead.\n",
      "  distances = df_weighted.distance.as_matrix()\n",
      "/scratch/cph211/ion-channel-ABC/prangle_distance.py:104: FutureWarning: Method .as_matrix will be removed in a future version. Use .values instead.\n",
      "  weights = df_weighted.w.as_matrix()\n",
      "INFO:ABC:t:16 N eps:1.3661205106901493\n",
      "INFO:ABC:N population size: 2500\n",
      "INFO:ABC:t:17 M eps:[        inf 22.65964551 15.00898285  9.4833132   5.20624021  3.93809258\n",
      "  3.25125029  2.81220395  2.52437976  2.28291031  2.08248922  1.90731758\n",
      "  1.78720533  1.67680058  1.59155281  1.50349121  1.43627592  1.36612051]\n",
      "/storage/hhecm/cellrotor/chouston/pyabc/pyabc/storage/history.py:200: FutureWarning: Method .as_matrix will be removed in a future version. Use .values instead.\n",
      "  w_arr = w.w.as_matrix()\n",
      "/storage/hhecm/cellrotor/chouston/pyabc/pyabc/transition/multivariatenormal.py:64: FutureWarning: Method .as_matrix will be removed in a future version. Use .values instead.\n",
      "  self._X_arr = X.as_matrix()\n",
      "/storage/hhecm/cellrotor/chouston/pyabc/pyabc/smc.py:690: FutureWarning: Method .as_matrix will be removed in a future version. Use .values instead.\n",
      "  self.history.max_t)[\"p\"].as_matrix()\n",
      "INFO:Adaptation:Change nr particles 2500 -> 2500\n",
      "/scratch/cph211/ion-channel-ABC/prangle_distance.py:102: FutureWarning: Method .as_matrix will be removed in a future version. Use .values instead.\n",
      "  distances = df_weighted.distance.as_matrix()\n",
      "/scratch/cph211/ion-channel-ABC/prangle_distance.py:104: FutureWarning: Method .as_matrix will be removed in a future version. Use .values instead.\n",
      "  weights = df_weighted.w.as_matrix()\n",
      "INFO:ABC:t:17 N eps:1.3159947676491046\n",
      "INFO:ABC:N population size: 2500\n",
      "INFO:ABC:t:18 M eps:[        inf 22.65964551 15.00898285  9.4833132   5.20624021  3.93809258\n",
      "  3.25125029  2.81220395  2.52437976  2.28291031  2.08248922  1.90731758\n",
      "  1.78720533  1.67680058  1.59155281  1.50349121  1.43627592  1.36612051\n",
      "  1.31599477]\n",
      "/storage/hhecm/cellrotor/chouston/pyabc/pyabc/storage/history.py:200: FutureWarning: Method .as_matrix will be removed in a future version. Use .values instead.\n",
      "  w_arr = w.w.as_matrix()\n",
      "/storage/hhecm/cellrotor/chouston/pyabc/pyabc/transition/multivariatenormal.py:64: FutureWarning: Method .as_matrix will be removed in a future version. Use .values instead.\n",
      "  self._X_arr = X.as_matrix()\n",
      "/storage/hhecm/cellrotor/chouston/pyabc/pyabc/smc.py:690: FutureWarning: Method .as_matrix will be removed in a future version. Use .values instead.\n",
      "  self.history.max_t)[\"p\"].as_matrix()\n",
      "INFO:Adaptation:Change nr particles 2500 -> 2500\n",
      "/scratch/cph211/ion-channel-ABC/prangle_distance.py:102: FutureWarning: Method .as_matrix will be removed in a future version. Use .values instead.\n",
      "  distances = df_weighted.distance.as_matrix()\n",
      "/scratch/cph211/ion-channel-ABC/prangle_distance.py:104: FutureWarning: Method .as_matrix will be removed in a future version. Use .values instead.\n",
      "  weights = df_weighted.w.as_matrix()\n",
      "INFO:ABC:t:18 N eps:1.2798206491492927\n",
      "INFO:ABC:N population size: 2500\n",
      "INFO:ABC:t:19 M eps:[        inf 22.65964551 15.00898285  9.4833132   5.20624021  3.93809258\n",
      "  3.25125029  2.81220395  2.52437976  2.28291031  2.08248922  1.90731758\n",
      "  1.78720533  1.67680058  1.59155281  1.50349121  1.43627592  1.36612051\n",
      "  1.31599477  1.27982065]\n",
      "/storage/hhecm/cellrotor/chouston/pyabc/pyabc/storage/history.py:200: FutureWarning: Method .as_matrix will be removed in a future version. Use .values instead.\n",
      "  w_arr = w.w.as_matrix()\n",
      "/storage/hhecm/cellrotor/chouston/pyabc/pyabc/transition/multivariatenormal.py:64: FutureWarning: Method .as_matrix will be removed in a future version. Use .values instead.\n",
      "  self._X_arr = X.as_matrix()\n",
      "/storage/hhecm/cellrotor/chouston/pyabc/pyabc/smc.py:690: FutureWarning: Method .as_matrix will be removed in a future version. Use .values instead.\n",
      "  self.history.max_t)[\"p\"].as_matrix()\n",
      "INFO:Adaptation:Change nr particles 2500 -> 2500\n",
      "/scratch/cph211/ion-channel-ABC/prangle_distance.py:102: FutureWarning: Method .as_matrix will be removed in a future version. Use .values instead.\n",
      "  distances = df_weighted.distance.as_matrix()\n",
      "/scratch/cph211/ion-channel-ABC/prangle_distance.py:104: FutureWarning: Method .as_matrix will be removed in a future version. Use .values instead.\n",
      "  weights = df_weighted.w.as_matrix()\n",
      "INFO:ABC:t:19 N eps:1.2498115282079563\n",
      "INFO:ABC:N population size: 2500\n",
      "INFO:History:Done <ABCSMC(id=2, start_time=2018-08-14 10:34:43.129745, end_time=2018-08-15 10:49:06.638818)>\n"
     ]
    }
   ],
   "source": [
    "history = abc.run(minimum_epsilon=0.1, max_nr_populations=10)"
   ]
  },
  {
   "cell_type": "code",
   "execution_count": null,
   "metadata": {},
   "outputs": [
    {
     "name": "stderr",
     "output_type": "stream",
     "text": [
      "INFO:ABC:t:20 M eps:[        inf 22.65964551 15.00898285  9.4833132   5.20624021  3.93809258\n",
      "  3.25125029  2.81220395  2.52437976  2.28291031  2.08248922  1.90731758\n",
      "  1.78720533  1.67680058  1.59155281  1.50349121  1.43627592  1.36612051\n",
      "  1.31599477  1.27982065  1.24981153]\n",
      "/storage/hhecm/cellrotor/chouston/pyabc/pyabc/storage/history.py:200: FutureWarning: Method .as_matrix will be removed in a future version. Use .values instead.\n",
      "  w_arr = w.w.as_matrix()\n",
      "/storage/hhecm/cellrotor/chouston/pyabc/pyabc/transition/multivariatenormal.py:64: FutureWarning: Method .as_matrix will be removed in a future version. Use .values instead.\n",
      "  self._X_arr = X.as_matrix()\n",
      "/storage/hhecm/cellrotor/chouston/pyabc/pyabc/smc.py:690: FutureWarning: Method .as_matrix will be removed in a future version. Use .values instead.\n",
      "  self.history.max_t)[\"p\"].as_matrix()\n",
      "INFO:Adaptation:Change nr particles 2500 -> 2500\n",
      "/scratch/cph211/ion-channel-ABC/prangle_distance.py:102: FutureWarning: Method .as_matrix will be removed in a future version. Use .values instead.\n",
      "  distances = df_weighted.distance.as_matrix()\n",
      "/scratch/cph211/ion-channel-ABC/prangle_distance.py:104: FutureWarning: Method .as_matrix will be removed in a future version. Use .values instead.\n",
      "  weights = df_weighted.w.as_matrix()\n",
      "INFO:ABC:t:20 N eps:1.2174316223479755\n",
      "INFO:ABC:N population size: 2500\n",
      "INFO:ABC:t:21 M eps:[        inf 22.65964551 15.00898285  9.4833132   5.20624021  3.93809258\n",
      "  3.25125029  2.81220395  2.52437976  2.28291031  2.08248922  1.90731758\n",
      "  1.78720533  1.67680058  1.59155281  1.50349121  1.43627592  1.36612051\n",
      "  1.31599477  1.27982065  1.24981153  1.21743162]\n",
      "/storage/hhecm/cellrotor/chouston/pyabc/pyabc/storage/history.py:200: FutureWarning: Method .as_matrix will be removed in a future version. Use .values instead.\n",
      "  w_arr = w.w.as_matrix()\n",
      "/storage/hhecm/cellrotor/chouston/pyabc/pyabc/transition/multivariatenormal.py:64: FutureWarning: Method .as_matrix will be removed in a future version. Use .values instead.\n",
      "  self._X_arr = X.as_matrix()\n",
      "/storage/hhecm/cellrotor/chouston/pyabc/pyabc/smc.py:690: FutureWarning: Method .as_matrix will be removed in a future version. Use .values instead.\n",
      "  self.history.max_t)[\"p\"].as_matrix()\n",
      "INFO:Adaptation:Change nr particles 2500 -> 2500\n",
      "/scratch/cph211/ion-channel-ABC/prangle_distance.py:102: FutureWarning: Method .as_matrix will be removed in a future version. Use .values instead.\n",
      "  distances = df_weighted.distance.as_matrix()\n",
      "/scratch/cph211/ion-channel-ABC/prangle_distance.py:104: FutureWarning: Method .as_matrix will be removed in a future version. Use .values instead.\n",
      "  weights = df_weighted.w.as_matrix()\n",
      "INFO:ABC:t:21 N eps:1.1925809507216933\n",
      "INFO:ABC:N population size: 2500\n",
      "INFO:ABC:t:22 M eps:[        inf 22.65964551 15.00898285  9.4833132   5.20624021  3.93809258\n",
      "  3.25125029  2.81220395  2.52437976  2.28291031  2.08248922  1.90731758\n",
      "  1.78720533  1.67680058  1.59155281  1.50349121  1.43627592  1.36612051\n",
      "  1.31599477  1.27982065  1.24981153  1.21743162  1.19258095]\n",
      "/storage/hhecm/cellrotor/chouston/pyabc/pyabc/storage/history.py:200: FutureWarning: Method .as_matrix will be removed in a future version. Use .values instead.\n",
      "  w_arr = w.w.as_matrix()\n",
      "/storage/hhecm/cellrotor/chouston/pyabc/pyabc/transition/multivariatenormal.py:64: FutureWarning: Method .as_matrix will be removed in a future version. Use .values instead.\n",
      "  self._X_arr = X.as_matrix()\n",
      "/storage/hhecm/cellrotor/chouston/pyabc/pyabc/smc.py:690: FutureWarning: Method .as_matrix will be removed in a future version. Use .values instead.\n",
      "  self.history.max_t)[\"p\"].as_matrix()\n",
      "INFO:Adaptation:Change nr particles 2500 -> 2500\n",
      "/scratch/cph211/ion-channel-ABC/prangle_distance.py:102: FutureWarning: Method .as_matrix will be removed in a future version. Use .values instead.\n",
      "  distances = df_weighted.distance.as_matrix()\n",
      "/scratch/cph211/ion-channel-ABC/prangle_distance.py:104: FutureWarning: Method .as_matrix will be removed in a future version. Use .values instead.\n",
      "  weights = df_weighted.w.as_matrix()\n",
      "INFO:ABC:t:22 N eps:1.1684421596687586\n",
      "INFO:ABC:N population size: 2500\n",
      "INFO:ABC:t:23 M eps:[        inf 22.65964551 15.00898285  9.4833132   5.20624021  3.93809258\n",
      "  3.25125029  2.81220395  2.52437976  2.28291031  2.08248922  1.90731758\n",
      "  1.78720533  1.67680058  1.59155281  1.50349121  1.43627592  1.36612051\n",
      "  1.31599477  1.27982065  1.24981153  1.21743162  1.19258095  1.16844216]\n",
      "/storage/hhecm/cellrotor/chouston/pyabc/pyabc/storage/history.py:200: FutureWarning: Method .as_matrix will be removed in a future version. Use .values instead.\n",
      "  w_arr = w.w.as_matrix()\n",
      "/storage/hhecm/cellrotor/chouston/pyabc/pyabc/transition/multivariatenormal.py:64: FutureWarning: Method .as_matrix will be removed in a future version. Use .values instead.\n",
      "  self._X_arr = X.as_matrix()\n",
      "/storage/hhecm/cellrotor/chouston/pyabc/pyabc/smc.py:690: FutureWarning: Method .as_matrix will be removed in a future version. Use .values instead.\n",
      "  self.history.max_t)[\"p\"].as_matrix()\n",
      "INFO:Adaptation:Change nr particles 2500 -> 2500\n",
      "/scratch/cph211/ion-channel-ABC/prangle_distance.py:102: FutureWarning: Method .as_matrix will be removed in a future version. Use .values instead.\n",
      "  distances = df_weighted.distance.as_matrix()\n",
      "/scratch/cph211/ion-channel-ABC/prangle_distance.py:104: FutureWarning: Method .as_matrix will be removed in a future version. Use .values instead.\n",
      "  weights = df_weighted.w.as_matrix()\n",
      "INFO:ABC:t:23 N eps:1.1494190342654398\n",
      "INFO:ABC:N population size: 2500\n",
      "INFO:ABC:t:24 M eps:[        inf 22.65964551 15.00898285  9.4833132   5.20624021  3.93809258\n",
      "  3.25125029  2.81220395  2.52437976  2.28291031  2.08248922  1.90731758\n",
      "  1.78720533  1.67680058  1.59155281  1.50349121  1.43627592  1.36612051\n",
      "  1.31599477  1.27982065  1.24981153  1.21743162  1.19258095  1.16844216\n",
      "  1.14941903]\n",
      "/storage/hhecm/cellrotor/chouston/pyabc/pyabc/storage/history.py:200: FutureWarning: Method .as_matrix will be removed in a future version. Use .values instead.\n",
      "  w_arr = w.w.as_matrix()\n",
      "/storage/hhecm/cellrotor/chouston/pyabc/pyabc/transition/multivariatenormal.py:64: FutureWarning: Method .as_matrix will be removed in a future version. Use .values instead.\n",
      "  self._X_arr = X.as_matrix()\n",
      "/storage/hhecm/cellrotor/chouston/pyabc/pyabc/smc.py:690: FutureWarning: Method .as_matrix will be removed in a future version. Use .values instead.\n",
      "  self.history.max_t)[\"p\"].as_matrix()\n",
      "INFO:Adaptation:Change nr particles 2500 -> 2500\n",
      "/scratch/cph211/ion-channel-ABC/prangle_distance.py:102: FutureWarning: Method .as_matrix will be removed in a future version. Use .values instead.\n",
      "  distances = df_weighted.distance.as_matrix()\n",
      "/scratch/cph211/ion-channel-ABC/prangle_distance.py:104: FutureWarning: Method .as_matrix will be removed in a future version. Use .values instead.\n",
      "  weights = df_weighted.w.as_matrix()\n",
      "INFO:ABC:t:24 N eps:1.1332401234426712\n",
      "INFO:ABC:N population size: 2500\n",
      "INFO:ABC:t:25 M eps:[        inf 22.65964551 15.00898285  9.4833132   5.20624021  3.93809258\n",
      "  3.25125029  2.81220395  2.52437976  2.28291031  2.08248922  1.90731758\n",
      "  1.78720533  1.67680058  1.59155281  1.50349121  1.43627592  1.36612051\n",
      "  1.31599477  1.27982065  1.24981153  1.21743162  1.19258095  1.16844216\n",
      "  1.14941903  1.13324012]\n",
      "/storage/hhecm/cellrotor/chouston/pyabc/pyabc/storage/history.py:200: FutureWarning: Method .as_matrix will be removed in a future version. Use .values instead.\n",
      "  w_arr = w.w.as_matrix()\n",
      "/storage/hhecm/cellrotor/chouston/pyabc/pyabc/transition/multivariatenormal.py:64: FutureWarning: Method .as_matrix will be removed in a future version. Use .values instead.\n",
      "  self._X_arr = X.as_matrix()\n",
      "/storage/hhecm/cellrotor/chouston/pyabc/pyabc/smc.py:690: FutureWarning: Method .as_matrix will be removed in a future version. Use .values instead.\n",
      "  self.history.max_t)[\"p\"].as_matrix()\n",
      "INFO:Adaptation:Change nr particles 2500 -> 2500\n",
      "/scratch/cph211/ion-channel-ABC/prangle_distance.py:102: FutureWarning: Method .as_matrix will be removed in a future version. Use .values instead.\n",
      "  distances = df_weighted.distance.as_matrix()\n",
      "/scratch/cph211/ion-channel-ABC/prangle_distance.py:104: FutureWarning: Method .as_matrix will be removed in a future version. Use .values instead.\n",
      "  weights = df_weighted.w.as_matrix()\n",
      "INFO:ABC:t:25 N eps:1.1191723513212772\n"
     ]
    },
    {
     "name": "stderr",
     "output_type": "stream",
     "text": [
      "INFO:ABC:N population size: 2500\n",
      "INFO:ABC:t:26 M eps:[        inf 22.65964551 15.00898285  9.4833132   5.20624021  3.93809258\n",
      "  3.25125029  2.81220395  2.52437976  2.28291031  2.08248922  1.90731758\n",
      "  1.78720533  1.67680058  1.59155281  1.50349121  1.43627592  1.36612051\n",
      "  1.31599477  1.27982065  1.24981153  1.21743162  1.19258095  1.16844216\n",
      "  1.14941903  1.13324012  1.11917235]\n",
      "/storage/hhecm/cellrotor/chouston/pyabc/pyabc/storage/history.py:200: FutureWarning: Method .as_matrix will be removed in a future version. Use .values instead.\n",
      "  w_arr = w.w.as_matrix()\n",
      "/storage/hhecm/cellrotor/chouston/pyabc/pyabc/transition/multivariatenormal.py:64: FutureWarning: Method .as_matrix will be removed in a future version. Use .values instead.\n",
      "  self._X_arr = X.as_matrix()\n",
      "/storage/hhecm/cellrotor/chouston/pyabc/pyabc/smc.py:690: FutureWarning: Method .as_matrix will be removed in a future version. Use .values instead.\n",
      "  self.history.max_t)[\"p\"].as_matrix()\n",
      "INFO:Adaptation:Change nr particles 2500 -> 2500\n"
     ]
    }
   ],
   "source": [
    "history = abc.run(minimum_epsilon=0.1, max_nr_populations=10)"
   ]
  },
  {
   "cell_type": "code",
   "execution_count": 17,
   "metadata": {
    "collapsed": true
   },
   "outputs": [
    {
     "name": "stderr",
     "output_type": "stream",
     "text": [
      "/storage/hhecm/cellrotor/chouston/pyabc/pyabc/storage/history.py:200: FutureWarning: Method .as_matrix will be removed in a future version. Use .values instead.\n",
      "  w_arr = w.w.as_matrix()\n"
     ]
    },
    {
     "ename": "TypeError",
     "evalue": "cannot concatenate object of type \"<class 'numpy.ndarray'>\"; only pd.Series, pd.DataFrame, and pd.Panel (deprecated) objs are valid",
     "output_type": "error",
     "traceback": [
      "\u001b[0;31m---------------------------------------------------------------------------\u001b[0m",
      "\u001b[0;31mTypeError\u001b[0m                                 Traceback (most recent call last)",
      "\u001b[0;32m<ipython-input-17-306528dd6746>\u001b[0m in \u001b[0;36m<module>\u001b[0;34m()\u001b[0m\n\u001b[1;32m      1\u001b[0m \u001b[0mdf\u001b[0m\u001b[0;34m,\u001b[0m \u001b[0mw\u001b[0m \u001b[0;34m=\u001b[0m \u001b[0mhistory\u001b[0m\u001b[0;34m.\u001b[0m\u001b[0mget_distribution\u001b[0m\u001b[0;34m(\u001b[0m\u001b[0mm\u001b[0m\u001b[0;34m=\u001b[0m\u001b[0;36m0\u001b[0m\u001b[0;34m)\u001b[0m\u001b[0;34m\u001b[0m\u001b[0m\n\u001b[0;32m----> 2\u001b[0;31m \u001b[0mplot_kde_matrix\u001b[0m\u001b[0;34m(\u001b[0m\u001b[0mdf\u001b[0m\u001b[0;34m,\u001b[0m \u001b[0mw\u001b[0m\u001b[0;34m,\u001b[0m \u001b[0mlimits\u001b[0m\u001b[0;34m=\u001b[0m\u001b[0mlimits\u001b[0m\u001b[0;34m,\u001b[0m \u001b[0mcolorbar\u001b[0m\u001b[0;34m=\u001b[0m\u001b[0;32mFalse\u001b[0m\u001b[0;34m)\u001b[0m\u001b[0;34m\u001b[0m\u001b[0m\n\u001b[0m",
      "\u001b[0;32m/storage/hhecm/cellrotor/chouston/pyabc/pyabc/visualization.py\u001b[0m in \u001b[0;36mplot_kde_matrix\u001b[0;34m(df, w, limits, colorbar, grid)\u001b[0m\n\u001b[1;32m    297\u001b[0m                     ax=plt.gca())\n\u001b[1;32m    298\u001b[0m \u001b[0;34m\u001b[0m\u001b[0m\n\u001b[0;32m--> 299\u001b[0;31m     \u001b[0mgrid\u001b[0m\u001b[0;34m.\u001b[0m\u001b[0mmap_diag\u001b[0m\u001b[0;34m(\u001b[0m\u001b[0mdiagonal\u001b[0m\u001b[0;34m)\u001b[0m\u001b[0;34m\u001b[0m\u001b[0m\n\u001b[0m\u001b[1;32m    300\u001b[0m     \u001b[0mgrid\u001b[0m\u001b[0;34m.\u001b[0m\u001b[0mmap_upper\u001b[0m\u001b[0;34m(\u001b[0m\u001b[0mscatter\u001b[0m\u001b[0;34m)\u001b[0m\u001b[0;34m\u001b[0m\u001b[0m\n\u001b[1;32m    301\u001b[0m     \u001b[0mgrid\u001b[0m\u001b[0;34m.\u001b[0m\u001b[0mmap_lower\u001b[0m\u001b[0;34m(\u001b[0m\u001b[0moff_diagonal\u001b[0m\u001b[0;34m)\u001b[0m\u001b[0;34m\u001b[0m\u001b[0m\n",
      "\u001b[0;32m/scratch/cph211/miniconda3/envs/pyabc/lib/python3.6/site-packages/seaborn/axisgrid.py\u001b[0m in \u001b[0;36mmap_diag\u001b[0;34m(self, func, **kwargs)\u001b[0m\n\u001b[1;32m   1397\u001b[0m                     \u001b[0mcolor\u001b[0m \u001b[0;34m=\u001b[0m \u001b[0mfixed_color\u001b[0m\u001b[0;34m\u001b[0m\u001b[0m\n\u001b[1;32m   1398\u001b[0m \u001b[0;34m\u001b[0m\u001b[0m\n\u001b[0;32m-> 1399\u001b[0;31m                 \u001b[0mfunc\u001b[0m\u001b[0;34m(\u001b[0m\u001b[0mdata_k\u001b[0m\u001b[0;34m,\u001b[0m \u001b[0mlabel\u001b[0m\u001b[0;34m=\u001b[0m\u001b[0mlabel_k\u001b[0m\u001b[0;34m,\u001b[0m \u001b[0mcolor\u001b[0m\u001b[0;34m=\u001b[0m\u001b[0mcolor\u001b[0m\u001b[0;34m,\u001b[0m \u001b[0;34m**\u001b[0m\u001b[0mkwargs\u001b[0m\u001b[0;34m)\u001b[0m\u001b[0;34m\u001b[0m\u001b[0m\n\u001b[0m\u001b[1;32m   1400\u001b[0m \u001b[0;34m\u001b[0m\u001b[0m\n\u001b[1;32m   1401\u001b[0m             \u001b[0mself\u001b[0m\u001b[0;34m.\u001b[0m\u001b[0m_clean_axis\u001b[0m\u001b[0;34m(\u001b[0m\u001b[0max\u001b[0m\u001b[0;34m)\u001b[0m\u001b[0;34m\u001b[0m\u001b[0m\n",
      "\u001b[0;32m/storage/hhecm/cellrotor/chouston/pyabc/pyabc/visualization.py\u001b[0m in \u001b[0;36mdiagonal\u001b[0;34m(x, **kwargs)\u001b[0m\n\u001b[1;32m    291\u001b[0m \u001b[0;34m\u001b[0m\u001b[0m\n\u001b[1;32m    292\u001b[0m     \u001b[0;32mdef\u001b[0m \u001b[0mdiagonal\u001b[0m\u001b[0;34m(\u001b[0m\u001b[0mx\u001b[0m\u001b[0;34m,\u001b[0m \u001b[0;34m**\u001b[0m\u001b[0mkwargs\u001b[0m\u001b[0;34m)\u001b[0m\u001b[0;34m:\u001b[0m\u001b[0;34m\u001b[0m\u001b[0m\n\u001b[0;32m--> 293\u001b[0;31m         \u001b[0mdf\u001b[0m \u001b[0;34m=\u001b[0m \u001b[0mpd\u001b[0m\u001b[0;34m.\u001b[0m\u001b[0mconcat\u001b[0m\u001b[0;34m(\u001b[0m\u001b[0;34m(\u001b[0m\u001b[0mx\u001b[0m\u001b[0;34m,\u001b[0m\u001b[0;34m)\u001b[0m\u001b[0;34m,\u001b[0m \u001b[0maxis\u001b[0m\u001b[0;34m=\u001b[0m\u001b[0;36m1\u001b[0m\u001b[0;34m)\u001b[0m\u001b[0;34m\u001b[0m\u001b[0m\n\u001b[0m\u001b[1;32m    294\u001b[0m         plot_kde_1d(df, w, x.name,\n\u001b[1;32m    295\u001b[0m                     \u001b[0mxmin\u001b[0m\u001b[0;34m=\u001b[0m\u001b[0mlimits\u001b[0m\u001b[0;34m.\u001b[0m\u001b[0mget\u001b[0m\u001b[0;34m(\u001b[0m\u001b[0mx\u001b[0m\u001b[0;34m.\u001b[0m\u001b[0mname\u001b[0m\u001b[0;34m,\u001b[0m \u001b[0mdefault\u001b[0m\u001b[0;34m)\u001b[0m\u001b[0;34m[\u001b[0m\u001b[0;36m0\u001b[0m\u001b[0;34m]\u001b[0m\u001b[0;34m,\u001b[0m\u001b[0;34m\u001b[0m\u001b[0m\n",
      "\u001b[0;32m/scratch/cph211/miniconda3/envs/pyabc/lib/python3.6/site-packages/pandas/core/reshape/concat.py\u001b[0m in \u001b[0;36mconcat\u001b[0;34m(objs, axis, join, join_axes, ignore_index, keys, levels, names, verify_integrity, sort, copy)\u001b[0m\n\u001b[1;32m    223\u001b[0m                        \u001b[0mkeys\u001b[0m\u001b[0;34m=\u001b[0m\u001b[0mkeys\u001b[0m\u001b[0;34m,\u001b[0m \u001b[0mlevels\u001b[0m\u001b[0;34m=\u001b[0m\u001b[0mlevels\u001b[0m\u001b[0;34m,\u001b[0m \u001b[0mnames\u001b[0m\u001b[0;34m=\u001b[0m\u001b[0mnames\u001b[0m\u001b[0;34m,\u001b[0m\u001b[0;34m\u001b[0m\u001b[0m\n\u001b[1;32m    224\u001b[0m                        \u001b[0mverify_integrity\u001b[0m\u001b[0;34m=\u001b[0m\u001b[0mverify_integrity\u001b[0m\u001b[0;34m,\u001b[0m\u001b[0;34m\u001b[0m\u001b[0m\n\u001b[0;32m--> 225\u001b[0;31m                        copy=copy, sort=sort)\n\u001b[0m\u001b[1;32m    226\u001b[0m     \u001b[0;32mreturn\u001b[0m \u001b[0mop\u001b[0m\u001b[0;34m.\u001b[0m\u001b[0mget_result\u001b[0m\u001b[0;34m(\u001b[0m\u001b[0;34m)\u001b[0m\u001b[0;34m\u001b[0m\u001b[0m\n\u001b[1;32m    227\u001b[0m \u001b[0;34m\u001b[0m\u001b[0m\n",
      "\u001b[0;32m/scratch/cph211/miniconda3/envs/pyabc/lib/python3.6/site-packages/pandas/core/reshape/concat.py\u001b[0m in \u001b[0;36m__init__\u001b[0;34m(self, objs, axis, join, join_axes, keys, levels, names, ignore_index, verify_integrity, copy, sort)\u001b[0m\n\u001b[1;32m    284\u001b[0m                        \u001b[0;34m' only pd.Series, pd.DataFrame, and pd.Panel'\u001b[0m\u001b[0;34m\u001b[0m\u001b[0m\n\u001b[1;32m    285\u001b[0m                        ' (deprecated) objs are valid'.format(type(obj)))\n\u001b[0;32m--> 286\u001b[0;31m                 \u001b[0;32mraise\u001b[0m \u001b[0mTypeError\u001b[0m\u001b[0;34m(\u001b[0m\u001b[0mmsg\u001b[0m\u001b[0;34m)\u001b[0m\u001b[0;34m\u001b[0m\u001b[0m\n\u001b[0m\u001b[1;32m    287\u001b[0m \u001b[0;34m\u001b[0m\u001b[0m\n\u001b[1;32m    288\u001b[0m             \u001b[0;31m# consolidate\u001b[0m\u001b[0;34m\u001b[0m\u001b[0;34m\u001b[0m\u001b[0m\n",
      "\u001b[0;31mTypeError\u001b[0m: cannot concatenate object of type \"<class 'numpy.ndarray'>\"; only pd.Series, pd.DataFrame, and pd.Panel (deprecated) objs are valid"
     ]
    },
    {
     "data": {
      "image/png": "[encoded data removed]",
      "text/plain": [
       "<Figure size 2520x2520 with 210 Axes>"
      ]
     },
     "metadata": {},
     "output_type": "display_data"
    }
   ],
   "source": [
    "df, w = history.get_distribution(m=0)\n",
    "plot_kde_matrix(df, w, limits=limits, colorbar=False)"
   ]
  },
  {
   "cell_type": "code",
   "execution_count": 22,
   "metadata": {},
   "outputs": [
    {
     "name": "stderr",
     "output_type": "stream",
     "text": [
      "/storage/hhecm/cellrotor/chouston/pyabc/pyabc/storage/history.py:200: FutureWarning: Method .as_matrix will be removed in a future version. Use .values instead.\n",
      "  w_arr = w.w.as_matrix()\n"
     ]
    }
   ],
   "source": [
    "from pyabc_custom import simulate\n",
    "samples = pd.DataFrame({})\n",
    "\n",
    "post_df, post_w = history.get_distribution(m=0)\n",
    "post_th = (post_df.sample(n=200,\n",
    "                          weights=post_w,\n",
    "                          replace=True)\n",
    "           .to_dict(orient='records'))\n",
    "for i, th in enumerate(post_th):\n",
    "    output = simulate('icat', n_x=200, **th)\n",
    "    #output['sample'] = i\n",
    "    output['distribution'] = 'post'\n",
    "    samples = samples.append(output, ignore_index=True)"
   ]
  },
  {
   "cell_type": "code",
   "execution_count": 33,
   "metadata": {},
   "outputs": [],
   "source": [
    "def measured_plot(**kwargs):\n",
    "    measurements = kwargs.pop('measurements')\n",
    "    ax = plt.gca()\n",
    "    data = kwargs.pop('data')\n",
    "    exp = data['exp'].unique()[0]\n",
    "    plt.errorbar(measurements.loc[measurements['exp']==exp]['x'],\n",
    "                 measurements.loc[measurements['exp']==exp]['y'],\n",
    "                 yerr=measurements.loc[measurements['exp']==exp]['errs'],\n",
    "                 label='obs', ls='None', marker='x', color='k')"
   ]
  },
  {
   "cell_type": "code",
   "execution_count": 34,
   "metadata": {},
   "outputs": [
    {
     "data": {
      "image/png": "[encoded data removed]",
      "text/plain": [
       "<Figure size 1139.1x216 with 5 Axes>"
      ]
     },
     "metadata": {},
     "output_type": "display_data"
    }
   ],
   "source": [
    "grid = sns.FacetGrid(samples,\n",
    "                     col='exp', sharex='col', sharey='col',\n",
    "                     legend_out=True)\n",
    "grid = grid.map_dataframe(sns.lineplot, x='x', y='y',\n",
    "                          estimator=np.mean,\n",
    "                          err_style='band', ci='sd',\n",
    "                          color='black')\n",
    "grid = grid.map_dataframe(measured_plot, measurements=measurements).add_legend()"
   ]
  },
  {
   "cell_type": "code",
   "execution_count": 19,
   "metadata": {
    "collapsed": true
   },
   "outputs": [
    {
     "name": "stderr",
     "output_type": "stream",
     "text": [
      "/storage/hhecm/cellrotor/chouston/pyabc/pyabc/storage/history.py:200: FutureWarning: Method .as_matrix will be removed in a future version. Use .values instead.\n",
      "  w_arr = w.w.as_matrix()\n",
      "/scratch/cph211/miniconda3/envs/pyabc/lib/python3.6/site-packages/scipy/stats/stats.py:1713: FutureWarning: Using a non-tuple sequence for multidimensional indexing is deprecated; use `arr[tuple(seq)]` instead of `arr[seq]`. In the future this will be interpreted as an array index, `arr[np.array(seq)]`, which will result either in an error or a different result.\n",
      "  return np.add.reduce(sorted[indexer] * weights, axis=axis) / sumval\n"
     ]
    },
    {
     "data": {
      "image/png": "[encoded data removed]",
      "text/plain": [
       "<Figure size 1080x216 with 15 Axes>"
      ]
     },
     "metadata": {},
     "output_type": "display_data"
    }
   ],
   "source": [
    "from visualization_custom import plot_kde_2d_custom\n",
    "g = plot_kde_2d_custom(history, \"g_CaT\", \"E_CaT\", times=[0, 1, 5, 10, 19], limits=limits)"
   ]
  },
  {
   "cell_type": "markdown",
   "metadata": {},
   "source": [
    "# Plotting sim results"
   ]
  },
  {
   "cell_type": "code",
   "execution_count": 5,
   "metadata": {},
   "outputs": [],
   "source": [
    "history = History(\"sqlite:///pyabc-runs/hl-1_icat.db\")"
   ]
  },
  {
   "cell_type": "code",
   "execution_count": 6,
   "metadata": {},
   "outputs": [
    {
     "data": {
      "text/plain": [
       "[<ABCSMC(id=1, start_time=2018-05-25 15:22:27.077816, end_time=None)>,\n",
       " <ABCSMC(id=2, start_time=2018-05-25 17:18:58.109548, end_time=None)>,\n",
       " <ABCSMC(id=3, start_time=2018-05-27 13:37:42.269082, end_time=2018-05-27 15:38:21.650434)>,\n",
       " <ABCSMC(id=4, start_time=2018-05-27 16:20:28.878427, end_time=2018-06-02 13:06:08.020335)>]"
      ]
     },
     "execution_count": 6,
     "metadata": {},
     "output_type": "execute_result"
    }
   ],
   "source": [
    "history.all_runs()"
   ]
  },
  {
   "cell_type": "code",
   "execution_count": 7,
   "metadata": {},
   "outputs": [],
   "source": [
    "history.id = 4"
   ]
  },
  {
   "cell_type": "code",
   "execution_count": 8,
   "metadata": {
    "scrolled": true
   },
   "outputs": [
    {
     "name": "stderr",
     "output_type": "stream",
     "text": [
      "/storage/hhecm/cellrotor/chouston/pyabc/pyabc/storage/history.py:200: FutureWarning: Method .as_matrix will be removed in a future version. Use .values instead.\n",
      "  w_arr = w.w.as_matrix()\n"
     ]
    }
   ],
   "source": [
    "n_samples = 500\n",
    "post_df, post_w = history.get_distribution(m=0)\n",
    "post_th = post_df.sample(n=n_samples, weights=post_w, replace=True).to_dict(orient='records')"
   ]
  },
  {
   "cell_type": "code",
   "execution_count": 72,
   "metadata": {
    "collapsed": true
   },
   "outputs": [
    {
     "name": "stdout",
     "output_type": "stream",
     "text": [
      "name\n",
      "E_CaT    28.607232\n",
      "g_CaT     0.570818\n",
      "p1       33.049958\n",
      "p2        5.236290\n",
      "p3        1.768542\n",
      "p4        8.422280\n",
      "p5        0.078802\n",
      "p6       24.591353\n",
      "q1       49.612638\n",
      "q2        4.503643\n",
      "q3        8.963260\n",
      "q4       98.566606\n",
      "q5        0.093050\n",
      "q6       47.649166\n",
      "dtype: float64\n",
      "name\n",
      "E_CaT    0.754076\n",
      "g_CaT    0.072613\n",
      "p1       0.880163\n",
      "p2       0.244956\n",
      "p3       0.178771\n",
      "p4       1.067350\n",
      "p5       0.019266\n",
      "p6       5.744392\n",
      "q1       0.665919\n",
      "q2       0.494784\n",
      "q3       0.796686\n",
      "q4       1.099433\n",
      "q5       0.004805\n",
      "q6       2.520620\n",
      "dtype: float64\n"
     ]
    }
   ],
   "source": [
    "print(post_df.mean())\n",
    "print(post_df.std())"
   ]
  },
  {
   "cell_type": "code",
   "execution_count": 9,
   "metadata": {},
   "outputs": [
    {
     "data": {
      "application/vnd.jupyter.widget-view+json": {
       "model_id": "66d383ec4d864f2c84cd8282260cb42c",
       "version_major": 2,
       "version_minor": 0
      },
      "text/plain": [
       "VBox(children=(HTML(value=''), IntProgress(value=0, max=500)))"
      ]
     },
     "metadata": {},
     "output_type": "display_data"
    }
   ],
   "source": [
    "from pyabc_custom import simulate\n",
    "\n",
    "samples = pd.DataFrame({})\n",
    "for i, th in log_progress(enumerate(post_th), every=1, size=len(post_th)):\n",
    "    output = simulate('icat', n_x=210, **th)\n",
    "    output['sample'] = i\n",
    "    output['distribution'] = 'post'\n",
    "    samples = samples.append(output, ignore_index=True)"
   ]
  },
  {
   "cell_type": "code",
   "execution_count": 10,
   "metadata": {},
   "outputs": [
    {
     "name": "stdout",
     "output_type": "stream",
     "text": [
      "-15.217020620000001\n",
      "1.4927236603679248\n"
     ]
    }
   ],
   "source": [
    "# Mean current density\n",
    "print(np.mean(samples[samples.exp==0].groupby('sample').min()['y']))\n",
    "# Std current density\n",
    "print(np.std(samples[samples.exp==0].groupby('sample').min()['y']))"
   ]
  },
  {
   "cell_type": "code",
   "execution_count": 11,
   "metadata": {},
   "outputs": [
    {
     "name": "stdout",
     "output_type": "stream",
     "text": [
      "-22.216842086\n",
      "1.4575295021620545\n"
     ]
    }
   ],
   "source": [
    "# Voltage of peak current density\n",
    "idxs = samples[samples.exp==0].groupby('sample').idxmin()['y']\n",
    "print(np.mean(samples.iloc[idxs]['x']))\n",
    "print(np.std(samples.iloc[idxs]['x']))"
   ]
  },
  {
   "cell_type": "code",
   "execution_count": 12,
   "metadata": {},
   "outputs": [],
   "source": [
    "# Half activation potential\n",
    "def half_act(group):\n",
    "    closest_to_half = min(group.y, key=lambda a: abs(a - 0.5))\n",
    "    ind_x = group[group.y==closest_to_half].x.index[0]\n",
    "    if closest_to_half > 0.5:\n",
    "        other_side_ind_x = ind_x-1\n",
    "    elif closest_to_half < 0.5:\n",
    "        other_side_ind_x = ind_x+1\n",
    "    else:\n",
    "        return group[group.y==closest_to_half].x \n",
    "    # Linearly interpolate between two values\n",
    "    x1 = group.loc[ind_x].x\n",
    "    x2 = group.loc[other_side_ind_x].x\n",
    "    y1 = group.loc[ind_x].y\n",
    "    y2 = group.loc[other_side_ind_x].y    \n",
    "    return x1 + (0.5-y1)*(x2-x1)/(y2-y1)"
   ]
  },
  {
   "cell_type": "code",
   "execution_count": 13,
   "metadata": {},
   "outputs": [
    {
     "name": "stdout",
     "output_type": "stream",
     "text": [
      "-33.58036568908192\n",
      "1.4115989515325564\n"
     ]
    }
   ],
   "source": [
    "grouped = samples[samples.exp==1].groupby('sample')\n",
    "print(np.mean(grouped.apply(half_act)))\n",
    "print(np.std(grouped.apply(half_act)))"
   ]
  },
  {
   "cell_type": "code",
   "execution_count": 14,
   "metadata": {},
   "outputs": [],
   "source": [
    "# Half activation potential\n",
    "def half_inact(group):\n",
    "    closest_to_half = min(group.y, key=lambda a: abs(a - 0.5))\n",
    "    ind_x = group[group.y==closest_to_half].x.index[0]\n",
    "    if closest_to_half > 0.5:\n",
    "        other_side_ind_x = ind_x+1\n",
    "    elif closest_to_half < 0.5:\n",
    "        other_side_ind_x = ind_x-1\n",
    "    else:\n",
    "        return group[group.y==closest_to_half].x \n",
    "    # Linearly interpolate between two values\n",
    "    x1 = group.loc[ind_x].x\n",
    "    x2 = group.loc[other_side_ind_x].x\n",
    "    y1 = group.loc[ind_x].y\n",
    "    y2 = group.loc[other_side_ind_x].y    \n",
    "    return x1 + (0.5-y1)*(x2-x1)/(y2-y1)"
   ]
  },
  {
   "cell_type": "code",
   "execution_count": 15,
   "metadata": {},
   "outputs": [
    {
     "name": "stdout",
     "output_type": "stream",
     "text": [
      "-49.534789689349594\n",
      "0.7253296252390978\n"
     ]
    }
   ],
   "source": [
    "grouped = samples[samples.exp==2].groupby('sample')\n",
    "print(np.mean(grouped.apply(half_inact)))\n",
    "print(np.std(grouped.apply(half_inact)))"
   ]
  },
  {
   "cell_type": "code",
   "execution_count": 65,
   "metadata": {},
   "outputs": [],
   "source": [
    "from scipy.optimize import curve_fit\n",
    "def fit_single_exp(group):\n",
    "    def single_exp(t, I_max, tau):\n",
    "        return I_max*(1-np.exp(-t/tau))\n",
    "    guess = (1, 50)\n",
    "    popt, _ = curve_fit(single_exp, group.x, group.y, guess)\n",
    "    return popt[1]"
   ]
  },
  {
   "cell_type": "code",
   "execution_count": 66,
   "metadata": {},
   "outputs": [
    {
     "name": "stdout",
     "output_type": "stream",
     "text": [
      "sample\n",
      "0      41.118133\n",
      "1      40.709856\n",
      "2      41.797765\n",
      "3      39.167625\n",
      "4      40.805811\n",
      "5      41.908676\n",
      "6      39.212489\n",
      "7      40.686454\n",
      "8      39.689850\n",
      "9      37.398595\n",
      "10     41.947754\n",
      "11     40.631016\n",
      "12     38.998410\n",
      "13     41.898446\n",
      "14     40.811920\n",
      "15     42.347701\n",
      "16     41.886575\n",
      "17     42.463118\n",
      "18     41.513179\n",
      "19     38.782576\n",
      "20     42.081133\n",
      "21     40.585852\n",
      "22     42.264549\n",
      "23     41.882760\n",
      "24     38.638476\n",
      "25     41.016255\n",
      "26     41.565923\n",
      "27     39.679388\n",
      "28     41.279395\n",
      "29     40.113595\n",
      "         ...    \n",
      "470    40.675554\n",
      "471    40.555369\n",
      "472    42.026688\n",
      "473    40.356751\n",
      "474    40.557076\n",
      "475    40.431347\n",
      "476    42.079881\n",
      "477    40.787866\n",
      "478    42.276591\n",
      "479    41.101980\n",
      "480    42.483660\n",
      "481    41.508055\n",
      "482    41.968781\n",
      "483    41.698268\n",
      "484    39.927622\n",
      "485    41.244807\n",
      "486    41.689067\n",
      "487    41.209981\n",
      "488    41.530537\n",
      "489    41.992788\n",
      "490    41.494645\n",
      "491    40.757518\n",
      "492    38.172408\n",
      "493    41.177123\n",
      "494    39.572926\n",
      "495    40.632459\n",
      "496    42.245054\n",
      "497    38.900995\n",
      "498    41.369751\n",
      "499    38.821281\n",
      "Length: 500, dtype: float64\n",
      "40.9330530805045\n",
      "1.136460637439609\n"
     ]
    }
   ],
   "source": [
    "grouped = samples[samples.exp==3].groupby('sample')\n",
    "#grouped.apply(fit_single_exp)\n",
    "print(grouped.apply(fit_single_exp))\n",
    "print(np.mean(grouped.apply(fit_single_exp)))\n",
    "print(np.std(grouped.apply(fit_single_exp)))"
   ]
  },
  {
   "cell_type": "code",
   "execution_count": 64,
   "metadata": {},
   "outputs": [
    {
     "name": "stdout",
     "output_type": "stream",
     "text": [
      "[ 1.00048989 42.34770136]\n"
     ]
    },
    {
     "data": {
      "text/plain": [
       "[<matplotlib.lines.Line2D at 0x7f46aee6f128>]"
      ]
     },
     "execution_count": 64,
     "metadata": {},
     "output_type": "execute_result"
    },
    {
     "data": {
      "image/png": "[encoded data removed]",
      "text/plain": [
       "<Figure size 432x288 with 1 Axes>"
      ]
     },
     "metadata": {},
     "output_type": "display_data"
    }
   ],
   "source": [
    "x = samples[(samples.exp==3) & (samples['sample']==15)].x\n",
    "y = samples[(samples.exp==3) & (samples['sample']==15)].y\n",
    "import matplotlib.pyplot as plt\n",
    "plt.plot(x,y)\n",
    "def single_exp(t, I_max, tau):\n",
    "    return I_max*(1-np.exp(-t/tau))\n",
    "guess = (1, 50)\n",
    "popt, _ = curve_fit(single_exp, x, y, guess)\n",
    "print(popt)\n",
    "plt.plot(x, single_exp(x, *popt), '--r')"
   ]
  },
  {
   "cell_type": "code",
   "execution_count": 8,
   "metadata": {
    "scrolled": true
   },
   "outputs": [
    {
     "name": "stderr",
     "output_type": "stream",
     "text": [
      "/storage/hhecm/cellrotor/chouston/pyabc/pyabc/storage/history.py:200: FutureWarning: Method .as_matrix will be removed in a future version. Use .values instead.\n",
      "  w_arr = w.w.as_matrix()\n",
      "/scratch/cph211/miniconda3/envs/pyabc/lib/python3.6/site-packages/scipy/stats/stats.py:1713: FutureWarning: Using a non-tuple sequence for multidimensional indexing is deprecated; use `arr[tuple(seq)]` instead of `arr[seq]`. In the future this will be interpreted as an array index, `arr[np.array(seq)]`, which will result either in an error or a different result.\n",
      "  return np.add.reduce(sorted[indexer] * weights, axis=axis) / sumval\n"
     ]
    },
    {
     "data": {
      "image/png": "[encoded data removed]",
      "text/plain": [
       "<Figure size 1133.5x216 with 5 Axes>"
      ]
     },
     "metadata": {},
     "output_type": "display_data"
    }
   ],
   "source": [
    "from visualization_custom import plot_sim_results\n",
    "g = plot_sim_results(history, 'icat', n_samples=200, obs=measurements, n_x=200)\n",
    "xlabels = [\"voltage, mV\", \"voltage, mV\", \"voltage, mV\", \"time, ms\", \"time, ms\"]\n",
    "ylabels = [\"current density, pA/pF\", \"activation\", \"inactivation\", \"recovery\", \"normalised current\"]\n",
    "for ax, xl in zip(g.axes.flatten(), xlabels):\n",
    "    ax.set_xlabel(xl)\n",
    "for ax, yl in zip(g.axes.flatten(), ylabels):\n",
    "    ax.set_ylabel(yl)\n",
    "#plt.savefig('icat_results.pdf', format='pdf', dpi=1000)"
   ]
  },
  {
   "cell_type": "code",
   "execution_count": null,
   "metadata": {
    "collapsed": true
   },
   "outputs": [],
   "source": [
    "df, w = abc.history.get_distribution(m=0)\n",
    "plot_kde_matrix(df, w, limits=limits, colorbar=False)"
   ]
  },
  {
   "cell_type": "code",
   "execution_count": 9,
   "metadata": {
    "collapsed": true
   },
   "outputs": [
    {
     "name": "stdout",
     "output_type": "stream",
     "text": [
      "Mean\n",
      "g_CaT : 0.5744908621955785\n",
      "E_CaT : 28.688434556455498\n",
      "p1 : 33.02010315542557\n",
      "p2 : 5.235044985417687\n",
      "p3 : 1.739221978342799\n",
      "p4 : 8.504914305936953\n",
      "p5 : 0.07814348621785701\n",
      "p6 : 24.05813303087214\n",
      "q1 : 49.60948195877267\n",
      "q2 : 4.478886531183562\n",
      "q3 : 8.912086091428748\n",
      "q4 : 98.5809348344708\n",
      "q5 : 0.0929796738597656\n",
      "q6 : 47.774480925643395\n",
      "Min\n",
      "g_CaT : 0.44240216918930636\n",
      "E_CaT : 26.601785250960805\n",
      "p1 : 30.103652652864373\n",
      "p2 : 4.4227533244180055\n",
      "p3 : 0.3121506832271061\n",
      "p4 : 3.7475450416523706\n",
      "p5 : 0.01019702339436698\n",
      "p6 : 0.08305676051712929\n",
      "q1 : 47.340789491988495\n",
      "q2 : 2.9133251365855894\n",
      "q3 : 5.419653056761908\n",
      "q4 : 92.68667563732247\n",
      "q5 : 0.07369100955334765\n",
      "q6 : 41.01004391360781\n",
      "Max\n",
      "g_CaT : 0.9143096058728483\n",
      "E_CaT : 31.820622967475625\n",
      "p1 : 35.25846761133867\n",
      "p2 : 6.017069200381783\n",
      "p3 : 1.9998523874892515\n",
      "p4 : 9.999608428079764\n",
      "p5 : 0.09999949850367026\n",
      "p6 : 38.853879597204006\n",
      "q1 : 51.63890095944256\n",
      "q2 : 6.0406551854576644\n",
      "q3 : 9.99928485206019\n",
      "q4 : 99.99991668823989\n",
      "q5 : 0.09999728847346873\n",
      "q6 : 58.22800758780882\n"
     ]
    }
   ],
   "source": [
    "df, w = history.get_distribution(m=0)\n",
    "df['wt'] = w\n",
    "print(\"Mean\")\n",
    "for key in limits.keys():\n",
    "    print(key, \":\", sum(df[key] * df.wt))\n",
    "print(\"Min\")\n",
    "for key in limits.keys():\n",
    "    print(key, \":\", min(df[key]))\n",
    "print(\"Max\")\n",
    "for key in limits.keys():\n",
    "    print(key, \":\", max(df[key]))"
   ]
  },
  {
   "cell_type": "markdown",
   "metadata": {},
   "source": [
    "Initial run with reduced population to identify unconstrainable parameters."
   ]
  },
  {
   "cell_type": "code",
   "execution_count": null,
   "metadata": {
    "collapsed": true
   },
   "outputs": [],
   "source": [
    "abc = ABCSMC(models=MyokitSimulation(),\n",
    "             parameter_priors=prior,\n",
    "             distance_function=distance,\n",
    "             population_size=500,\n",
    "             eps=MedianEpsilon(100, median_multiplier=1.0))\n",
    "abc_id = abc.new(db_path, obs)"
   ]
  },
  {
   "cell_type": "code",
   "execution_count": null,
   "metadata": {
    "collapsed": true
   },
   "outputs": [],
   "source": [
    "history_init = abc.run(max_nr_populations=10, minimum_epsilon=0.01)"
   ]
  },
  {
   "cell_type": "code",
   "execution_count": null,
   "metadata": {
    "collapsed": true
   },
   "outputs": [],
   "source": [
    "from visualization_custom import plot_sim_results\n",
    "plot_sim_results(history_init, \"icat\", n_samples=100, obs=measurements)"
   ]
  },
  {
   "cell_type": "code",
   "execution_count": null,
   "metadata": {
    "collapsed": true
   },
   "outputs": [],
   "source": [
    "df, w = history_init.get_distribution(m=0)\n",
    "plot_kde_matrix(df, w, limits=limits)"
   ]
  },
  {
   "cell_type": "code",
   "execution_count": null,
   "metadata": {
    "collapsed": true,
    "scrolled": true
   },
   "outputs": [],
   "source": [
    "history_init = abc.run(max_nr_populations=20, minimum_epsilon=0.01)"
   ]
  },
  {
   "cell_type": "code",
   "execution_count": null,
   "metadata": {
    "collapsed": true
   },
   "outputs": [],
   "source": [
    "from visualization_custom import plot_sim_results\n",
    "plot_sim_results(history_init, \"icat\", n_samples=100, obs=measurements)"
   ]
  },
  {
   "cell_type": "code",
   "execution_count": null,
   "metadata": {
    "collapsed": true
   },
   "outputs": [],
   "source": [
    "df, w = history_init.get_distribution(m=0)\n",
    "plot_kde_matrix(df, w, limits=limits)"
   ]
  },
  {
   "cell_type": "markdown",
   "metadata": {},
   "source": [
    "Reduce parameters varied and run with adaptive population size."
   ]
  },
  {
   "cell_type": "code",
   "execution_count": null,
   "metadata": {
    "collapsed": true
   },
   "outputs": [],
   "source": [
    "abc = ABCSMC(models=MyokitSimulation(),\n",
    "             parameter_priors=prior,\n",
    "             distance_function=distance,\n",
    "             population_size=AdaptivePopulationSize(\n",
    "                 5000, 0.5, \n",
    "                 min_population_size=500,\n",
    "                 max_population_size=10000),\n",
    "            eps=MedianEpsilon(100, median_multiplier=1.0))\n",
    "abc_id = abc.new(db_path, obs)"
   ]
  },
  {
   "cell_type": "code",
   "execution_count": null,
   "metadata": {
    "collapsed": true
   },
   "outputs": [],
   "source": [
    "history = abc.run(max_nr_populations=20, minimum_epsilon=0.5)"
   ]
  },
  {
   "cell_type": "code",
   "execution_count": null,
   "metadata": {
    "collapsed": true
   },
   "outputs": [],
   "source": []
  }
 ],
 "metadata": {
  "kernelspec": {
   "display_name": "Python 3",
   "language": "python",
   "name": "python3"
  },
  "language_info": {
   "codemirror_mode": {
    "name": "ipython",
    "version": 3
   },
   "file_extension": ".py",
   "mimetype": "text/x-python",
   "name": "python",
   "nbconvert_exporter": "python",
   "pygments_lexer": "ipython3",
   "version": "3.6.6"
  }
 },
 "nbformat": 4,
 "nbformat_minor": 2
}
