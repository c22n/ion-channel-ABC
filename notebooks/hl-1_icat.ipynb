{
 "cells": [
  {
   "cell_type": "markdown",
   "metadata": {},
   "source": [
    "# Imports"
   ]
  },
  {
   "cell_type": "code",
   "execution_count": 1,
   "metadata": {},
   "outputs": [
    {
     "ename": "ModuleNotFoundError",
     "evalue": "No module named 'pyabc_custom'",
     "output_type": "error",
     "traceback": [
      "\u001b[0;31m---------------------------------------------------------------------------\u001b[0m",
      "\u001b[0;31mModuleNotFoundError\u001b[0m                       Traceback (most recent call last)",
      "\u001b[0;32m<ipython-input-1-5eaa54df6c09>\u001b[0m in \u001b[0;36m<module>\u001b[0;34m()\u001b[0m\n\u001b[1;32m     17\u001b[0m \u001b[0;32mfrom\u001b[0m \u001b[0mio\u001b[0m \u001b[0;32mimport\u001b[0m \u001b[0mBytesIO\u001b[0m\u001b[0;34m\u001b[0m\u001b[0m\n\u001b[1;32m     18\u001b[0m \u001b[0;34m\u001b[0m\u001b[0m\n\u001b[0;32m---> 19\u001b[0;31m \u001b[0;32mfrom\u001b[0m \u001b[0mpyabc_custom\u001b[0m \u001b[0;32mimport\u001b[0m \u001b[0mMyokitSimulation\u001b[0m\u001b[0;34m\u001b[0m\u001b[0m\n\u001b[0m\u001b[1;32m     20\u001b[0m \u001b[0;32mfrom\u001b[0m \u001b[0mprangle_distance\u001b[0m \u001b[0;32mimport\u001b[0m \u001b[0mPrangleDistance\u001b[0m\u001b[0;34m,\u001b[0m \u001b[0mPrangleEpsilon\u001b[0m\u001b[0;34m,\u001b[0m \u001b[0mPranglePopulationSize\u001b[0m\u001b[0;34m\u001b[0m\u001b[0m\n",
      "\u001b[0;31mModuleNotFoundError\u001b[0m: No module named 'pyabc_custom'"
     ]
    }
   ],
   "source": [
    "from pyabc import (ABCSMC, Distribution, RV,\n",
    "                   History, Model,\n",
    "                   ModelResult, MedianEpsilon)\n",
    "from pyabc.transition import MultivariateNormalTransition\n",
    "from pyabc.visualization import plot_kde_matrix\n",
    "import seaborn as sns\n",
    "import matplotlib.pyplot as plt\n",
    "%matplotlib inline\n",
    "%config Inline.Backend.figure_format = 'retina'\n",
    "import os\n",
    "import tempfile\n",
    "import math\n",
    "import pandas as pd\n",
    "import scipy as sp\n",
    "import numpy as np\n",
    "import subprocess\n",
    "from io import BytesIO\n",
    "\n",
    "from pyabc_custom import MyokitSimulation\n",
    "from prangle_distance import PrangleDistance, PrangleEpsilon, PranglePopulationSize"
   ]
  },
  {
   "cell_type": "markdown",
   "metadata": {},
   "source": [
    "# Get experimental measurements"
   ]
  },
  {
   "cell_type": "code",
   "execution_count": null,
   "metadata": {},
   "outputs": [],
   "source": [
    "myokit_python = (\"/s/chouston/miniconda3/envs\" +\n",
    "                 \"/ion_channel_ABC/bin/python\")\n",
    "args = [myokit_python, \"get_measurements.py\"]\n",
    "args.append('icat')\n",
    "re = subprocess.run(args, stdout=subprocess.PIPE)\n",
    "measurements = pd.read_table(BytesIO(re.stdout),\n",
    "                             delim_whitespace=True,\n",
    "                             header=0, index_col=False)\n",
    "obs = measurements.to_dict()['y']\n",
    "exp = measurements.to_dict()['exp']"
   ]
  },
  {
   "cell_type": "markdown",
   "metadata": {},
   "source": [
    "# Set limits and generate uniform initial priors"
   ]
  },
  {
   "cell_type": "code",
   "execution_count": 3,
   "metadata": {},
   "outputs": [],
   "source": [
    "limits = dict(g_CaT=(0, 2),\n",
    "              E_CaT=(0, 50),\n",
    "              p1=(0, 100),\n",
    "              p2=(0, 10),\n",
    "              p3=(0, 2), # increased from (0, 1) to (0, 2) after initial run\n",
    "              p4=(0, 10),\n",
    "              p5=(0, 0.1),\n",
    "              p6=(0, 200),\n",
    "              q1=(0, 100),\n",
    "              q2=(0, 10),\n",
    "              q3=(0, 10),\n",
    "              q4=(0, 100),\n",
    "              q5=(0, 0.1),\n",
    "              q6=(0, 100))\n",
    "prior = Distribution(**{key: RV(\"uniform\", a, b - a)\n",
    "                        for key, (a,b) in limits.items()})"
   ]
  },
  {
   "cell_type": "markdown",
   "metadata": {},
   "source": [
    "# Define ABC parameters and initialize database"
   ]
  },
  {
   "cell_type": "code",
   "execution_count": 4,
   "metadata": {},
   "outputs": [],
   "source": [
    "myokit_model = MyokitSimulation('icat')"
   ]
  },
  {
   "cell_type": "code",
   "execution_count": null,
   "metadata": {},
   "outputs": [],
   "source": [
    "db_path = (\"sqlite:///\" +\n",
    "           os.path.join(tempfile.gettempdir(), \"hl-1_icat.db\"))"
   ]
  },
  {
   "cell_type": "code",
   "execution_count": null,
   "metadata": {},
   "outputs": [],
   "source": [
    "abc = ABCSMC(models=myokit_model,\n",
    "             parameter_priors=prior,\n",
    "             distance_function=PrangleDistance(exp_map=exp,\n",
    "                                               alpha=0.5,\n",
    "                                               delta=0.5,\n",
    "                                               adapt=False),\n",
    "             population_size=PranglePopulationSize(5000, 0.5,\n",
    "                 adapt=True,\n",
    "                 mean_cv=0.5, \n",
    "                 min_population_size=200,\n",
    "                 max_population_size=5000),\n",
    "             eps=PrangleEpsilon())"
   ]
  },
  {
   "cell_type": "code",
   "execution_count": null,
   "metadata": {
    "scrolled": true
   },
   "outputs": [],
   "source": [
    "abc_id = abc.new(db_path, obs)"
   ]
  },
  {
   "cell_type": "code",
   "execution_count": null,
   "metadata": {
    "scrolled": true
   },
   "outputs": [],
   "source": [
    "history = abc.run(minimum_epsilon=0.29, max_nr_populations=50)"
   ]
  },
  {
   "cell_type": "code",
   "execution_count": null,
   "metadata": {},
   "outputs": [],
   "source": [
    "history = abc.run(minimum_epsilon=0.1, max_nr_populations=10)"
   ]
  },
  {
   "cell_type": "code",
   "execution_count": null,
   "metadata": {
    "scrolled": true
   },
   "outputs": [],
   "source": [
    "df, w = history.get_distribution(m=0)\n",
    "plot_kde_matrix(df, w, limits=limits, colorbar=False)"
   ]
  },
  {
   "cell_type": "code",
   "execution_count": null,
   "metadata": {
    "scrolled": true
   },
   "outputs": [],
   "source": [
    "from visualization_custom import plot_sim_results\n",
    "import matplotlib.style as style\n",
    "import seaborn as sns\n",
    "sns.set(style=\"\"\n",
    "plot_sim_results(history, \"icat\", n_samples=10, obs=measurements)"
   ]
  },
  {
   "cell_type": "code",
   "execution_count": null,
   "metadata": {},
   "outputs": [],
   "source": [
    "from visualization_custom import plot_kde_2d_custom\n",
    "g = plot_kde_2d_custom(history, \"g_CaT\", \"E_CaT\", times=[0, 1, 5, 10, 50], limits=limits)\n",
    "plt.savefig('icat_convergence.pdf', format='pdf', dpi=1000) # save to disk"
   ]
  },
  {
   "cell_type": "code",
   "execution_count": null,
   "metadata": {},
   "outputs": [],
   "source": [
    "history = abc.run(minimum_epsilon=0, max_nr_populations=30)"
   ]
  },
  {
   "cell_type": "code",
   "execution_count": 5,
   "metadata": {},
   "outputs": [],
   "source": [
    "history = History(\"sqlite:///pyabc-runs/hl-1_icat.db\")"
   ]
  },
  {
   "cell_type": "code",
   "execution_count": 6,
   "metadata": {},
   "outputs": [
    {
     "data": {
      "text/plain": [
       "[<ABCSMC(id=1, start_time=2018-05-25 15:22:27.077816, end_time=None)>,\n",
       " <ABCSMC(id=2, start_time=2018-05-25 17:18:58.109548, end_time=None)>,\n",
       " <ABCSMC(id=3, start_time=2018-05-27 13:37:42.269082, end_time=2018-05-27 15:38:21.650434)>,\n",
       " <ABCSMC(id=4, start_time=2018-05-27 16:20:28.878427, end_time=2018-06-02 13:06:08.020335)>]"
      ]
     },
     "execution_count": 6,
     "metadata": {},
     "output_type": "execute_result"
    }
   ],
   "source": [
    "history.all_runs()"
   ]
  },
  {
   "cell_type": "code",
   "execution_count": 7,
   "metadata": {},
   "outputs": [],
   "source": [
    "history.id = 4"
   ]
  },
  {
   "cell_type": "code",
   "execution_count": 12,
   "metadata": {
    "scrolled": true
   },
   "outputs": [
    {
     "name": "stderr",
     "output_type": "stream",
     "text": [
      "/tmp/chouston/miniconda3/envs/pyabc/lib/python3.6/site-packages/seaborn/timeseries.py:183: UserWarning: The tsplot function is deprecated and will be removed or replaced (in a substantially altered version) in a future release.\n",
      "  warnings.warn(msg, UserWarning)\n"
     ]
    },
    {
     "data": {
      "image/png": "[encoded data removed]",
      "text/plain": [
       "<Figure size 1137.38x216 with 5 Axes>"
      ]
     },
     "metadata": {},
     "output_type": "display_data"
    }
   ],
   "source": [
    "from visualization_custom import plot_sim_results\n",
    "g = plot_sim_results(history, 'icat', n_samples=10, obs=measurements, original=False)\n",
    "xlabels = [\"voltage, mV\", \"voltage, mV\", \"voltage, mV\", \"time, ms\", \"time, ms\"]\n",
    "ylabels = [\"current density, pA/pF\", \"activation\", \"inactivation\", \"recovery\", \"normalised current\"]\n",
    "for ax, xl in zip(g.axes.flatten(), xlabels):\n",
    "    ax.set_xlabel(xl)\n",
    "for ax, yl in zip(g.axes.flatten(), ylabels):\n",
    "    ax.set_ylabel(yl)\n",
    "plt.savefig('icat_results.pdf', format='pdf', dpi=1000)"
   ]
  },
  {
   "cell_type": "code",
   "execution_count": null,
   "metadata": {},
   "outputs": [],
   "source": [
    "df, w = abc.history.get_distribution(m=0)\n",
    "plot_kde_matrix(df, w, limits=limits, colorbar=False)"
   ]
  },
  {
   "cell_type": "code",
   "execution_count": 9,
   "metadata": {
    "collapsed": true
   },
   "outputs": [
    {
     "name": "stdout",
     "output_type": "stream",
     "text": [
      "Mean\n",
      "g_CaT : 0.5744908621955785\n",
      "E_CaT : 28.688434556455498\n",
      "p1 : 33.02010315542557\n",
      "p2 : 5.235044985417687\n",
      "p3 : 1.739221978342799\n",
      "p4 : 8.504914305936953\n",
      "p5 : 0.07814348621785701\n",
      "p6 : 24.05813303087214\n",
      "q1 : 49.60948195877267\n",
      "q2 : 4.478886531183562\n",
      "q3 : 8.912086091428748\n",
      "q4 : 98.5809348344708\n",
      "q5 : 0.0929796738597656\n",
      "q6 : 47.774480925643395\n",
      "Min\n",
      "g_CaT : 0.44240216918930636\n",
      "E_CaT : 26.601785250960805\n",
      "p1 : 30.103652652864373\n",
      "p2 : 4.4227533244180055\n",
      "p3 : 0.3121506832271061\n",
      "p4 : 3.7475450416523706\n",
      "p5 : 0.01019702339436698\n",
      "p6 : 0.08305676051712929\n",
      "q1 : 47.340789491988495\n",
      "q2 : 2.9133251365855894\n",
      "q3 : 5.419653056761908\n",
      "q4 : 92.68667563732247\n",
      "q5 : 0.07369100955334765\n",
      "q6 : 41.01004391360781\n",
      "Max\n",
      "g_CaT : 0.9143096058728483\n",
      "E_CaT : 31.820622967475625\n",
      "p1 : 35.25846761133867\n",
      "p2 : 6.017069200381783\n",
      "p3 : 1.9998523874892515\n",
      "p4 : 9.999608428079764\n",
      "p5 : 0.09999949850367026\n",
      "p6 : 38.853879597204006\n",
      "q1 : 51.63890095944256\n",
      "q2 : 6.0406551854576644\n",
      "q3 : 9.99928485206019\n",
      "q4 : 99.99991668823989\n",
      "q5 : 0.09999728847346873\n",
      "q6 : 58.22800758780882\n"
     ]
    }
   ],
   "source": [
    "df, w = history.get_distribution(m=0)\n",
    "df['wt'] = w\n",
    "print(\"Mean\")\n",
    "for key in limits.keys():\n",
    "    print(key, \":\", sum(df[key] * df.wt))\n",
    "print(\"Min\")\n",
    "for key in limits.keys():\n",
    "    print(key, \":\", min(df[key]))\n",
    "print(\"Max\")\n",
    "for key in limits.keys():\n",
    "    print(key, \":\", max(df[key]))"
   ]
  },
  {
   "cell_type": "markdown",
   "metadata": {},
   "source": [
    "Initial run with reduced population to identify unconstrainable parameters."
   ]
  },
  {
   "cell_type": "code",
   "execution_count": null,
   "metadata": {},
   "outputs": [],
   "source": [
    "abc = ABCSMC(models=MyokitSimulation(),\n",
    "             parameter_priors=prior,\n",
    "             distance_function=distance,\n",
    "             population_size=500,\n",
    "             eps=MedianEpsilon(100, median_multiplier=1.0))\n",
    "abc_id = abc.new(db_path, obs)"
   ]
  },
  {
   "cell_type": "code",
   "execution_count": null,
   "metadata": {},
   "outputs": [],
   "source": [
    "history_init = abc.run(max_nr_populations=10, minimum_epsilon=0.01)"
   ]
  },
  {
   "cell_type": "code",
   "execution_count": null,
   "metadata": {},
   "outputs": [],
   "source": [
    "from visualization_custom import plot_sim_results\n",
    "plot_sim_results(history_init, \"icat\", n_samples=100, obs=measurements)"
   ]
  },
  {
   "cell_type": "code",
   "execution_count": null,
   "metadata": {},
   "outputs": [],
   "source": [
    "df, w = history_init.get_distribution(m=0)\n",
    "plot_kde_matrix(df, w, limits=limits)"
   ]
  },
  {
   "cell_type": "code",
   "execution_count": null,
   "metadata": {
    "scrolled": true
   },
   "outputs": [],
   "source": [
    "history_init = abc.run(max_nr_populations=20, minimum_epsilon=0.01)"
   ]
  },
  {
   "cell_type": "code",
   "execution_count": null,
   "metadata": {},
   "outputs": [],
   "source": [
    "from visualization_custom import plot_sim_results\n",
    "plot_sim_results(history_init, \"icat\", n_samples=100, obs=measurements)"
   ]
  },
  {
   "cell_type": "code",
   "execution_count": null,
   "metadata": {},
   "outputs": [],
   "source": [
    "df, w = history_init.get_distribution(m=0)\n",
    "plot_kde_matrix(df, w, limits=limits)"
   ]
  },
  {
   "cell_type": "markdown",
   "metadata": {},
   "source": [
    "Reduce parameters varied and run with adaptive population size."
   ]
  },
  {
   "cell_type": "code",
   "execution_count": null,
   "metadata": {},
   "outputs": [],
   "source": [
    "abc = ABCSMC(models=MyokitSimulation(),\n",
    "             parameter_priors=prior,\n",
    "             distance_function=distance,\n",
    "             population_size=AdaptivePopulationSize(\n",
    "                 5000, 0.5, \n",
    "                 min_population_size=500,\n",
    "                 max_population_size=10000),\n",
    "            eps=MedianEpsilon(100, median_multiplier=1.0))\n",
    "abc_id = abc.new(db_path, obs)"
   ]
  },
  {
   "cell_type": "code",
   "execution_count": null,
   "metadata": {},
   "outputs": [],
   "source": [
    "history = abc.run(max_nr_populations=20, minimum_epsilon=0.5)"
   ]
  },
  {
   "cell_type": "code",
   "execution_count": null,
   "metadata": {},
   "outputs": [],
   "source": []
  }
 ],
 "metadata": {
  "kernelspec": {
   "display_name": "Python 3",
   "language": "python",
   "name": "python3"
  },
  "language_info": {
   "codemirror_mode": {
    "name": "ipython",
    "version": 3
   },
   "file_extension": ".py",
   "mimetype": "text/x-python",
   "name": "python",
   "nbconvert_exporter": "python",
   "pygments_lexer": "ipython3",
   "version": "3.6.5"
  }
 },
 "nbformat": 4,
 "nbformat_minor": 2
}
