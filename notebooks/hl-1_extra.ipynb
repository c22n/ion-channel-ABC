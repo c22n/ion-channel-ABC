{
 "cells": [
  {
   "cell_type": "markdown",
   "metadata": {},
   "source": [
    "# Fitting remaining ion current conductances"
   ]
  },
  {
   "cell_type": "markdown",
   "metadata": {},
   "source": [
    "Using full AP/CaT measures to fit the remaining conductances."
   ]
  },
  {
   "cell_type": "code",
   "execution_count": 1,
   "metadata": {},
   "outputs": [],
   "source": [
    "from pyabc import (ABCSMC, Distribution, RV,\n",
    "                   History, Model,\n",
    "                   ModelResult, MedianEpsilon)\n",
    "from pyabc.transition import MultivariateNormalTransition\n",
    "from pyabc.sampler import MulticoreEvalParallelSampler\n",
    "from pyabc_custom import MyokitSimulation\n",
    "from prangle_distance import PrangleDistance, PrangleEpsilon, PranglePopulationSize\n",
    "\n",
    "import matplotlib.pyplot as plt\n",
    "import os\n",
    "import tempfile\n",
    "import pandas as pd\n",
    "\n",
    "%matplotlib inline\n",
    "%config Inline.Backend.figure_format = 'retina'"
   ]
  },
  {
   "cell_type": "code",
   "execution_count": 2,
   "metadata": {},
   "outputs": [],
   "source": [
    "# Get all ABC channel results.\n",
    "history = {'icat': History('sqlite:///pyabc-runs/hl-1_icat.db'),\n",
    "           'ical': History('sqlite:///pyabc-runs/hl-1_ical.db'),\n",
    "           'ina': History('sqlite:///pyabc-runs/hl-1_ina.db'),\n",
    "           'ikr': History('sqlite:///pyabc-runs/hl-1_ikr.db'),\n",
    "           'ikur': History('sqlite:///pyabc-runs/hl-1_ikur.db'),\n",
    "           'ito': History('sqlite:///pyabc-runs/hl-1_ito.db'),\n",
    "           'iha': History('sqlite:///pyabc-runs/hl-1_iha.db'),\n",
    "           'ik1': History('sqlite:///pyabc-runs/hl-1_ik1.db')}"
   ]
  },
  {
   "cell_type": "code",
   "execution_count": 3,
   "metadata": {},
   "outputs": [],
   "source": [
    "# Set to correct result (last ABC run in database).\n",
    "for _,h in history.items():\n",
    "    h.id = len(h.all_runs())"
   ]
  },
  {
   "cell_type": "code",
   "execution_count": 4,
   "metadata": {},
   "outputs": [],
   "source": [
    "# Generate a sample from all history items.\n",
    "def generate_sample(history, n):\n",
    "    samples = [dict() for i in range(n)]\n",
    "    for k, h in history.items():\n",
    "        dist = h.get_distribution(m=0)\n",
    "        weights = dist[1]\n",
    "        ch_samples = dist[0] \\\n",
    "                    .sample(n, weights=weights, replace=True) \\\n",
    "                    .to_dict(orient='records')\n",
    "        ch_samples = [{k+'.'+key: value for key, value in ch.items()}\n",
    "                      for ch in ch_samples]\n",
    "        for c, s in zip(ch_samples, samples):\n",
    "            s.update(c)\n",
    "    return samples"
   ]
  },
  {
   "cell_type": "code",
   "execution_count": 5,
   "metadata": {},
   "outputs": [
    {
     "name": "stderr",
     "output_type": "stream",
     "text": [
      "/storage/hhecm/cellrotor/chouston/pyabc/pyabc/storage/history.py:200: FutureWarning: Method .as_matrix will be removed in a future version. Use .values instead.\n",
      "  w_arr = w.w.as_matrix()\n"
     ]
    }
   ],
   "source": [
    "# Generate samples\n",
    "n_samples = 5000\n",
    "param_samples = generate_sample(history, n_samples)"
   ]
  },
  {
   "cell_type": "code",
   "execution_count": 6,
   "metadata": {},
   "outputs": [],
   "source": [
    "def model_measure(result):\n",
    "    return result.to_dict()['0']\n",
    "\n",
    "myokit_model = MyokitSimulation('hl1', param_samples, model_measure)"
   ]
  },
  {
   "cell_type": "code",
   "execution_count": 53,
   "metadata": {},
   "outputs": [
    {
     "data": {
      "text/plain": [
       "{0: -79.640043, 1: 130.08146399999998, 2: 62.389701, 3: 49.250269}"
      ]
     },
     "execution_count": 53,
     "metadata": {},
     "output_type": "execute_result"
    }
   ],
   "source": [
    "# Test that the model actually produces output\n",
    "#  -> no sim failure :)\n",
    "myokit_model.sample({'ik1.g_K1': 4.300043e-02,\n",
    "                     'incx.k_NCX': 8.104245e-16,\n",
    "                     'icab.g_Cab': 2.626651e-04,\n",
    "                     'inab.g_Nab': 8.062469e-04,\n",
    "                     'inak.i_NaK_max': 4.640682e+00})"
   ]
  },
  {
   "cell_type": "code",
   "execution_count": 8,
   "metadata": {},
   "outputs": [],
   "source": [
    "# Targets from Dias, 2014 from HL1-6 myocyte\n",
    "dias_measurements = {'v_rest': -67,\n",
    "                     #'ca_i': 0.15,\n",
    "                     #'na_i': 15000,\n",
    "                     #'k_i': 130000,\n",
    "                     'apa': 105,\n",
    "                     'apd90': 42,\n",
    "                     'ca_ttp': 52}\n",
    "obs = dict(zip(range(len(dias_measurements)),\n",
    "               list(dias_measurements.values())))\n",
    "exp = dict(zip(range(len(dias_measurements)),\n",
    "               range(len(dias_measurements))))"
   ]
  },
  {
   "cell_type": "code",
   "execution_count": 9,
   "metadata": {},
   "outputs": [],
   "source": [
    "limits = {'ik1.g_K1': (0, 0.1),\n",
    "          'incx.k_NCX': (0, 1e-15),\n",
    "          'icab.g_Cab': (0, 0.001),\n",
    "          'inab.g_Nab': (0, 0.01),\n",
    "          'inak.i_NaK_max': (0, 10)}\n",
    "prior = Distribution(**{key: RV(\"uniform\", a, b - a)\n",
    "                        for key, (a,b) in limits.items()})"
   ]
  },
  {
   "cell_type": "code",
   "execution_count": 10,
   "metadata": {},
   "outputs": [],
   "source": [
    "db_path = (\"sqlite:////scratch/cph211/hl-1_full.db\")"
   ]
  },
  {
   "cell_type": "code",
   "execution_count": 11,
   "metadata": {},
   "outputs": [],
   "source": [
    "# Let's log this shit\n",
    "import logging\n",
    "logging.basicConfig()\n",
    "abclogger = logging.getLogger(\"ABC\")\n",
    "abclogger.setLevel(logging.INFO)"
   ]
  },
  {
   "cell_type": "code",
   "execution_count": 12,
   "metadata": {},
   "outputs": [],
   "source": [
    "abc = ABCSMC(models=myokit_model,\n",
    "             parameter_priors=prior,\n",
    "             distance_function=PrangleDistance(exp_map=exp,\n",
    "                 alpha=0.5,\n",
    "                 delta=0.5,\n",
    "                 adapt=False),\n",
    "             population_size=PranglePopulationSize(800, 0.5,\n",
    "                 adapt=True,\n",
    "                 mean_cv=0.4, \n",
    "                 min_population_size=200,\n",
    "                 max_population_size=5000),\n",
    "             eps=PrangleEpsilon(),\n",
    "             sampler=MulticoreEvalParallelSampler(n_procs=24))"
   ]
  },
  {
   "cell_type": "code",
   "execution_count": 13,
   "metadata": {},
   "outputs": [
    {
     "name": "stderr",
     "output_type": "stream",
     "text": [
      "INFO:Epsilon:initial epsilon is inf\n",
      "INFO:History:Start <ABCSMC(id=2, start_time=2018-07-29 14:13:25.666562, end_time=None)>\n"
     ]
    }
   ],
   "source": [
    "abc_id = abc.new(db_path, obs)"
   ]
  },
  {
   "cell_type": "code",
   "execution_count": 14,
   "metadata": {},
   "outputs": [
    {
     "name": "stderr",
     "output_type": "stream",
     "text": [
      "INFO:ABC:t:0 M eps:[inf]\n",
      "/storage/hhecm/cellrotor/chouston/ion-channel-ABC/prangle_distance.py:102: FutureWarning: Method .as_matrix will be removed in a future version. Use .values instead.\n",
      "  distances = df_weighted.distance.as_matrix()\n",
      "/storage/hhecm/cellrotor/chouston/ion-channel-ABC/prangle_distance.py:104: FutureWarning: Method .as_matrix will be removed in a future version. Use .values instead.\n",
      "  weights = df_weighted.w.as_matrix()\n",
      "INFO:ABC:t:0 N eps:50.519670565329484\n",
      "INFO:ABC:N population size: 800\n",
      "INFO:ABC:t:1 M eps:[        inf 50.51967057]\n",
      "/storage/hhecm/cellrotor/chouston/pyabc/pyabc/storage/history.py:200: FutureWarning: Method .as_matrix will be removed in a future version. Use .values instead.\n",
      "  w_arr = w.w.as_matrix()\n",
      "/storage/hhecm/cellrotor/chouston/pyabc/pyabc/transition/multivariatenormal.py:64: FutureWarning: Method .as_matrix will be removed in a future version. Use .values instead.\n",
      "  self._X_arr = X.as_matrix()\n",
      "/storage/hhecm/cellrotor/chouston/pyabc/pyabc/smc.py:690: FutureWarning: Method .as_matrix will be removed in a future version. Use .values instead.\n",
      "  self.history.max_t)[\"p\"].as_matrix()\n",
      "INFO:Adaptation:Change nr particles 800 -> 200\n",
      "/storage/hhecm/cellrotor/chouston/ion-channel-ABC/prangle_distance.py:102: FutureWarning: Method .as_matrix will be removed in a future version. Use .values instead.\n",
      "  distances = df_weighted.distance.as_matrix()\n",
      "/storage/hhecm/cellrotor/chouston/ion-channel-ABC/prangle_distance.py:104: FutureWarning: Method .as_matrix will be removed in a future version. Use .values instead.\n",
      "  weights = df_weighted.w.as_matrix()\n",
      "INFO:ABC:t:1 N eps:29.487213462187395\n",
      "INFO:ABC:N population size: 200\n",
      "INFO:ABC:t:2 M eps:[        inf 50.51967057 29.48721346]\n",
      "/storage/hhecm/cellrotor/chouston/pyabc/pyabc/storage/history.py:200: FutureWarning: Method .as_matrix will be removed in a future version. Use .values instead.\n",
      "  w_arr = w.w.as_matrix()\n",
      "/storage/hhecm/cellrotor/chouston/pyabc/pyabc/transition/multivariatenormal.py:64: FutureWarning: Method .as_matrix will be removed in a future version. Use .values instead.\n",
      "  self._X_arr = X.as_matrix()\n",
      "/storage/hhecm/cellrotor/chouston/pyabc/pyabc/smc.py:690: FutureWarning: Method .as_matrix will be removed in a future version. Use .values instead.\n",
      "  self.history.max_t)[\"p\"].as_matrix()\n",
      "INFO:Adaptation:Change nr particles 200 -> 200\n",
      "/storage/hhecm/cellrotor/chouston/ion-channel-ABC/prangle_distance.py:102: FutureWarning: Method .as_matrix will be removed in a future version. Use .values instead.\n",
      "  distances = df_weighted.distance.as_matrix()\n",
      "/storage/hhecm/cellrotor/chouston/ion-channel-ABC/prangle_distance.py:104: FutureWarning: Method .as_matrix will be removed in a future version. Use .values instead.\n",
      "  weights = df_weighted.w.as_matrix()\n",
      "INFO:ABC:t:2 N eps:18.153349923710064\n",
      "INFO:ABC:N population size: 200\n",
      "INFO:ABC:t:3 M eps:[        inf 50.51967057 29.48721346 18.15334992]\n",
      "/storage/hhecm/cellrotor/chouston/pyabc/pyabc/storage/history.py:200: FutureWarning: Method .as_matrix will be removed in a future version. Use .values instead.\n",
      "  w_arr = w.w.as_matrix()\n",
      "/storage/hhecm/cellrotor/chouston/pyabc/pyabc/transition/multivariatenormal.py:64: FutureWarning: Method .as_matrix will be removed in a future version. Use .values instead.\n",
      "  self._X_arr = X.as_matrix()\n",
      "/storage/hhecm/cellrotor/chouston/pyabc/pyabc/smc.py:690: FutureWarning: Method .as_matrix will be removed in a future version. Use .values instead.\n",
      "  self.history.max_t)[\"p\"].as_matrix()\n",
      "INFO:Adaptation:Change nr particles 200 -> 200\n",
      "/storage/hhecm/cellrotor/chouston/ion-channel-ABC/prangle_distance.py:102: FutureWarning: Method .as_matrix will be removed in a future version. Use .values instead.\n",
      "  distances = df_weighted.distance.as_matrix()\n",
      "/storage/hhecm/cellrotor/chouston/ion-channel-ABC/prangle_distance.py:104: FutureWarning: Method .as_matrix will be removed in a future version. Use .values instead.\n",
      "  weights = df_weighted.w.as_matrix()\n",
      "INFO:ABC:t:3 N eps:13.445156573223812\n",
      "INFO:ABC:N population size: 200\n",
      "INFO:ABC:t:4 M eps:[        inf 50.51967057 29.48721346 18.15334992 13.44515657]\n",
      "/storage/hhecm/cellrotor/chouston/pyabc/pyabc/storage/history.py:200: FutureWarning: Method .as_matrix will be removed in a future version. Use .values instead.\n",
      "  w_arr = w.w.as_matrix()\n",
      "/storage/hhecm/cellrotor/chouston/pyabc/pyabc/transition/multivariatenormal.py:64: FutureWarning: Method .as_matrix will be removed in a future version. Use .values instead.\n",
      "  self._X_arr = X.as_matrix()\n",
      "/storage/hhecm/cellrotor/chouston/pyabc/pyabc/smc.py:690: FutureWarning: Method .as_matrix will be removed in a future version. Use .values instead.\n",
      "  self.history.max_t)[\"p\"].as_matrix()\n",
      "INFO:Adaptation:Change nr particles 200 -> 200\n",
      "/storage/hhecm/cellrotor/chouston/ion-channel-ABC/prangle_distance.py:102: FutureWarning: Method .as_matrix will be removed in a future version. Use .values instead.\n",
      "  distances = df_weighted.distance.as_matrix()\n",
      "/storage/hhecm/cellrotor/chouston/ion-channel-ABC/prangle_distance.py:104: FutureWarning: Method .as_matrix will be removed in a future version. Use .values instead.\n",
      "  weights = df_weighted.w.as_matrix()\n",
      "INFO:ABC:t:4 N eps:10.172317359259035\n",
      "INFO:ABC:N population size: 200\n",
      "INFO:ABC:t:5 M eps:[        inf 50.51967057 29.48721346 18.15334992 13.44515657 10.17231736]\n",
      "/storage/hhecm/cellrotor/chouston/pyabc/pyabc/storage/history.py:200: FutureWarning: Method .as_matrix will be removed in a future version. Use .values instead.\n",
      "  w_arr = w.w.as_matrix()\n",
      "/storage/hhecm/cellrotor/chouston/pyabc/pyabc/transition/multivariatenormal.py:64: FutureWarning: Method .as_matrix will be removed in a future version. Use .values instead.\n",
      "  self._X_arr = X.as_matrix()\n",
      "/storage/hhecm/cellrotor/chouston/pyabc/pyabc/smc.py:690: FutureWarning: Method .as_matrix will be removed in a future version. Use .values instead.\n",
      "  self.history.max_t)[\"p\"].as_matrix()\n",
      "INFO:Adaptation:Change nr particles 200 -> 200\n",
      "/storage/hhecm/cellrotor/chouston/ion-channel-ABC/prangle_distance.py:102: FutureWarning: Method .as_matrix will be removed in a future version. Use .values instead.\n",
      "  distances = df_weighted.distance.as_matrix()\n",
      "/storage/hhecm/cellrotor/chouston/ion-channel-ABC/prangle_distance.py:104: FutureWarning: Method .as_matrix will be removed in a future version. Use .values instead.\n",
      "  weights = df_weighted.w.as_matrix()\n",
      "INFO:ABC:t:5 N eps:8.180533007765181\n",
      "INFO:ABC:N population size: 200\n",
      "INFO:ABC:t:6 M eps:[        inf 50.51967057 29.48721346 18.15334992 13.44515657 10.17231736\n",
      "  8.18053301]\n",
      "/storage/hhecm/cellrotor/chouston/pyabc/pyabc/storage/history.py:200: FutureWarning: Method .as_matrix will be removed in a future version. Use .values instead.\n",
      "  w_arr = w.w.as_matrix()\n",
      "/storage/hhecm/cellrotor/chouston/pyabc/pyabc/transition/multivariatenormal.py:64: FutureWarning: Method .as_matrix will be removed in a future version. Use .values instead.\n",
      "  self._X_arr = X.as_matrix()\n",
      "/storage/hhecm/cellrotor/chouston/pyabc/pyabc/smc.py:690: FutureWarning: Method .as_matrix will be removed in a future version. Use .values instead.\n",
      "  self.history.max_t)[\"p\"].as_matrix()\n",
      "INFO:Adaptation:Change nr particles 200 -> 200\n",
      "/storage/hhecm/cellrotor/chouston/ion-channel-ABC/prangle_distance.py:102: FutureWarning: Method .as_matrix will be removed in a future version. Use .values instead.\n",
      "  distances = df_weighted.distance.as_matrix()\n",
      "/storage/hhecm/cellrotor/chouston/ion-channel-ABC/prangle_distance.py:104: FutureWarning: Method .as_matrix will be removed in a future version. Use .values instead.\n",
      "  weights = df_weighted.w.as_matrix()\n",
      "INFO:ABC:t:6 N eps:6.806588980681881\n",
      "INFO:ABC:N population size: 200\n",
      "INFO:ABC:t:7 M eps:[        inf 50.51967057 29.48721346 18.15334992 13.44515657 10.17231736\n",
      "  8.18053301  6.80658898]\n",
      "/storage/hhecm/cellrotor/chouston/pyabc/pyabc/storage/history.py:200: FutureWarning: Method .as_matrix will be removed in a future version. Use .values instead.\n",
      "  w_arr = w.w.as_matrix()\n",
      "/storage/hhecm/cellrotor/chouston/pyabc/pyabc/transition/multivariatenormal.py:64: FutureWarning: Method .as_matrix will be removed in a future version. Use .values instead.\n",
      "  self._X_arr = X.as_matrix()\n",
      "/storage/hhecm/cellrotor/chouston/pyabc/pyabc/smc.py:690: FutureWarning: Method .as_matrix will be removed in a future version. Use .values instead.\n",
      "  self.history.max_t)[\"p\"].as_matrix()\n"
     ]
    },
    {
     "name": "stderr",
     "output_type": "stream",
     "text": [
      "INFO:Adaptation:Change nr particles 200 -> 200\n",
      "/storage/hhecm/cellrotor/chouston/ion-channel-ABC/prangle_distance.py:102: FutureWarning: Method .as_matrix will be removed in a future version. Use .values instead.\n",
      "  distances = df_weighted.distance.as_matrix()\n",
      "/storage/hhecm/cellrotor/chouston/ion-channel-ABC/prangle_distance.py:104: FutureWarning: Method .as_matrix will be removed in a future version. Use .values instead.\n",
      "  weights = df_weighted.w.as_matrix()\n",
      "INFO:ABC:t:7 N eps:5.6788009582656205\n",
      "INFO:ABC:N population size: 200\n",
      "INFO:ABC:t:8 M eps:[        inf 50.51967057 29.48721346 18.15334992 13.44515657 10.17231736\n",
      "  8.18053301  6.80658898  5.67880096]\n",
      "/storage/hhecm/cellrotor/chouston/pyabc/pyabc/storage/history.py:200: FutureWarning: Method .as_matrix will be removed in a future version. Use .values instead.\n",
      "  w_arr = w.w.as_matrix()\n",
      "/storage/hhecm/cellrotor/chouston/pyabc/pyabc/transition/multivariatenormal.py:64: FutureWarning: Method .as_matrix will be removed in a future version. Use .values instead.\n",
      "  self._X_arr = X.as_matrix()\n",
      "/storage/hhecm/cellrotor/chouston/pyabc/pyabc/smc.py:690: FutureWarning: Method .as_matrix will be removed in a future version. Use .values instead.\n",
      "  self.history.max_t)[\"p\"].as_matrix()\n",
      "INFO:Adaptation:Change nr particles 200 -> 200\n",
      "/storage/hhecm/cellrotor/chouston/ion-channel-ABC/prangle_distance.py:102: FutureWarning: Method .as_matrix will be removed in a future version. Use .values instead.\n",
      "  distances = df_weighted.distance.as_matrix()\n",
      "/storage/hhecm/cellrotor/chouston/ion-channel-ABC/prangle_distance.py:104: FutureWarning: Method .as_matrix will be removed in a future version. Use .values instead.\n",
      "  weights = df_weighted.w.as_matrix()\n",
      "INFO:ABC:t:8 N eps:4.769066190932435\n",
      "INFO:ABC:N population size: 200\n",
      "INFO:ABC:t:9 M eps:[        inf 50.51967057 29.48721346 18.15334992 13.44515657 10.17231736\n",
      "  8.18053301  6.80658898  5.67880096  4.76906619]\n",
      "/storage/hhecm/cellrotor/chouston/pyabc/pyabc/storage/history.py:200: FutureWarning: Method .as_matrix will be removed in a future version. Use .values instead.\n",
      "  w_arr = w.w.as_matrix()\n",
      "/storage/hhecm/cellrotor/chouston/pyabc/pyabc/transition/multivariatenormal.py:64: FutureWarning: Method .as_matrix will be removed in a future version. Use .values instead.\n",
      "  self._X_arr = X.as_matrix()\n",
      "/storage/hhecm/cellrotor/chouston/pyabc/pyabc/smc.py:690: FutureWarning: Method .as_matrix will be removed in a future version. Use .values instead.\n",
      "  self.history.max_t)[\"p\"].as_matrix()\n",
      "INFO:Adaptation:Change nr particles 200 -> 200\n",
      "/storage/hhecm/cellrotor/chouston/ion-channel-ABC/prangle_distance.py:102: FutureWarning: Method .as_matrix will be removed in a future version. Use .values instead.\n",
      "  distances = df_weighted.distance.as_matrix()\n",
      "/storage/hhecm/cellrotor/chouston/ion-channel-ABC/prangle_distance.py:104: FutureWarning: Method .as_matrix will be removed in a future version. Use .values instead.\n",
      "  weights = df_weighted.w.as_matrix()\n",
      "INFO:ABC:t:9 N eps:3.99456877979878\n",
      "INFO:ABC:N population size: 200\n",
      "INFO:History:Done <ABCSMC(id=2, start_time=2018-07-29 14:13:25.666562, end_time=2018-07-29 18:25:25.123806)>\n"
     ]
    }
   ],
   "source": [
    "history = abc.run(minimum_epsilon=0.1, max_nr_populations=10)"
   ]
  },
  {
   "cell_type": "code",
   "execution_count": 16,
   "metadata": {},
   "outputs": [
    {
     "name": "stdout",
     "output_type": "stream",
     "text": [
      "name\n",
      "icab.g_Cab        4.605495e-04\n",
      "ik1.g_K1          3.039994e-02\n",
      "inab.g_Nab        6.113868e-03\n",
      "inak.i_NaK_max    8.279226e+00\n",
      "incx.k_NCX        6.333789e-16\n",
      "dtype: float64\n",
      "name\n",
      "icab.g_Cab        2.773748e-04\n",
      "ik1.g_K1          2.017059e-02\n",
      "inab.g_Nab        2.166605e-03\n",
      "inak.i_NaK_max    1.372672e+00\n",
      "incx.k_NCX        1.700861e-16\n",
      "dtype: float64\n"
     ]
    },
    {
     "name": "stderr",
     "output_type": "stream",
     "text": [
      "/storage/hhecm/cellrotor/chouston/pyabc/pyabc/storage/history.py:200: FutureWarning: Method .as_matrix will be removed in a future version. Use .values instead.\n",
      "  w_arr = w.w.as_matrix()\n"
     ]
    }
   ],
   "source": [
    "df, w = history.get_distribution(0)\n",
    "print(df.mean())\n",
    "print(df.std())"
   ]
  },
  {
   "cell_type": "code",
   "execution_count": 17,
   "metadata": {
    "collapsed": true
   },
   "outputs": [
    {
     "name": "stderr",
     "output_type": "stream",
     "text": [
      "INFO:ABC:t:10 M eps:[        inf 50.51967057 29.48721346 18.15334992 13.44515657 10.17231736\n",
      "  8.18053301  6.80658898  5.67880096  4.76906619  3.99456878]\n",
      "/storage/hhecm/cellrotor/chouston/pyabc/pyabc/storage/history.py:200: FutureWarning: Method .as_matrix will be removed in a future version. Use .values instead.\n",
      "  w_arr = w.w.as_matrix()\n",
      "/storage/hhecm/cellrotor/chouston/pyabc/pyabc/transition/multivariatenormal.py:64: FutureWarning: Method .as_matrix will be removed in a future version. Use .values instead.\n",
      "  self._X_arr = X.as_matrix()\n",
      "/storage/hhecm/cellrotor/chouston/pyabc/pyabc/smc.py:690: FutureWarning: Method .as_matrix will be removed in a future version. Use .values instead.\n",
      "  self.history.max_t)[\"p\"].as_matrix()\n",
      "INFO:Adaptation:Change nr particles 200 -> 200\n",
      "/storage/hhecm/cellrotor/chouston/ion-channel-ABC/prangle_distance.py:102: FutureWarning: Method .as_matrix will be removed in a future version. Use .values instead.\n",
      "  distances = df_weighted.distance.as_matrix()\n",
      "/storage/hhecm/cellrotor/chouston/ion-channel-ABC/prangle_distance.py:104: FutureWarning: Method .as_matrix will be removed in a future version. Use .values instead.\n",
      "  weights = df_weighted.w.as_matrix()\n",
      "INFO:ABC:t:10 N eps:3.4064364665132785\n",
      "INFO:ABC:N population size: 200\n",
      "INFO:ABC:t:11 M eps:[        inf 50.51967057 29.48721346 18.15334992 13.44515657 10.17231736\n",
      "  8.18053301  6.80658898  5.67880096  4.76906619  3.99456878  3.40643647]\n",
      "/storage/hhecm/cellrotor/chouston/pyabc/pyabc/storage/history.py:200: FutureWarning: Method .as_matrix will be removed in a future version. Use .values instead.\n",
      "  w_arr = w.w.as_matrix()\n",
      "/storage/hhecm/cellrotor/chouston/pyabc/pyabc/transition/multivariatenormal.py:64: FutureWarning: Method .as_matrix will be removed in a future version. Use .values instead.\n",
      "  self._X_arr = X.as_matrix()\n",
      "/storage/hhecm/cellrotor/chouston/pyabc/pyabc/smc.py:690: FutureWarning: Method .as_matrix will be removed in a future version. Use .values instead.\n",
      "  self.history.max_t)[\"p\"].as_matrix()\n",
      "INFO:Adaptation:Change nr particles 200 -> 200\n",
      "/storage/hhecm/cellrotor/chouston/ion-channel-ABC/prangle_distance.py:102: FutureWarning: Method .as_matrix will be removed in a future version. Use .values instead.\n",
      "  distances = df_weighted.distance.as_matrix()\n",
      "/storage/hhecm/cellrotor/chouston/ion-channel-ABC/prangle_distance.py:104: FutureWarning: Method .as_matrix will be removed in a future version. Use .values instead.\n",
      "  weights = df_weighted.w.as_matrix()\n",
      "INFO:ABC:t:11 N eps:2.837463576223709\n",
      "INFO:ABC:N population size: 200\n",
      "INFO:ABC:t:12 M eps:[        inf 50.51967057 29.48721346 18.15334992 13.44515657 10.17231736\n",
      "  8.18053301  6.80658898  5.67880096  4.76906619  3.99456878  3.40643647\n",
      "  2.83746358]\n",
      "/storage/hhecm/cellrotor/chouston/pyabc/pyabc/storage/history.py:200: FutureWarning: Method .as_matrix will be removed in a future version. Use .values instead.\n",
      "  w_arr = w.w.as_matrix()\n",
      "/storage/hhecm/cellrotor/chouston/pyabc/pyabc/transition/multivariatenormal.py:64: FutureWarning: Method .as_matrix will be removed in a future version. Use .values instead.\n",
      "  self._X_arr = X.as_matrix()\n",
      "/storage/hhecm/cellrotor/chouston/pyabc/pyabc/smc.py:690: FutureWarning: Method .as_matrix will be removed in a future version. Use .values instead.\n",
      "  self.history.max_t)[\"p\"].as_matrix()\n",
      "INFO:Adaptation:Change nr particles 200 -> 200\n",
      "/storage/hhecm/cellrotor/chouston/ion-channel-ABC/prangle_distance.py:102: FutureWarning: Method .as_matrix will be removed in a future version. Use .values instead.\n",
      "  distances = df_weighted.distance.as_matrix()\n",
      "/storage/hhecm/cellrotor/chouston/ion-channel-ABC/prangle_distance.py:104: FutureWarning: Method .as_matrix will be removed in a future version. Use .values instead.\n",
      "  weights = df_weighted.w.as_matrix()\n",
      "INFO:ABC:t:12 N eps:2.4072545171518605\n",
      "INFO:ABC:N population size: 200\n",
      "INFO:ABC:t:13 M eps:[        inf 50.51967057 29.48721346 18.15334992 13.44515657 10.17231736\n",
      "  8.18053301  6.80658898  5.67880096  4.76906619  3.99456878  3.40643647\n",
      "  2.83746358  2.40725452]\n",
      "/storage/hhecm/cellrotor/chouston/pyabc/pyabc/storage/history.py:200: FutureWarning: Method .as_matrix will be removed in a future version. Use .values instead.\n",
      "  w_arr = w.w.as_matrix()\n",
      "/storage/hhecm/cellrotor/chouston/pyabc/pyabc/transition/multivariatenormal.py:64: FutureWarning: Method .as_matrix will be removed in a future version. Use .values instead.\n",
      "  self._X_arr = X.as_matrix()\n",
      "/storage/hhecm/cellrotor/chouston/pyabc/pyabc/smc.py:690: FutureWarning: Method .as_matrix will be removed in a future version. Use .values instead.\n",
      "  self.history.max_t)[\"p\"].as_matrix()\n",
      "INFO:Adaptation:Change nr particles 200 -> 200\n"
     ]
    },
    {
     "ename": "KeyboardInterrupt",
     "evalue": "",
     "output_type": "error",
     "traceback": [
      "\u001b[0;31m---------------------------------------------------------------------------\u001b[0m",
      "\u001b[0;31mKeyboardInterrupt\u001b[0m                         Traceback (most recent call last)",
      "\u001b[0;32m<ipython-input-17-427c0577e326>\u001b[0m in \u001b[0;36m<module>\u001b[0;34m()\u001b[0m\n\u001b[0;32m----> 1\u001b[0;31m \u001b[0mhistory\u001b[0m \u001b[0;34m=\u001b[0m \u001b[0mabc\u001b[0m\u001b[0;34m.\u001b[0m\u001b[0mrun\u001b[0m\u001b[0;34m(\u001b[0m\u001b[0mminimum_epsilon\u001b[0m\u001b[0;34m=\u001b[0m\u001b[0;36m0.1\u001b[0m\u001b[0;34m,\u001b[0m \u001b[0mmax_nr_populations\u001b[0m\u001b[0;34m=\u001b[0m\u001b[0;36m10\u001b[0m\u001b[0;34m)\u001b[0m\u001b[0;34m\u001b[0m\u001b[0m\n\u001b[0m",
      "\u001b[0;32m~/pyabc/pyabc/smc.py\u001b[0m in \u001b[0;36mrun\u001b[0;34m(self, minimum_epsilon, max_nr_populations, min_acceptance_rate, **kwargs)\u001b[0m\n\u001b[1;32m    614\u001b[0m             \u001b[0;31m# sample\u001b[0m\u001b[0;34m\u001b[0m\u001b[0;34m\u001b[0m\u001b[0m\n\u001b[1;32m    615\u001b[0m             sample = self.sampler.sample_until_n_accepted(\n\u001b[0;32m--> 616\u001b[0;31m                 self.population_strategy.nr_particles, simulate_one)\n\u001b[0m\u001b[1;32m    617\u001b[0m             \u001b[0;31m# adapt distance function\u001b[0m\u001b[0;34m\u001b[0m\u001b[0;34m\u001b[0m\u001b[0m\n\u001b[1;32m    618\u001b[0m             df_updated = self.distance_function.update(\n",
      "\u001b[0;32m~/pyabc/pyabc/sampler/multicore_evaluation_parallel.py\u001b[0m in \u001b[0;36msample_until_n_accepted\u001b[0;34m(self, n, simulate_one)\u001b[0m\n\u001b[1;32m    109\u001b[0m         \u001b[0mn_done\u001b[0m \u001b[0;34m=\u001b[0m \u001b[0;36m0\u001b[0m\u001b[0;34m\u001b[0m\u001b[0m\n\u001b[1;32m    110\u001b[0m         \u001b[0;32mwhile\u001b[0m \u001b[0mn_done\u001b[0m \u001b[0;34m<\u001b[0m \u001b[0mlen\u001b[0m\u001b[0;34m(\u001b[0m\u001b[0mprocesses\u001b[0m\u001b[0;34m)\u001b[0m\u001b[0;34m:\u001b[0m\u001b[0;34m\u001b[0m\u001b[0m\n\u001b[0;32m--> 111\u001b[0;31m             \u001b[0mval\u001b[0m \u001b[0;34m=\u001b[0m \u001b[0mget_if_worker_healthy\u001b[0m\u001b[0;34m(\u001b[0m\u001b[0mprocesses\u001b[0m\u001b[0;34m,\u001b[0m \u001b[0mqueue\u001b[0m\u001b[0;34m)\u001b[0m\u001b[0;34m\u001b[0m\u001b[0m\n\u001b[0m\u001b[1;32m    112\u001b[0m             \u001b[0;32mif\u001b[0m \u001b[0mval\u001b[0m \u001b[0;34m==\u001b[0m \u001b[0mDONE\u001b[0m\u001b[0;34m:\u001b[0m\u001b[0;34m\u001b[0m\u001b[0m\n\u001b[1;32m    113\u001b[0m                 \u001b[0mn_done\u001b[0m \u001b[0;34m+=\u001b[0m \u001b[0;36m1\u001b[0m\u001b[0;34m\u001b[0m\u001b[0m\n",
      "\u001b[0;32m~/pyabc/pyabc/sampler/multicorebase.py\u001b[0m in \u001b[0;36mget_if_worker_healthy\u001b[0;34m(workers, queue)\u001b[0m\n\u001b[1;32m     51\u001b[0m     \u001b[0;32mwhile\u001b[0m \u001b[0;32mTrue\u001b[0m\u001b[0;34m:\u001b[0m\u001b[0;34m\u001b[0m\u001b[0m\n\u001b[1;32m     52\u001b[0m         \u001b[0;32mtry\u001b[0m\u001b[0;34m:\u001b[0m\u001b[0;34m\u001b[0m\u001b[0m\n\u001b[0;32m---> 53\u001b[0;31m             \u001b[0mitem\u001b[0m \u001b[0;34m=\u001b[0m \u001b[0mqueue\u001b[0m\u001b[0;34m.\u001b[0m\u001b[0mget\u001b[0m\u001b[0;34m(\u001b[0m\u001b[0;32mTrue\u001b[0m\u001b[0;34m,\u001b[0m \u001b[0;36m5\u001b[0m\u001b[0;34m)\u001b[0m\u001b[0;34m\u001b[0m\u001b[0m\n\u001b[0m\u001b[1;32m     54\u001b[0m             \u001b[0;32mreturn\u001b[0m \u001b[0mitem\u001b[0m\u001b[0;34m\u001b[0m\u001b[0m\n\u001b[1;32m     55\u001b[0m         \u001b[0;32mexcept\u001b[0m \u001b[0mEmpty\u001b[0m\u001b[0;34m:\u001b[0m\u001b[0;34m\u001b[0m\u001b[0m\n",
      "\u001b[0;32m~/miniconda3/envs/pyabc/lib/python3.6/multiprocessing/queues.py\u001b[0m in \u001b[0;36mget\u001b[0;34m(self, block, timeout)\u001b[0m\n\u001b[1;32m    102\u001b[0m                 \u001b[0;32mif\u001b[0m \u001b[0mblock\u001b[0m\u001b[0;34m:\u001b[0m\u001b[0;34m\u001b[0m\u001b[0m\n\u001b[1;32m    103\u001b[0m                     \u001b[0mtimeout\u001b[0m \u001b[0;34m=\u001b[0m \u001b[0mdeadline\u001b[0m \u001b[0;34m-\u001b[0m \u001b[0mtime\u001b[0m\u001b[0;34m.\u001b[0m\u001b[0mtime\u001b[0m\u001b[0;34m(\u001b[0m\u001b[0;34m)\u001b[0m\u001b[0;34m\u001b[0m\u001b[0m\n\u001b[0;32m--> 104\u001b[0;31m                     \u001b[0;32mif\u001b[0m \u001b[0;32mnot\u001b[0m \u001b[0mself\u001b[0m\u001b[0;34m.\u001b[0m\u001b[0m_poll\u001b[0m\u001b[0;34m(\u001b[0m\u001b[0mtimeout\u001b[0m\u001b[0;34m)\u001b[0m\u001b[0;34m:\u001b[0m\u001b[0;34m\u001b[0m\u001b[0m\n\u001b[0m\u001b[1;32m    105\u001b[0m                         \u001b[0;32mraise\u001b[0m \u001b[0mEmpty\u001b[0m\u001b[0;34m\u001b[0m\u001b[0m\n\u001b[1;32m    106\u001b[0m                 \u001b[0;32melif\u001b[0m \u001b[0;32mnot\u001b[0m \u001b[0mself\u001b[0m\u001b[0;34m.\u001b[0m\u001b[0m_poll\u001b[0m\u001b[0;34m(\u001b[0m\u001b[0;34m)\u001b[0m\u001b[0;34m:\u001b[0m\u001b[0;34m\u001b[0m\u001b[0m\n",
      "\u001b[0;32m~/miniconda3/envs/pyabc/lib/python3.6/multiprocessing/connection.py\u001b[0m in \u001b[0;36mpoll\u001b[0;34m(self, timeout)\u001b[0m\n\u001b[1;32m    255\u001b[0m         \u001b[0mself\u001b[0m\u001b[0;34m.\u001b[0m\u001b[0m_check_closed\u001b[0m\u001b[0;34m(\u001b[0m\u001b[0;34m)\u001b[0m\u001b[0;34m\u001b[0m\u001b[0m\n\u001b[1;32m    256\u001b[0m         \u001b[0mself\u001b[0m\u001b[0;34m.\u001b[0m\u001b[0m_check_readable\u001b[0m\u001b[0;34m(\u001b[0m\u001b[0;34m)\u001b[0m\u001b[0;34m\u001b[0m\u001b[0m\n\u001b[0;32m--> 257\u001b[0;31m         \u001b[0;32mreturn\u001b[0m \u001b[0mself\u001b[0m\u001b[0;34m.\u001b[0m\u001b[0m_poll\u001b[0m\u001b[0;34m(\u001b[0m\u001b[0mtimeout\u001b[0m\u001b[0;34m)\u001b[0m\u001b[0;34m\u001b[0m\u001b[0m\n\u001b[0m\u001b[1;32m    258\u001b[0m \u001b[0;34m\u001b[0m\u001b[0m\n\u001b[1;32m    259\u001b[0m     \u001b[0;32mdef\u001b[0m \u001b[0m__enter__\u001b[0m\u001b[0;34m(\u001b[0m\u001b[0mself\u001b[0m\u001b[0;34m)\u001b[0m\u001b[0;34m:\u001b[0m\u001b[0;34m\u001b[0m\u001b[0m\n",
      "\u001b[0;32m~/miniconda3/envs/pyabc/lib/python3.6/multiprocessing/connection.py\u001b[0m in \u001b[0;36m_poll\u001b[0;34m(self, timeout)\u001b[0m\n\u001b[1;32m    412\u001b[0m \u001b[0;34m\u001b[0m\u001b[0m\n\u001b[1;32m    413\u001b[0m     \u001b[0;32mdef\u001b[0m \u001b[0m_poll\u001b[0m\u001b[0;34m(\u001b[0m\u001b[0mself\u001b[0m\u001b[0;34m,\u001b[0m \u001b[0mtimeout\u001b[0m\u001b[0;34m)\u001b[0m\u001b[0;34m:\u001b[0m\u001b[0;34m\u001b[0m\u001b[0m\n\u001b[0;32m--> 414\u001b[0;31m         \u001b[0mr\u001b[0m \u001b[0;34m=\u001b[0m \u001b[0mwait\u001b[0m\u001b[0;34m(\u001b[0m\u001b[0;34m[\u001b[0m\u001b[0mself\u001b[0m\u001b[0;34m]\u001b[0m\u001b[0;34m,\u001b[0m \u001b[0mtimeout\u001b[0m\u001b[0;34m)\u001b[0m\u001b[0;34m\u001b[0m\u001b[0m\n\u001b[0m\u001b[1;32m    415\u001b[0m         \u001b[0;32mreturn\u001b[0m \u001b[0mbool\u001b[0m\u001b[0;34m(\u001b[0m\u001b[0mr\u001b[0m\u001b[0;34m)\u001b[0m\u001b[0;34m\u001b[0m\u001b[0m\n\u001b[1;32m    416\u001b[0m \u001b[0;34m\u001b[0m\u001b[0m\n",
      "\u001b[0;32m~/miniconda3/envs/pyabc/lib/python3.6/multiprocessing/connection.py\u001b[0m in \u001b[0;36mwait\u001b[0;34m(object_list, timeout)\u001b[0m\n\u001b[1;32m    909\u001b[0m \u001b[0;34m\u001b[0m\u001b[0m\n\u001b[1;32m    910\u001b[0m             \u001b[0;32mwhile\u001b[0m \u001b[0;32mTrue\u001b[0m\u001b[0;34m:\u001b[0m\u001b[0;34m\u001b[0m\u001b[0m\n\u001b[0;32m--> 911\u001b[0;31m                 \u001b[0mready\u001b[0m \u001b[0;34m=\u001b[0m \u001b[0mselector\u001b[0m\u001b[0;34m.\u001b[0m\u001b[0mselect\u001b[0m\u001b[0;34m(\u001b[0m\u001b[0mtimeout\u001b[0m\u001b[0;34m)\u001b[0m\u001b[0;34m\u001b[0m\u001b[0m\n\u001b[0m\u001b[1;32m    912\u001b[0m                 \u001b[0;32mif\u001b[0m \u001b[0mready\u001b[0m\u001b[0;34m:\u001b[0m\u001b[0;34m\u001b[0m\u001b[0m\n\u001b[1;32m    913\u001b[0m                     \u001b[0;32mreturn\u001b[0m \u001b[0;34m[\u001b[0m\u001b[0mkey\u001b[0m\u001b[0;34m.\u001b[0m\u001b[0mfileobj\u001b[0m \u001b[0;32mfor\u001b[0m \u001b[0;34m(\u001b[0m\u001b[0mkey\u001b[0m\u001b[0;34m,\u001b[0m \u001b[0mevents\u001b[0m\u001b[0;34m)\u001b[0m \u001b[0;32min\u001b[0m \u001b[0mready\u001b[0m\u001b[0;34m]\u001b[0m\u001b[0;34m\u001b[0m\u001b[0m\n",
      "\u001b[0;32m~/miniconda3/envs/pyabc/lib/python3.6/selectors.py\u001b[0m in \u001b[0;36mselect\u001b[0;34m(self, timeout)\u001b[0m\n\u001b[1;32m    374\u001b[0m             \u001b[0mready\u001b[0m \u001b[0;34m=\u001b[0m \u001b[0;34m[\u001b[0m\u001b[0;34m]\u001b[0m\u001b[0;34m\u001b[0m\u001b[0m\n\u001b[1;32m    375\u001b[0m             \u001b[0;32mtry\u001b[0m\u001b[0;34m:\u001b[0m\u001b[0;34m\u001b[0m\u001b[0m\n\u001b[0;32m--> 376\u001b[0;31m                 \u001b[0mfd_event_list\u001b[0m \u001b[0;34m=\u001b[0m \u001b[0mself\u001b[0m\u001b[0;34m.\u001b[0m\u001b[0m_poll\u001b[0m\u001b[0;34m.\u001b[0m\u001b[0mpoll\u001b[0m\u001b[0;34m(\u001b[0m\u001b[0mtimeout\u001b[0m\u001b[0;34m)\u001b[0m\u001b[0;34m\u001b[0m\u001b[0m\n\u001b[0m\u001b[1;32m    377\u001b[0m             \u001b[0;32mexcept\u001b[0m \u001b[0mInterruptedError\u001b[0m\u001b[0;34m:\u001b[0m\u001b[0;34m\u001b[0m\u001b[0m\n\u001b[1;32m    378\u001b[0m                 \u001b[0;32mreturn\u001b[0m \u001b[0mready\u001b[0m\u001b[0;34m\u001b[0m\u001b[0m\n",
      "\u001b[0;31mKeyboardInterrupt\u001b[0m: "
     ]
    }
   ],
   "source": [
    "history = abc.run(minimum_epsilon=0.1, max_nr_populations=10)"
   ]
  },
  {
   "cell_type": "code",
   "execution_count": 22,
   "metadata": {},
   "outputs": [
    {
     "name": "stderr",
     "output_type": "stream",
     "text": [
      "/storage/hhecm/cellrotor/chouston/pyabc/pyabc/storage/history.py:200: FutureWarning: Method .as_matrix will be removed in a future version. Use .values instead.\n",
      "  w_arr = w.w.as_matrix()\n"
     ]
    }
   ],
   "source": [
    "df, w = history.get_distribution(m=0)"
   ]
  },
  {
   "cell_type": "code",
   "execution_count": 23,
   "metadata": {},
   "outputs": [
    {
     "data": {
      "text/plain": [
       "name\n",
       "icab.g_Cab        5.017593e-04\n",
       "ik1.g_K1          2.794481e-02\n",
       "inab.g_Nab        6.540387e-03\n",
       "inak.i_NaK_max    7.363952e+00\n",
       "incx.k_NCX        6.356384e-16\n",
       "dtype: float64"
      ]
     },
     "execution_count": 23,
     "metadata": {},
     "output_type": "execute_result"
    }
   ],
   "source": [
    "df.mean()"
   ]
  },
  {
   "cell_type": "code",
   "execution_count": 26,
   "metadata": {},
   "outputs": [
    {
     "data": {
      "text/plain": [
       "{0: -51.030118, 1: 95.340339, 2: 43.58866, 3: 48.028726}"
      ]
     },
     "execution_count": 26,
     "metadata": {},
     "output_type": "execute_result"
    }
   ],
   "source": [
    "myokit_model.sample({'ik1.g_K1': 2.794481e-02,\n",
    "                     'incx.k_NCX': 6.356384e-16,\n",
    "                     'icab.g_Cab': 5.017593e-04,\n",
    "                     'inab.g_Nab': 6.540387e-03,\n",
    "                     'inak.i_NaK_max': 7.363952e+00})"
   ]
  },
  {
   "cell_type": "code",
   "execution_count": 52,
   "metadata": {},
   "outputs": [
    {
     "name": "stderr",
     "output_type": "stream",
     "text": [
      "/storage/hhecm/cellrotor/chouston/pyabc/pyabc/transition/multivariatenormal.py:64: FutureWarning: Method .as_matrix will be removed in a future version. Use .values instead.\n",
      "  self._X_arr = X.as_matrix()\n"
     ]
    },
    {
     "data": {
      "text/plain": [
       "<matplotlib.legend.Legend at 0x7f726eadd390>"
      ]
     },
     "execution_count": 52,
     "metadata": {},
     "output_type": "execute_result"
    },
    {
     "data": {
      "image/png": "[encoded data removed]",
      "text/plain": [
       "<Figure size 432x288 with 1 Axes>"
      ]
     },
     "metadata": {},
     "output_type": "display_data"
    }
   ],
   "source": [
    "from pyabc.visualization import kde_1d\n",
    "for ch in limits.keys():\n",
    "    x, pdf = kde_1d(df, w, ch)\n",
    "    pdf_n = (pdf-min(pdf))/(max(pdf)-min(pdf))\n",
    "    x_n = (x-min(x))/(limits[ch][1]-limits[ch][0])\n",
    "    plt.plot(x_n, pdf_n, label=ch)\n",
    "plt.legend()"
   ]
  },
  {
   "cell_type": "markdown",
   "metadata": {},
   "source": [
    "## Plot sample of voltage traces"
   ]
  },
  {
   "cell_type": "code",
   "execution_count": 22,
   "metadata": {},
   "outputs": [],
   "source": [
    "# Manual settings\n",
    "for sample in param_samples:\n",
    "    sample['ik1.g_K1'] = 2.108099e-02 #0.024 produced appropriate levels for Ca_i and Na_i\n",
    "    sample['incx.k_NCX'] = 6.487460e-16#2.268e-16\n",
    "    sample['icab.g_Cab'] = 5.131545e-04#0.0008\n",
    "    sample['inab.g_Nab'] = 5.466241e-03\n",
    "    sample['inak.i_NaK_max'] = 8.424755e+00"
   ]
  },
  {
   "cell_type": "code",
   "execution_count": null,
   "metadata": {},
   "outputs": [],
   "source": [
    "from pyabc_custom import simulate\n",
    "import seaborn as sns\n",
    "import numpy as np\n",
    "import pandas as pd\n",
    "\n",
    "output_samples = pd.DataFrame()\n",
    "n_failures = 0\n",
    "for i, sample in enumerate(param_samples):\n",
    "    try:\n",
    "        output = simulate('hl1', exp_num=0, **sample)\n",
    "    except:\n",
    "        n_failures = n_failures + 1\n",
    "        continue\n",
    "    output['sample'] = i\n",
    "    output_samples = output_samples.append(output,\n",
    "                                           ignore_index=True)\n",
    "print('There were ' + str(n_failures) + ' failed simulations.')"
   ]
  },
  {
   "cell_type": "code",
   "execution_count": 11,
   "metadata": {
    "collapsed": true
   },
   "outputs": [
    {
     "data": {
      "text/html": [
       "<div>\n",
       "<style scoped>\n",
       "    .dataframe tbody tr th:only-of-type {\n",
       "        vertical-align: middle;\n",
       "    }\n",
       "\n",
       "    .dataframe tbody tr th {\n",
       "        vertical-align: top;\n",
       "    }\n",
       "\n",
       "    .dataframe thead th {\n",
       "        text-align: right;\n",
       "    }\n",
       "</style>\n",
       "<table border=\"1\" class=\"dataframe\">\n",
       "  <thead>\n",
       "    <tr style=\"text-align: right;\">\n",
       "      <th></th>\n",
       "      <th>0</th>\n",
       "      <th>exp</th>\n",
       "      <th>sample</th>\n",
       "    </tr>\n",
       "  </thead>\n",
       "  <tbody>\n",
       "    <tr>\n",
       "      <th>0</th>\n",
       "      <td>-62.527795</td>\n",
       "      <td>1</td>\n",
       "      <td>0</td>\n",
       "    </tr>\n",
       "    <tr>\n",
       "      <th>1</th>\n",
       "      <td>77.690835</td>\n",
       "      <td>1</td>\n",
       "      <td>0</td>\n",
       "    </tr>\n",
       "    <tr>\n",
       "      <th>2</th>\n",
       "      <td>15.163040</td>\n",
       "      <td>1</td>\n",
       "      <td>0</td>\n",
       "    </tr>\n",
       "    <tr>\n",
       "      <th>3</th>\n",
       "      <td>106.822245</td>\n",
       "      <td>1</td>\n",
       "      <td>0</td>\n",
       "    </tr>\n",
       "    <tr>\n",
       "      <th>4</th>\n",
       "      <td>143.193779</td>\n",
       "      <td>1</td>\n",
       "      <td>0</td>\n",
       "    </tr>\n",
       "    <tr>\n",
       "      <th>5</th>\n",
       "      <td>-70.669496</td>\n",
       "      <td>1</td>\n",
       "      <td>1</td>\n",
       "    </tr>\n",
       "    <tr>\n",
       "      <th>6</th>\n",
       "      <td>1.447346</td>\n",
       "      <td>1</td>\n",
       "      <td>1</td>\n",
       "    </tr>\n",
       "    <tr>\n",
       "      <th>7</th>\n",
       "      <td>-69.222150</td>\n",
       "      <td>1</td>\n",
       "      <td>1</td>\n",
       "    </tr>\n",
       "    <tr>\n",
       "      <th>8</th>\n",
       "      <td>1000.000000</td>\n",
       "      <td>1</td>\n",
       "      <td>1</td>\n",
       "    </tr>\n",
       "    <tr>\n",
       "      <th>9</th>\n",
       "      <td>0.000000</td>\n",
       "      <td>1</td>\n",
       "      <td>1</td>\n",
       "    </tr>\n",
       "    <tr>\n",
       "      <th>10</th>\n",
       "      <td>-67.220179</td>\n",
       "      <td>1</td>\n",
       "      <td>2</td>\n",
       "    </tr>\n",
       "    <tr>\n",
       "      <th>11</th>\n",
       "      <td>84.098097</td>\n",
       "      <td>1</td>\n",
       "      <td>2</td>\n",
       "    </tr>\n",
       "    <tr>\n",
       "      <th>12</th>\n",
       "      <td>16.877918</td>\n",
       "      <td>1</td>\n",
       "      <td>2</td>\n",
       "    </tr>\n",
       "    <tr>\n",
       "      <th>13</th>\n",
       "      <td>153.890883</td>\n",
       "      <td>1</td>\n",
       "      <td>2</td>\n",
       "    </tr>\n",
       "    <tr>\n",
       "      <th>14</th>\n",
       "      <td>188.447434</td>\n",
       "      <td>1</td>\n",
       "      <td>2</td>\n",
       "    </tr>\n",
       "    <tr>\n",
       "      <th>15</th>\n",
       "      <td>-69.670225</td>\n",
       "      <td>1</td>\n",
       "      <td>3</td>\n",
       "    </tr>\n",
       "    <tr>\n",
       "      <th>16</th>\n",
       "      <td>1.201212</td>\n",
       "      <td>1</td>\n",
       "      <td>3</td>\n",
       "    </tr>\n",
       "    <tr>\n",
       "      <th>17</th>\n",
       "      <td>-68.469013</td>\n",
       "      <td>1</td>\n",
       "      <td>3</td>\n",
       "    </tr>\n",
       "    <tr>\n",
       "      <th>18</th>\n",
       "      <td>116.470462</td>\n",
       "      <td>1</td>\n",
       "      <td>3</td>\n",
       "    </tr>\n",
       "    <tr>\n",
       "      <th>19</th>\n",
       "      <td>793.761891</td>\n",
       "      <td>1</td>\n",
       "      <td>3</td>\n",
       "    </tr>\n",
       "    <tr>\n",
       "      <th>20</th>\n",
       "      <td>-69.453924</td>\n",
       "      <td>1</td>\n",
       "      <td>4</td>\n",
       "    </tr>\n",
       "    <tr>\n",
       "      <th>21</th>\n",
       "      <td>3.022913</td>\n",
       "      <td>1</td>\n",
       "      <td>4</td>\n",
       "    </tr>\n",
       "    <tr>\n",
       "      <th>22</th>\n",
       "      <td>-66.431011</td>\n",
       "      <td>1</td>\n",
       "      <td>4</td>\n",
       "    </tr>\n",
       "    <tr>\n",
       "      <th>23</th>\n",
       "      <td>1000.000000</td>\n",
       "      <td>1</td>\n",
       "      <td>4</td>\n",
       "    </tr>\n",
       "    <tr>\n",
       "      <th>24</th>\n",
       "      <td>0.000000</td>\n",
       "      <td>1</td>\n",
       "      <td>4</td>\n",
       "    </tr>\n",
       "    <tr>\n",
       "      <th>25</th>\n",
       "      <td>-69.647638</td>\n",
       "      <td>1</td>\n",
       "      <td>6</td>\n",
       "    </tr>\n",
       "    <tr>\n",
       "      <th>26</th>\n",
       "      <td>0.023860</td>\n",
       "      <td>1</td>\n",
       "      <td>6</td>\n",
       "    </tr>\n",
       "    <tr>\n",
       "      <th>27</th>\n",
       "      <td>-69.623778</td>\n",
       "      <td>1</td>\n",
       "      <td>6</td>\n",
       "    </tr>\n",
       "    <tr>\n",
       "      <th>28</th>\n",
       "      <td>64.074698</td>\n",
       "      <td>1</td>\n",
       "      <td>6</td>\n",
       "    </tr>\n",
       "    <tr>\n",
       "      <th>29</th>\n",
       "      <td>80.011921</td>\n",
       "      <td>1</td>\n",
       "      <td>6</td>\n",
       "    </tr>\n",
       "    <tr>\n",
       "      <th>30</th>\n",
       "      <td>-68.764767</td>\n",
       "      <td>1</td>\n",
       "      <td>7</td>\n",
       "    </tr>\n",
       "    <tr>\n",
       "      <th>31</th>\n",
       "      <td>0.527182</td>\n",
       "      <td>1</td>\n",
       "      <td>7</td>\n",
       "    </tr>\n",
       "    <tr>\n",
       "      <th>32</th>\n",
       "      <td>-68.237586</td>\n",
       "      <td>1</td>\n",
       "      <td>7</td>\n",
       "    </tr>\n",
       "    <tr>\n",
       "      <th>33</th>\n",
       "      <td>62.149798</td>\n",
       "      <td>1</td>\n",
       "      <td>7</td>\n",
       "    </tr>\n",
       "    <tr>\n",
       "      <th>34</th>\n",
       "      <td>171.526488</td>\n",
       "      <td>1</td>\n",
       "      <td>7</td>\n",
       "    </tr>\n",
       "    <tr>\n",
       "      <th>35</th>\n",
       "      <td>-68.687089</td>\n",
       "      <td>1</td>\n",
       "      <td>8</td>\n",
       "    </tr>\n",
       "    <tr>\n",
       "      <th>36</th>\n",
       "      <td>2.410876</td>\n",
       "      <td>1</td>\n",
       "      <td>8</td>\n",
       "    </tr>\n",
       "    <tr>\n",
       "      <th>37</th>\n",
       "      <td>-66.276214</td>\n",
       "      <td>1</td>\n",
       "      <td>8</td>\n",
       "    </tr>\n",
       "    <tr>\n",
       "      <th>38</th>\n",
       "      <td>135.123290</td>\n",
       "      <td>1</td>\n",
       "      <td>8</td>\n",
       "    </tr>\n",
       "    <tr>\n",
       "      <th>39</th>\n",
       "      <td>745.220571</td>\n",
       "      <td>1</td>\n",
       "      <td>8</td>\n",
       "    </tr>\n",
       "    <tr>\n",
       "      <th>40</th>\n",
       "      <td>-67.392067</td>\n",
       "      <td>1</td>\n",
       "      <td>9</td>\n",
       "    </tr>\n",
       "    <tr>\n",
       "      <th>41</th>\n",
       "      <td>1.550630</td>\n",
       "      <td>1</td>\n",
       "      <td>9</td>\n",
       "    </tr>\n",
       "    <tr>\n",
       "      <th>42</th>\n",
       "      <td>-65.841437</td>\n",
       "      <td>1</td>\n",
       "      <td>9</td>\n",
       "    </tr>\n",
       "    <tr>\n",
       "      <th>43</th>\n",
       "      <td>151.287420</td>\n",
       "      <td>1</td>\n",
       "      <td>9</td>\n",
       "    </tr>\n",
       "    <tr>\n",
       "      <th>44</th>\n",
       "      <td>493.594690</td>\n",
       "      <td>1</td>\n",
       "      <td>9</td>\n",
       "    </tr>\n",
       "  </tbody>\n",
       "</table>\n",
       "</div>"
      ],
      "text/plain": [
       "              0  exp  sample\n",
       "0    -62.527795    1       0\n",
       "1     77.690835    1       0\n",
       "2     15.163040    1       0\n",
       "3    106.822245    1       0\n",
       "4    143.193779    1       0\n",
       "5    -70.669496    1       1\n",
       "6      1.447346    1       1\n",
       "7    -69.222150    1       1\n",
       "8   1000.000000    1       1\n",
       "9      0.000000    1       1\n",
       "10   -67.220179    1       2\n",
       "11    84.098097    1       2\n",
       "12    16.877918    1       2\n",
       "13   153.890883    1       2\n",
       "14   188.447434    1       2\n",
       "15   -69.670225    1       3\n",
       "16     1.201212    1       3\n",
       "17   -68.469013    1       3\n",
       "18   116.470462    1       3\n",
       "19   793.761891    1       3\n",
       "20   -69.453924    1       4\n",
       "21     3.022913    1       4\n",
       "22   -66.431011    1       4\n",
       "23  1000.000000    1       4\n",
       "24     0.000000    1       4\n",
       "25   -69.647638    1       6\n",
       "26     0.023860    1       6\n",
       "27   -69.623778    1       6\n",
       "28    64.074698    1       6\n",
       "29    80.011921    1       6\n",
       "30   -68.764767    1       7\n",
       "31     0.527182    1       7\n",
       "32   -68.237586    1       7\n",
       "33    62.149798    1       7\n",
       "34   171.526488    1       7\n",
       "35   -68.687089    1       8\n",
       "36     2.410876    1       8\n",
       "37   -66.276214    1       8\n",
       "38   135.123290    1       8\n",
       "39   745.220571    1       8\n",
       "40   -67.392067    1       9\n",
       "41     1.550630    1       9\n",
       "42   -65.841437    1       9\n",
       "43   151.287420    1       9\n",
       "44   493.594690    1       9"
      ]
     },
     "execution_count": 11,
     "metadata": {},
     "output_type": "execute_result"
    }
   ],
   "source": [
    "np.mean(output_samples.iloc[range(4,len(output_samples),5)]['0'])\n",
    "output_samples"
   ]
  },
  {
   "cell_type": "code",
   "execution_count": 10,
   "metadata": {
    "collapsed": true
   },
   "outputs": [
    {
     "ename": "ValueError",
     "evalue": "Could not interpret input 'environment.time'",
     "output_type": "error",
     "traceback": [
      "\u001b[0;31m---------------------------------------------------------------------------\u001b[0m",
      "\u001b[0;31mValueError\u001b[0m                                Traceback (most recent call last)",
      "\u001b[0;32m<ipython-input-10-8e2ba978a203>\u001b[0m in \u001b[0;36m<module>\u001b[0;34m()\u001b[0m\n\u001b[1;32m      9\u001b[0m                     \u001b[0mestimator\u001b[0m\u001b[0;34m=\u001b[0m\u001b[0mnp\u001b[0m\u001b[0;34m.\u001b[0m\u001b[0mmean\u001b[0m\u001b[0;34m,\u001b[0m\u001b[0;34m\u001b[0m\u001b[0m\n\u001b[1;32m     10\u001b[0m                     \u001b[0merr_style\u001b[0m\u001b[0;34m=\u001b[0m\u001b[0;34m\"band\"\u001b[0m\u001b[0;34m,\u001b[0m \u001b[0mci\u001b[0m\u001b[0;34m=\u001b[0m\u001b[0;34m\"sd\"\u001b[0m\u001b[0;34m,\u001b[0m\u001b[0;34m\u001b[0m\u001b[0m\n\u001b[0;32m---> 11\u001b[0;31m                     color=\"black\")\n\u001b[0m\u001b[1;32m     12\u001b[0m \u001b[0mgrid\u001b[0m\u001b[0;34m.\u001b[0m\u001b[0mset_xlabel\u001b[0m\u001b[0;34m(\u001b[0m\u001b[0;34m'time, ms'\u001b[0m\u001b[0;34m)\u001b[0m\u001b[0;34m\u001b[0m\u001b[0m\n\u001b[1;32m     13\u001b[0m \u001b[0mgrid\u001b[0m\u001b[0;34m.\u001b[0m\u001b[0mset_ylabel\u001b[0m\u001b[0;34m(\u001b[0m\u001b[0;34m'variable, AU'\u001b[0m\u001b[0;34m)\u001b[0m\u001b[0;34m\u001b[0m\u001b[0m\n",
      "\u001b[0;32m/storage/hhecm/cellrotor/chouston/miniconda3/envs/pyabc/lib/python3.6/site-packages/seaborn/relational.py\u001b[0m in \u001b[0;36mlineplot\u001b[0;34m(x, y, hue, size, style, data, palette, hue_order, hue_norm, sizes, size_order, size_norm, dashes, markers, style_order, units, estimator, ci, n_boot, sort, err_style, err_kws, legend, ax, **kwargs)\u001b[0m\n\u001b[1;32m   1076\u001b[0m         \u001b[0mdashes\u001b[0m\u001b[0;34m=\u001b[0m\u001b[0mdashes\u001b[0m\u001b[0;34m,\u001b[0m \u001b[0mmarkers\u001b[0m\u001b[0;34m=\u001b[0m\u001b[0mmarkers\u001b[0m\u001b[0;34m,\u001b[0m \u001b[0mstyle_order\u001b[0m\u001b[0;34m=\u001b[0m\u001b[0mstyle_order\u001b[0m\u001b[0;34m,\u001b[0m\u001b[0;34m\u001b[0m\u001b[0m\n\u001b[1;32m   1077\u001b[0m         \u001b[0munits\u001b[0m\u001b[0;34m=\u001b[0m\u001b[0munits\u001b[0m\u001b[0;34m,\u001b[0m \u001b[0mestimator\u001b[0m\u001b[0;34m=\u001b[0m\u001b[0mestimator\u001b[0m\u001b[0;34m,\u001b[0m \u001b[0mci\u001b[0m\u001b[0;34m=\u001b[0m\u001b[0mci\u001b[0m\u001b[0;34m,\u001b[0m \u001b[0mn_boot\u001b[0m\u001b[0;34m=\u001b[0m\u001b[0mn_boot\u001b[0m\u001b[0;34m,\u001b[0m\u001b[0;34m\u001b[0m\u001b[0m\n\u001b[0;32m-> 1078\u001b[0;31m         \u001b[0msort\u001b[0m\u001b[0;34m=\u001b[0m\u001b[0msort\u001b[0m\u001b[0;34m,\u001b[0m \u001b[0merr_style\u001b[0m\u001b[0;34m=\u001b[0m\u001b[0merr_style\u001b[0m\u001b[0;34m,\u001b[0m \u001b[0merr_kws\u001b[0m\u001b[0;34m=\u001b[0m\u001b[0merr_kws\u001b[0m\u001b[0;34m,\u001b[0m \u001b[0mlegend\u001b[0m\u001b[0;34m=\u001b[0m\u001b[0mlegend\u001b[0m\u001b[0;34m,\u001b[0m\u001b[0;34m\u001b[0m\u001b[0m\n\u001b[0m\u001b[1;32m   1079\u001b[0m     )\n\u001b[1;32m   1080\u001b[0m \u001b[0;34m\u001b[0m\u001b[0m\n",
      "\u001b[0;32m/storage/hhecm/cellrotor/chouston/miniconda3/envs/pyabc/lib/python3.6/site-packages/seaborn/relational.py\u001b[0m in \u001b[0;36m__init__\u001b[0;34m(self, x, y, hue, size, style, data, palette, hue_order, hue_norm, sizes, size_order, size_norm, dashes, markers, style_order, units, estimator, ci, n_boot, sort, err_style, err_kws, legend)\u001b[0m\n\u001b[1;32m    661\u001b[0m \u001b[0;34m\u001b[0m\u001b[0m\n\u001b[1;32m    662\u001b[0m         plot_data = self.establish_variables(\n\u001b[0;32m--> 663\u001b[0;31m             \u001b[0mx\u001b[0m\u001b[0;34m,\u001b[0m \u001b[0my\u001b[0m\u001b[0;34m,\u001b[0m \u001b[0mhue\u001b[0m\u001b[0;34m,\u001b[0m \u001b[0msize\u001b[0m\u001b[0;34m,\u001b[0m \u001b[0mstyle\u001b[0m\u001b[0;34m,\u001b[0m \u001b[0munits\u001b[0m\u001b[0;34m,\u001b[0m \u001b[0mdata\u001b[0m\u001b[0;34m\u001b[0m\u001b[0m\n\u001b[0m\u001b[1;32m    664\u001b[0m         )\n\u001b[1;32m    665\u001b[0m \u001b[0;34m\u001b[0m\u001b[0m\n",
      "\u001b[0;32m/storage/hhecm/cellrotor/chouston/miniconda3/envs/pyabc/lib/python3.6/site-packages/seaborn/relational.py\u001b[0m in \u001b[0;36mestablish_variables\u001b[0;34m(self, x, y, hue, size, style, units, data)\u001b[0m\n\u001b[1;32m    140\u001b[0m                 \u001b[0;32mif\u001b[0m \u001b[0misinstance\u001b[0m\u001b[0;34m(\u001b[0m\u001b[0mvar\u001b[0m\u001b[0;34m,\u001b[0m \u001b[0mstring_types\u001b[0m\u001b[0;34m)\u001b[0m\u001b[0;34m:\u001b[0m\u001b[0;34m\u001b[0m\u001b[0m\n\u001b[1;32m    141\u001b[0m                     \u001b[0merr\u001b[0m \u001b[0;34m=\u001b[0m \u001b[0;34m\"Could not interpret input '{}'\"\u001b[0m\u001b[0;34m.\u001b[0m\u001b[0mformat\u001b[0m\u001b[0;34m(\u001b[0m\u001b[0mvar\u001b[0m\u001b[0;34m)\u001b[0m\u001b[0;34m\u001b[0m\u001b[0m\n\u001b[0;32m--> 142\u001b[0;31m                     \u001b[0;32mraise\u001b[0m \u001b[0mValueError\u001b[0m\u001b[0;34m(\u001b[0m\u001b[0merr\u001b[0m\u001b[0;34m)\u001b[0m\u001b[0;34m\u001b[0m\u001b[0m\n\u001b[0m\u001b[1;32m    143\u001b[0m \u001b[0;34m\u001b[0m\u001b[0m\n\u001b[1;32m    144\u001b[0m             \u001b[0;31m# Extract variable names\u001b[0m\u001b[0;34m\u001b[0m\u001b[0;34m\u001b[0m\u001b[0m\n",
      "\u001b[0;31mValueError\u001b[0m: Could not interpret input 'environment.time'"
     ]
    }
   ],
   "source": [
    "sns.set_context('paper')\n",
    "sns.set_style('white')\n",
    "\n",
    "y_var = 'membrane.V'\n",
    "\n",
    "grid = sns.lineplot(data=output_samples,\n",
    "                    x=\"environment.time\", y=y_var,\n",
    "                    #units=\"sample\", \n",
    "                    estimator=np.mean, \n",
    "                    err_style=\"band\", ci=\"sd\",\n",
    "                    color=\"black\")\n",
    "grid.set_xlabel('time, ms')\n",
    "grid.set_ylabel('variable, AU')\n",
    "for l in grid.axes.lines:\n",
    "    l.set_linestyle('--')\n",
    "plt.tight_layout()\n",
    "#plt.savefig('pulse_train_Ca.pdf', format='pdf', dpi=1000)\n",
    "\n",
    "final_time = max(output_samples['environment.time'])\n",
    "\n",
    "print('Variable: ' + y_var)\n",
    "men = np.mean(output_samples[output_samples['environment.time']==final_time][y_var])\n",
    "print('Mean: ' + str(men))\n",
    "sd = np.std(output_samples[output_samples['environment.time']==final_time][y_var])\n",
    "print('Standard Deviation: ' + str(sd))\n",
    "med = np.median(output_samples[output_samples['environment.time']==final_time][y_var])\n",
    "print('Median: ' + str(med))\n",
    "perc = np.percentile(output_samples[output_samples['environment.time']==final_time][y_var], [75,25])\n",
    "print('Interquartile range: ' + str(perc[0]-perc[1]))"
   ]
  },
  {
   "cell_type": "code",
   "execution_count": 7,
   "metadata": {},
   "outputs": [],
   "source": [
    "# Manual settings\n",
    "for sample in param_samples:\n",
    "    sample['ik1.g_K1'] = 0.024 #0.024 produced appropriate levels for Ca_i and Na_i\n",
    "    sample['incx.k_NCX'] = 5e-16#2.268e-16\n",
    "    sample['icab.g_Cab'] = 0.0001#0.0008\n",
    "    sample['inab.g_Nab'] = 0.005\n",
    "    sample['inak.i_NaK_max'] = 4"
   ]
  }
 ],
 "metadata": {
  "kernelspec": {
   "display_name": "Python 3",
   "language": "python",
   "name": "python3"
  },
  "language_info": {
   "codemirror_mode": {
    "name": "ipython",
    "version": 3
   },
   "file_extension": ".py",
   "mimetype": "text/x-python",
   "name": "python",
   "nbconvert_exporter": "python",
   "pygments_lexer": "ipython3",
   "version": "3.6.5"
  }
 },
 "nbformat": 4,
 "nbformat_minor": 2
}
