{
 "cells": [
  {
   "cell_type": "markdown",
   "metadata": {},
   "source": [
    "# Imports"
   ]
  },
  {
   "cell_type": "code",
   "execution_count": 1,
   "metadata": {},
   "outputs": [],
   "source": [
    "from pyabc import (ABCSMC, Distribution, RV,\n",
    "                   History, Model,\n",
    "                   ModelResult, MedianEpsilon)\n",
    "#from pyabc.populationstrategy import AdaptivePopulationSize\n",
    "#from pyabc.distance_functions import PNormDistance, WeightedPNormDistance\n",
    "from pyabc.transition import MultivariateNormalTransition\n",
    "from pyabc.visualization import plot_kde_matrix\n",
    "import seaborn as sns\n",
    "import matplotlib.pyplot as plt\n",
    "%matplotlib inline\n",
    "%config Inline.Backend.figure_format = 'retina'\n",
    "import os\n",
    "import tempfile\n",
    "import math\n",
    "import pandas as pd\n",
    "import scipy as sp\n",
    "import numpy as np\n",
    "import subprocess\n",
    "from io import BytesIO\n",
    "\n",
    "from pyabc_custom import MyokitSimulation\n",
    "from prangle_distance import PrangleDistance, PrangleEpsilon, PranglePopulationSize"
   ]
  },
  {
   "cell_type": "code",
   "execution_count": 2,
   "metadata": {},
   "outputs": [],
   "source": [
    "import logging\n",
    "logging.basicConfig()\n",
    "logging.getLogger().setLevel(logging.DEBUG)"
   ]
  },
  {
   "cell_type": "markdown",
   "metadata": {},
   "source": [
    "# Get experimental measurements"
   ]
  },
  {
   "cell_type": "code",
   "execution_count": 3,
   "metadata": {},
   "outputs": [],
   "source": [
    "myokit_python = (\"/Users/charles/miniconda3/envs\" +\n",
    "                 \"/ion_channel_ABC/bin/python\")\n",
    "args = [myokit_python, \"get_measurements.py\"]\n",
    "args.append('icat')\n",
    "re = subprocess.run(args, stdout=subprocess.PIPE)\n",
    "measurements = pd.read_table(BytesIO(re.stdout),\n",
    "                             delim_whitespace=True,\n",
    "                             header=0, index_col=False)\n",
    "obs = measurements.to_dict()['y']"
   ]
  },
  {
   "cell_type": "markdown",
   "metadata": {},
   "source": [
    "# Set limits and generate uniform initial priors"
   ]
  },
  {
   "cell_type": "code",
   "execution_count": 4,
   "metadata": {},
   "outputs": [],
   "source": [
    "limits = dict(g_CaT=(0, 2),\n",
    "              E_CaT=(0, 50),\n",
    "              p1=(0, 100),\n",
    "              p2=(0, 10),\n",
    "              p3=(0, 2), # increased from (0, 1) to (0, 2) after initial run\n",
    "              p4=(0, 10),\n",
    "              p5=(0, 0.1),\n",
    "              p6=(0, 200),\n",
    "              q1=(0, 100),\n",
    "              q2=(0, 10),\n",
    "              q3=(0, 10),\n",
    "              q4=(0, 100),\n",
    "              q5=(0, 0.1),\n",
    "              q6=(0, 100))\n",
    "prior = Distribution(**{key: RV(\"uniform\", a, b - a)\n",
    "                        for key, (a,b) in limits.items()})"
   ]
  },
  {
   "cell_type": "code",
   "execution_count": 5,
   "metadata": {},
   "outputs": [
    {
     "data": {
      "text/plain": [
       "<Parameter 'g_CaT': 0.04385971271632805, 'E_CaT': 49.1078801590994, 'p1': 43.54016582015644, 'p2': 7.656941567851447, 'p3': 0.7864805630327838, 'p4': 3.373327422437603, 'p5': 0.08794036782079726, 'p6': 7.651024702785469, 'q1': 54.715796335540205, 'q2': 2.9973046396201664, 'q3': 4.63096068245509, 'q4': 55.65336865858592, 'q5': 0.037427917675135494, 'q6': 68.94704945362261>"
      ]
     },
     "execution_count": 5,
     "metadata": {},
     "output_type": "execute_result"
    }
   ],
   "source": [
    "prior.rvs()"
   ]
  },
  {
   "cell_type": "markdown",
   "metadata": {},
   "source": [
    "# Define distance function and simulation model"
   ]
  },
  {
   "cell_type": "code",
   "execution_count": 6,
   "metadata": {},
   "outputs": [],
   "source": [
    "distance = PrangleDistance(alpha=0.5)"
   ]
  },
  {
   "cell_type": "code",
   "execution_count": 7,
   "metadata": {},
   "outputs": [],
   "source": [
    "population = PranglePopulationSize(500, 0.5, mean_cv=0.5, \n",
    "                 min_population_size=10,\n",
    "                 max_population_size=100)"
   ]
  },
  {
   "cell_type": "code",
   "execution_count": 8,
   "metadata": {},
   "outputs": [],
   "source": [
    "myokit_model = MyokitSimulation('icat')"
   ]
  },
  {
   "cell_type": "code",
   "execution_count": 9,
   "metadata": {},
   "outputs": [],
   "source": [
    "def identity(x):\n",
    "    return x\n",
    "result = myokit_model.accept(prior.rvs(),\n",
    "                             identity,\n",
    "                             lambda x: distance(x, obs),\n",
    "                             {0: float('inf')})"
   ]
  },
  {
   "cell_type": "code",
   "execution_count": 10,
   "metadata": {},
   "outputs": [
    {
     "data": {
      "text/plain": [
       "39.41224874393543"
      ]
     },
     "execution_count": 10,
     "metadata": {},
     "output_type": "execute_result"
    }
   ],
   "source": [
    "result.distance"
   ]
  },
  {
   "cell_type": "markdown",
   "metadata": {},
   "source": [
    "# Define ABC parameters and initialize database"
   ]
  },
  {
   "cell_type": "code",
   "execution_count": 11,
   "metadata": {},
   "outputs": [],
   "source": [
    "db_path = (\"sqlite:///\" +\n",
    "           os.path.join(tempfile.gettempdir(), \"icat_hl-1.db\"))"
   ]
  },
  {
   "cell_type": "code",
   "execution_count": 12,
   "metadata": {},
   "outputs": [
    {
     "name": "stderr",
     "output_type": "stream",
     "text": [
      "DEBUG:Epsilon:init prangle_epsilon initial_epsilon=inf, alpha=0.5\n"
     ]
    }
   ],
   "source": [
    "abc = ABCSMC(models=myokit_model,\n",
    "             parameter_priors=prior,\n",
    "             distance_function=distance,\n",
    "             population_size=population,\n",
    "             eps=PrangleEpsilon())"
   ]
  },
  {
   "cell_type": "code",
   "execution_count": 13,
   "metadata": {
    "scrolled": true
   },
   "outputs": [
    {
     "name": "stderr",
     "output_type": "stream",
     "text": [
      "DEBUG:History:Database access through \"_pre_calculate_id\"\n",
      "INFO:Epsilon:initial epsilon is inf\n",
      "DEBUG:History:Database access through \"store_initial_data\"\n",
      "DEBUG:git.cmd:Popen(['git', 'version'], cwd=/Users/charles/projects/ion-channel-ABC, universal_newlines=False, shell=None)\n",
      "DEBUG:git.cmd:Popen(['git', 'version'], cwd=/Users/charles/projects/ion-channel-ABC, universal_newlines=False, shell=None)\n",
      "DEBUG:git.cmd:Popen(['git', 'cat-file', '--batch-check'], cwd=/Users/charles/projects/ion-channel-ABC, universal_newlines=False, shell=None)\n",
      "INFO:History:Start <ABCSMC(id=36, start_time=2018-05-23 11:51:14.788959, end_time=None)>\n"
     ]
    }
   ],
   "source": [
    "abc_id = abc.new(db_path, obs)"
   ]
  },
  {
   "cell_type": "code",
   "execution_count": null,
   "metadata": {
    "scrolled": false
   },
   "outputs": [
    {
     "name": "stderr",
     "output_type": "stream",
     "text": [
      "DEBUG:History:Database access through \"max_t\"\n",
      "INFO:ABC:t:0 M eps:[inf]\n",
      "DEBUG:History:Database access through \"max_t\"\n",
      "DEBUG:History:Database access through \"get_model_probabilities\"\n",
      "DEBUG:ABC:now submitting population 0\n",
      "DEBUG:ABC:M population size: 1000\n"
     ]
    },
    {
     "name": "stdout",
     "output_type": "stream",
     "text": [
      "> /Users/charles/miniconda3/envs/pyabc/lib/python3.6/site-packages/pyabc-0.8.21-py3.6.egg/pyabc/smc.py(615)run()\n",
      "-> sample = self.sampler.sample_until_n_accepted(\n"
     ]
    }
   ],
   "source": [
    "history = abc.run(minimum_epsilon=0, max_nr_populations=10)"
   ]
  },
  {
   "cell_type": "markdown",
   "metadata": {},
   "source": [
    "Initial run with reduced population to identify unconstrainable parameters."
   ]
  },
  {
   "cell_type": "code",
   "execution_count": null,
   "metadata": {},
   "outputs": [],
   "source": [
    "abc = ABCSMC(models=MyokitSimulation(),\n",
    "             parameter_priors=prior,\n",
    "             distance_function=distance,\n",
    "             population_size=500,\n",
    "             eps=MedianEpsilon(100, median_multiplier=1.0))\n",
    "abc_id = abc.new(db_path, obs)"
   ]
  },
  {
   "cell_type": "code",
   "execution_count": null,
   "metadata": {},
   "outputs": [],
   "source": [
    "history_init = abc.run(max_nr_populations=10, minimum_epsilon=0.01)"
   ]
  },
  {
   "cell_type": "code",
   "execution_count": null,
   "metadata": {},
   "outputs": [],
   "source": [
    "from visualization_custom import plot_sim_results\n",
    "plot_sim_results(history_init, \"icat\", n_samples=100, obs=measurements)"
   ]
  },
  {
   "cell_type": "code",
   "execution_count": null,
   "metadata": {},
   "outputs": [],
   "source": [
    "df, w = history_init.get_distribution(m=0)\n",
    "plot_kde_matrix(df, w, limits=limits)"
   ]
  },
  {
   "cell_type": "code",
   "execution_count": null,
   "metadata": {
    "scrolled": true
   },
   "outputs": [],
   "source": [
    "history_init = abc.run(max_nr_populations=20, minimum_epsilon=0.01)"
   ]
  },
  {
   "cell_type": "code",
   "execution_count": null,
   "metadata": {},
   "outputs": [],
   "source": [
    "from visualization_custom import plot_sim_results\n",
    "plot_sim_results(history_init, \"icat\", n_samples=100, obs=measurements)"
   ]
  },
  {
   "cell_type": "code",
   "execution_count": null,
   "metadata": {},
   "outputs": [],
   "source": [
    "df, w = history_init.get_distribution(m=0)\n",
    "plot_kde_matrix(df, w, limits=limits)"
   ]
  },
  {
   "cell_type": "markdown",
   "metadata": {},
   "source": [
    "Reduce parameters varied and run with adaptive population size."
   ]
  },
  {
   "cell_type": "code",
   "execution_count": null,
   "metadata": {},
   "outputs": [],
   "source": [
    "abc = ABCSMC(models=MyokitSimulation(),\n",
    "             parameter_priors=prior,\n",
    "             distance_function=distance,\n",
    "             population_size=AdaptivePopulationSize(\n",
    "                 5000, 0.5, \n",
    "                 min_population_size=500,\n",
    "                 max_population_size=10000),\n",
    "            eps=MedianEpsilon(100, median_multiplier=1.0))\n",
    "abc_id = abc.new(db_path, obs)"
   ]
  },
  {
   "cell_type": "code",
   "execution_count": null,
   "metadata": {},
   "outputs": [],
   "source": [
    "history = abc.run(max_nr_populations=20, minimum_epsilon=0.5)"
   ]
  },
  {
   "cell_type": "code",
   "execution_count": null,
   "metadata": {},
   "outputs": [],
   "source": []
  }
 ],
 "metadata": {
  "kernelspec": {
   "display_name": "Python 3",
   "language": "python",
   "name": "python3"
  },
  "language_info": {
   "codemirror_mode": {
    "name": "ipython",
    "version": 3
   },
   "file_extension": ".py",
   "mimetype": "text/x-python",
   "name": "python",
   "nbconvert_exporter": "python",
   "pygments_lexer": "ipython3",
   "version": "3.6.5"
  }
 },
 "nbformat": 4,
 "nbformat_minor": 2
}
