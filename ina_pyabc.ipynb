{
 "cells": [
  {
   "cell_type": "code",
   "execution_count": 8,
   "metadata": {},
   "outputs": [],
   "source": [
    "from pyabc import (ABCSMC, Distribution, RV,\n",
    "                   MultivariateNormalTransition)\n",
    "from pyabc.populationstrategy import AdaptivePopulationSize\n",
    "import matplotlib.pyplot as plt\n",
    "%matplotlib inline\n",
    "import os\n",
    "import tempfile\n",
    "import pandas as pd\n",
    "import scipy as sp\n",
    "import numpy as np\n",
    "import subprocess\n",
    "from io import BytesIO\n",
    "db_path = (\"sqlite:///\" +\n",
    "           os.path.join(tempfile.gettempdir(), \"test.db\"))"
   ]
  },
  {
   "cell_type": "code",
   "execution_count": 9,
   "metadata": {},
   "outputs": [],
   "source": [
    "def simulate(**pars):\n",
    "    \"\"\"Wrapper to simulate the myokit model.\n",
    "    \n",
    "    Simulates in a subprocess running python2 by passing\n",
    "    parameters as arguments to (another) wrapper script.\n",
    "    \n",
    "    Args:\n",
    "        pars: Parameters as kwargs.\n",
    "        \n",
    "    Returns:\n",
    "        Dataframe with simulated output or empty if\n",
    "        the simulation failed.\n",
    "    \"\"\"\n",
    "    myokit_python = (\"/Users/charles/miniconda3/envs\" +\n",
    "                     \"/ion_channel_ABC/bin/python\")\n",
    "    script = \"run_channel.py\"\n",
    "    args = [myokit_python, script]\n",
    "    for p in pars:\n",
    "        try:\n",
    "            args.append(\"-\" + str(p))\n",
    "            args.append(str(pars[p]))\n",
    "        except:\n",
    "            print(\"Error: \" +\n",
    "                  \"args is \" + str(args))\n",
    "    re = subprocess.run(args, stdout=subprocess.PIPE)\n",
    "    if len(re.stdout) > 0:\n",
    "        d = pd.read_table(BytesIO(re.stdout),\n",
    "                          delim_whitespace=True,\n",
    "                          header=0, index_col=0)\n",
    "    else:\n",
    "        d = pd.DataFrame({})\n",
    "    return d"
   ]
  },
  {
   "cell_type": "code",
   "execution_count": 10,
   "metadata": {},
   "outputs": [],
   "source": [
    "myokit_python = (\"/Users/charles/miniconda3/envs\" +\n",
    "                 \"/ion_channel_ABC/bin/python\")\n",
    "args = [myokit_python, \"get_measurements.py\"]\n",
    "re = subprocess.run(args, stdout=subprocess.PIPE)\n",
    "measurements = pd.read_table(BytesIO(re.stdout),\n",
    "                             delim_whitespace=True,\n",
    "                             header=0, index_col=0)"
   ]
  },
  {
   "cell_type": "code",
   "execution_count": 11,
   "metadata": {},
   "outputs": [],
   "source": [
    "prior = Distribution(\n",
    "    g_Na=RV(\"uniform\", 0, 100),\n",
    "    E_Na=RV(\"uniform\", 0, 100),\n",
    "    p1=RV(\"uniform\", 0, 100),\n",
    "    p2=RV(\"uniform\", -10, 10),\n",
    "    p3=RV(\"uniform\", 0, 1),\n",
    "    p4=RV(\"uniform\", 0, 100),\n",
    "    p5=RV(\"uniform\", -1, 1),\n",
    "    p6=RV(\"uniform\", 0, 1),\n",
    "    p7=RV(\"uniform\", 0, 100),\n",
    "    q1=RV(\"uniform\", 0, 100),\n",
    "    q2=RV(\"uniform\", 0, 10))"
   ]
  },
  {
   "cell_type": "code",
   "execution_count": 12,
   "metadata": {},
   "outputs": [],
   "source": [
    "def distance(sim, obs):\n",
    "    if sim.empty:\n",
    "        return float(\"inf\")\n",
    "    dist = 0\n",
    "    for i in obs.exp.unique():\n",
    "        try:\n",
    "            err = np.sum(np.square(obs[obs.exp == i].y - sim[sim.exp == i].y))\n",
    "        except:\n",
    "            return float(\"inf\")\n",
    "        err = pow(err / len(obs[obs.exp == i].y), 0.5)\n",
    "        err /= np.ptp(obs[obs.exp == i].y)\n",
    "        dist += err\n",
    "    return dist"
   ]
  },
  {
   "cell_type": "code",
   "execution_count": 13,
   "metadata": {},
   "outputs": [],
   "source": [
    "def simulate_pyabc(parameter):\n",
    "    res = simulate(**parameter)\n",
    "    return res"
   ]
  },
  {
   "cell_type": "code",
   "execution_count": 16,
   "metadata": {},
   "outputs": [
    {
     "name": "stderr",
     "output_type": "stream",
     "text": [
      "INFO:Epsilon:initial epsilon is 19.708409871296546\n",
      "INFO:History:Start <ABCSMC(id=16, start_time=2018-04-20 15:10:16.074299, end_time=None)>\n"
     ]
    }
   ],
   "source": [
    "abc = ABCSMC(simulate_pyabc, prior, distance,\n",
    "             population_size=AdaptivePopulationSize(20, 0.8))\n",
    "abc_id = abc.new(db_path, measurements)"
   ]
  },
  {
   "cell_type": "code",
   "execution_count": null,
   "metadata": {},
   "outputs": [
    {
     "name": "stderr",
     "output_type": "stream",
     "text": [
      "INFO:ABC:t:0 eps:19.708409871296546\n",
      "INFO:ABC:t:1 eps:10.826497065089352\n",
      "INFO:Adaptation:Change nr particles 20 -> 549\n"
     ]
    }
   ],
   "source": [
    "history = abc.run(max_nr_populations=10, minimum_epsilon=0.8)"
   ]
  },
  {
   "cell_type": "code",
   "execution_count": null,
   "metadata": {},
   "outputs": [],
   "source": []
  }
 ],
 "metadata": {
  "kernelspec": {
   "display_name": "Python 3",
   "language": "python",
   "name": "python3"
  },
  "language_info": {
   "codemirror_mode": {
    "name": "ipython",
    "version": 3
   },
   "file_extension": ".py",
   "mimetype": "text/x-python",
   "name": "python",
   "nbconvert_exporter": "python",
   "pygments_lexer": "ipython3",
   "version": "3.6.5"
  }
 },
 "nbformat": 4,
 "nbformat_minor": 2
}
