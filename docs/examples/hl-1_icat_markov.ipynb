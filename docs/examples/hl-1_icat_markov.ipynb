{
 "cells": [
  {
   "cell_type": "markdown",
   "metadata": {},
   "source": [
    "## Create and test ion channel model"
   ]
  },
  {
   "cell_type": "code",
   "execution_count": 67,
   "metadata": {},
   "outputs": [],
   "source": [
    "from channels.icat_markov import (protocols,\n",
    "                                  observations,\n",
    "                                  simulations,\n",
    "                                  times,\n",
    "                                  summary_statistics)"
   ]
  },
  {
   "cell_type": "code",
   "execution_count": 68,
   "metadata": {},
   "outputs": [],
   "source": [
    "from functools import wraps\n",
    "\n",
    "def simulate_model(**pars):\n",
    "    \"\"\"Wrapper function around simulations.\"\"\"\n",
    "    data = []\n",
    "    for sim, time in zip(simulations, times):\n",
    "        for p, v in pars.items():\n",
    "            try:\n",
    "                sim.set_constant(p, v)\n",
    "            except:\n",
    "                raise RuntimeWarning('Could not set value of {}'.format(p))\n",
    "                return None\n",
    "        sim.reset()\n",
    "        try:\n",
    "            data.append(sim.run(time, log=['environment.time','icat.i_CaT','icat.g','icat.a','icat.r']))\n",
    "        except:\n",
    "            # Failed simulation\n",
    "            del(data)\n",
    "            return None\n",
    "    return data\n",
    "\n",
    "\n",
    "def log_transform(f):\n",
    "    @wraps(f)\n",
    "    def log_transformed(**log_kwargs):\n",
    "        kwargs = dict([(key[4:], 10**value) if key.startswith(\"log\")\n",
    "                       else (key, value)\n",
    "                       for key, value in log_kwargs.items()])\n",
    "        return f(**kwargs)\n",
    "    return log_transformed\n",
    "\n",
    "def log_model(x):\n",
    "    return log_transform(simulate_model)(**x)"
   ]
  },
  {
   "cell_type": "code",
   "execution_count": 69,
   "metadata": {},
   "outputs": [],
   "source": [
    "test = simulate_model()"
   ]
  },
  {
   "cell_type": "code",
   "execution_count": 70,
   "metadata": {},
   "outputs": [],
   "source": [
    "ss = summary_statistics(test)"
   ]
  },
  {
   "cell_type": "code",
   "execution_count": 71,
   "metadata": {},
   "outputs": [],
   "source": [
    "assert(len(ss)==len(observations))"
   ]
  },
  {
   "cell_type": "markdown",
   "metadata": {},
   "source": [
    "## Set limits and generate uniform initial priors"
   ]
  },
  {
   "cell_type": "code",
   "execution_count": 79,
   "metadata": {},
   "outputs": [],
   "source": [
    "from pyabc import Distribution, RV\n",
    "limits = {'icat.g_CaT': (0., 2.),\n",
    "          'icat.E_Ca_offset': (0., 200.), # accounts for reversal potential difference from Nernst \n",
    "          'log_icat.p_1': (-50., 50.),\n",
    "          'icat.p_2': (0., 1.),\n",
    "          'log_icat.p_3': (-50., 50.),\n",
    "          'icat.p_4': (0., 2.), # increased as clustering at boundary\n",
    "          'log_icat.p_5': (-50., 50.),\n",
    "          'icat.p_6': (0., 1.),\n",
    "          'log_icat.p_7': (-50., 50.),\n",
    "          'icat.p_8': (0., 1.)}\n",
    "prior = Distribution(**{key: RV(\"uniform\", a, b - a)\n",
    "                        for key, (a,b) in limits.items()})"
   ]
  },
  {
   "cell_type": "code",
   "execution_count": 80,
   "metadata": {},
   "outputs": [],
   "source": [
    "test = log_model(prior.rvs())"
   ]
  },
  {
   "cell_type": "markdown",
   "metadata": {},
   "source": [
    "## Run ABC calibration"
   ]
  },
  {
   "cell_type": "code",
   "execution_count": 81,
   "metadata": {},
   "outputs": [
    {
     "name": "stdout",
     "output_type": "stream",
     "text": [
      "sqlite:////scratch/cph211/tmp/hl-1_icat_markov.db\n"
     ]
    }
   ],
   "source": [
    "import os, tempfile\n",
    "db_path = (\"sqlite:///\" +\n",
    "           os.path.join(tempfile.gettempdir(), \"hl-1_icat_markov.db\"))\n",
    "print(db_path)"
   ]
  },
  {
   "cell_type": "code",
   "execution_count": 82,
   "metadata": {},
   "outputs": [],
   "source": [
    "# Let's log all the sh!t\n",
    "import logging\n",
    "logging.basicConfig()\n",
    "abc_logger = logging.getLogger('ABC')\n",
    "abc_logger.setLevel(logging.DEBUG)\n",
    "eps_logger = logging.getLogger('Epsilon')\n",
    "eps_logger.setLevel(logging.DEBUG)\n",
    "cv_logger = logging.getLogger('CV Estimation')\n",
    "cv_logger.setLevel(logging.DEBUG)"
   ]
  },
  {
   "cell_type": "code",
   "execution_count": 83,
   "metadata": {},
   "outputs": [
    {
     "name": "stdout",
     "output_type": "stream",
     "text": [
      "Theoretical minimum population size is 1024 particles\n"
     ]
    }
   ],
   "source": [
    "from pyabc.populationstrategy import AdaptivePopulationSize, ConstantPopulationSize\n",
    "from ionchannelABC import theoretical_population_size\n",
    "pop_size = theoretical_population_size(2, len(limits))\n",
    "print(\"Theoretical minimum population size is {} particles\".format(pop_size))"
   ]
  },
  {
   "cell_type": "code",
   "execution_count": 84,
   "metadata": {},
   "outputs": [
    {
     "name": "stderr",
     "output_type": "stream",
     "text": [
      "DEBUG:ABC:ion channel weights: {'0': 2.042662507755895, '1': 2.042662507755895, '2': 1.3175173175025499, '3': 1.5057340771457712, '4': 0.8107798876938791, '5': 0.34000446903291687, '6': 0.19518775074111877, '7': 0.16468966468781915, '8': 0.16468966468781915, '9': 0.16468966468781915, '10': 0.16215597753877592, '11': 0.17000223451645843, '12': 0.1882167596432214, '13': 0.1756689756670071, '14': 0.1988705384909512, '15': 0.2291334465221833, '16': 0.2509556795242961, '17': 0.2702599625646261, '18': 0.34000446903291687, '19': 0.3634530531041516, '20': 0.45826689304436596, '21': 0.5019113590485913, '22': 0.4582668930443666, '23': 1.219705208958084, '24': 1.3213473097046027, '25': 1.132583408318225, '26': 2.3490618839192794, '27': 2.3490618839192794, '28': 0.8345351429713199, '29': 0.5285389238818384, '30': 0.4285450734177068, '31': 0.46635787401338613, '32': 0.5662917041591125, '33': 0.7928083858227557, '34': 1.0570778477636744, '35': 1.5856167716455234, '36': 1.5856167716455114, '37': 2.3490618839192794, '38': 2.3490618839192794, '39': 1.7617964129394483, '40': 2.6043946973887664, '41': 2.6043946973887664, '42': 2.6043946973887664, '43': 2.6043946973887664, '44': 1.5409335292883555, '45': 0.7396480940584107, '46': 0.35560739855782825, '47': 0.45100493540146996, '48': 0.8040029074224151, '49': 2.054578039051141, '50': 2.6043946973887664, '51': 2.054578039051141, '52': 2.6554612600826637, '53': 2.6554612600826637, '54': 0.15812832281164665, '55': 0.13225277907883143, '56': 0.1192443090055037, '57': 0.1347019046173284, '58': 0.1192443090055037, '59': 0.18651032947014703, '60': 0.21393831909810984, '61': 0.2020528569259931, '62': 0.20782579569530657}\n",
      "DEBUG:Epsilon:init quantile_epsilon initial_epsilon=20, quantile_multiplier=1\n"
     ]
    }
   ],
   "source": [
    "from pyabc import ABCSMC\n",
    "from pyabc.epsilon import MedianEpsilon\n",
    "from pyabc.sampler import MulticoreEvalParallelSampler, SingleCoreSampler\n",
    "from ionchannelABC import IonChannelDistance, EfficientMultivariateNormalTransition, IonChannelAcceptor\n",
    "\n",
    "abc = ABCSMC(models=log_model,\n",
    "             parameter_priors=prior,\n",
    "             distance_function=IonChannelDistance(\n",
    "                 exp_id=list(observations.exp_id),\n",
    "                 variance=list(observations.variance),\n",
    "                 delta=0.01),\n",
    "             population_size=ConstantPopulationSize(5000),\n",
    "             #population_size=AdaptivePopulationSize(\n",
    "             #    start_nr_particles=10000,\n",
    "             #    mean_cv=0.4,\n",
    "             #    max_population_size=30000,\n",
    "             #    min_population_size=pop_size),\n",
    "             summary_statistics=summary_statistics,\n",
    "             transitions=EfficientMultivariateNormalTransition(),\n",
    "             eps=MedianEpsilon(initial_epsilon=20),\n",
    "             sampler=MulticoreEvalParallelSampler(n_procs=12),\n",
    "             acceptor=IonChannelAcceptor())"
   ]
  },
  {
   "cell_type": "code",
   "execution_count": 85,
   "metadata": {},
   "outputs": [],
   "source": [
    "obs = observations.to_dict()['y']\n",
    "obs = {str(k): v for k, v in obs.items()}"
   ]
  },
  {
   "cell_type": "code",
   "execution_count": 86,
   "metadata": {
    "scrolled": true
   },
   "outputs": [
    {
     "name": "stderr",
     "output_type": "stream",
     "text": [
      "INFO:History:Start <ABCSMC(id=3, start_time=2019-06-19 20:19:14.021058, end_time=None)>\n"
     ]
    }
   ],
   "source": [
    "abc_id = abc.new(db_path, obs)"
   ]
  },
  {
   "cell_type": "code",
   "execution_count": null,
   "metadata": {
    "scrolled": true
   },
   "outputs": [
    {
     "name": "stderr",
     "output_type": "stream",
     "text": [
      "INFO:ABC:t:0 eps:20\n",
      "DEBUG:ABC:now submitting population 0\n",
      "/scratch/cph211/ion-channel-ABC/docs/examples/channels/icat_markov.py:158: RuntimeWarning: divide by zero encountered in double_scalars\n",
      "  ss[str(cnt)] = max2/max1\n",
      "/scratch/cph211/ion-channel-ABC/docs/examples/channels/icat_markov.py:158: RuntimeWarning: divide by zero encountered in double_scalars\n",
      "  ss[str(cnt)] = max2/max1\n",
      "/scratch/cph211/ion-channel-ABC/docs/examples/channels/icat_markov.py:158: RuntimeWarning: divide by zero encountered in double_scalars\n",
      "  ss[str(cnt)] = max2/max1\n",
      "/scratch/cph211/ion-channel-ABC/docs/examples/channels/icat_markov.py:158: RuntimeWarning: divide by zero encountered in double_scalars\n",
      "  ss[str(cnt)] = max2/max1\n",
      "/scratch/cph211/ion-channel-ABC/docs/examples/channels/icat_markov.py:158: RuntimeWarning: invalid value encountered in double_scalars\n",
      "  ss[str(cnt)] = max2/max1\n",
      "/scratch/cph211/ion-channel-ABC/docs/examples/channels/icat_markov.py:158: RuntimeWarning: divide by zero encountered in double_scalars\n",
      "  ss[str(cnt)] = max2/max1\n",
      "/scratch/cph211/ion-channel-ABC/docs/examples/channels/icat_markov.py:158: RuntimeWarning: divide by zero encountered in double_scalars\n",
      "  ss[str(cnt)] = max2/max1\n",
      "/scratch/cph211/ion-channel-ABC/docs/examples/channels/icat_markov.py:158: RuntimeWarning: divide by zero encountered in double_scalars\n",
      "  ss[str(cnt)] = max2/max1\n",
      "/scratch/cph211/ion-channel-ABC/docs/examples/channels/icat_markov.py:158: RuntimeWarning: divide by zero encountered in double_scalars\n",
      "  ss[str(cnt)] = max2/max1\n",
      "DEBUG:ABC:population 0 done\n",
      "DEBUG:ABC:\n",
      "total nr simulations up to t =0 is 86223\n",
      "DEBUG:Epsilon:new eps, t=1, eps=8.366784656031246\n",
      "INFO:ABC:t:1 eps:8.366784656031246\n",
      "DEBUG:ABC:now submitting population 1\n",
      "/scratch/cph211/ion-channel-ABC/docs/examples/channels/icat_markov.py:158: RuntimeWarning: divide by zero encountered in double_scalars\n",
      "  ss[str(cnt)] = max2/max1\n",
      "/scratch/cph211/ion-channel-ABC/docs/examples/channels/icat_markov.py:158: RuntimeWarning: divide by zero encountered in double_scalars\n",
      "  ss[str(cnt)] = max2/max1\n",
      "DEBUG:ABC:population 1 done\n",
      "DEBUG:ABC:\n",
      "total nr simulations up to t =1 is 111857\n",
      "DEBUG:Epsilon:new eps, t=2, eps=7.6944797243293275\n",
      "INFO:ABC:t:2 eps:7.6944797243293275\n",
      "DEBUG:ABC:now submitting population 2\n",
      "/scratch/cph211/ion-channel-ABC/docs/examples/channels/icat_markov.py:158: RuntimeWarning: divide by zero encountered in double_scalars\n",
      "  ss[str(cnt)] = max2/max1\n",
      "/scratch/cph211/ion-channel-ABC/docs/examples/channels/icat_markov.py:158: RuntimeWarning: divide by zero encountered in double_scalars\n",
      "  ss[str(cnt)] = max2/max1\n",
      "/scratch/cph211/ion-channel-ABC/docs/examples/channels/icat_markov.py:158: RuntimeWarning: divide by zero encountered in double_scalars\n",
      "  ss[str(cnt)] = max2/max1\n",
      "/scratch/cph211/ion-channel-ABC/docs/examples/channels/icat_markov.py:158: RuntimeWarning: divide by zero encountered in double_scalars\n",
      "  ss[str(cnt)] = max2/max1\n",
      "/scratch/cph211/ion-channel-ABC/docs/examples/channels/icat_markov.py:158: RuntimeWarning: divide by zero encountered in double_scalars\n",
      "  ss[str(cnt)] = max2/max1\n",
      "DEBUG:ABC:population 2 done\n",
      "DEBUG:ABC:\n",
      "total nr simulations up to t =2 is 158553\n",
      "DEBUG:Epsilon:new eps, t=3, eps=7.075317683578124\n",
      "INFO:ABC:t:3 eps:7.075317683578124\n",
      "DEBUG:ABC:now submitting population 3\n",
      "/scratch/cph211/ion-channel-ABC/docs/examples/channels/icat_markov.py:158: RuntimeWarning: divide by zero encountered in double_scalars\n",
      "  ss[str(cnt)] = max2/max1\n",
      "/scratch/cph211/ion-channel-ABC/docs/examples/channels/icat_markov.py:158: RuntimeWarning: divide by zero encountered in double_scalars\n",
      "  ss[str(cnt)] = max2/max1\n",
      "/scratch/cph211/ion-channel-ABC/docs/examples/channels/icat_markov.py:158: RuntimeWarning: divide by zero encountered in double_scalars\n",
      "  ss[str(cnt)] = max2/max1\n",
      "/scratch/cph211/ion-channel-ABC/docs/examples/channels/icat_markov.py:158: RuntimeWarning: divide by zero encountered in double_scalars\n",
      "  ss[str(cnt)] = max2/max1\n",
      "/scratch/cph211/ion-channel-ABC/docs/examples/channels/icat_markov.py:158: RuntimeWarning: divide by zero encountered in double_scalars\n",
      "  ss[str(cnt)] = max2/max1\n",
      "/scratch/cph211/ion-channel-ABC/docs/examples/channels/icat_markov.py:158: RuntimeWarning: divide by zero encountered in double_scalars\n",
      "  ss[str(cnt)] = max2/max1\n",
      "/scratch/cph211/ion-channel-ABC/docs/examples/channels/icat_markov.py:158: RuntimeWarning: divide by zero encountered in double_scalars\n",
      "  ss[str(cnt)] = max2/max1\n",
      "/scratch/cph211/ion-channel-ABC/docs/examples/channels/icat_markov.py:158: RuntimeWarning: divide by zero encountered in double_scalars\n",
      "  ss[str(cnt)] = max2/max1\n",
      "/scratch/cph211/ion-channel-ABC/docs/examples/channels/icat_markov.py:158: RuntimeWarning: divide by zero encountered in double_scalars\n",
      "  ss[str(cnt)] = max2/max1\n",
      "/scratch/cph211/ion-channel-ABC/docs/examples/channels/icat_markov.py:158: RuntimeWarning: divide by zero encountered in double_scalars\n",
      "  ss[str(cnt)] = max2/max1\n",
      "/scratch/cph211/ion-channel-ABC/docs/examples/channels/icat_markov.py:158: RuntimeWarning: divide by zero encountered in double_scalars\n",
      "  ss[str(cnt)] = max2/max1\n",
      "DEBUG:ABC:population 3 done\n",
      "DEBUG:ABC:\n",
      "total nr simulations up to t =3 is 199952\n",
      "DEBUG:Epsilon:new eps, t=4, eps=7.0314786383430885\n",
      "INFO:ABC:t:4 eps:7.0314786383430885\n",
      "DEBUG:ABC:now submitting population 4\n",
      "/scratch/cph211/ion-channel-ABC/docs/examples/channels/icat_markov.py:158: RuntimeWarning: divide by zero encountered in double_scalars\n",
      "  ss[str(cnt)] = max2/max1\n",
      "/scratch/cph211/ion-channel-ABC/docs/examples/channels/icat_markov.py:158: RuntimeWarning: divide by zero encountered in double_scalars\n",
      "  ss[str(cnt)] = max2/max1\n",
      "/scratch/cph211/ion-channel-ABC/docs/examples/channels/icat_markov.py:158: RuntimeWarning: divide by zero encountered in double_scalars\n",
      "  ss[str(cnt)] = max2/max1\n",
      "/scratch/cph211/ion-channel-ABC/docs/examples/channels/icat_markov.py:158: RuntimeWarning: divide by zero encountered in double_scalars\n",
      "  ss[str(cnt)] = max2/max1\n",
      "/scratch/cph211/ion-channel-ABC/docs/examples/channels/icat_markov.py:158: RuntimeWarning: divide by zero encountered in double_scalars\n",
      "  ss[str(cnt)] = max2/max1\n",
      "/scratch/cph211/ion-channel-ABC/docs/examples/channels/icat_markov.py:158: RuntimeWarning: divide by zero encountered in double_scalars\n",
      "  ss[str(cnt)] = max2/max1\n",
      "/scratch/cph211/ion-channel-ABC/docs/examples/channels/icat_markov.py:158: RuntimeWarning: divide by zero encountered in double_scalars\n",
      "  ss[str(cnt)] = max2/max1\n",
      "/scratch/cph211/ion-channel-ABC/docs/examples/channels/icat_markov.py:158: RuntimeWarning: divide by zero encountered in double_scalars\n",
      "  ss[str(cnt)] = max2/max1\n",
      "/scratch/cph211/ion-channel-ABC/docs/examples/channels/icat_markov.py:158: RuntimeWarning: divide by zero encountered in double_scalars\n",
      "  ss[str(cnt)] = max2/max1\n",
      "/scratch/cph211/ion-channel-ABC/docs/examples/channels/icat_markov.py:158: RuntimeWarning: divide by zero encountered in double_scalars\n",
      "  ss[str(cnt)] = max2/max1\n",
      "/scratch/cph211/ion-channel-ABC/docs/examples/channels/icat_markov.py:158: RuntimeWarning: divide by zero encountered in double_scalars\n",
      "  ss[str(cnt)] = max2/max1\n",
      "/scratch/cph211/ion-channel-ABC/docs/examples/channels/icat_markov.py:158: RuntimeWarning: divide by zero encountered in double_scalars\n",
      "  ss[str(cnt)] = max2/max1\n",
      "/scratch/cph211/ion-channel-ABC/docs/examples/channels/icat_markov.py:158: RuntimeWarning: divide by zero encountered in double_scalars\n",
      "  ss[str(cnt)] = max2/max1\n",
      "/scratch/cph211/ion-channel-ABC/docs/examples/channels/icat_markov.py:158: RuntimeWarning: divide by zero encountered in double_scalars\n",
      "  ss[str(cnt)] = max2/max1\n",
      "/scratch/cph211/ion-channel-ABC/docs/examples/channels/icat_markov.py:158: RuntimeWarning: divide by zero encountered in double_scalars\n",
      "  ss[str(cnt)] = max2/max1\n",
      "/scratch/cph211/ion-channel-ABC/docs/examples/channels/icat_markov.py:158: RuntimeWarning: divide by zero encountered in double_scalars\n",
      "  ss[str(cnt)] = max2/max1\n",
      "/scratch/cph211/ion-channel-ABC/docs/examples/channels/icat_markov.py:158: RuntimeWarning: divide by zero encountered in double_scalars\n",
      "  ss[str(cnt)] = max2/max1\n",
      "/scratch/cph211/ion-channel-ABC/docs/examples/channels/icat_markov.py:158: RuntimeWarning: divide by zero encountered in double_scalars\n",
      "  ss[str(cnt)] = max2/max1\n"
     ]
    },
    {
     "name": "stderr",
     "output_type": "stream",
     "text": [
      "/scratch/cph211/ion-channel-ABC/docs/examples/channels/icat_markov.py:158: RuntimeWarning: divide by zero encountered in double_scalars\n",
      "  ss[str(cnt)] = max2/max1\n",
      "/scratch/cph211/ion-channel-ABC/docs/examples/channels/icat_markov.py:158: RuntimeWarning: divide by zero encountered in double_scalars\n",
      "  ss[str(cnt)] = max2/max1\n",
      "/scratch/cph211/ion-channel-ABC/docs/examples/channels/icat_markov.py:158: RuntimeWarning: divide by zero encountered in double_scalars\n",
      "  ss[str(cnt)] = max2/max1\n",
      "/scratch/cph211/ion-channel-ABC/docs/examples/channels/icat_markov.py:158: RuntimeWarning: divide by zero encountered in double_scalars\n",
      "  ss[str(cnt)] = max2/max1\n",
      "/scratch/cph211/ion-channel-ABC/docs/examples/channels/icat_markov.py:158: RuntimeWarning: divide by zero encountered in double_scalars\n",
      "  ss[str(cnt)] = max2/max1\n",
      "DEBUG:ABC:population 4 done\n",
      "DEBUG:ABC:\n",
      "total nr simulations up to t =4 is 269792\n",
      "DEBUG:Epsilon:new eps, t=5, eps=6.999444862151512\n",
      "INFO:ABC:t:5 eps:6.999444862151512\n",
      "DEBUG:ABC:now submitting population 5\n",
      "/scratch/cph211/ion-channel-ABC/docs/examples/channels/icat_markov.py:158: RuntimeWarning: divide by zero encountered in double_scalars\n",
      "  ss[str(cnt)] = max2/max1\n",
      "/scratch/cph211/ion-channel-ABC/docs/examples/channels/icat_markov.py:158: RuntimeWarning: divide by zero encountered in double_scalars\n",
      "  ss[str(cnt)] = max2/max1\n",
      "/scratch/cph211/ion-channel-ABC/docs/examples/channels/icat_markov.py:158: RuntimeWarning: divide by zero encountered in double_scalars\n",
      "  ss[str(cnt)] = max2/max1\n",
      "/scratch/cph211/ion-channel-ABC/docs/examples/channels/icat_markov.py:158: RuntimeWarning: divide by zero encountered in double_scalars\n",
      "  ss[str(cnt)] = max2/max1\n",
      "/scratch/cph211/ion-channel-ABC/docs/examples/channels/icat_markov.py:158: RuntimeWarning: divide by zero encountered in double_scalars\n",
      "  ss[str(cnt)] = max2/max1\n",
      "/scratch/cph211/ion-channel-ABC/docs/examples/channels/icat_markov.py:158: RuntimeWarning: divide by zero encountered in double_scalars\n",
      "  ss[str(cnt)] = max2/max1\n",
      "/scratch/cph211/ion-channel-ABC/docs/examples/channels/icat_markov.py:158: RuntimeWarning: divide by zero encountered in double_scalars\n",
      "  ss[str(cnt)] = max2/max1\n",
      "/scratch/cph211/ion-channel-ABC/docs/examples/channels/icat_markov.py:158: RuntimeWarning: divide by zero encountered in double_scalars\n",
      "  ss[str(cnt)] = max2/max1\n",
      "/scratch/cph211/ion-channel-ABC/docs/examples/channels/icat_markov.py:158: RuntimeWarning: divide by zero encountered in double_scalars\n",
      "  ss[str(cnt)] = max2/max1\n",
      "/scratch/cph211/ion-channel-ABC/docs/examples/channels/icat_markov.py:158: RuntimeWarning: divide by zero encountered in double_scalars\n",
      "  ss[str(cnt)] = max2/max1\n",
      "/scratch/cph211/ion-channel-ABC/docs/examples/channels/icat_markov.py:158: RuntimeWarning: divide by zero encountered in double_scalars\n",
      "  ss[str(cnt)] = max2/max1\n",
      "/scratch/cph211/ion-channel-ABC/docs/examples/channels/icat_markov.py:158: RuntimeWarning: divide by zero encountered in double_scalars\n",
      "  ss[str(cnt)] = max2/max1\n",
      "/scratch/cph211/ion-channel-ABC/docs/examples/channels/icat_markov.py:158: RuntimeWarning: divide by zero encountered in double_scalars\n",
      "  ss[str(cnt)] = max2/max1\n",
      "/scratch/cph211/ion-channel-ABC/docs/examples/channels/icat_markov.py:158: RuntimeWarning: divide by zero encountered in double_scalars\n",
      "  ss[str(cnt)] = max2/max1\n",
      "/scratch/cph211/ion-channel-ABC/docs/examples/channels/icat_markov.py:158: RuntimeWarning: divide by zero encountered in double_scalars\n",
      "  ss[str(cnt)] = max2/max1\n",
      "DEBUG:ABC:population 5 done\n",
      "DEBUG:ABC:\n",
      "total nr simulations up to t =5 is 383092\n",
      "DEBUG:Epsilon:new eps, t=6, eps=6.563277762812005\n",
      "INFO:ABC:t:6 eps:6.563277762812005\n",
      "DEBUG:ABC:now submitting population 6\n",
      "DEBUG:ABC:population 6 done\n",
      "DEBUG:ABC:\n",
      "total nr simulations up to t =6 is 451415\n",
      "DEBUG:Epsilon:new eps, t=7, eps=6.050581633145356\n",
      "INFO:ABC:t:7 eps:6.050581633145356\n",
      "DEBUG:ABC:now submitting population 7\n",
      "DEBUG:ABC:population 7 done\n",
      "DEBUG:ABC:\n",
      "total nr simulations up to t =7 is 509469\n",
      "DEBUG:Epsilon:new eps, t=8, eps=5.608784580610777\n",
      "INFO:ABC:t:8 eps:5.608784580610777\n",
      "DEBUG:ABC:now submitting population 8\n",
      "DEBUG:ABC:population 8 done\n",
      "DEBUG:ABC:\n",
      "total nr simulations up to t =8 is 576937\n",
      "DEBUG:Epsilon:new eps, t=9, eps=5.238733339699499\n",
      "INFO:ABC:t:9 eps:5.238733339699499\n",
      "DEBUG:ABC:now submitting population 9\n"
     ]
    }
   ],
   "source": [
    "history = abc.run(minimum_epsilon=0.0, max_nr_populations=100, min_acceptance_rate=0.01)"
   ]
  },
  {
   "cell_type": "code",
   "execution_count": null,
   "metadata": {},
   "outputs": [],
   "source": [
    "history = abc.run(minimum_epsilon=0.0, max_nr_populations=100, min_acceptance_rate=0.001)"
   ]
  },
  {
   "cell_type": "markdown",
   "metadata": {},
   "source": [
    "# Results analysis"
   ]
  },
  {
   "cell_type": "code",
   "execution_count": 88,
   "metadata": {},
   "outputs": [],
   "source": [
    "from pyabc import History"
   ]
  },
  {
   "cell_type": "code",
   "execution_count": 92,
   "metadata": {},
   "outputs": [
    {
     "data": {
      "text/plain": [
       "[<ABCSMC(id=1, start_time=2019-06-16 17:37:10.210410, end_time=2019-06-17 10:50:52.101144)>,\n",
       " <ABCSMC(id=2, start_time=2019-06-17 14:59:07.788964, end_time=2019-06-17 21:16:15.099165)>,\n",
       " <ABCSMC(id=3, start_time=2019-06-19 20:19:14.021058, end_time=None)>]"
      ]
     },
     "execution_count": 92,
     "metadata": {},
     "output_type": "execute_result"
    }
   ],
   "source": [
    "history = History('sqlite:////scratch/cph211/tmp/hl-1_icat_markov.db')\n",
    "history.all_runs()"
   ]
  },
  {
   "cell_type": "code",
   "execution_count": 93,
   "metadata": {},
   "outputs": [],
   "source": [
    "history.id = 3"
   ]
  },
  {
   "cell_type": "code",
   "execution_count": 94,
   "metadata": {},
   "outputs": [],
   "source": [
    "df, w = history.get_distribution(m=0)"
   ]
  },
  {
   "cell_type": "code",
   "execution_count": 95,
   "metadata": {
    "scrolled": true
   },
   "outputs": [
    {
     "data": {
      "text/html": [
       "<div>\n",
       "<style scoped>\n",
       "    .dataframe tbody tr th:only-of-type {\n",
       "        vertical-align: middle;\n",
       "    }\n",
       "\n",
       "    .dataframe tbody tr th {\n",
       "        vertical-align: top;\n",
       "    }\n",
       "\n",
       "    .dataframe thead th {\n",
       "        text-align: right;\n",
       "    }\n",
       "</style>\n",
       "<table border=\"1\" class=\"dataframe\">\n",
       "  <thead>\n",
       "    <tr style=\"text-align: right;\">\n",
       "      <th>name</th>\n",
       "      <th>icat.E_Ca_offset</th>\n",
       "      <th>icat.g_CaT</th>\n",
       "      <th>icat.p_2</th>\n",
       "      <th>icat.p_4</th>\n",
       "      <th>icat.p_6</th>\n",
       "      <th>icat.p_8</th>\n",
       "      <th>log_icat.p_1</th>\n",
       "      <th>log_icat.p_3</th>\n",
       "      <th>log_icat.p_5</th>\n",
       "      <th>log_icat.p_7</th>\n",
       "    </tr>\n",
       "  </thead>\n",
       "  <tbody>\n",
       "    <tr>\n",
       "      <th>count</th>\n",
       "      <td>5000.000000</td>\n",
       "      <td>5000.000000</td>\n",
       "      <td>5000.000000</td>\n",
       "      <td>5000.000000</td>\n",
       "      <td>5000.000000</td>\n",
       "      <td>5000.000000</td>\n",
       "      <td>5000.000000</td>\n",
       "      <td>5000.000000</td>\n",
       "      <td>5000.000000</td>\n",
       "      <td>5000.000000</td>\n",
       "    </tr>\n",
       "    <tr>\n",
       "      <th>mean</th>\n",
       "      <td>105.340342</td>\n",
       "      <td>0.253109</td>\n",
       "      <td>0.386006</td>\n",
       "      <td>1.458863</td>\n",
       "      <td>0.186703</td>\n",
       "      <td>0.044524</td>\n",
       "      <td>4.698916</td>\n",
       "      <td>-48.554517</td>\n",
       "      <td>1.280648</td>\n",
       "      <td>-3.609294</td>\n",
       "    </tr>\n",
       "    <tr>\n",
       "      <th>std</th>\n",
       "      <td>0.161838</td>\n",
       "      <td>0.001762</td>\n",
       "      <td>0.001529</td>\n",
       "      <td>0.032763</td>\n",
       "      <td>0.001276</td>\n",
       "      <td>0.001255</td>\n",
       "      <td>0.038520</td>\n",
       "      <td>1.061409</td>\n",
       "      <td>0.033708</td>\n",
       "      <td>0.043202</td>\n",
       "    </tr>\n",
       "    <tr>\n",
       "      <th>min</th>\n",
       "      <td>104.829239</td>\n",
       "      <td>0.247162</td>\n",
       "      <td>0.380025</td>\n",
       "      <td>1.341848</td>\n",
       "      <td>0.182390</td>\n",
       "      <td>0.040852</td>\n",
       "      <td>4.562817</td>\n",
       "      <td>-49.999823</td>\n",
       "      <td>1.173617</td>\n",
       "      <td>-3.734886</td>\n",
       "    </tr>\n",
       "    <tr>\n",
       "      <th>25%</th>\n",
       "      <td>105.226005</td>\n",
       "      <td>0.251921</td>\n",
       "      <td>0.384956</td>\n",
       "      <td>1.437012</td>\n",
       "      <td>0.185799</td>\n",
       "      <td>0.043617</td>\n",
       "      <td>4.671999</td>\n",
       "      <td>-49.436665</td>\n",
       "      <td>1.257469</td>\n",
       "      <td>-3.640235</td>\n",
       "    </tr>\n",
       "    <tr>\n",
       "      <th>50%</th>\n",
       "      <td>105.331515</td>\n",
       "      <td>0.253105</td>\n",
       "      <td>0.385996</td>\n",
       "      <td>1.464554</td>\n",
       "      <td>0.186711</td>\n",
       "      <td>0.044529</td>\n",
       "      <td>4.699589</td>\n",
       "      <td>-48.745777</td>\n",
       "      <td>1.280516</td>\n",
       "      <td>-3.609369</td>\n",
       "    </tr>\n",
       "    <tr>\n",
       "      <th>75%</th>\n",
       "      <td>105.458169</td>\n",
       "      <td>0.254334</td>\n",
       "      <td>0.387085</td>\n",
       "      <td>1.486202</td>\n",
       "      <td>0.187584</td>\n",
       "      <td>0.045432</td>\n",
       "      <td>4.726507</td>\n",
       "      <td>-47.854942</td>\n",
       "      <td>1.304777</td>\n",
       "      <td>-3.578205</td>\n",
       "    </tr>\n",
       "    <tr>\n",
       "      <th>max</th>\n",
       "      <td>105.731462</td>\n",
       "      <td>0.259585</td>\n",
       "      <td>0.390749</td>\n",
       "      <td>1.505097</td>\n",
       "      <td>0.190656</td>\n",
       "      <td>0.048269</td>\n",
       "      <td>4.820500</td>\n",
       "      <td>-44.750226</td>\n",
       "      <td>1.380588</td>\n",
       "      <td>-3.481513</td>\n",
       "    </tr>\n",
       "  </tbody>\n",
       "</table>\n",
       "</div>"
      ],
      "text/plain": [
       "name   icat.E_Ca_offset   icat.g_CaT     icat.p_2     icat.p_4     icat.p_6  \\\n",
       "count       5000.000000  5000.000000  5000.000000  5000.000000  5000.000000   \n",
       "mean         105.340342     0.253109     0.386006     1.458863     0.186703   \n",
       "std            0.161838     0.001762     0.001529     0.032763     0.001276   \n",
       "min          104.829239     0.247162     0.380025     1.341848     0.182390   \n",
       "25%          105.226005     0.251921     0.384956     1.437012     0.185799   \n",
       "50%          105.331515     0.253105     0.385996     1.464554     0.186711   \n",
       "75%          105.458169     0.254334     0.387085     1.486202     0.187584   \n",
       "max          105.731462     0.259585     0.390749     1.505097     0.190656   \n",
       "\n",
       "name      icat.p_8  log_icat.p_1  log_icat.p_3  log_icat.p_5  log_icat.p_7  \n",
       "count  5000.000000   5000.000000   5000.000000   5000.000000   5000.000000  \n",
       "mean      0.044524      4.698916    -48.554517      1.280648     -3.609294  \n",
       "std       0.001255      0.038520      1.061409      0.033708      0.043202  \n",
       "min       0.040852      4.562817    -49.999823      1.173617     -3.734886  \n",
       "25%       0.043617      4.671999    -49.436665      1.257469     -3.640235  \n",
       "50%       0.044529      4.699589    -48.745777      1.280516     -3.609369  \n",
       "75%       0.045432      4.726507    -47.854942      1.304777     -3.578205  \n",
       "max       0.048269      4.820500    -44.750226      1.380588     -3.481513  "
      ]
     },
     "execution_count": 95,
     "metadata": {},
     "output_type": "execute_result"
    }
   ],
   "source": [
    "df.describe()"
   ]
  },
  {
   "cell_type": "code",
   "execution_count": 96,
   "metadata": {
    "scrolled": true
   },
   "outputs": [
    {
     "data": {
      "image/png": "[encoded data removed]",
      "text/plain": [
       "<Figure size 518.4x432 with 10 Axes>"
      ]
     },
     "metadata": {},
     "output_type": "display_data"
    }
   ],
   "source": [
    "from ionchannelABC import plot_parameters_kde\n",
    "g = plot_parameters_kde(df, w, limits, aspect=12,height=0.6)"
   ]
  },
  {
   "cell_type": "markdown",
   "metadata": {},
   "source": [
    "# Samples for quantitative analysis"
   ]
  },
  {
   "cell_type": "code",
   "execution_count": 97,
   "metadata": {},
   "outputs": [],
   "source": [
    "# Generate parameter samples\n",
    "n_samples = 100\n",
    "df, w = history.get_distribution(m=0)\n",
    "th_samples = df.sample(n=n_samples, weights=w, replace=True).to_dict(orient='records')"
   ]
  },
  {
   "cell_type": "code",
   "execution_count": 98,
   "metadata": {},
   "outputs": [],
   "source": [
    "plotting_obs = observations.copy()"
   ]
  },
  {
   "cell_type": "code",
   "execution_count": 99,
   "metadata": {},
   "outputs": [],
   "source": [
    "plotting_obs.rename({'exp_id': 'exp', 'variance': 'errs'}, axis=1, inplace=True)"
   ]
  },
  {
   "cell_type": "code",
   "execution_count": 100,
   "metadata": {},
   "outputs": [],
   "source": [
    "import numpy as np\n",
    "plotting_obs['errs'] = np.sqrt(plotting_obs['errs'])"
   ]
  },
  {
   "cell_type": "code",
   "execution_count": 101,
   "metadata": {},
   "outputs": [],
   "source": [
    "# Generate sim results samples\n",
    "import pandas as pd\n",
    "samples = pd.DataFrame({})\n",
    "for i, th in enumerate(th_samples):\n",
    "    results = summary_statistics(log_model(th))\n",
    "    output = pd.DataFrame({'x': plotting_obs.x, 'y': list(results.values()),\n",
    "                           'exp': plotting_obs.exp})\n",
    "    #output = model.sample(pars=th, n_x=50)\n",
    "    output['sample'] = i\n",
    "    output['distribution'] = 'post'\n",
    "    samples = samples.append(output, ignore_index=True)"
   ]
  },
  {
   "cell_type": "code",
   "execution_count": 102,
   "metadata": {
    "scrolled": true
   },
   "outputs": [
    {
     "data": {
      "image/png": "[encoded data removed]",
      "text/plain": [
       "<Figure size 1528.53x360 with 4 Axes>"
      ]
     },
     "metadata": {},
     "output_type": "display_data"
    }
   ],
   "source": [
    "from ionchannelABC import plot_sim_results\n",
    "import seaborn as sns\n",
    "sns.set_context('talk')\n",
    "g = plot_sim_results(samples, obs=plotting_obs)\n",
    "\n",
    "# Set axis labels\n",
    "xlabels = [\"voltage, mV\", \"voltage, mV\", \"voltage, mV\", \"time, ms\"]#, \"time, ms\",\"voltage, mV\"]\n",
    "ylabels = [\"normalised current density, pA/pF\", \"activation\", \"inactivation\", \"recovery\"]#, \"normalised current\",\"current density, pA/pF\"]\n",
    "for ax, xl in zip(g.axes.flatten(), xlabels):\n",
    "    ax.set_xlabel(xl)\n",
    "for ax, yl in zip(g.axes.flatten(), ylabels):\n",
    "    ax.set_ylabel(yl)"
   ]
  },
  {
   "cell_type": "code",
   "execution_count": 31,
   "metadata": {},
   "outputs": [],
   "source": [
    "#g.savefig('results/icat-generic/icat_sim_results.pdf')"
   ]
  },
  {
   "cell_type": "code",
   "execution_count": 103,
   "metadata": {},
   "outputs": [],
   "source": [
    "def plot_sim_results_all(samples: pd.DataFrame):\n",
    "    with sns.color_palette(\"gray\"):\n",
    "        grid = sns.relplot(x='x', y='y',\n",
    "                           col='exp',\n",
    "                           units='sample',\n",
    "                           kind='line',\n",
    "                           data=samples,\n",
    "                           estimator=None, lw=0.5,\n",
    "                           alpha=0.5,\n",
    "                           #estimator=np.median,\n",
    "                           facet_kws={'sharex': 'col',\n",
    "                                      'sharey': 'col'})\n",
    "    return grid"
   ]
  },
  {
   "cell_type": "code",
   "execution_count": 104,
   "metadata": {},
   "outputs": [
    {
     "data": {
      "image/png": "[encoded data removed]",
      "text/plain": [
       "<Figure size 1440x360 with 4 Axes>"
      ]
     },
     "metadata": {},
     "output_type": "display_data"
    }
   ],
   "source": [
    "grid2 = plot_sim_results_all(samples)"
   ]
  },
  {
   "cell_type": "code",
   "execution_count": 33,
   "metadata": {},
   "outputs": [],
   "source": [
    "#grid2.savefig('results/icat-generic/icat_sim_results_all.pdf')"
   ]
  },
  {
   "cell_type": "code",
   "execution_count": 35,
   "metadata": {},
   "outputs": [],
   "source": [
    "import numpy as np"
   ]
  },
  {
   "cell_type": "code",
   "execution_count": 42,
   "metadata": {},
   "outputs": [
    {
     "name": "stdout",
     "output_type": "stream",
     "text": [
      "-0.9792263129382246\n",
      "0.060452038127623814\n"
     ]
    }
   ],
   "source": [
    "# Mean current density\n",
    "print(np.mean(samples[samples.exp=='0'].groupby('sample').min()['y']))\n",
    "# Std current density\n",
    "print(np.std(samples[samples.exp=='0'].groupby('sample').min()['y']))"
   ]
  },
  {
   "cell_type": "code",
   "execution_count": 43,
   "metadata": {},
   "outputs": [],
   "source": [
    "import scipy.stats as st\n",
    "peak_current = samples[samples['exp']=='0'].groupby('sample').min()['y'].tolist()\n",
    "rv = st.rv_discrete(values=(peak_current, [1/len(peak_current),]*len(peak_current)))"
   ]
  },
  {
   "cell_type": "code",
   "execution_count": 44,
   "metadata": {},
   "outputs": [
    {
     "name": "stdout",
     "output_type": "stream",
     "text": [
      "median: -0.9929750589235674\n",
      "95% CI: (-1.0714884415582595, -0.8489199437971181)\n"
     ]
    }
   ],
   "source": [
    "print(\"median: {}\".format(rv.median()))\n",
    "print(\"95% CI: {}\".format(rv.interval(0.95)))"
   ]
  },
  {
   "cell_type": "code",
   "execution_count": 45,
   "metadata": {},
   "outputs": [
    {
     "name": "stdout",
     "output_type": "stream",
     "text": [
      "mean: -20.1\n",
      "STD: 0.7\n"
     ]
    }
   ],
   "source": [
    "# Voltage of peak current density\n",
    "idxs = samples[samples.exp=='0'].groupby('sample').idxmin()['y']\n",
    "print(\"mean: {}\".format(np.mean(samples.iloc[idxs]['x'])))\n",
    "print(\"STD: {}\".format(np.std(samples.iloc[idxs]['x'])))"
   ]
  },
  {
   "cell_type": "code",
   "execution_count": 46,
   "metadata": {},
   "outputs": [
    {
     "name": "stdout",
     "output_type": "stream",
     "text": [
      "median: -20.0\n",
      "95% CI: (-20.0, -20.0)\n"
     ]
    }
   ],
   "source": [
    "voltage_peak = samples.iloc[idxs]['x'].tolist()\n",
    "rv = st.rv_discrete(values=(voltage_peak, [1/len(voltage_peak),]*len(voltage_peak)))\n",
    "print(\"median: {}\".format(rv.median()))\n",
    "print(\"95% CI: {}\".format(rv.interval(0.95)))"
   ]
  },
  {
   "cell_type": "code",
   "execution_count": 48,
   "metadata": {},
   "outputs": [],
   "source": [
    "# Half activation potential\n",
    "# Fit of activation to Boltzmann equation\n",
    "from scipy.optimize import curve_fit\n",
    "grouped = samples[samples['exp']=='1'].groupby('sample')\n",
    "def fit_boltzmann(group):\n",
    "    def boltzmann(V, Vhalf, K):\n",
    "        return 1/(1+np.exp((Vhalf-V)/K))\n",
    "    guess = (-30, 10)\n",
    "    popt, _ = curve_fit(boltzmann, group.x, group.y)\n",
    "    return popt\n",
    "output = grouped.apply(fit_boltzmann).apply(pd.Series)"
   ]
  },
  {
   "cell_type": "code",
   "execution_count": 49,
   "metadata": {},
   "outputs": [
    {
     "name": "stdout",
     "output_type": "stream",
     "text": [
      "0   -33.399071\n",
      "1     5.739255\n",
      "dtype: float64\n",
      "0    0.823473\n",
      "1    0.366996\n",
      "dtype: float64\n"
     ]
    }
   ],
   "source": [
    "print(np.mean(output))\n",
    "print(np.std(output))"
   ]
  },
  {
   "cell_type": "code",
   "execution_count": 50,
   "metadata": {},
   "outputs": [
    {
     "name": "stdout",
     "output_type": "stream",
     "text": [
      "median: -33.407394098238164\n",
      "95% CI: (-34.93130871417603, -31.973122716861205)\n"
     ]
    }
   ],
   "source": [
    "Vhalf = output[0].tolist()\n",
    "rv = st.rv_discrete(values=(Vhalf, [1/len(Vhalf),]*len(Vhalf)))\n",
    "print(\"median: {}\".format(rv.median()))\n",
    "print(\"95% CI: {}\".format(rv.interval(0.95)))"
   ]
  },
  {
   "cell_type": "code",
   "execution_count": 51,
   "metadata": {},
   "outputs": [
    {
     "name": "stdout",
     "output_type": "stream",
     "text": [
      "median: 5.728938366573993\n",
      "95% CI: (5.117385157850234, 6.485585591389819)\n"
     ]
    }
   ],
   "source": [
    "slope = output[1].tolist()\n",
    "rv = st.rv_discrete(values=(slope, [1/len(slope),]*len(slope)))\n",
    "print(\"median: {}\".format(rv.median()))\n",
    "print(\"95% CI: {}\".format(rv.interval(0.95)))"
   ]
  },
  {
   "cell_type": "code",
   "execution_count": 52,
   "metadata": {},
   "outputs": [],
   "source": [
    "# Half activation potential\n",
    "grouped = samples[samples['exp']=='2'].groupby('sample')\n",
    "def fit_boltzmann(group):\n",
    "    def boltzmann(V, Vhalf, K):\n",
    "        return 1-1/(1+np.exp((Vhalf-V)/K))\n",
    "    guess = (-100, 10)\n",
    "    popt, _ = curve_fit(boltzmann, group.x, group.y,\n",
    "                        bounds=([-100, 1], [0, 30]))\n",
    "    return popt\n",
    "output = grouped.apply(fit_boltzmann).apply(pd.Series)"
   ]
  },
  {
   "cell_type": "code",
   "execution_count": 53,
   "metadata": {},
   "outputs": [
    {
     "name": "stdout",
     "output_type": "stream",
     "text": [
      "0   -49.011222\n",
      "1     4.399126\n",
      "dtype: float64\n",
      "0    0.613833\n",
      "1    0.306758\n",
      "dtype: float64\n"
     ]
    }
   ],
   "source": [
    "print(np.mean(output))\n",
    "print(np.std(output))"
   ]
  },
  {
   "cell_type": "code",
   "execution_count": 54,
   "metadata": {},
   "outputs": [
    {
     "name": "stdout",
     "output_type": "stream",
     "text": [
      "median: -49.01404281457659\n",
      "95% CI: (-50.06478757419054, -47.57952101705519)\n"
     ]
    }
   ],
   "source": [
    "Vhalf = output[0].tolist()\n",
    "rv = st.rv_discrete(values=(Vhalf, [1/len(Vhalf),]*len(Vhalf)))\n",
    "print(\"median: {}\".format(rv.median()))\n",
    "print(\"95% CI: {}\".format(rv.interval(0.95)))"
   ]
  },
  {
   "cell_type": "code",
   "execution_count": 55,
   "metadata": {},
   "outputs": [
    {
     "name": "stdout",
     "output_type": "stream",
     "text": [
      "median: 4.420440009120772\n",
      "95% CI: (3.7821747606540193, 4.959106709731536)\n"
     ]
    }
   ],
   "source": [
    "slope = output[1].tolist()\n",
    "rv = st.rv_discrete(values=(slope, [1/len(slope),]*len(slope)))\n",
    "print(\"median: {}\".format(rv.median()))\n",
    "print(\"95% CI: {}\".format(rv.interval(0.95)))"
   ]
  },
  {
   "cell_type": "code",
   "execution_count": 56,
   "metadata": {},
   "outputs": [],
   "source": [
    "# Recovery time constant\n",
    "grouped = samples[samples.exp=='3'].groupby('sample')\n",
    "def fit_single_exp(group):\n",
    "    def single_exp(t, I_max, tau):\n",
    "        return I_max*(1-np.exp(-t/tau))\n",
    "    guess = (1, 50)\n",
    "    popt, _ = curve_fit(single_exp, group.x, group.y, guess)\n",
    "    return popt[1]\n",
    "output = grouped.apply(fit_single_exp)"
   ]
  },
  {
   "cell_type": "code",
   "execution_count": 57,
   "metadata": {
    "scrolled": true
   },
   "outputs": [
    {
     "name": "stdout",
     "output_type": "stream",
     "text": [
      "114.50830523453935\n",
      "5.781251582667316\n"
     ]
    }
   ],
   "source": [
    "print(np.mean(output))\n",
    "print(np.std(output))"
   ]
  },
  {
   "cell_type": "code",
   "execution_count": 58,
   "metadata": {},
   "outputs": [
    {
     "name": "stdout",
     "output_type": "stream",
     "text": [
      "median: 113.75533911706513\n",
      "95% CI: (104.11137902797657, 125.98102619971708)\n"
     ]
    }
   ],
   "source": [
    "tau = output.tolist()\n",
    "rv = st.rv_discrete(values=(tau, [1/len(tau),]*len(tau)))\n",
    "print(\"median: {}\".format(rv.median()))\n",
    "print(\"95% CI: {}\".format(rv.interval(0.95)))"
   ]
  },
  {
   "cell_type": "code",
   "execution_count": null,
   "metadata": {},
   "outputs": [],
   "source": []
  }
 ],
 "metadata": {
  "kernelspec": {
   "display_name": "Python 3",
   "language": "python",
   "name": "python3"
  }
 },
 "nbformat": 4,
 "nbformat_minor": 2
}
