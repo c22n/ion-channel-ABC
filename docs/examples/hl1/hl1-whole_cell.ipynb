{
 "cells": [
  {
   "cell_type": "markdown",
   "metadata": {},
   "source": [
    "## Create and test ion channel model"
   ]
  },
  {
   "cell_type": "code",
   "execution_count": 2,
   "metadata": {},
   "outputs": [],
   "source": [
    "from experiments.whole_cell import (ap)"
   ]
  },
  {
   "cell_type": "code",
   "execution_count": 3,
   "metadata": {},
   "outputs": [],
   "source": [
    "from ionchannelABC.experiment import setup"
   ]
  },
  {
   "cell_type": "code",
   "execution_count": 4,
   "metadata": {},
   "outputs": [],
   "source": [
    "modelfile = 'models/HL1.mmt'"
   ]
  },
  {
   "cell_type": "code",
   "execution_count": 5,
   "metadata": {},
   "outputs": [],
   "source": [
    "prev_runs = ['ina/hl1_ina.db',\n",
    "             'ical/hl1_ical.db',\n",
    "             'icat/hl1_icat.db',\n",
    "             'iha/hl1_iha.db',\n",
    "             'ik1/hl1_ik1.db',\n",
    "             'ikr/hl1_ikr.db',\n",
    "             'ito/hl1_ito.db',\n",
    "             'ikss/hl1_ikss.db']\n",
    "prev_runs = ['sqlite:////storage/hhecm/cellrotor/chouston/abc-hl1-results/'+path\n",
    "             for path in prev_runs]"
   ]
  },
  {
   "cell_type": "code",
   "execution_count": 6,
   "metadata": {
    "scrolled": true
   },
   "outputs": [],
   "source": [
    "observations, model, summary_statistics = setup(modelfile, ap, \n",
    "                                                pacevar='engine.pace',\n",
    "                                                tvar='phys.T',\n",
    "                                                prev_runs=prev_runs)"
   ]
  },
  {
   "cell_type": "code",
   "execution_count": 7,
   "metadata": {},
   "outputs": [],
   "source": [
    "assert(len(observations)==len(summary_statistics(model({}))))"
   ]
  },
  {
   "cell_type": "code",
   "execution_count": 8,
   "metadata": {},
   "outputs": [
    {
     "data": {
      "text/plain": [
       "{'0': -0.6369319312622297,\n",
       " '1': 0.7476348825252987,\n",
       " '2': 0.36780703480137916,\n",
       " '3': 1.180624463131521,\n",
       " '4': 0.5124031635380145,\n",
       " '5': 0.0,\n",
       " '6': 0.0}"
      ]
     },
     "execution_count": 8,
     "metadata": {},
     "output_type": "execute_result"
    }
   ],
   "source": [
    "summary_statistics(model({}))"
   ]
  },
  {
   "cell_type": "code",
   "execution_count": 9,
   "metadata": {},
   "outputs": [
    {
     "data": {
      "image/png": "[encoded data removed]",
      "text/plain": [
       "<Figure size 2573.5x360 with 7 Axes>"
      ]
     },
     "metadata": {
      "needs_background": "light"
     },
     "output_type": "display_data"
    }
   ],
   "source": [
    "from ionchannelABC import plot_sim_results\n",
    "g = plot_sim_results(modelfile, ap, pacevar='engine.pace', prev_runs=prev_runs)"
   ]
  },
  {
   "cell_type": "markdown",
   "metadata": {},
   "source": [
    "## Set limits and generate uniform initial priors"
   ]
  },
  {
   "cell_type": "code",
   "execution_count": null,
   "metadata": {},
   "outputs": [],
   "source": [
    "from pyabc import Distribution, RV\n",
    "limits = {'calcium_sr.V_SR': (0, 0.1),\n",
    "          'log_calcium_sr.Buf_tot': (0, 6.),\n",
    "          'log_calcium_sr.Km_Buf': (0, 3.),\n",
    "          'log_ca_diff.tau_tr': (0, 3.),\n",
    "          'serca.V_max': (0, 1.),\n",
    "          'log_jleak.k_leak': (-7, -5),\n",
    "          'ryr.k_RyR': (0, 0.1),\n",
    "          'icab.g_Cab': (0, 0.01),\n",
    "          'inab.g_Nab': (0, 0.01),\n",
    "          'incx.k_NCX': (0, 10),\n",
    "          'inak.i_NaK_max': (0, 10),\n",
    "          'ipca.g_pCa': (0, 0.1),\n",
    "          'calcium.D_Ca': (0, 1e2),\n",
    "          'calcium.Buf_tot': (0, 1e2),\n",
    "          'calcium.Km_Buf': (0, 10),\n",
    "          'ical.k_fCass': (0, 10),\n",
    "         }\n",
    "prior = Distribution(**{key: RV(\"uniform\", a, b - a)\n",
    "                        for key, (a,b) in limits.items()})"
   ]
  },
  {
   "cell_type": "markdown",
   "metadata": {},
   "source": [
    "## Run ABC calibration"
   ]
  },
  {
   "cell_type": "code",
   "execution_count": null,
   "metadata": {},
   "outputs": [],
   "source": [
    "import os, tempfile\n",
    "db_path = (\"sqlite:///\" +\n",
    "           os.path.join(tempfile.gettempdir(), \"whole_cell.db\"))"
   ]
  },
  {
   "cell_type": "code",
   "execution_count": null,
   "metadata": {},
   "outputs": [],
   "source": [
    "# Let's log all the sh!t\n",
    "import logging\n",
    "logging.basicConfig()\n",
    "abc_logger = logging.getLogger('ABC')\n",
    "abc_logger.setLevel(logging.DEBUG)\n",
    "eps_logger = logging.getLogger('Epsilon')\n",
    "eps_logger.setLevel(logging.DEBUG)"
   ]
  },
  {
   "cell_type": "code",
   "execution_count": null,
   "metadata": {},
   "outputs": [
    {
     "name": "stdout",
     "output_type": "stream",
     "text": [
      "Theoretical minimum population size is 32768 particles\n"
     ]
    }
   ],
   "source": [
    "from pyabc.populationstrategy import AdaptivePopulationSize, ConstantPopulationSize\n",
    "from ionchannelABC import theoretical_population_size\n",
    "pop_size = theoretical_population_size(2, len(limits))\n",
    "print(\"Theoretical minimum population size is {} particles\".format(pop_size))"
   ]
  },
  {
   "cell_type": "code",
   "execution_count": null,
   "metadata": {},
   "outputs": [
    {
     "name": "stderr",
     "output_type": "stream",
     "text": [
      "DEBUG:ABC:ion channel weights: {'0': 0.742034919710861, '1': 0.5104332251839483, '2': 1.753123460328047, '3': 0.19534724991847946, '4': 1.3338160267724242, '5': 1.1831023514309071, '6': 1.2821427666553327}\n",
      "DEBUG:Epsilon:init quantile_epsilon initial_epsilon=100, quantile_multiplier=1\n"
     ]
    }
   ],
   "source": [
    "from pyabc import ABCSMC\n",
    "from pyabc.epsilon import MedianEpsilon\n",
    "from pyabc.sampler import MulticoreEvalParallelSampler, SingleCoreSampler\n",
    "from ionchannelABC import IonChannelDistance, EfficientMultivariateNormalTransition, IonChannelAcceptor\n",
    "\n",
    "abc = ABCSMC(models=model,\n",
    "             parameter_priors=prior,\n",
    "             distance_function=IonChannelDistance(\n",
    "                 exp_id=list(observations.exp_id),\n",
    "                 variance=list(observations.variance),\n",
    "                 delta=0.05),\n",
    "             population_size=ConstantPopulationSize(1e4),\n",
    "             summary_statistics=summary_statistics,\n",
    "             transitions=EfficientMultivariateNormalTransition(),\n",
    "             eps=MedianEpsilon(initial_epsilon=100),\n",
    "             sampler=MulticoreEvalParallelSampler(n_procs=6),\n",
    "             acceptor=IonChannelAcceptor())"
   ]
  },
  {
   "cell_type": "code",
   "execution_count": null,
   "metadata": {},
   "outputs": [],
   "source": [
    "obs = observations.to_dict()['y']\n",
    "obs = {str(k): v for k, v in obs.items()}"
   ]
  },
  {
   "cell_type": "code",
   "execution_count": null,
   "metadata": {
    "scrolled": true
   },
   "outputs": [
    {
     "name": "stderr",
     "output_type": "stream",
     "text": [
      "INFO:History:Start <ABCSMC(id=1, start_time=2019-08-05 19:21:59.287702, end_time=None)>\n"
     ]
    }
   ],
   "source": [
    "abc_id = abc.new(db_path, obs)"
   ]
  },
  {
   "cell_type": "code",
   "execution_count": null,
   "metadata": {},
   "outputs": [
    {
     "name": "stderr",
     "output_type": "stream",
     "text": [
      "INFO:ABC:t:0 eps:100\n",
      "DEBUG:ABC:now submitting population 0\n"
     ]
    }
   ],
   "source": [
    "history = abc.run(minimum_epsilon=0., max_nr_populations=100, min_acceptance_rate=0.001)"
   ]
  },
  {
   "cell_type": "markdown",
   "metadata": {},
   "source": [
    "# Results analysis"
   ]
  },
  {
   "cell_type": "code",
   "execution_count": null,
   "metadata": {},
   "outputs": [],
   "source": [
    "from pyabc import History"
   ]
  },
  {
   "cell_type": "code",
   "execution_count": null,
   "metadata": {},
   "outputs": [],
   "source": [
    "print(db_path)\n",
    "history = History(db_path)\n",
    "history.all_runs()"
   ]
  },
  {
   "cell_type": "code",
   "execution_count": null,
   "metadata": {},
   "outputs": [],
   "source": [
    "history.id = 1"
   ]
  },
  {
   "cell_type": "code",
   "execution_count": null,
   "metadata": {},
   "outputs": [],
   "source": [
    "df, w = history.get_distribution(m=0)"
   ]
  },
  {
   "cell_type": "code",
   "execution_count": null,
   "metadata": {
    "scrolled": true
   },
   "outputs": [],
   "source": [
    "df.describe()"
   ]
  },
  {
   "cell_type": "code",
   "execution_count": null,
   "metadata": {
    "scrolled": true
   },
   "outputs": [],
   "source": [
    "from ionchannelABC import plot_parameters_kde\n",
    "g = plot_parameters_kde(df, w, limits, aspect=12,height=0.6)"
   ]
  },
  {
   "cell_type": "markdown",
   "metadata": {},
   "source": [
    "# Samples for quantitative analysis"
   ]
  },
  {
   "cell_type": "code",
   "execution_count": null,
   "metadata": {},
   "outputs": [],
   "source": [
    "# Generate parameter samples\n",
    "n_samples = 100\n",
    "df, w = history.get_distribution(m=0)\n",
    "th_samples = df.sample(n=n_samples, weights=w, replace=True).to_dict(orient='records')"
   ]
  },
  {
   "cell_type": "code",
   "execution_count": null,
   "metadata": {},
   "outputs": [],
   "source": [
    "# Generate sim results samples\n",
    "import pandas as pd\n",
    "samples = pd.DataFrame({})\n",
    "for i, th in enumerate(th_samples):\n",
    "    results = summary_statistics(model(th))\n",
    "    output = pd.DataFrame({'x': observations.x, 'y': list(results.values()),\n",
    "                           'exp_id': observations.exp_id})\n",
    "    #output = model.sample(pars=th, n_x=50)\n",
    "    output['sample'] = i\n",
    "    output['distribution'] = 'post'\n",
    "    samples = samples.append(output, ignore_index=True)"
   ]
  },
  {
   "cell_type": "code",
   "execution_count": null,
   "metadata": {
    "scrolled": true
   },
   "outputs": [],
   "source": [
    "from ionchannelABC import plot_sim_results\n",
    "import seaborn as sns\n",
    "sns.set_context('talk')\n",
    "g = plot_sim_results(samples, obs=observations)\n",
    "\n",
    "# Set axis labels\n",
    "#xlabels = [\"voltage, mV\", \"voltage, mV\", \"voltage, mV\", \"time, ms\"]#, \"time, ms\",\"voltage, mV\"]\n",
    "#ylabels = [\"normalised current density, pA/pF\", \"activation\", \"inactivation\", \"recovery\"]#, \"normalised current\",\"current density, pA/pF\"]\n",
    "#for ax, xl in zip(g.axes.flatten(), xlabels):\n",
    "#    ax.set_xlabel(xl)\n",
    "#for ax, yl in zip(g.axes.flatten(), ylabels):\n",
    "#    ax.set_ylabel(yl)"
   ]
  },
  {
   "cell_type": "code",
   "execution_count": null,
   "metadata": {},
   "outputs": [],
   "source": [
    "def plot_sim_results_all(samples: pd.DataFrame):\n",
    "    with sns.color_palette(\"gray\"):\n",
    "        grid = sns.relplot(x='x', y='y',\n",
    "                           col='exp_id',\n",
    "                           units='sample',\n",
    "                           kind='line',\n",
    "                           data=samples,\n",
    "                           estimator=None, lw=0.5,\n",
    "                           alpha=0.5,\n",
    "                           #estimator=np.median,\n",
    "                           facet_kws={'sharex': 'col',\n",
    "                                      'sharey': 'col'})\n",
    "    return grid"
   ]
  },
  {
   "cell_type": "code",
   "execution_count": null,
   "metadata": {},
   "outputs": [],
   "source": [
    "grid2 = plot_sim_results_all(samples)"
   ]
  },
  {
   "cell_type": "code",
   "execution_count": null,
   "metadata": {},
   "outputs": [],
   "source": [
    "#grid2.savefig('results/icat-generic/icat_sim_results_all.pdf')"
   ]
  },
  {
   "cell_type": "code",
   "execution_count": null,
   "metadata": {},
   "outputs": [],
   "source": [
    "import numpy as np"
   ]
  },
  {
   "cell_type": "code",
   "execution_count": null,
   "metadata": {},
   "outputs": [],
   "source": [
    "# Mean current density\n",
    "print(np.mean(samples[samples.exp=='0'].groupby('sample').min()['y']))\n",
    "# Std current density\n",
    "print(np.std(samples[samples.exp=='0'].groupby('sample').min()['y']))"
   ]
  },
  {
   "cell_type": "code",
   "execution_count": null,
   "metadata": {},
   "outputs": [],
   "source": [
    "import scipy.stats as st\n",
    "peak_current = samples[samples['exp']=='0'].groupby('sample').min()['y'].tolist()\n",
    "rv = st.rv_discrete(values=(peak_current, [1/len(peak_current),]*len(peak_current)))"
   ]
  },
  {
   "cell_type": "code",
   "execution_count": null,
   "metadata": {},
   "outputs": [],
   "source": [
    "print(\"median: {}\".format(rv.median()))\n",
    "print(\"95% CI: {}\".format(rv.interval(0.95)))"
   ]
  },
  {
   "cell_type": "code",
   "execution_count": null,
   "metadata": {},
   "outputs": [],
   "source": [
    "# Voltage of peak current density\n",
    "idxs = samples[samples.exp=='0'].groupby('sample').idxmin()['y']\n",
    "print(\"mean: {}\".format(np.mean(samples.iloc[idxs]['x'])))\n",
    "print(\"STD: {}\".format(np.std(samples.iloc[idxs]['x'])))"
   ]
  },
  {
   "cell_type": "code",
   "execution_count": null,
   "metadata": {},
   "outputs": [],
   "source": [
    "voltage_peak = samples.iloc[idxs]['x'].tolist()\n",
    "rv = st.rv_discrete(values=(voltage_peak, [1/len(voltage_peak),]*len(voltage_peak)))\n",
    "print(\"median: {}\".format(rv.median()))\n",
    "print(\"95% CI: {}\".format(rv.interval(0.95)))"
   ]
  },
  {
   "cell_type": "code",
   "execution_count": null,
   "metadata": {},
   "outputs": [],
   "source": [
    "# Half activation potential\n",
    "# Fit of activation to Boltzmann equation\n",
    "from scipy.optimize import curve_fit\n",
    "grouped = samples[samples['exp']=='1'].groupby('sample')\n",
    "def fit_boltzmann(group):\n",
    "    def boltzmann(V, Vhalf, K):\n",
    "        return 1/(1+np.exp((Vhalf-V)/K))\n",
    "    guess = (-30, 10)\n",
    "    popt, _ = curve_fit(boltzmann, group.x, group.y)\n",
    "    return popt\n",
    "output = grouped.apply(fit_boltzmann).apply(pd.Series)"
   ]
  },
  {
   "cell_type": "code",
   "execution_count": null,
   "metadata": {},
   "outputs": [],
   "source": [
    "print(np.mean(output))\n",
    "print(np.std(output))"
   ]
  },
  {
   "cell_type": "code",
   "execution_count": null,
   "metadata": {},
   "outputs": [],
   "source": [
    "Vhalf = output[0].tolist()\n",
    "rv = st.rv_discrete(values=(Vhalf, [1/len(Vhalf),]*len(Vhalf)))\n",
    "print(\"median: {}\".format(rv.median()))\n",
    "print(\"95% CI: {}\".format(rv.interval(0.95)))"
   ]
  },
  {
   "cell_type": "code",
   "execution_count": null,
   "metadata": {},
   "outputs": [],
   "source": [
    "slope = output[1].tolist()\n",
    "rv = st.rv_discrete(values=(slope, [1/len(slope),]*len(slope)))\n",
    "print(\"median: {}\".format(rv.median()))\n",
    "print(\"95% CI: {}\".format(rv.interval(0.95)))"
   ]
  },
  {
   "cell_type": "code",
   "execution_count": null,
   "metadata": {},
   "outputs": [],
   "source": [
    "# Half activation potential\n",
    "grouped = samples[samples['exp']=='2'].groupby('sample')\n",
    "def fit_boltzmann(group):\n",
    "    def boltzmann(V, Vhalf, K):\n",
    "        return 1-1/(1+np.exp((Vhalf-V)/K))\n",
    "    guess = (-100, 10)\n",
    "    popt, _ = curve_fit(boltzmann, group.x, group.y,\n",
    "                        bounds=([-100, 1], [0, 30]))\n",
    "    return popt\n",
    "output = grouped.apply(fit_boltzmann).apply(pd.Series)"
   ]
  },
  {
   "cell_type": "code",
   "execution_count": null,
   "metadata": {},
   "outputs": [],
   "source": [
    "print(np.mean(output))\n",
    "print(np.std(output))"
   ]
  },
  {
   "cell_type": "code",
   "execution_count": null,
   "metadata": {},
   "outputs": [],
   "source": [
    "Vhalf = output[0].tolist()\n",
    "rv = st.rv_discrete(values=(Vhalf, [1/len(Vhalf),]*len(Vhalf)))\n",
    "print(\"median: {}\".format(rv.median()))\n",
    "print(\"95% CI: {}\".format(rv.interval(0.95)))"
   ]
  },
  {
   "cell_type": "code",
   "execution_count": null,
   "metadata": {},
   "outputs": [],
   "source": [
    "slope = output[1].tolist()\n",
    "rv = st.rv_discrete(values=(slope, [1/len(slope),]*len(slope)))\n",
    "print(\"median: {}\".format(rv.median()))\n",
    "print(\"95% CI: {}\".format(rv.interval(0.95)))"
   ]
  },
  {
   "cell_type": "code",
   "execution_count": null,
   "metadata": {},
   "outputs": [],
   "source": [
    "# Recovery time constant\n",
    "grouped = samples[samples.exp=='3'].groupby('sample')\n",
    "def fit_single_exp(group):\n",
    "    def single_exp(t, I_max, tau):\n",
    "        return I_max*(1-np.exp(-t/tau))\n",
    "    guess = (1, 50)\n",
    "    popt, _ = curve_fit(single_exp, group.x, group.y, guess)\n",
    "    return popt[1]\n",
    "output = grouped.apply(fit_single_exp)"
   ]
  },
  {
   "cell_type": "code",
   "execution_count": null,
   "metadata": {
    "scrolled": true
   },
   "outputs": [],
   "source": [
    "print(np.mean(output))\n",
    "print(np.std(output))"
   ]
  },
  {
   "cell_type": "code",
   "execution_count": null,
   "metadata": {},
   "outputs": [],
   "source": [
    "tau = output.tolist()\n",
    "rv = st.rv_discrete(values=(tau, [1/len(tau),]*len(tau)))\n",
    "print(\"median: {}\".format(rv.median()))\n",
    "print(\"95% CI: {}\".format(rv.interval(0.95)))"
   ]
  },
  {
   "cell_type": "code",
   "execution_count": null,
   "metadata": {},
   "outputs": [],
   "source": []
  }
 ],
 "metadata": {
  "kernelspec": {
   "display_name": "Python 3",
   "language": "python",
   "name": "python3"
  },
  "language_info": {
   "codemirror_mode": {
    "name": "ipython",
    "version": 3
   },
   "file_extension": ".py",
   "mimetype": "text/x-python",
   "name": "python",
   "nbconvert_exporter": "python",
   "pygments_lexer": "ipython3",
   "version": "3.7.3"
  }
 },
 "nbformat": 4,
 "nbformat_minor": 2
}
