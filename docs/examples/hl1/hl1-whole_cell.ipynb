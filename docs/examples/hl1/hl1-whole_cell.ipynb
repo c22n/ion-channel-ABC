{
 "cells": [
  {
   "cell_type": "markdown",
   "metadata": {},
   "source": [
    "## Create and test ion channel model"
   ]
  },
  {
   "cell_type": "code",
   "execution_count": 1,
   "metadata": {},
   "outputs": [],
   "source": [
    "import numpy as np\n",
    "import pyabc\n",
    "import matplotlib.pyplot as plt"
   ]
  },
  {
   "cell_type": "code",
   "execution_count": 2,
   "metadata": {},
   "outputs": [
    {
     "name": "stderr",
     "output_type": "stream",
     "text": [
      "INFO:myokit:Loading Myokit version 1.28.3\n"
     ]
    }
   ],
   "source": [
    "from experiments.whole_cell import ap"
   ]
  },
  {
   "cell_type": "code",
   "execution_count": 3,
   "metadata": {},
   "outputs": [],
   "source": [
    "from ionchannelABC.experiment import setup"
   ]
  },
  {
   "cell_type": "code",
   "execution_count": 4,
   "metadata": {},
   "outputs": [],
   "source": [
    "modelfile = 'models/HL1.mmt'"
   ]
  },
  {
   "cell_type": "code",
   "execution_count": 5,
   "metadata": {},
   "outputs": [],
   "source": [
    "prev_runs = ['ina/hl1_ina.db',\n",
    "             'ical/hl1_ical.db',\n",
    "             'icat/hl1_icat.db',\n",
    "             'iha/hl1_iha.db',\n",
    "             'ik1/hl1_ik1.db',\n",
    "             'ikr/hl1_ikr.db',\n",
    "             'ito/hl1_ito.db',\n",
    "             'ikss/hl1_ikss.db']\n",
    "prev_runs = ['sqlite:///results/'+path\n",
    "             for path in prev_runs]"
   ]
  },
  {
   "cell_type": "code",
   "execution_count": 6,
   "metadata": {},
   "outputs": [],
   "source": [
    "# include uncertainty in membrane capacitance\n",
    "additional_pars = {'membrane.Cm': pyabc.RV(\"norm\", loc=13.7, scale=(np.sqrt(12)*1.4))}\n",
    "additional_pars = pyabc.Distribution(additional_pars)"
   ]
  },
  {
   "cell_type": "code",
   "execution_count": 7,
   "metadata": {
    "scrolled": true
   },
   "outputs": [],
   "source": [
    "observations, model, summary_statistics = setup(modelfile, ap, \n",
    "                                                pacevar='engine.pace',\n",
    "                                                tvar='phys.T',\n",
    "                                                logvars=['membrane.V','calcium.Ca_i','engine.time'],\n",
    "                                                prev_runs=prev_runs,\n",
    "                                                timeout=5,\n",
    "                                                additional_pars=additional_pars)"
   ]
  },
  {
   "cell_type": "code",
   "execution_count": 8,
   "metadata": {},
   "outputs": [],
   "source": [
    "assert(len(observations)==len(summary_statistics(model({}))))"
   ]
  },
  {
   "cell_type": "code",
   "execution_count": 9,
   "metadata": {},
   "outputs": [
    {
     "data": {
      "text/plain": [
       "{'0': -1.071061051497674,\n",
       " '1': 0.933650583905267,\n",
       " '2': 0.9279749939282933,\n",
       " '3': 0.7128128585592051,\n",
       " '4': 0.50467011735156,\n",
       " '5': inf,\n",
       " '6': inf}"
      ]
     },
     "execution_count": 9,
     "metadata": {},
     "output_type": "execute_result"
    }
   ],
   "source": [
    "summary_statistics(model({}))"
   ]
  },
  {
   "cell_type": "code",
   "execution_count": 10,
   "metadata": {
    "scrolled": true
   },
   "outputs": [
    {
     "data": {
      "image/png": "[encoded data removed]",
      "text/plain": [
       "<Figure size 2520x360 with 7 Axes>"
      ]
     },
     "metadata": {
      "needs_background": "light"
     },
     "output_type": "display_data"
    }
   ],
   "source": [
    "from ionchannelABC import plot_sim_results\n",
    "g = plot_sim_results(modelfile, ap, pacevar='engine.pace', tvar='phys.T', prev_runs=prev_runs)"
   ]
  },
  {
   "cell_type": "markdown",
   "metadata": {},
   "source": [
    "## Set limits and generate uniform initial priors"
   ]
  },
  {
   "cell_type": "code",
   "execution_count": 11,
   "metadata": {},
   "outputs": [],
   "source": [
    "from pyabc import Distribution, RV\n",
    "limits = {#'cell.V_SR': (0, 0.1), # volume of sarcoplasmic reticulum\n",
    "          #'log_calcium_sr.Buf_tot': (0, 6.), # calcium buffering in SR (total)\n",
    "          #'log_calcium_sr.Km_Buf': (0, 3.), # calcium buffering in SR (Km)\n",
    "          'log_tr.tau_tr': (0, 3.), # time constant for calcium diffusion\n",
    "          'serca.V_max': (0, 1.), # maximum velocity of SERCA calcium uptake\n",
    "          'log_leak.k_leak': (-7, -5), # maximum conductance of leak calcium current\n",
    "          'ryr.k_RyR': (0, 0.1), # maximum conductance of ryanodine receptor current\n",
    "          #'icab.g_Cab': (0, 0.01), # maximum conductance of background calcium currents\n",
    "          'inab.g_Nab': (0, 0.01), # maximum conductance of background sodium currents\n",
    "          'incx.k_NCX': (0, 10), # maximum conductance of Na-Ca exchange current\n",
    "          'inak.i_NaK_max': (0, 10), # maxmimum conductance of Na-K pump current\n",
    "          #'ipca.g_pCa': (0, 0.1), # maximum conductance of calcium pump current\n",
    "          'log_diff.tau_diff': (-3, -1), # cytosolic calcium diffusion coefficient\n",
    "          #'calcium.D_Ca': (0, 1e2), # cytosolic calcium diffusion coefficient\n",
    "          #'calcium.Buf_tot': (0, 1e2), # calcium buffering in cytosol\n",
    "          #'calcium.Km_Buf': (0, 10), # calcium buffer in cytosol (Km)\n",
    "          #'ical.k_fCass': (0, 10), # steady-state calcium current\n",
    "         }\n",
    "prior = Distribution(**{key: RV(\"uniform\", a, b - a)\n",
    "                        for key, (a,b) in limits.items()})"
   ]
  },
  {
   "cell_type": "code",
   "execution_count": 12,
   "metadata": {},
   "outputs": [
    {
     "data": {
      "text/plain": [
       "{'0': -1.0615990754726845,\n",
       " '1': 0.9273207973180537,\n",
       " '2': 0.8706793756341898,\n",
       " '3': 0.6659560619813246,\n",
       " '4': 0.4516319876151471,\n",
       " '5': inf,\n",
       " '6': inf}"
      ]
     },
     "execution_count": 12,
     "metadata": {},
     "output_type": "execute_result"
    }
   ],
   "source": [
    "summary_statistics(model(prior.rvs()))"
   ]
  },
  {
   "cell_type": "markdown",
   "metadata": {},
   "source": [
    "## Run ABC calibration"
   ]
  },
  {
   "cell_type": "code",
   "execution_count": 13,
   "metadata": {},
   "outputs": [],
   "source": [
    "import os, tempfile\n",
    "db_path = (\"sqlite:///\" +\n",
    "           os.path.join(tempfile.gettempdir(), \"whole_cell.db\"))"
   ]
  },
  {
   "cell_type": "code",
   "execution_count": 14,
   "metadata": {},
   "outputs": [],
   "source": [
    "# Let's log all the sh!t\n",
    "import logging\n",
    "logging.basicConfig()\n",
    "abc_logger = logging.getLogger('ABC')\n",
    "abc_logger.setLevel(logging.DEBUG)\n",
    "eps_logger = logging.getLogger('Epsilon')\n",
    "eps_logger.setLevel(logging.DEBUG)"
   ]
  },
  {
   "cell_type": "code",
   "execution_count": 15,
   "metadata": {},
   "outputs": [
    {
     "name": "stdout",
     "output_type": "stream",
     "text": [
      "Theoretical minimum population size is 256 particles\n"
     ]
    }
   ],
   "source": [
    "from pyabc.populationstrategy import AdaptivePopulationSize, ConstantPopulationSize\n",
    "from ionchannelABC import theoretical_population_size\n",
    "pop_size = theoretical_population_size(2, len(limits))\n",
    "print(\"Theoretical minimum population size is {} particles\".format(pop_size))"
   ]
  },
  {
   "cell_type": "code",
   "execution_count": 16,
   "metadata": {},
   "outputs": [
    {
     "name": "stderr",
     "output_type": "stream",
     "text": [
      "DEBUG:ABC:ion channel weights: {'0': 0.742034919710861, '1': 0.5104332251839483, '2': 1.753123460328047, '3': 0.19534724991847946, '4': 1.3338160267724242, '5': 1.1831023514309071, '6': 1.2821427666553327}\n",
      "DEBUG:Epsilon:init quantile_epsilon initial_epsilon=10, quantile_multiplier=1\n"
     ]
    }
   ],
   "source": [
    "import pyabc\n",
    "from pyabc import ABCSMC\n",
    "from pyabc.epsilon import MedianEpsilon\n",
    "from pyabc.sampler import MulticoreEvalParallelSampler, SingleCoreSampler\n",
    "from ionchannelABC import IonChannelDistance, EfficientMultivariateNormalTransition, IonChannelAcceptor\n",
    "\n",
    "abc = ABCSMC(models=model,\n",
    "             parameter_priors=prior,\n",
    "             distance_function=IonChannelDistance(\n",
    "                 exp_id=list(observations.exp_id),\n",
    "                 variance=list(observations.variance),\n",
    "                 delta=0.05),\n",
    "             population_size=ConstantPopulationSize(1000),\n",
    "             summary_statistics=summary_statistics,\n",
    "             transitions=EfficientMultivariateNormalTransition(),\n",
    "             eps=MedianEpsilon(initial_epsilon=10),\n",
    "             sampler=MulticoreEvalParallelSampler(n_procs=8),\n",
    "             acceptor=IonChannelAcceptor())"
   ]
  },
  {
   "cell_type": "code",
   "execution_count": 17,
   "metadata": {},
   "outputs": [],
   "source": [
    "obs = observations.to_dict()['y']\n",
    "obs = {str(k): v for k, v in obs.items()}"
   ]
  },
  {
   "cell_type": "code",
   "execution_count": 18,
   "metadata": {
    "scrolled": true
   },
   "outputs": [
    {
     "name": "stderr",
     "output_type": "stream",
     "text": [
      "INFO:History:Start <ABCSMC(id=1, start_time=2019-12-05 11:25:50.612844, end_time=None)>\n"
     ]
    }
   ],
   "source": [
    "abc_id = abc.new(db_path, obs)"
   ]
  },
  {
   "cell_type": "code",
   "execution_count": null,
   "metadata": {
    "scrolled": true
   },
   "outputs": [
    {
     "name": "stderr",
     "output_type": "stream",
     "text": [
      "INFO:ABC:t:0 eps:10\n",
      "DEBUG:ABC:now submitting population 0\n",
      "DEBUG:ABC:population 0 done\n",
      "DEBUG:ABC:\n",
      "total nr simulations up to t =0 is 2457\n",
      "DEBUG:Epsilon:new eps, t=1, eps=1.0452572325693457\n",
      "INFO:ABC:t:1 eps:1.0452572325693457\n",
      "DEBUG:ABC:now submitting population 1\n",
      "DEBUG:ABC:population 1 done\n",
      "DEBUG:ABC:\n",
      "total nr simulations up to t =1 is 6450\n",
      "DEBUG:Epsilon:new eps, t=2, eps=0.7604543733978736\n",
      "INFO:ABC:t:2 eps:0.7604543733978736\n",
      "DEBUG:ABC:now submitting population 2\n",
      "DEBUG:ABC:population 2 done\n",
      "DEBUG:ABC:\n",
      "total nr simulations up to t =2 is 13390\n",
      "DEBUG:Epsilon:new eps, t=3, eps=0.6196601223393678\n",
      "INFO:ABC:t:3 eps:0.6196601223393678\n",
      "DEBUG:ABC:now submitting population 3\n",
      "DEBUG:ABC:population 3 done\n",
      "DEBUG:ABC:\n",
      "total nr simulations up to t =3 is 26914\n",
      "DEBUG:Epsilon:new eps, t=4, eps=0.5258850749233306\n",
      "INFO:ABC:t:4 eps:0.5258850749233306\n",
      "DEBUG:ABC:now submitting population 4\n"
     ]
    }
   ],
   "source": [
    "history = abc.run(minimum_epsilon=0., max_nr_populations=30, min_acceptance_rate=0.001)"
   ]
  },
  {
   "cell_type": "markdown",
   "metadata": {},
   "source": [
    "# Results analysis"
   ]
  },
  {
   "cell_type": "code",
   "execution_count": 21,
   "metadata": {},
   "outputs": [],
   "source": [
    "from pyabc import History"
   ]
  },
  {
   "cell_type": "code",
   "execution_count": 22,
   "metadata": {},
   "outputs": [
    {
     "name": "stdout",
     "output_type": "stream",
     "text": [
      "sqlite:////scratch/cph211/tmp/whole_cell.db\n"
     ]
    },
    {
     "data": {
      "text/plain": [
       "[<ABCSMC(id=1, start_time=2019-08-05 19:21:59.287702, end_time=None)>,\n",
       " <ABCSMC(id=2, start_time=2019-11-26 12:02:03.321793, end_time=None)>,\n",
       " <ABCSMC(id=3, start_time=2019-11-26 15:01:58.153931, end_time=None)>,\n",
       " <ABCSMC(id=4, start_time=2019-11-26 16:08:12.780695, end_time=None)>,\n",
       " <ABCSMC(id=5, start_time=2019-11-26 16:25:50.774667, end_time=None)>,\n",
       " <ABCSMC(id=6, start_time=2019-11-26 16:33:27.739244, end_time=None)>]"
      ]
     },
     "execution_count": 22,
     "metadata": {},
     "output_type": "execute_result"
    }
   ],
   "source": [
    "print(db_path)\n",
    "history = History(db_path)\n",
    "history.all_runs()"
   ]
  },
  {
   "cell_type": "code",
   "execution_count": 23,
   "metadata": {},
   "outputs": [],
   "source": [
    "df, w = history.get_distribution(m=0)"
   ]
  },
  {
   "cell_type": "code",
   "execution_count": 24,
   "metadata": {
    "scrolled": true
   },
   "outputs": [
    {
     "data": {
      "text/html": [
       "<div>\n",
       "<style scoped>\n",
       "    .dataframe tbody tr th:only-of-type {\n",
       "        vertical-align: middle;\n",
       "    }\n",
       "\n",
       "    .dataframe tbody tr th {\n",
       "        vertical-align: top;\n",
       "    }\n",
       "\n",
       "    .dataframe thead th {\n",
       "        text-align: right;\n",
       "    }\n",
       "</style>\n",
       "<table border=\"1\" class=\"dataframe\">\n",
       "  <thead>\n",
       "    <tr style=\"text-align: right;\">\n",
       "      <th>name</th>\n",
       "      <th>inab.g_Nab</th>\n",
       "      <th>inak.i_NaK_max</th>\n",
       "      <th>incx.k_NCX</th>\n",
       "      <th>log_diff.tau_diff</th>\n",
       "      <th>log_leak.k_leak</th>\n",
       "      <th>log_tr.tau_tr</th>\n",
       "      <th>ryr.k_RyR</th>\n",
       "      <th>serca.V_max</th>\n",
       "    </tr>\n",
       "  </thead>\n",
       "  <tbody>\n",
       "    <tr>\n",
       "      <th>count</th>\n",
       "      <td>500.000000</td>\n",
       "      <td>500.000000</td>\n",
       "      <td>500.000000</td>\n",
       "      <td>500.000000</td>\n",
       "      <td>500.000000</td>\n",
       "      <td>500.000000</td>\n",
       "      <td>500.000000</td>\n",
       "      <td>500.000000</td>\n",
       "    </tr>\n",
       "    <tr>\n",
       "      <th>mean</th>\n",
       "      <td>0.004827</td>\n",
       "      <td>5.919154</td>\n",
       "      <td>5.850845</td>\n",
       "      <td>-2.146371</td>\n",
       "      <td>-6.017261</td>\n",
       "      <td>1.474363</td>\n",
       "      <td>0.051865</td>\n",
       "      <td>0.510267</td>\n",
       "    </tr>\n",
       "    <tr>\n",
       "      <th>std</th>\n",
       "      <td>0.002786</td>\n",
       "      <td>2.486153</td>\n",
       "      <td>2.609016</td>\n",
       "      <td>0.527413</td>\n",
       "      <td>0.592632</td>\n",
       "      <td>0.839690</td>\n",
       "      <td>0.028846</td>\n",
       "      <td>0.280605</td>\n",
       "    </tr>\n",
       "    <tr>\n",
       "      <th>min</th>\n",
       "      <td>0.000003</td>\n",
       "      <td>0.192582</td>\n",
       "      <td>0.284398</td>\n",
       "      <td>-2.998998</td>\n",
       "      <td>-6.998286</td>\n",
       "      <td>0.000586</td>\n",
       "      <td>0.000153</td>\n",
       "      <td>0.000254</td>\n",
       "    </tr>\n",
       "    <tr>\n",
       "      <th>25%</th>\n",
       "      <td>0.002382</td>\n",
       "      <td>4.032591</td>\n",
       "      <td>3.673660</td>\n",
       "      <td>-2.580387</td>\n",
       "      <td>-6.512845</td>\n",
       "      <td>0.773624</td>\n",
       "      <td>0.027729</td>\n",
       "      <td>0.280153</td>\n",
       "    </tr>\n",
       "    <tr>\n",
       "      <th>50%</th>\n",
       "      <td>0.004820</td>\n",
       "      <td>6.123001</td>\n",
       "      <td>6.107050</td>\n",
       "      <td>-2.185413</td>\n",
       "      <td>-6.053827</td>\n",
       "      <td>1.506842</td>\n",
       "      <td>0.052138</td>\n",
       "      <td>0.492796</td>\n",
       "    </tr>\n",
       "    <tr>\n",
       "      <th>75%</th>\n",
       "      <td>0.007270</td>\n",
       "      <td>7.942739</td>\n",
       "      <td>8.115237</td>\n",
       "      <td>-1.722561</td>\n",
       "      <td>-5.521927</td>\n",
       "      <td>2.100345</td>\n",
       "      <td>0.077129</td>\n",
       "      <td>0.740441</td>\n",
       "    </tr>\n",
       "    <tr>\n",
       "      <th>max</th>\n",
       "      <td>0.009951</td>\n",
       "      <td>9.970184</td>\n",
       "      <td>9.996528</td>\n",
       "      <td>-1.038924</td>\n",
       "      <td>-5.010126</td>\n",
       "      <td>2.989883</td>\n",
       "      <td>0.099682</td>\n",
       "      <td>0.999647</td>\n",
       "    </tr>\n",
       "  </tbody>\n",
       "</table>\n",
       "</div>"
      ],
      "text/plain": [
       "name   inab.g_Nab  inak.i_NaK_max  incx.k_NCX  log_diff.tau_diff  \\\n",
       "count  500.000000      500.000000  500.000000         500.000000   \n",
       "mean     0.004827        5.919154    5.850845          -2.146371   \n",
       "std      0.002786        2.486153    2.609016           0.527413   \n",
       "min      0.000003        0.192582    0.284398          -2.998998   \n",
       "25%      0.002382        4.032591    3.673660          -2.580387   \n",
       "50%      0.004820        6.123001    6.107050          -2.185413   \n",
       "75%      0.007270        7.942739    8.115237          -1.722561   \n",
       "max      0.009951        9.970184    9.996528          -1.038924   \n",
       "\n",
       "name   log_leak.k_leak  log_tr.tau_tr   ryr.k_RyR  serca.V_max  \n",
       "count       500.000000     500.000000  500.000000   500.000000  \n",
       "mean         -6.017261       1.474363    0.051865     0.510267  \n",
       "std           0.592632       0.839690    0.028846     0.280605  \n",
       "min          -6.998286       0.000586    0.000153     0.000254  \n",
       "25%          -6.512845       0.773624    0.027729     0.280153  \n",
       "50%          -6.053827       1.506842    0.052138     0.492796  \n",
       "75%          -5.521927       2.100345    0.077129     0.740441  \n",
       "max          -5.010126       2.989883    0.099682     0.999647  "
      ]
     },
     "execution_count": 24,
     "metadata": {},
     "output_type": "execute_result"
    }
   ],
   "source": [
    "df.describe()"
   ]
  },
  {
   "cell_type": "code",
   "execution_count": null,
   "metadata": {
    "scrolled": true
   },
   "outputs": [],
   "source": [
    "from ionchannelABC import plot_parameters_kde\n",
    "g = plot_parameters_kde(df, w, limits, aspect=12,height=0.6)"
   ]
  },
  {
   "cell_type": "markdown",
   "metadata": {},
   "source": [
    "# Samples for quantitative analysis"
   ]
  },
  {
   "cell_type": "code",
   "execution_count": null,
   "metadata": {},
   "outputs": [],
   "source": [
    "# Generate parameter samples\n",
    "n_samples = 100\n",
    "df, w = history.get_distribution(m=0)\n",
    "th_samples = df.sample(n=n_samples, weights=w, replace=True).to_dict(orient='records')"
   ]
  },
  {
   "cell_type": "code",
   "execution_count": null,
   "metadata": {},
   "outputs": [],
   "source": [
    "# Generate sim results samples\n",
    "import pandas as pd\n",
    "samples = pd.DataFrame({})\n",
    "for i, th in enumerate(th_samples):\n",
    "    results = summary_statistics(model(th))\n",
    "    output = pd.DataFrame({'x': observations.x, 'y': list(results.values()),\n",
    "                           'exp_id': observations.exp_id})\n",
    "    #output = model.sample(pars=th, n_x=50)\n",
    "    output['sample'] = i\n",
    "    output['distribution'] = 'post'\n",
    "    samples = samples.append(output, ignore_index=True)"
   ]
  },
  {
   "cell_type": "code",
   "execution_count": null,
   "metadata": {
    "scrolled": true
   },
   "outputs": [],
   "source": [
    "from ionchannelABC import plot_sim_results\n",
    "import seaborn as sns\n",
    "sns.set_context('talk')\n",
    "g = plot_sim_results(samples, obs=observations)\n",
    "\n",
    "# Set axis labels\n",
    "#xlabels = [\"voltage, mV\", \"voltage, mV\", \"voltage, mV\", \"time, ms\"]#, \"time, ms\",\"voltage, mV\"]\n",
    "#ylabels = [\"normalised current density, pA/pF\", \"activation\", \"inactivation\", \"recovery\"]#, \"normalised current\",\"current density, pA/pF\"]\n",
    "#for ax, xl in zip(g.axes.flatten(), xlabels):\n",
    "#    ax.set_xlabel(xl)\n",
    "#for ax, yl in zip(g.axes.flatten(), ylabels):\n",
    "#    ax.set_ylabel(yl)"
   ]
  },
  {
   "cell_type": "code",
   "execution_count": null,
   "metadata": {},
   "outputs": [],
   "source": [
    "def plot_sim_results_all(samples: pd.DataFrame):\n",
    "    with sns.color_palette(\"gray\"):\n",
    "        grid = sns.relplot(x='x', y='y',\n",
    "                           col='exp_id',\n",
    "                           units='sample',\n",
    "                           kind='line',\n",
    "                           data=samples,\n",
    "                           estimator=None, lw=0.5,\n",
    "                           alpha=0.5,\n",
    "                           #estimator=np.median,\n",
    "                           facet_kws={'sharex': 'col',\n",
    "                                      'sharey': 'col'})\n",
    "    return grid"
   ]
  },
  {
   "cell_type": "code",
   "execution_count": null,
   "metadata": {},
   "outputs": [],
   "source": [
    "grid2 = plot_sim_results_all(samples)"
   ]
  },
  {
   "cell_type": "code",
   "execution_count": null,
   "metadata": {},
   "outputs": [],
   "source": [
    "#grid2.savefig('results/icat-generic/icat_sim_results_all.pdf')"
   ]
  },
  {
   "cell_type": "code",
   "execution_count": null,
   "metadata": {},
   "outputs": [],
   "source": [
    "import numpy as np"
   ]
  },
  {
   "cell_type": "code",
   "execution_count": null,
   "metadata": {},
   "outputs": [],
   "source": [
    "# Mean current density\n",
    "print(np.mean(samples[samples.exp=='0'].groupby('sample').min()['y']))\n",
    "# Std current density\n",
    "print(np.std(samples[samples.exp=='0'].groupby('sample').min()['y']))"
   ]
  },
  {
   "cell_type": "code",
   "execution_count": null,
   "metadata": {},
   "outputs": [],
   "source": [
    "import scipy.stats as st\n",
    "peak_current = samples[samples['exp']=='0'].groupby('sample').min()['y'].tolist()\n",
    "rv = st.rv_discrete(values=(peak_current, [1/len(peak_current),]*len(peak_current)))"
   ]
  },
  {
   "cell_type": "code",
   "execution_count": null,
   "metadata": {},
   "outputs": [],
   "source": [
    "print(\"median: {}\".format(rv.median()))\n",
    "print(\"95% CI: {}\".format(rv.interval(0.95)))"
   ]
  },
  {
   "cell_type": "code",
   "execution_count": null,
   "metadata": {},
   "outputs": [],
   "source": [
    "# Voltage of peak current density\n",
    "idxs = samples[samples.exp=='0'].groupby('sample').idxmin()['y']\n",
    "print(\"mean: {}\".format(np.mean(samples.iloc[idxs]['x'])))\n",
    "print(\"STD: {}\".format(np.std(samples.iloc[idxs]['x'])))"
   ]
  },
  {
   "cell_type": "code",
   "execution_count": null,
   "metadata": {},
   "outputs": [],
   "source": [
    "voltage_peak = samples.iloc[idxs]['x'].tolist()\n",
    "rv = st.rv_discrete(values=(voltage_peak, [1/len(voltage_peak),]*len(voltage_peak)))\n",
    "print(\"median: {}\".format(rv.median()))\n",
    "print(\"95% CI: {}\".format(rv.interval(0.95)))"
   ]
  },
  {
   "cell_type": "code",
   "execution_count": null,
   "metadata": {},
   "outputs": [],
   "source": [
    "# Half activation potential\n",
    "# Fit of activation to Boltzmann equation\n",
    "from scipy.optimize import curve_fit\n",
    "grouped = samples[samples['exp']=='1'].groupby('sample')\n",
    "def fit_boltzmann(group):\n",
    "    def boltzmann(V, Vhalf, K):\n",
    "        return 1/(1+np.exp((Vhalf-V)/K))\n",
    "    guess = (-30, 10)\n",
    "    popt, _ = curve_fit(boltzmann, group.x, group.y)\n",
    "    return popt\n",
    "output = grouped.apply(fit_boltzmann).apply(pd.Series)"
   ]
  },
  {
   "cell_type": "code",
   "execution_count": null,
   "metadata": {},
   "outputs": [],
   "source": [
    "print(np.mean(output))\n",
    "print(np.std(output))"
   ]
  },
  {
   "cell_type": "code",
   "execution_count": null,
   "metadata": {},
   "outputs": [],
   "source": [
    "Vhalf = output[0].tolist()\n",
    "rv = st.rv_discrete(values=(Vhalf, [1/len(Vhalf),]*len(Vhalf)))\n",
    "print(\"median: {}\".format(rv.median()))\n",
    "print(\"95% CI: {}\".format(rv.interval(0.95)))"
   ]
  },
  {
   "cell_type": "code",
   "execution_count": null,
   "metadata": {},
   "outputs": [],
   "source": [
    "slope = output[1].tolist()\n",
    "rv = st.rv_discrete(values=(slope, [1/len(slope),]*len(slope)))\n",
    "print(\"median: {}\".format(rv.median()))\n",
    "print(\"95% CI: {}\".format(rv.interval(0.95)))"
   ]
  },
  {
   "cell_type": "code",
   "execution_count": null,
   "metadata": {},
   "outputs": [],
   "source": [
    "# Half activation potential\n",
    "grouped = samples[samples['exp']=='2'].groupby('sample')\n",
    "def fit_boltzmann(group):\n",
    "    def boltzmann(V, Vhalf, K):\n",
    "        return 1-1/(1+np.exp((Vhalf-V)/K))\n",
    "    guess = (-100, 10)\n",
    "    popt, _ = curve_fit(boltzmann, group.x, group.y,\n",
    "                        bounds=([-100, 1], [0, 30]))\n",
    "    return popt\n",
    "output = grouped.apply(fit_boltzmann).apply(pd.Series)"
   ]
  },
  {
   "cell_type": "code",
   "execution_count": null,
   "metadata": {},
   "outputs": [],
   "source": [
    "print(np.mean(output))\n",
    "print(np.std(output))"
   ]
  },
  {
   "cell_type": "code",
   "execution_count": null,
   "metadata": {},
   "outputs": [],
   "source": [
    "Vhalf = output[0].tolist()\n",
    "rv = st.rv_discrete(values=(Vhalf, [1/len(Vhalf),]*len(Vhalf)))\n",
    "print(\"median: {}\".format(rv.median()))\n",
    "print(\"95% CI: {}\".format(rv.interval(0.95)))"
   ]
  },
  {
   "cell_type": "code",
   "execution_count": null,
   "metadata": {},
   "outputs": [],
   "source": [
    "slope = output[1].tolist()\n",
    "rv = st.rv_discrete(values=(slope, [1/len(slope),]*len(slope)))\n",
    "print(\"median: {}\".format(rv.median()))\n",
    "print(\"95% CI: {}\".format(rv.interval(0.95)))"
   ]
  },
  {
   "cell_type": "code",
   "execution_count": null,
   "metadata": {},
   "outputs": [],
   "source": [
    "# Recovery time constant\n",
    "grouped = samples[samples.exp=='3'].groupby('sample')\n",
    "def fit_single_exp(group):\n",
    "    def single_exp(t, I_max, tau):\n",
    "        return I_max*(1-np.exp(-t/tau))\n",
    "    guess = (1, 50)\n",
    "    popt, _ = curve_fit(single_exp, group.x, group.y, guess)\n",
    "    return popt[1]\n",
    "output = grouped.apply(fit_single_exp)"
   ]
  },
  {
   "cell_type": "code",
   "execution_count": null,
   "metadata": {
    "scrolled": true
   },
   "outputs": [],
   "source": [
    "print(np.mean(output))\n",
    "print(np.std(output))"
   ]
  },
  {
   "cell_type": "code",
   "execution_count": null,
   "metadata": {},
   "outputs": [],
   "source": [
    "tau = output.tolist()\n",
    "rv = st.rv_discrete(values=(tau, [1/len(tau),]*len(tau)))\n",
    "print(\"median: {}\".format(rv.median()))\n",
    "print(\"95% CI: {}\".format(rv.interval(0.95)))"
   ]
  },
  {
   "cell_type": "code",
   "execution_count": null,
   "metadata": {},
   "outputs": [],
   "source": []
  }
 ],
 "metadata": {
  "kernelspec": {
   "display_name": "Python 3",
   "language": "python",
   "name": "python3"
  },
  "language_info": {
   "codemirror_mode": {
    "name": "ipython",
    "version": 3
   },
   "file_extension": ".py",
   "mimetype": "text/x-python",
   "name": "python",
   "nbconvert_exporter": "python",
   "pygments_lexer": "ipython3",
   "version": "3.7.3"
  }
 },
 "nbformat": 4,
 "nbformat_minor": 2
}
