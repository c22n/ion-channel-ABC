{
 "cells": [
  {
   "cell_type": "markdown",
   "metadata": {},
   "source": [
    "# Imports"
   ]
  },
  {
   "cell_type": "code",
   "execution_count": 1,
   "metadata": {},
   "outputs": [
    {
     "name": "stderr",
     "output_type": "stream",
     "text": [
      "INFO:myokit:Loading Myokit version 1.28.3\n",
      "WARNING:myokit._config:Sundials version not set in myokit.ini. Continuing with detected version (20700). For a tiny performance boost, please set this version in /Users/charles/.config/myokit/myokit.ini\n"
     ]
    }
   ],
   "source": [
    "from channels.ina_testing import (dias2014_iv,\n",
    "                                  nakajima_inactivation,\n",
    "                                  zhang_recovery)"
   ]
  },
  {
   "cell_type": "code",
   "execution_count": 2,
   "metadata": {},
   "outputs": [],
   "source": [
    "from ionchannelABC.experiment import setup"
   ]
  },
  {
   "cell_type": "code",
   "execution_count": 3,
   "metadata": {},
   "outputs": [],
   "source": [
    "modelfile = 'models/ina_markov.mmt'"
   ]
  },
  {
   "cell_type": "code",
   "execution_count": 4,
   "metadata": {},
   "outputs": [],
   "source": [
    "observations, model, summary_statistics = setup(modelfile,\n",
    "                                                dias2014_iv,\n",
    "                                                nakajima_inactivation,\n",
    "                                                zhang_recovery)"
   ]
  },
  {
   "cell_type": "code",
   "execution_count": 6,
   "metadata": {},
   "outputs": [],
   "source": [
    "test = model(prior.rvs())"
   ]
  },
  {
   "cell_type": "code",
   "execution_count": 8,
   "metadata": {},
   "outputs": [],
   "source": [
    "ss = summary_statistics(test)"
   ]
  },
  {
   "cell_type": "code",
   "execution_count": 11,
   "metadata": {},
   "outputs": [],
   "source": [
    "assert(len(ss)==len(observations))"
   ]
  },
  {
   "cell_type": "markdown",
   "metadata": {},
   "source": [
    "## Set limits and generate uniform initial priors"
   ]
  },
  {
   "cell_type": "code",
   "execution_count": 5,
   "metadata": {},
   "outputs": [],
   "source": [
    "from pyabc import Distribution, RV\n",
    "limits = {'ina.g_Na': (0., 100.),\n",
    "          'ina.E_Na_offset': (-100, 100),\n",
    "          'log_ina.p_1': (-7., 3.),\n",
    "          'ina.p_2': (1e-7, 0.4),\n",
    "          'log_ina.p_3': (-7., 3.),\n",
    "          'ina.p_4': (1e-7, 0.4),\n",
    "          'log_ina.p_5': (-7., 3.),\n",
    "          'ina.p_6': (1e-7, 0.4),\n",
    "          'log_ina.p_7': (-7., 3.),\n",
    "          'ina.p_8': (1e-7, 0.4)}\n",
    "prior = Distribution(**{key: RV(\"uniform\", a, b - a)\n",
    "                        for key, (a,b) in limits.items()})"
   ]
  },
  {
   "cell_type": "code",
   "execution_count": 8,
   "metadata": {},
   "outputs": [],
   "source": [
    "test = log_model(prior.rvs())"
   ]
  },
  {
   "cell_type": "markdown",
   "metadata": {},
   "source": [
    "## Run ABC calibration"
   ]
  },
  {
   "cell_type": "code",
   "execution_count": 9,
   "metadata": {},
   "outputs": [
    {
     "name": "stdout",
     "output_type": "stream",
     "text": [
      "sqlite:////scratch/cph211/tmp/hl-1_ina_markov.db\n"
     ]
    }
   ],
   "source": [
    "import os, tempfile\n",
    "db_path = (\"sqlite:///\" +\n",
    "           os.path.join(tempfile.gettempdir(), \"hl-1_ina_markov.db\"))\n",
    "print(db_path)"
   ]
  },
  {
   "cell_type": "code",
   "execution_count": 10,
   "metadata": {},
   "outputs": [],
   "source": [
    "# Let's log all the sh!t\n",
    "import logging\n",
    "logging.basicConfig()\n",
    "abc_logger = logging.getLogger('ABC')\n",
    "abc_logger.setLevel(logging.DEBUG)\n",
    "eps_logger = logging.getLogger('Epsilon')\n",
    "eps_logger.setLevel(logging.DEBUG)\n",
    "cv_logger = logging.getLogger('CV Estimation')\n",
    "cv_logger.setLevel(logging.DEBUG)"
   ]
  },
  {
   "cell_type": "code",
   "execution_count": 11,
   "metadata": {},
   "outputs": [
    {
     "name": "stdout",
     "output_type": "stream",
     "text": [
      "Theoretical minimum population size is 1024 particles\n"
     ]
    }
   ],
   "source": [
    "from pyabc.populationstrategy import AdaptivePopulationSize, ConstantPopulationSize\n",
    "from ionchannelABC import theoretical_population_size\n",
    "pop_size = theoretical_population_size(2, len(limits))\n",
    "print(\"Theoretical minimum population size is {} particles\".format(pop_size))"
   ]
  },
  {
   "cell_type": "code",
   "execution_count": 12,
   "metadata": {},
   "outputs": [
    {
     "name": "stderr",
     "output_type": "stream",
     "text": [
      "DEBUG:ABC:ion channel weights: {'0': 0.2665485024022797, '1': 0.462044670017176, '2': 0.43302153596354354, '3': 0.461980228640604, '4': 0.49505279320776174, '5': 0.08662242548550923, '6': 0.10499550650922806, '7': 0.12157151338165031, '8': 0.17768470332330974, '9': 0.22353882030996863, '10': 0.2771649434652451, '11': 0.3464670508187988, '12': 0.3849611528099394, '13': 0.2099777013853015, '14': 0.18237065679420406, '15': 1.244482816343679, '16': 1.0785517741645285, '17': 1.1555911866048552, '18': 0.8987931451371055, '19': 0.9516633301451682, '20': 0.7353762096576325, '21': 0.539275887082263, '22': 0.9516633301451682, '23': 1.0111422882792485, '24': 1.7975862902742272, '25': 0.951663330145177, '26': 2.1611342452784923, '27': 2.1611342452784923, '28': 2.1611342452784923, '29': 2.1611342452784923, '30': 2.1611342452784923, '31': 2.1611342452784923, '32': 2.1611342452784923, '33': 2.1611342452784923, '34': 2.1611342452784923}\n",
      "DEBUG:Epsilon:init quantile_epsilon initial_epsilon=100, quantile_multiplier=1\n"
     ]
    }
   ],
   "source": [
    "from pyabc import ABCSMC\n",
    "from pyabc.epsilon import MedianEpsilon\n",
    "from pyabc.sampler import MulticoreEvalParallelSampler, SingleCoreSampler\n",
    "from ionchannelABC import IonChannelDistance, EfficientMultivariateNormalTransition, IonChannelAcceptor\n",
    "\n",
    "abc = ABCSMC(models=log_model,\n",
    "             parameter_priors=prior,\n",
    "             distance_function=IonChannelDistance(\n",
    "                 exp_id=list(observations.exp_id),\n",
    "                 variance=list(observations.variance),\n",
    "                 delta=0.05),\n",
    "             population_size=ConstantPopulationSize(10000),\n",
    "             summary_statistics=summary_statistics,\n",
    "             transitions=EfficientMultivariateNormalTransition(),\n",
    "             eps=MedianEpsilon(initial_epsilon=100),\n",
    "             sampler=MulticoreEvalParallelSampler(n_procs=6),\n",
    "             acceptor=IonChannelAcceptor())"
   ]
  },
  {
   "cell_type": "code",
   "execution_count": 13,
   "metadata": {},
   "outputs": [],
   "source": [
    "obs = observations.to_dict()['y']\n",
    "obs = {str(k): v for k, v in obs.items()}"
   ]
  },
  {
   "cell_type": "code",
   "execution_count": 14,
   "metadata": {},
   "outputs": [
    {
     "name": "stderr",
     "output_type": "stream",
     "text": [
      "INFO:History:Start <ABCSMC(id=1, start_time=2019-07-06 09:08:39.684892, end_time=None)>\n"
     ]
    }
   ],
   "source": [
    "abc_id = abc.new(db_path, obs)"
   ]
  },
  {
   "cell_type": "code",
   "execution_count": null,
   "metadata": {},
   "outputs": [
    {
     "name": "stderr",
     "output_type": "stream",
     "text": [
      "INFO:ABC:t:0 eps:100\n",
      "DEBUG:ABC:now submitting population 0\n",
      "DEBUG:ABC:population 0 done\n",
      "DEBUG:ABC:\n",
      "total nr simulations up to t =0 is 12256\n",
      "DEBUG:Epsilon:new eps, t=1, eps=7.659879918423631\n",
      "INFO:ABC:t:1 eps:7.659879918423631\n",
      "DEBUG:ABC:now submitting population 1\n"
     ]
    }
   ],
   "source": [
    "history = abc.run(minimum_epsilon=0.0, max_nr_populations=100, min_acceptance_rate=0.01)"
   ]
  },
  {
   "cell_type": "code",
   "execution_count": null,
   "metadata": {},
   "outputs": [],
   "source": [
    "history = abc.run(minimum_epsilon=0.0, max_nr_populations=100, min_acceptance_rate=0.005)"
   ]
  },
  {
   "cell_type": "markdown",
   "metadata": {},
   "source": [
    "## Results analysis"
   ]
  },
  {
   "cell_type": "code",
   "execution_count": 17,
   "metadata": {},
   "outputs": [
    {
     "data": {
      "text/plain": [
       "[<ABCSMC(id=1, start_time=2019-07-06 09:08:39.684892, end_time=2019-07-09 19:31:06.897879)>]"
      ]
     },
     "execution_count": 17,
     "metadata": {},
     "output_type": "execute_result"
    }
   ],
   "source": [
    "from pyabc import History\n",
    "history = History('sqlite:////scratch/cph211/tmp/hl-1_ina_markov.db')\n",
    "history.all_runs()"
   ]
  },
  {
   "cell_type": "code",
   "execution_count": 18,
   "metadata": {},
   "outputs": [],
   "source": [
    "history.id = 1\n",
    "df, w = history.get_distribution(m=0)"
   ]
  },
  {
   "cell_type": "code",
   "execution_count": 19,
   "metadata": {},
   "outputs": [
    {
     "data": {
      "text/html": [
       "<div>\n",
       "<style scoped>\n",
       "    .dataframe tbody tr th:only-of-type {\n",
       "        vertical-align: middle;\n",
       "    }\n",
       "\n",
       "    .dataframe tbody tr th {\n",
       "        vertical-align: top;\n",
       "    }\n",
       "\n",
       "    .dataframe thead th {\n",
       "        text-align: right;\n",
       "    }\n",
       "</style>\n",
       "<table border=\"1\" class=\"dataframe\">\n",
       "  <thead>\n",
       "    <tr style=\"text-align: right;\">\n",
       "      <th>name</th>\n",
       "      <th>ina.E_Na_offset</th>\n",
       "      <th>ina.g_Na</th>\n",
       "      <th>ina.p_2</th>\n",
       "      <th>ina.p_4</th>\n",
       "      <th>ina.p_6</th>\n",
       "      <th>ina.p_8</th>\n",
       "      <th>log_ina.p_1</th>\n",
       "      <th>log_ina.p_3</th>\n",
       "      <th>log_ina.p_5</th>\n",
       "      <th>log_ina.p_7</th>\n",
       "    </tr>\n",
       "  </thead>\n",
       "  <tbody>\n",
       "    <tr>\n",
       "      <th>count</th>\n",
       "      <td>10000.000000</td>\n",
       "      <td>10000.000000</td>\n",
       "      <td>10000.000000</td>\n",
       "      <td>1.000000e+04</td>\n",
       "      <td>10000.000000</td>\n",
       "      <td>10000.000000</td>\n",
       "      <td>10000.000000</td>\n",
       "      <td>10000.000000</td>\n",
       "      <td>10000.000000</td>\n",
       "      <td>10000.000000</td>\n",
       "    </tr>\n",
       "    <tr>\n",
       "      <th>mean</th>\n",
       "      <td>46.133635</td>\n",
       "      <td>14.001827</td>\n",
       "      <td>0.111611</td>\n",
       "      <td>1.070535e-05</td>\n",
       "      <td>0.104608</td>\n",
       "      <td>0.056675</td>\n",
       "      <td>1.119136</td>\n",
       "      <td>-1.408975</td>\n",
       "      <td>0.888114</td>\n",
       "      <td>-4.350350</td>\n",
       "    </tr>\n",
       "    <tr>\n",
       "      <th>std</th>\n",
       "      <td>0.028203</td>\n",
       "      <td>0.030201</td>\n",
       "      <td>0.000028</td>\n",
       "      <td>8.186144e-06</td>\n",
       "      <td>0.000046</td>\n",
       "      <td>0.000029</td>\n",
       "      <td>0.000427</td>\n",
       "      <td>0.000483</td>\n",
       "      <td>0.000622</td>\n",
       "      <td>0.001756</td>\n",
       "    </tr>\n",
       "    <tr>\n",
       "      <th>min</th>\n",
       "      <td>46.039495</td>\n",
       "      <td>13.904051</td>\n",
       "      <td>0.111394</td>\n",
       "      <td>1.002936e-07</td>\n",
       "      <td>0.104473</td>\n",
       "      <td>0.056588</td>\n",
       "      <td>1.116362</td>\n",
       "      <td>-1.411452</td>\n",
       "      <td>0.886260</td>\n",
       "      <td>-4.356380</td>\n",
       "    </tr>\n",
       "    <tr>\n",
       "      <th>25%</th>\n",
       "      <td>46.114032</td>\n",
       "      <td>13.980192</td>\n",
       "      <td>0.111595</td>\n",
       "      <td>4.481741e-06</td>\n",
       "      <td>0.104576</td>\n",
       "      <td>0.056654</td>\n",
       "      <td>1.118869</td>\n",
       "      <td>-1.409252</td>\n",
       "      <td>0.887671</td>\n",
       "      <td>-4.351590</td>\n",
       "    </tr>\n",
       "    <tr>\n",
       "      <th>50%</th>\n",
       "      <td>46.133808</td>\n",
       "      <td>14.000895</td>\n",
       "      <td>0.111617</td>\n",
       "      <td>8.824305e-06</td>\n",
       "      <td>0.104607</td>\n",
       "      <td>0.056674</td>\n",
       "      <td>1.119173</td>\n",
       "      <td>-1.408912</td>\n",
       "      <td>0.888104</td>\n",
       "      <td>-4.350291</td>\n",
       "    </tr>\n",
       "    <tr>\n",
       "      <th>75%</th>\n",
       "      <td>46.153618</td>\n",
       "      <td>14.022876</td>\n",
       "      <td>0.111632</td>\n",
       "      <td>1.499237e-05</td>\n",
       "      <td>0.104640</td>\n",
       "      <td>0.056695</td>\n",
       "      <td>1.119447</td>\n",
       "      <td>-1.408638</td>\n",
       "      <td>0.888546</td>\n",
       "      <td>-4.349068</td>\n",
       "    </tr>\n",
       "    <tr>\n",
       "      <th>max</th>\n",
       "      <td>46.221473</td>\n",
       "      <td>14.101738</td>\n",
       "      <td>0.111663</td>\n",
       "      <td>5.532847e-05</td>\n",
       "      <td>0.104760</td>\n",
       "      <td>0.056770</td>\n",
       "      <td>1.120153</td>\n",
       "      <td>-1.407778</td>\n",
       "      <td>0.890133</td>\n",
       "      <td>-4.345376</td>\n",
       "    </tr>\n",
       "  </tbody>\n",
       "</table>\n",
       "</div>"
      ],
      "text/plain": [
       "name   ina.E_Na_offset      ina.g_Na       ina.p_2       ina.p_4  \\\n",
       "count     10000.000000  10000.000000  10000.000000  1.000000e+04   \n",
       "mean         46.133635     14.001827      0.111611  1.070535e-05   \n",
       "std           0.028203      0.030201      0.000028  8.186144e-06   \n",
       "min          46.039495     13.904051      0.111394  1.002936e-07   \n",
       "25%          46.114032     13.980192      0.111595  4.481741e-06   \n",
       "50%          46.133808     14.000895      0.111617  8.824305e-06   \n",
       "75%          46.153618     14.022876      0.111632  1.499237e-05   \n",
       "max          46.221473     14.101738      0.111663  5.532847e-05   \n",
       "\n",
       "name        ina.p_6       ina.p_8   log_ina.p_1   log_ina.p_3   log_ina.p_5  \\\n",
       "count  10000.000000  10000.000000  10000.000000  10000.000000  10000.000000   \n",
       "mean       0.104608      0.056675      1.119136     -1.408975      0.888114   \n",
       "std        0.000046      0.000029      0.000427      0.000483      0.000622   \n",
       "min        0.104473      0.056588      1.116362     -1.411452      0.886260   \n",
       "25%        0.104576      0.056654      1.118869     -1.409252      0.887671   \n",
       "50%        0.104607      0.056674      1.119173     -1.408912      0.888104   \n",
       "75%        0.104640      0.056695      1.119447     -1.408638      0.888546   \n",
       "max        0.104760      0.056770      1.120153     -1.407778      0.890133   \n",
       "\n",
       "name    log_ina.p_7  \n",
       "count  10000.000000  \n",
       "mean      -4.350350  \n",
       "std        0.001756  \n",
       "min       -4.356380  \n",
       "25%       -4.351590  \n",
       "50%       -4.350291  \n",
       "75%       -4.349068  \n",
       "max       -4.345376  "
      ]
     },
     "execution_count": 19,
     "metadata": {},
     "output_type": "execute_result"
    }
   ],
   "source": [
    "df.describe()"
   ]
  },
  {
   "cell_type": "code",
   "execution_count": 20,
   "metadata": {},
   "outputs": [
    {
     "name": "stderr",
     "output_type": "stream",
     "text": [
      "/scratch/cph211/miniconda3/envs/ionchannelABC/lib/python3.7/site-packages/seaborn/axisgrid.py:848: UserWarning: Tight layout not applied. tight_layout cannot make axes height small enough to accommodate all axes decorations\n",
      "  self.fig.tight_layout()\n",
      "/scratch/cph211/miniconda3/envs/ionchannelABC/lib/python3.7/site-packages/seaborn/axisgrid.py:848: UserWarning: Tight layout not applied. tight_layout cannot make axes height small enough to accommodate all axes decorations\n",
      "  self.fig.tight_layout()\n",
      "/scratch/cph211/miniconda3/envs/ionchannelABC/lib/python3.7/site-packages/seaborn/axisgrid.py:848: UserWarning: Tight layout not applied. tight_layout cannot make axes height small enough to accommodate all axes decorations\n",
      "  self.fig.tight_layout()\n",
      "/scratch/cph211/miniconda3/envs/ionchannelABC/lib/python3.7/site-packages/seaborn/axisgrid.py:848: UserWarning: Tight layout not applied. tight_layout cannot make axes height small enough to accommodate all axes decorations\n",
      "  self.fig.tight_layout()\n",
      "/scratch/cph211/miniconda3/envs/ionchannelABC/lib/python3.7/site-packages/seaborn/axisgrid.py:848: UserWarning: Tight layout not applied. tight_layout cannot make axes height small enough to accommodate all axes decorations\n",
      "  self.fig.tight_layout()\n"
     ]
    },
    {
     "data": {
      "image/png": "[encoded data removed]",
      "text/plain": [
       "<Figure size 518.4x432 with 10 Axes>"
      ]
     },
     "metadata": {},
     "output_type": "display_data"
    }
   ],
   "source": [
    "from ionchannelABC import plot_parameters_kde\n",
    "g = plot_parameters_kde(df, w, limits, aspect=12,height=0.6)"
   ]
  },
  {
   "cell_type": "code",
   "execution_count": 21,
   "metadata": {},
   "outputs": [],
   "source": [
    "# Generate parameter samples\n",
    "n_samples = 100\n",
    "df, w = history.get_distribution(m=0)\n",
    "th_samples = df.sample(n=n_samples, weights=w, replace=True).to_dict(orient='records')"
   ]
  },
  {
   "cell_type": "code",
   "execution_count": 22,
   "metadata": {},
   "outputs": [],
   "source": [
    "# Generate sim results samples\n",
    "import pandas as pd\n",
    "samples = pd.DataFrame({})\n",
    "for i, th in enumerate(th_samples):\n",
    "    results = summary_statistics(log_model(th))\n",
    "    output = pd.DataFrame({'x': observations.x, 'y': list(results.values()),\n",
    "                           'exp_id': observations.exp_id})\n",
    "    #output = model.sample(pars=th, n_x=50)\n",
    "    output['sample'] = i\n",
    "    output['distribution'] = 'post'\n",
    "    samples = samples.append(output, ignore_index=True)"
   ]
  },
  {
   "cell_type": "code",
   "execution_count": 23,
   "metadata": {
    "scrolled": true
   },
   "outputs": [
    {
     "data": {
      "image/png": "[encoded data removed]",
      "text/plain": [
       "<Figure size 1168.53x360 with 3 Axes>"
      ]
     },
     "metadata": {},
     "output_type": "display_data"
    }
   ],
   "source": [
    "from ionchannelABC import plot_sim_results\n",
    "import seaborn as sns\n",
    "sns.set_context('talk')\n",
    "g = plot_sim_results(samples, obs=observations)"
   ]
  },
  {
   "cell_type": "code",
   "execution_count": 113,
   "metadata": {},
   "outputs": [],
   "source": [
    "# Require discrete samples for exact measurements at -20mV\n",
    "discrete_samples = pd.DataFrame({})\n",
    "for i, th in enumerate(th_samples):\n",
    "    output = model.sample(pars=th)\n",
    "    output['sample'] = i\n",
    "    output['distribution'] = 'post'\n",
    "    discrete_samples = discrete_samples.append(output, ignore_index=True)"
   ]
  },
  {
   "cell_type": "code",
   "execution_count": 114,
   "metadata": {},
   "outputs": [
    {
     "name": "stdout",
     "output_type": "stream",
     "text": [
      "-163.74165119888335\n",
      "0.14129370301730562\n"
     ]
    }
   ],
   "source": [
    "# Amplitude at -20 mV\n",
    "grouped = discrete_samples[discrete_samples['exp']==0].groupby('sample')\n",
    "def get_amplitude(group):\n",
    "    return group.loc[group.x==-20]['y']\n",
    "print(grouped.apply(get_amplitude).mean())\n",
    "print(grouped.apply(get_amplitude).std())"
   ]
  },
  {
   "cell_type": "code",
   "execution_count": 115,
   "metadata": {},
   "outputs": [
    {
     "name": "stdout",
     "output_type": "stream",
     "text": [
      "median: -163.81705987307208\n",
      "95% CI: (-163.85178097293564, -163.4658692841079)\n"
     ]
    }
   ],
   "source": [
    "import scipy.stats as st\n",
    "peak_current = discrete_samples[discrete_samples['exp']==0].groupby('sample').apply(get_amplitude).tolist()\n",
    "rv = st.rv_discrete(values=(peak_current, [1/len(peak_current),]*len(peak_current)))\n",
    "print(\"median: {}\".format(rv.median()))\n",
    "print(\"95% CI: {}\".format(rv.interval(0.95)))"
   ]
  },
  {
   "cell_type": "code",
   "execution_count": 116,
   "metadata": {},
   "outputs": [],
   "source": [
    "# Voltage and slope factor at half-activation\n",
    "from scipy.optimize import curve_fit\n",
    "grouped = samples[samples['exp']==1].groupby('sample')\n",
    "def fit_boltzmann(group):\n",
    "    def boltzmann(V, Vhalf, Shalf):\n",
    "        return 1/(1+np.exp((Vhalf-V)/Shalf))\n",
    "    guess = (-50, 10)\n",
    "    popt, _ = curve_fit(boltzmann, group.x, group.y, guess)\n",
    "    return popt\n",
    "output = grouped.apply(fit_boltzmann).apply(pd.Series)"
   ]
  },
  {
   "cell_type": "code",
   "execution_count": 117,
   "metadata": {},
   "outputs": [
    {
     "name": "stdout",
     "output_type": "stream",
     "text": [
      "0   -34.955683\n",
      "1     7.200565\n",
      "dtype: float64\n",
      "0    0.015053\n",
      "1    0.010894\n",
      "dtype: float64\n"
     ]
    }
   ],
   "source": [
    "print(output.mean())\n",
    "print(output.std())"
   ]
  },
  {
   "cell_type": "code",
   "execution_count": 118,
   "metadata": {},
   "outputs": [
    {
     "name": "stdout",
     "output_type": "stream",
     "text": [
      "median: -34.96014346870338\n",
      "95% CI: (-34.97005619255574, -34.926599614270145)\n"
     ]
    }
   ],
   "source": [
    "Vhalf = output[0].tolist()\n",
    "rv = st.rv_discrete(values=(Vhalf, [1/len(Vhalf),]*len(Vhalf)))\n",
    "print(\"median: {}\".format(rv.median()))\n",
    "print(\"95% CI: {}\".format(rv.interval(0.95)))"
   ]
  },
  {
   "cell_type": "code",
   "execution_count": 119,
   "metadata": {},
   "outputs": [
    {
     "name": "stdout",
     "output_type": "stream",
     "text": [
      "median: 7.197369620500938\n",
      "95% CI: (7.19090481887031, 7.224585984649747)\n"
     ]
    }
   ],
   "source": [
    "slope = output[1].tolist()\n",
    "rv = st.rv_discrete(values=(slope, [1/len(slope),]*len(slope)))\n",
    "print(\"median: {}\".format(rv.median()))\n",
    "print(\"95% CI: {}\".format(rv.interval(0.95)))"
   ]
  },
  {
   "cell_type": "code",
   "execution_count": 120,
   "metadata": {},
   "outputs": [],
   "source": [
    "# Voltage and slope factor at half-inactivation\n",
    "grouped = samples[samples['exp']==2].groupby('sample')\n",
    "def fit_boltzmann(group):\n",
    "    def boltzmann(V, Vhalf, Shalf):\n",
    "        return 1/(1+np.exp((V-Vhalf)/Shalf))\n",
    "    guess = (-50, 10)\n",
    "    popt, _ = curve_fit(boltzmann, group.x, group.y, guess)\n",
    "    return popt\n",
    "output = grouped.apply(fit_boltzmann).apply(pd.Series)"
   ]
  },
  {
   "cell_type": "code",
   "execution_count": 121,
   "metadata": {},
   "outputs": [
    {
     "name": "stdout",
     "output_type": "stream",
     "text": [
      "0   -72.193234\n",
      "1     6.109548\n",
      "dtype: float64\n",
      "0    0.125658\n",
      "1    0.078064\n",
      "dtype: float64\n"
     ]
    }
   ],
   "source": [
    "print(output.mean())\n",
    "print(output.std())"
   ]
  },
  {
   "cell_type": "code",
   "execution_count": 122,
   "metadata": {},
   "outputs": [
    {
     "name": "stdout",
     "output_type": "stream",
     "text": [
      "median: -72.21669685772069\n",
      "95% CI: (-72.44020974010718, -71.87864783039117)\n"
     ]
    }
   ],
   "source": [
    "Vhalf = output[0].tolist()\n",
    "rv = st.rv_discrete(values=(Vhalf, [1/len(Vhalf),]*len(Vhalf)))\n",
    "print(\"median: {}\".format(rv.median()))\n",
    "print(\"95% CI: {}\".format(rv.interval(0.95)))"
   ]
  },
  {
   "cell_type": "code",
   "execution_count": 123,
   "metadata": {},
   "outputs": [
    {
     "name": "stdout",
     "output_type": "stream",
     "text": [
      "median: 6.154343522380662\n",
      "95% CI: (5.931996934878577, 6.207057392589782)\n"
     ]
    }
   ],
   "source": [
    "slope = output[1].tolist()\n",
    "rv = st.rv_discrete(values=(slope, [1/len(slope),]*len(slope)))\n",
    "print(\"median: {}\".format(rv.median()))\n",
    "print(\"95% CI: {}\".format(rv.interval(0.95)))"
   ]
  },
  {
   "cell_type": "code",
   "execution_count": null,
   "metadata": {},
   "outputs": [],
   "source": []
  }
 ],
 "metadata": {
  "kernelspec": {
   "display_name": "Python 3",
   "language": "python",
   "name": "python3"
  },
  "language_info": {
   "codemirror_mode": {
    "name": "ipython",
    "version": 3
   },
   "file_extension": ".py",
   "mimetype": "text/x-python",
   "name": "python",
   "nbconvert_exporter": "python",
   "pygments_lexer": "ipython3",
   "version": "3.7.3"
  }
 },
 "nbformat": 4,
 "nbformat_minor": 2
}
