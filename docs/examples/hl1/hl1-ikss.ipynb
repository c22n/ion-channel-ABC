{
 "cells": [
  {
   "cell_type": "markdown",
   "metadata": {},
   "source": [
    "## Create and test ion channel model"
   ]
  },
  {
   "cell_type": "code",
   "execution_count": 1,
   "metadata": {},
   "outputs": [
    {
     "name": "stderr",
     "output_type": "stream",
     "text": [
      "INFO:myokit:Loading Myokit version 1.28.3\n"
     ]
    }
   ],
   "source": [
    "from experiments.ikss_markov import (lu_iv,\n",
    "                                     xu_taua)"
   ]
  },
  {
   "cell_type": "code",
   "execution_count": 2,
   "metadata": {},
   "outputs": [],
   "source": [
    "from ionchannelABC.experiment import setup"
   ]
  },
  {
   "cell_type": "code",
   "execution_count": 3,
   "metadata": {},
   "outputs": [],
   "source": [
    "modelfile = 'models/ikss_markov.mmt'\n",
    "#modelfile = 'models/Takeuchi2013_ito.mmt'"
   ]
  },
  {
   "cell_type": "code",
   "execution_count": 4,
   "metadata": {},
   "outputs": [],
   "source": [
    "observations, model, summary_statistics = setup(modelfile,\n",
    "                                                lu_iv,\n",
    "                                                xu_taua)"
   ]
  },
  {
   "cell_type": "code",
   "execution_count": 5,
   "metadata": {},
   "outputs": [],
   "source": [
    "assert(len(observations)==len(summary_statistics(model({}))))"
   ]
  },
  {
   "cell_type": "code",
   "execution_count": 6,
   "metadata": {
    "scrolled": true
   },
   "outputs": [
    {
     "data": {
      "image/png": "[encoded data removed]",
      "text/plain": [
       "<Figure size 808.525x360 with 2 Axes>"
      ]
     },
     "metadata": {
      "needs_background": "light"
     },
     "output_type": "display_data"
    }
   ],
   "source": [
    "import pandas as pd\n",
    "results = summary_statistics(model({}))\n",
    "output = pd.DataFrame({'x': observations.x, 'y': list(results.values()),\n",
    "                       'exp_id': observations.exp_id})\n",
    "from ionchannelABC import plot_sim_results\n",
    "import seaborn as sns\n",
    "sns.set_context('talk')\n",
    "g = plot_sim_results(output, obs=observations)"
   ]
  },
  {
   "cell_type": "markdown",
   "metadata": {},
   "source": [
    "## Set limits and generate uniform initial priors"
   ]
  },
  {
   "cell_type": "code",
   "execution_count": 7,
   "metadata": {},
   "outputs": [],
   "source": [
    "from pyabc import Distribution, RV\n",
    "limits = {'ikss.g_Kss': (0., 1.),\n",
    "          'log_ikss.p_1': (-7., 3.),\n",
    "          'ikss.p_2': (1e-7, 0.4),\n",
    "          'log_ikss.p_3': (-7., 3.),\n",
    "          'ikss.p_4': (1e-7, 0.4)}\n",
    "prior = Distribution(**{key: RV(\"uniform\", a, b - a)\n",
    "                        for key, (a,b) in limits.items()})"
   ]
  },
  {
   "cell_type": "markdown",
   "metadata": {},
   "source": [
    "## Run ABC calibration"
   ]
  },
  {
   "cell_type": "code",
   "execution_count": 8,
   "metadata": {},
   "outputs": [],
   "source": [
    "import os, tempfile\n",
    "db_path = (\"sqlite:///\" +\n",
    "           os.path.join(tempfile.gettempdir(), \"hl1_ikss.db\"))"
   ]
  },
  {
   "cell_type": "code",
   "execution_count": 9,
   "metadata": {},
   "outputs": [],
   "source": [
    "# Let's log all the sh!t\n",
    "import logging\n",
    "logging.basicConfig()\n",
    "abc_logger = logging.getLogger('ABC')\n",
    "abc_logger.setLevel(logging.DEBUG)\n",
    "eps_logger = logging.getLogger('Epsilon')\n",
    "eps_logger.setLevel(logging.DEBUG)"
   ]
  },
  {
   "cell_type": "code",
   "execution_count": 10,
   "metadata": {},
   "outputs": [
    {
     "name": "stdout",
     "output_type": "stream",
     "text": [
      "Theoretical minimum population size is 32 particles\n"
     ]
    }
   ],
   "source": [
    "from pyabc.populationstrategy import AdaptivePopulationSize, ConstantPopulationSize\n",
    "from ionchannelABC import theoretical_population_size\n",
    "pop_size = theoretical_population_size(2, len(limits))\n",
    "print(\"Theoretical minimum population size is {} particles\".format(pop_size))"
   ]
  },
  {
   "cell_type": "code",
   "execution_count": 11,
   "metadata": {},
   "outputs": [
    {
     "name": "stderr",
     "output_type": "stream",
     "text": [
      "DEBUG:ABC:ion channel weights: {'0': 1.563675852063118, '1': 1.4530460210974887, '2': 1.2108716842479008, '3': 0.6054358421239586, '4': 0.5189450075348215, '5': 0.269082596499536, '6': 0.20181194737465194, '7': 0.1453046021097496, '8': 0.11177277085365324, '9': 0.0955951329669404, '10': 0.0864908345891366, '11': 0.799678623811807, '12': 2.457204910384899, '13': 1.599281781325897, '14': 2.457204910384899, '15': 1.6688945192594224, '16': 1.4762654641595732, '17': 1.2794374992125472}\n",
      "DEBUG:Epsilon:init quantile_epsilon initial_epsilon=20, quantile_multiplier=1\n"
     ]
    }
   ],
   "source": [
    "from pyabc import ABCSMC\n",
    "from pyabc.epsilon import MedianEpsilon\n",
    "from pyabc.sampler import MulticoreEvalParallelSampler, SingleCoreSampler\n",
    "from ionchannelABC import IonChannelDistance, EfficientMultivariateNormalTransition, IonChannelAcceptor\n",
    "\n",
    "abc = ABCSMC(models=model,\n",
    "             parameter_priors=prior,\n",
    "             distance_function=IonChannelDistance(\n",
    "                 exp_id=list(observations.exp_id),\n",
    "                 variance=list(observations.variance),\n",
    "                 delta=0.05),\n",
    "             population_size=ConstantPopulationSize(5000),\n",
    "             summary_statistics=summary_statistics,\n",
    "             transitions=EfficientMultivariateNormalTransition(),\n",
    "             eps=MedianEpsilon(initial_epsilon=20),\n",
    "             sampler=MulticoreEvalParallelSampler(n_procs=6),\n",
    "             acceptor=IonChannelAcceptor())"
   ]
  },
  {
   "cell_type": "code",
   "execution_count": 12,
   "metadata": {},
   "outputs": [],
   "source": [
    "obs = observations.to_dict()['y']\n",
    "obs = {str(k): v for k, v in obs.items()}"
   ]
  },
  {
   "cell_type": "code",
   "execution_count": 13,
   "metadata": {
    "scrolled": true
   },
   "outputs": [
    {
     "name": "stderr",
     "output_type": "stream",
     "text": [
      "INFO:History:Start <ABCSMC(id=1, start_time=2019-08-01 15:13:17.374090, end_time=None)>\n"
     ]
    }
   ],
   "source": [
    "abc_id = abc.new(db_path, obs)"
   ]
  },
  {
   "cell_type": "code",
   "execution_count": null,
   "metadata": {
    "scrolled": true
   },
   "outputs": [
    {
     "name": "stderr",
     "output_type": "stream",
     "text": [
      "INFO:ABC:t:0 eps:20\n",
      "DEBUG:ABC:now submitting population 0\n"
     ]
    }
   ],
   "source": [
    "history = abc.run(minimum_epsilon=0., max_nr_populations=200, min_acceptance_rate=0.005)"
   ]
  },
  {
   "cell_type": "code",
   "execution_count": 20,
   "metadata": {},
   "outputs": [],
   "source": [
    "from pyabc import ABCSMC\n",
    "from pyabc.epsilon import MedianEpsilon\n",
    "from pyabc.sampler import MulticoreEvalParallelSampler, SingleCoreSampler\n",
    "from ionchannelABC import IonChannelDistance, EfficientMultivariateNormalTransition, IonChannelAcceptor\n",
    "\n",
    "abc_continued = ABCSMC(models=model,\n",
    "             parameter_priors=prior,\n",
    "             distance_function=IonChannelDistance(\n",
    "                 exp_id=list(observations.exp_id),\n",
    "                 variance=list(observations.variance),\n",
    "                 delta=0.05),\n",
    "             population_size=ConstantPopulationSize(5000),\n",
    "             summary_statistics=summary_statistics,\n",
    "             transitions=EfficientMultivariateNormalTransition(),\n",
    "             eps=MedianEpsilon(),\n",
    "             sampler=MulticoreEvalParallelSampler(n_procs=6),\n",
    "             acceptor=IonChannelAcceptor())"
   ]
  },
  {
   "cell_type": "code",
   "execution_count": 21,
   "metadata": {},
   "outputs": [
    {
     "data": {
      "text/plain": [
       "1"
      ]
     },
     "execution_count": 21,
     "metadata": {},
     "output_type": "execute_result"
    }
   ],
   "source": [
    "abc_continued.load(db_path, 1)"
   ]
  },
  {
   "cell_type": "code",
   "execution_count": null,
   "metadata": {},
   "outputs": [
    {
     "name": "stderr",
     "output_type": "stream",
     "text": [
      "INFO:Epsilon:initial epsilon is 0.15861432361577443\n",
      "INFO:ABC:t:34 eps:0.15861432361577443\n"
     ]
    }
   ],
   "source": [
    "history = abc_continued.run(minimum_epsilon=0., max_nr_populations=200, min_acceptance_rate=0.005)"
   ]
  },
  {
   "cell_type": "markdown",
   "metadata": {},
   "source": [
    "# Results analysis"
   ]
  },
  {
   "cell_type": "code",
   "execution_count": 15,
   "metadata": {},
   "outputs": [],
   "source": [
    "from pyabc import History"
   ]
  },
  {
   "cell_type": "code",
   "execution_count": 16,
   "metadata": {},
   "outputs": [
    {
     "name": "stdout",
     "output_type": "stream",
     "text": [
      "sqlite:////scratch/cph211/tmp/hl1_ikss.db\n"
     ]
    },
    {
     "data": {
      "text/plain": [
       "[<ABCSMC(id=1, start_time=2019-08-01 15:13:17.374090, end_time=2019-08-03 20:20:47.028058)>]"
      ]
     },
     "execution_count": 16,
     "metadata": {},
     "output_type": "execute_result"
    }
   ],
   "source": [
    "print(db_path)\n",
    "history = History(db_path)\n",
    "history.all_runs()"
   ]
  },
  {
   "cell_type": "code",
   "execution_count": 17,
   "metadata": {},
   "outputs": [],
   "source": [
    "history.id = 1"
   ]
  },
  {
   "cell_type": "code",
   "execution_count": 18,
   "metadata": {},
   "outputs": [],
   "source": [
    "df, w = history.get_distribution(m=0)"
   ]
  },
  {
   "cell_type": "code",
   "execution_count": 19,
   "metadata": {
    "scrolled": true
   },
   "outputs": [
    {
     "data": {
      "text/html": [
       "<div>\n",
       "<style scoped>\n",
       "    .dataframe tbody tr th:only-of-type {\n",
       "        vertical-align: middle;\n",
       "    }\n",
       "\n",
       "    .dataframe tbody tr th {\n",
       "        vertical-align: top;\n",
       "    }\n",
       "\n",
       "    .dataframe thead th {\n",
       "        text-align: right;\n",
       "    }\n",
       "</style>\n",
       "<table border=\"1\" class=\"dataframe\">\n",
       "  <thead>\n",
       "    <tr style=\"text-align: right;\">\n",
       "      <th>name</th>\n",
       "      <th>ikss.g_Kss</th>\n",
       "      <th>ikss.p_2</th>\n",
       "      <th>ikss.p_4</th>\n",
       "      <th>log_ikss.p_1</th>\n",
       "      <th>log_ikss.p_3</th>\n",
       "    </tr>\n",
       "  </thead>\n",
       "  <tbody>\n",
       "    <tr>\n",
       "      <th>count</th>\n",
       "      <td>5000.000000</td>\n",
       "      <td>5.000000e+03</td>\n",
       "      <td>5.000000e+03</td>\n",
       "      <td>5.000000e+03</td>\n",
       "      <td>5000.000000</td>\n",
       "    </tr>\n",
       "    <tr>\n",
       "      <th>mean</th>\n",
       "      <td>0.058050</td>\n",
       "      <td>2.730705e-02</td>\n",
       "      <td>3.833957e-02</td>\n",
       "      <td>-3.871190e+00</td>\n",
       "      <td>-5.971801</td>\n",
       "    </tr>\n",
       "    <tr>\n",
       "      <th>std</th>\n",
       "      <td>0.000002</td>\n",
       "      <td>6.965232e-08</td>\n",
       "      <td>9.131218e-07</td>\n",
       "      <td>8.576156e-07</td>\n",
       "      <td>0.000027</td>\n",
       "    </tr>\n",
       "    <tr>\n",
       "      <th>min</th>\n",
       "      <td>0.058044</td>\n",
       "      <td>2.730681e-02</td>\n",
       "      <td>3.833691e-02</td>\n",
       "      <td>-3.871192e+00</td>\n",
       "      <td>-5.971893</td>\n",
       "    </tr>\n",
       "    <tr>\n",
       "      <th>25%</th>\n",
       "      <td>0.058049</td>\n",
       "      <td>2.730700e-02</td>\n",
       "      <td>3.833896e-02</td>\n",
       "      <td>-3.871191e+00</td>\n",
       "      <td>-5.971820</td>\n",
       "    </tr>\n",
       "    <tr>\n",
       "      <th>50%</th>\n",
       "      <td>0.058050</td>\n",
       "      <td>2.730705e-02</td>\n",
       "      <td>3.833960e-02</td>\n",
       "      <td>-3.871190e+00</td>\n",
       "      <td>-5.971802</td>\n",
       "    </tr>\n",
       "    <tr>\n",
       "      <th>75%</th>\n",
       "      <td>0.058052</td>\n",
       "      <td>2.730709e-02</td>\n",
       "      <td>3.834020e-02</td>\n",
       "      <td>-3.871189e+00</td>\n",
       "      <td>-5.971783</td>\n",
       "    </tr>\n",
       "    <tr>\n",
       "      <th>max</th>\n",
       "      <td>0.058058</td>\n",
       "      <td>2.730725e-02</td>\n",
       "      <td>3.834274e-02</td>\n",
       "      <td>-3.871187e+00</td>\n",
       "      <td>-5.971724</td>\n",
       "    </tr>\n",
       "  </tbody>\n",
       "</table>\n",
       "</div>"
      ],
      "text/plain": [
       "name    ikss.g_Kss      ikss.p_2      ikss.p_4  log_ikss.p_1  log_ikss.p_3\n",
       "count  5000.000000  5.000000e+03  5.000000e+03  5.000000e+03   5000.000000\n",
       "mean      0.058050  2.730705e-02  3.833957e-02 -3.871190e+00     -5.971801\n",
       "std       0.000002  6.965232e-08  9.131218e-07  8.576156e-07      0.000027\n",
       "min       0.058044  2.730681e-02  3.833691e-02 -3.871192e+00     -5.971893\n",
       "25%       0.058049  2.730700e-02  3.833896e-02 -3.871191e+00     -5.971820\n",
       "50%       0.058050  2.730705e-02  3.833960e-02 -3.871190e+00     -5.971802\n",
       "75%       0.058052  2.730709e-02  3.834020e-02 -3.871189e+00     -5.971783\n",
       "max       0.058058  2.730725e-02  3.834274e-02 -3.871187e+00     -5.971724"
      ]
     },
     "execution_count": 19,
     "metadata": {},
     "output_type": "execute_result"
    }
   ],
   "source": [
    "df.describe()"
   ]
  },
  {
   "cell_type": "code",
   "execution_count": 20,
   "metadata": {
    "scrolled": true
   },
   "outputs": [
    {
     "name": "stderr",
     "output_type": "stream",
     "text": [
      "/scratch/cph211/miniconda3/envs/ionchannelABC/lib/python3.7/site-packages/ionchannelABC-0.2.0-py3.7.egg/ionchannelABC/visualization.py:139: RuntimeWarning: invalid value encountered in true_divide\n",
      "/scratch/cph211/miniconda3/envs/ionchannelABC/lib/python3.7/site-packages/matplotlib/tight_layout.py:211: UserWarning: Tight layout not applied. tight_layout cannot make axes height small enough to accommodate all axes decorations\n",
      "  warnings.warn('Tight layout not applied. '\n",
      "/scratch/cph211/miniconda3/envs/ionchannelABC/lib/python3.7/site-packages/matplotlib/tight_layout.py:211: UserWarning: Tight layout not applied. tight_layout cannot make axes height small enough to accommodate all axes decorations\n",
      "  warnings.warn('Tight layout not applied. '\n",
      "/scratch/cph211/miniconda3/envs/ionchannelABC/lib/python3.7/site-packages/matplotlib/tight_layout.py:211: UserWarning: Tight layout not applied. tight_layout cannot make axes height small enough to accommodate all axes decorations\n",
      "  warnings.warn('Tight layout not applied. '\n",
      "/scratch/cph211/miniconda3/envs/ionchannelABC/lib/python3.7/site-packages/matplotlib/tight_layout.py:211: UserWarning: Tight layout not applied. tight_layout cannot make axes height small enough to accommodate all axes decorations\n",
      "  warnings.warn('Tight layout not applied. '\n",
      "/scratch/cph211/miniconda3/envs/ionchannelABC/lib/python3.7/site-packages/matplotlib/tight_layout.py:211: UserWarning: Tight layout not applied. tight_layout cannot make axes height small enough to accommodate all axes decorations\n",
      "  warnings.warn('Tight layout not applied. '\n"
     ]
    },
    {
     "data": {
      "image/png": "[encoded data removed]",
      "text/plain": [
       "<Figure size 518.4x216 with 5 Axes>"
      ]
     },
     "metadata": {},
     "output_type": "display_data"
    }
   ],
   "source": [
    "from ionchannelABC import plot_parameters_kde\n",
    "g = plot_parameters_kde(df, w, limits, aspect=12,height=0.6)"
   ]
  },
  {
   "cell_type": "markdown",
   "metadata": {},
   "source": [
    "# Samples for quantitative analysis"
   ]
  },
  {
   "cell_type": "code",
   "execution_count": 21,
   "metadata": {},
   "outputs": [],
   "source": [
    "# Generate parameter samples\n",
    "n_samples = 100\n",
    "df, w = history.get_distribution(m=0)\n",
    "th_samples = df.sample(n=n_samples, weights=w, replace=True).to_dict(orient='records')"
   ]
  },
  {
   "cell_type": "code",
   "execution_count": 22,
   "metadata": {},
   "outputs": [],
   "source": [
    "# Generate sim results samples\n",
    "import pandas as pd\n",
    "samples = pd.DataFrame({})\n",
    "for i, th in enumerate(th_samples):\n",
    "    results = summary_statistics(model(th))\n",
    "    output = pd.DataFrame({'x': observations.x, 'y': list(results.values()),\n",
    "                           'exp_id': observations.exp_id})\n",
    "    #output = model.sample(pars=th, n_x=50)\n",
    "    output['sample'] = i\n",
    "    output['distribution'] = 'post'\n",
    "    samples = samples.append(output, ignore_index=True)"
   ]
  },
  {
   "cell_type": "code",
   "execution_count": 23,
   "metadata": {
    "scrolled": true
   },
   "outputs": [
    {
     "data": {
      "image/png": "[encoded data removed]",
      "text/plain": [
       "<Figure size 808.525x360 with 2 Axes>"
      ]
     },
     "metadata": {},
     "output_type": "display_data"
    }
   ],
   "source": [
    "from ionchannelABC import plot_sim_results\n",
    "import seaborn as sns\n",
    "sns.set_context('talk')\n",
    "g = plot_sim_results(samples, obs=observations)\n",
    "\n",
    "# Set axis labels\n",
    "#xlabels = [\"voltage, mV\", \"voltage, mV\", \"voltage, mV\", \"time, ms\"]#, \"time, ms\",\"voltage, mV\"]\n",
    "#ylabels = [\"normalised current density, pA/pF\", \"activation\", \"inactivation\", \"recovery\"]#, \"normalised current\",\"current density, pA/pF\"]\n",
    "#for ax, xl in zip(g.axes.flatten(), xlabels):\n",
    "#    ax.set_xlabel(xl)\n",
    "#for ax, yl in zip(g.axes.flatten(), ylabels):\n",
    "#    ax.set_ylabel(yl)"
   ]
  },
  {
   "cell_type": "code",
   "execution_count": 27,
   "metadata": {},
   "outputs": [],
   "source": [
    "def plot_sim_results_all(samples: pd.DataFrame):\n",
    "    with sns.color_palette(\"gray\"):\n",
    "        grid = sns.relplot(x='x', y='y',\n",
    "                           col='exp_id',\n",
    "                           units='sample',\n",
    "                           kind='line',\n",
    "                           data=samples,\n",
    "                           estimator=None, lw=0.5,\n",
    "                           alpha=0.5,\n",
    "                           #estimator=np.median,\n",
    "                           facet_kws={'sharex': 'col',\n",
    "                                      'sharey': 'col'})\n",
    "    return grid"
   ]
  },
  {
   "cell_type": "code",
   "execution_count": 28,
   "metadata": {},
   "outputs": [
    {
     "data": {
      "image/png": "[encoded data removed]",
      "text/plain": [
       "<Figure size 720x360 with 2 Axes>"
      ]
     },
     "metadata": {},
     "output_type": "display_data"
    }
   ],
   "source": [
    "grid2 = plot_sim_results_all(samples)"
   ]
  },
  {
   "cell_type": "code",
   "execution_count": 33,
   "metadata": {},
   "outputs": [],
   "source": [
    "#grid2.savefig('results/icat-generic/icat_sim_results_all.pdf')"
   ]
  },
  {
   "cell_type": "code",
   "execution_count": 35,
   "metadata": {},
   "outputs": [],
   "source": [
    "import numpy as np"
   ]
  },
  {
   "cell_type": "code",
   "execution_count": 42,
   "metadata": {},
   "outputs": [
    {
     "name": "stdout",
     "output_type": "stream",
     "text": [
      "-0.9792263129382246\n",
      "0.060452038127623814\n"
     ]
    }
   ],
   "source": [
    "# Mean current density\n",
    "print(np.mean(samples[samples.exp=='0'].groupby('sample').min()['y']))\n",
    "# Std current density\n",
    "print(np.std(samples[samples.exp=='0'].groupby('sample').min()['y']))"
   ]
  },
  {
   "cell_type": "code",
   "execution_count": 43,
   "metadata": {},
   "outputs": [],
   "source": [
    "import scipy.stats as st\n",
    "peak_current = samples[samples['exp']=='0'].groupby('sample').min()['y'].tolist()\n",
    "rv = st.rv_discrete(values=(peak_current, [1/len(peak_current),]*len(peak_current)))"
   ]
  },
  {
   "cell_type": "code",
   "execution_count": 44,
   "metadata": {},
   "outputs": [
    {
     "name": "stdout",
     "output_type": "stream",
     "text": [
      "median: -0.9929750589235674\n",
      "95% CI: (-1.0714884415582595, -0.8489199437971181)\n"
     ]
    }
   ],
   "source": [
    "print(\"median: {}\".format(rv.median()))\n",
    "print(\"95% CI: {}\".format(rv.interval(0.95)))"
   ]
  },
  {
   "cell_type": "code",
   "execution_count": 45,
   "metadata": {},
   "outputs": [
    {
     "name": "stdout",
     "output_type": "stream",
     "text": [
      "mean: -20.1\n",
      "STD: 0.7\n"
     ]
    }
   ],
   "source": [
    "# Voltage of peak current density\n",
    "idxs = samples[samples.exp=='0'].groupby('sample').idxmin()['y']\n",
    "print(\"mean: {}\".format(np.mean(samples.iloc[idxs]['x'])))\n",
    "print(\"STD: {}\".format(np.std(samples.iloc[idxs]['x'])))"
   ]
  },
  {
   "cell_type": "code",
   "execution_count": 46,
   "metadata": {},
   "outputs": [
    {
     "name": "stdout",
     "output_type": "stream",
     "text": [
      "median: -20.0\n",
      "95% CI: (-20.0, -20.0)\n"
     ]
    }
   ],
   "source": [
    "voltage_peak = samples.iloc[idxs]['x'].tolist()\n",
    "rv = st.rv_discrete(values=(voltage_peak, [1/len(voltage_peak),]*len(voltage_peak)))\n",
    "print(\"median: {}\".format(rv.median()))\n",
    "print(\"95% CI: {}\".format(rv.interval(0.95)))"
   ]
  },
  {
   "cell_type": "code",
   "execution_count": 48,
   "metadata": {},
   "outputs": [],
   "source": [
    "# Half activation potential\n",
    "# Fit of activation to Boltzmann equation\n",
    "from scipy.optimize import curve_fit\n",
    "grouped = samples[samples['exp']=='1'].groupby('sample')\n",
    "def fit_boltzmann(group):\n",
    "    def boltzmann(V, Vhalf, K):\n",
    "        return 1/(1+np.exp((Vhalf-V)/K))\n",
    "    guess = (-30, 10)\n",
    "    popt, _ = curve_fit(boltzmann, group.x, group.y)\n",
    "    return popt\n",
    "output = grouped.apply(fit_boltzmann).apply(pd.Series)"
   ]
  },
  {
   "cell_type": "code",
   "execution_count": 49,
   "metadata": {},
   "outputs": [
    {
     "name": "stdout",
     "output_type": "stream",
     "text": [
      "0   -33.399071\n",
      "1     5.739255\n",
      "dtype: float64\n",
      "0    0.823473\n",
      "1    0.366996\n",
      "dtype: float64\n"
     ]
    }
   ],
   "source": [
    "print(np.mean(output))\n",
    "print(np.std(output))"
   ]
  },
  {
   "cell_type": "code",
   "execution_count": 50,
   "metadata": {},
   "outputs": [
    {
     "name": "stdout",
     "output_type": "stream",
     "text": [
      "median: -33.407394098238164\n",
      "95% CI: (-34.93130871417603, -31.973122716861205)\n"
     ]
    }
   ],
   "source": [
    "Vhalf = output[0].tolist()\n",
    "rv = st.rv_discrete(values=(Vhalf, [1/len(Vhalf),]*len(Vhalf)))\n",
    "print(\"median: {}\".format(rv.median()))\n",
    "print(\"95% CI: {}\".format(rv.interval(0.95)))"
   ]
  },
  {
   "cell_type": "code",
   "execution_count": 51,
   "metadata": {},
   "outputs": [
    {
     "name": "stdout",
     "output_type": "stream",
     "text": [
      "median: 5.728938366573993\n",
      "95% CI: (5.117385157850234, 6.485585591389819)\n"
     ]
    }
   ],
   "source": [
    "slope = output[1].tolist()\n",
    "rv = st.rv_discrete(values=(slope, [1/len(slope),]*len(slope)))\n",
    "print(\"median: {}\".format(rv.median()))\n",
    "print(\"95% CI: {}\".format(rv.interval(0.95)))"
   ]
  },
  {
   "cell_type": "code",
   "execution_count": 52,
   "metadata": {},
   "outputs": [],
   "source": [
    "# Half activation potential\n",
    "grouped = samples[samples['exp']=='2'].groupby('sample')\n",
    "def fit_boltzmann(group):\n",
    "    def boltzmann(V, Vhalf, K):\n",
    "        return 1-1/(1+np.exp((Vhalf-V)/K))\n",
    "    guess = (-100, 10)\n",
    "    popt, _ = curve_fit(boltzmann, group.x, group.y,\n",
    "                        bounds=([-100, 1], [0, 30]))\n",
    "    return popt\n",
    "output = grouped.apply(fit_boltzmann).apply(pd.Series)"
   ]
  },
  {
   "cell_type": "code",
   "execution_count": 53,
   "metadata": {},
   "outputs": [
    {
     "name": "stdout",
     "output_type": "stream",
     "text": [
      "0   -49.011222\n",
      "1     4.399126\n",
      "dtype: float64\n",
      "0    0.613833\n",
      "1    0.306758\n",
      "dtype: float64\n"
     ]
    }
   ],
   "source": [
    "print(np.mean(output))\n",
    "print(np.std(output))"
   ]
  },
  {
   "cell_type": "code",
   "execution_count": 54,
   "metadata": {},
   "outputs": [
    {
     "name": "stdout",
     "output_type": "stream",
     "text": [
      "median: -49.01404281457659\n",
      "95% CI: (-50.06478757419054, -47.57952101705519)\n"
     ]
    }
   ],
   "source": [
    "Vhalf = output[0].tolist()\n",
    "rv = st.rv_discrete(values=(Vhalf, [1/len(Vhalf),]*len(Vhalf)))\n",
    "print(\"median: {}\".format(rv.median()))\n",
    "print(\"95% CI: {}\".format(rv.interval(0.95)))"
   ]
  },
  {
   "cell_type": "code",
   "execution_count": 55,
   "metadata": {},
   "outputs": [
    {
     "name": "stdout",
     "output_type": "stream",
     "text": [
      "median: 4.420440009120772\n",
      "95% CI: (3.7821747606540193, 4.959106709731536)\n"
     ]
    }
   ],
   "source": [
    "slope = output[1].tolist()\n",
    "rv = st.rv_discrete(values=(slope, [1/len(slope),]*len(slope)))\n",
    "print(\"median: {}\".format(rv.median()))\n",
    "print(\"95% CI: {}\".format(rv.interval(0.95)))"
   ]
  },
  {
   "cell_type": "code",
   "execution_count": 56,
   "metadata": {},
   "outputs": [],
   "source": [
    "# Recovery time constant\n",
    "grouped = samples[samples.exp=='3'].groupby('sample')\n",
    "def fit_single_exp(group):\n",
    "    def single_exp(t, I_max, tau):\n",
    "        return I_max*(1-np.exp(-t/tau))\n",
    "    guess = (1, 50)\n",
    "    popt, _ = curve_fit(single_exp, group.x, group.y, guess)\n",
    "    return popt[1]\n",
    "output = grouped.apply(fit_single_exp)"
   ]
  },
  {
   "cell_type": "code",
   "execution_count": 57,
   "metadata": {
    "scrolled": true
   },
   "outputs": [
    {
     "name": "stdout",
     "output_type": "stream",
     "text": [
      "114.50830523453935\n",
      "5.781251582667316\n"
     ]
    }
   ],
   "source": [
    "print(np.mean(output))\n",
    "print(np.std(output))"
   ]
  },
  {
   "cell_type": "code",
   "execution_count": 58,
   "metadata": {},
   "outputs": [
    {
     "name": "stdout",
     "output_type": "stream",
     "text": [
      "median: 113.75533911706513\n",
      "95% CI: (104.11137902797657, 125.98102619971708)\n"
     ]
    }
   ],
   "source": [
    "tau = output.tolist()\n",
    "rv = st.rv_discrete(values=(tau, [1/len(tau),]*len(tau)))\n",
    "print(\"median: {}\".format(rv.median()))\n",
    "print(\"95% CI: {}\".format(rv.interval(0.95)))"
   ]
  },
  {
   "cell_type": "code",
   "execution_count": null,
   "metadata": {},
   "outputs": [],
   "source": []
  }
 ],
 "metadata": {
  "kernelspec": {
   "display_name": "Python 3",
   "language": "python",
   "name": "python3"
  },
  "language_info": {
   "codemirror_mode": {
    "name": "ipython",
    "version": 3
   },
   "file_extension": ".py",
   "mimetype": "text/x-python",
   "name": "python",
   "nbconvert_exporter": "python",
   "pygments_lexer": "ipython3",
   "version": "3.7.3"
  }
 },
 "nbformat": 4,
 "nbformat_minor": 2
}
