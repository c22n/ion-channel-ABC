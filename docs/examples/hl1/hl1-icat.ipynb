{
 "cells": [
  {
   "cell_type": "markdown",
   "metadata": {},
   "source": [
    "## Create and test ion channel model"
   ]
  },
  {
   "cell_type": "code",
   "execution_count": 1,
   "metadata": {},
   "outputs": [
    {
     "name": "stderr",
     "output_type": "stream",
     "text": [
      "INFO:myokit:Loading Myokit version 1.28.3\n"
     ]
    }
   ],
   "source": [
    "from experiments.icat_markov import (nguyen_iv,\n",
    "                                     nguyen_inact,\n",
    "                                     deng_rec)"
   ]
  },
  {
   "cell_type": "code",
   "execution_count": 2,
   "metadata": {},
   "outputs": [],
   "source": [
    "from ionchannelABC.experiment import setup"
   ]
  },
  {
   "cell_type": "code",
   "execution_count": 3,
   "metadata": {},
   "outputs": [],
   "source": [
    "modelfile = 'models/icat_markov.mmt'"
   ]
  },
  {
   "cell_type": "code",
   "execution_count": 4,
   "metadata": {},
   "outputs": [],
   "source": [
    "observations, model, summary_statistics = setup(modelfile,\n",
    "                                                nguyen_iv,\n",
    "                                                nguyen_inact,\n",
    "                                                deng_rec)"
   ]
  },
  {
   "cell_type": "code",
   "execution_count": 5,
   "metadata": {},
   "outputs": [],
   "source": [
    "assert(len(observations)==len(summary_statistics(model({}))))"
   ]
  },
  {
   "cell_type": "markdown",
   "metadata": {},
   "source": [
    "## Set limits and generate uniform initial priors"
   ]
  },
  {
   "cell_type": "code",
   "execution_count": 6,
   "metadata": {},
   "outputs": [],
   "source": [
    "from pyabc import Distribution, RV\n",
    "limits = {'icat.g_CaT': (0., 2.),\n",
    "          'icat.E_Ca_offset': (0., 200.),\n",
    "          'log_icat.p_1': (-7., 3.),\n",
    "          'icat.p_2': (1e-7, 0.4),\n",
    "          'log_icat.p_3': (-7., 3.),\n",
    "          'icat.p_4': (1e-7, 0.4),\n",
    "          'log_icat.p_5': (-7., 3.),\n",
    "          'icat.p_6': (1e-7, 0.4),\n",
    "          'log_icat.p_7': (-7., 3.),\n",
    "          'icat.p_8': (1e-7, 0.4)}\n",
    "prior = Distribution(**{key: RV(\"uniform\", a, b - a)\n",
    "                        for key, (a,b) in limits.items()})"
   ]
  },
  {
   "cell_type": "markdown",
   "metadata": {},
   "source": [
    "## Run ABC calibration"
   ]
  },
  {
   "cell_type": "code",
   "execution_count": 7,
   "metadata": {},
   "outputs": [],
   "source": [
    "import os, tempfile\n",
    "db_path = (\"sqlite:///\" +\n",
    "           os.path.join(tempfile.gettempdir(), \"hl1_icat.db\"))"
   ]
  },
  {
   "cell_type": "code",
   "execution_count": 8,
   "metadata": {},
   "outputs": [],
   "source": [
    "# Let's log all the sh!t\n",
    "import logging\n",
    "logging.basicConfig()\n",
    "abc_logger = logging.getLogger('ABC')\n",
    "abc_logger.setLevel(logging.DEBUG)\n",
    "eps_logger = logging.getLogger('Epsilon')\n",
    "eps_logger.setLevel(logging.DEBUG)"
   ]
  },
  {
   "cell_type": "code",
   "execution_count": 9,
   "metadata": {},
   "outputs": [
    {
     "name": "stdout",
     "output_type": "stream",
     "text": [
      "Theoretical minimum population size is 1024 particles\n"
     ]
    }
   ],
   "source": [
    "from pyabc.populationstrategy import AdaptivePopulationSize, ConstantPopulationSize\n",
    "from ionchannelABC import theoretical_population_size\n",
    "pop_size = theoretical_population_size(2, len(limits))\n",
    "print(\"Theoretical minimum population size is {} particles\".format(pop_size))"
   ]
  },
  {
   "cell_type": "code",
   "execution_count": 11,
   "metadata": {},
   "outputs": [
    {
     "name": "stderr",
     "output_type": "stream",
     "text": [
      "DEBUG:ABC:ion channel weights: {'0': 1.1328095197739978, '1': 1.1328095197739978, '2': 1.1328095197739978, '3': 1.1328095197739978, '4': 1.1328095197739978, '5': 0.9427898583925535, '6': 0.541231215003132, '7': 0.45666383765889307, '8': 0.45666383765889307, '9': 0.45666383765889307, '10': 0.44963824015644904, '11': 0.47139492919627674, '12': 0.5219015287530194, '13': 0.48710809350281936, '14': 0.5514431247201723, '15': 0.6353583828297648, '16': 0.6958687050040283, '17': 0.7493970669274139, '18': 0.9427898583925535, '19': 1.0078098486265201, '20': 1.1328095197739978, '21': 1.1328095197739978, '22': 1.1328095197739978, '23': 1.6745879857528663, '24': 1.6745879857528663, '25': 1.6745879857528663, '26': 1.6745879857528663, '27': 1.6745879857528663, '28': 1.6745879857528663, '29': 1.1432519768736087, '30': 1.4499481340055325, '31': 1.6745879857528663, '32': 1.6745879857528663, '33': 1.6745879857528663, '34': 1.6745879857528663, '35': 1.7238405735691273, '36': 1.7238405735691273, '37': 0.5132592645781386, '38': 0.42927138491989675, '39': 0.38704797000974284, '40': 0.4372208550110062, '41': 0.38704797000974284, '42': 0.6053827223229319, '43': 0.6944095932527747, '44': 0.655831282516511, '45': 0.6745693191598379}\n",
      "DEBUG:Epsilon:init quantile_epsilon initial_epsilon=20, quantile_multiplier=1\n"
     ]
    }
   ],
   "source": [
    "from pyabc import ABCSMC\n",
    "from pyabc.epsilon import MedianEpsilon\n",
    "from pyabc.sampler import MulticoreEvalParallelSampler, SingleCoreSampler\n",
    "from ionchannelABC import IonChannelDistance, EfficientMultivariateNormalTransition, IonChannelAcceptor\n",
    "\n",
    "abc = ABCSMC(models=model,\n",
    "             parameter_priors=prior,\n",
    "             distance_function=IonChannelDistance(\n",
    "                 exp_id=list(observations.exp_id),\n",
    "                 variance=list(observations.variance),\n",
    "                 delta=0.05),\n",
    "             population_size=ConstantPopulationSize(5000),\n",
    "             summary_statistics=summary_statistics,\n",
    "             transitions=EfficientMultivariateNormalTransition(),\n",
    "             eps=MedianEpsilon(initial_epsilon=20),\n",
    "             sampler=MulticoreEvalParallelSampler(n_procs=6),\n",
    "             acceptor=IonChannelAcceptor())"
   ]
  },
  {
   "cell_type": "code",
   "execution_count": 13,
   "metadata": {},
   "outputs": [],
   "source": [
    "obs = observations.to_dict()['y']\n",
    "obs = {str(k): v for k, v in obs.items()}"
   ]
  },
  {
   "cell_type": "code",
   "execution_count": 14,
   "metadata": {
    "scrolled": true
   },
   "outputs": [
    {
     "name": "stderr",
     "output_type": "stream",
     "text": [
      "INFO:History:Start <ABCSMC(id=1, start_time=2019-07-18 08:22:04.565648, end_time=None)>\n"
     ]
    }
   ],
   "source": [
    "abc_id = abc.new(db_path, obs)"
   ]
  },
  {
   "cell_type": "code",
   "execution_count": null,
   "metadata": {
    "scrolled": true
   },
   "outputs": [
    {
     "name": "stderr",
     "output_type": "stream",
     "text": [
      "INFO:ABC:t:0 eps:20\n",
      "DEBUG:ABC:now submitting population 0\n",
      "DEBUG:ABC:population 0 done\n",
      "DEBUG:ABC:\n",
      "total nr simulations up to t =0 is 6119\n",
      "DEBUG:Epsilon:new eps, t=1, eps=5.9439881040753155\n",
      "INFO:ABC:t:1 eps:5.9439881040753155\n",
      "DEBUG:ABC:now submitting population 1\n",
      "DEBUG:ABC:population 1 done\n",
      "DEBUG:ABC:\n",
      "total nr simulations up to t =1 is 16697\n",
      "DEBUG:Epsilon:new eps, t=2, eps=4.627091011870805\n",
      "INFO:ABC:t:2 eps:4.627091011870805\n",
      "DEBUG:ABC:now submitting population 2\n",
      "DEBUG:ABC:population 2 done\n",
      "DEBUG:ABC:\n",
      "total nr simulations up to t =2 is 30437\n",
      "DEBUG:Epsilon:new eps, t=3, eps=4.081053423726376\n",
      "INFO:ABC:t:3 eps:4.081053423726376\n",
      "DEBUG:ABC:now submitting population 3\n",
      "DEBUG:ABC:population 3 done\n",
      "DEBUG:ABC:\n",
      "total nr simulations up to t =3 is 45250\n",
      "DEBUG:Epsilon:new eps, t=4, eps=3.2120514001989355\n",
      "INFO:ABC:t:4 eps:3.2120514001989355\n",
      "DEBUG:ABC:now submitting population 4\n",
      "DEBUG:ABC:population 4 done\n",
      "DEBUG:ABC:\n",
      "total nr simulations up to t =4 is 57786\n",
      "DEBUG:Epsilon:new eps, t=5, eps=2.645190762691818\n",
      "INFO:ABC:t:5 eps:2.645190762691818\n",
      "DEBUG:ABC:now submitting population 5\n",
      "DEBUG:ABC:population 5 done\n",
      "DEBUG:ABC:\n",
      "total nr simulations up to t =5 is 71278\n",
      "DEBUG:Epsilon:new eps, t=6, eps=2.194439218135261\n",
      "INFO:ABC:t:6 eps:2.194439218135261\n",
      "DEBUG:ABC:now submitting population 6\n",
      "DEBUG:ABC:population 6 done\n",
      "DEBUG:ABC:\n",
      "total nr simulations up to t =6 is 84986\n",
      "DEBUG:Epsilon:new eps, t=7, eps=2.005689978909324\n",
      "INFO:ABC:t:7 eps:2.005689978909324\n",
      "DEBUG:ABC:now submitting population 7\n",
      "DEBUG:ABC:population 7 done\n",
      "DEBUG:ABC:\n",
      "total nr simulations up to t =7 is 100044\n",
      "DEBUG:Epsilon:new eps, t=8, eps=1.912767084432608\n",
      "INFO:ABC:t:8 eps:1.912767084432608\n",
      "DEBUG:ABC:now submitting population 8\n",
      "DEBUG:ABC:population 8 done\n",
      "DEBUG:ABC:\n",
      "total nr simulations up to t =8 is 119752\n",
      "DEBUG:Epsilon:new eps, t=9, eps=1.7339950017727843\n",
      "INFO:ABC:t:9 eps:1.7339950017727843\n",
      "DEBUG:ABC:now submitting population 9\n",
      "DEBUG:ABC:population 9 done\n",
      "DEBUG:ABC:\n",
      "total nr simulations up to t =9 is 136225\n",
      "DEBUG:Epsilon:new eps, t=10, eps=1.5831051668689882\n",
      "INFO:ABC:t:10 eps:1.5831051668689882\n",
      "DEBUG:ABC:now submitting population 10\n",
      "DEBUG:ABC:population 10 done\n",
      "DEBUG:ABC:\n",
      "total nr simulations up to t =10 is 152211\n",
      "DEBUG:Epsilon:new eps, t=11, eps=1.4946984580559062\n",
      "INFO:ABC:t:11 eps:1.4946984580559062\n",
      "DEBUG:ABC:now submitting population 11\n",
      "DEBUG:ABC:population 11 done\n",
      "DEBUG:ABC:\n",
      "total nr simulations up to t =11 is 169623\n",
      "DEBUG:Epsilon:new eps, t=12, eps=1.4476642372050836\n",
      "INFO:ABC:t:12 eps:1.4476642372050836\n",
      "DEBUG:ABC:now submitting population 12\n"
     ]
    }
   ],
   "source": [
    "history = abc.run(minimum_epsilon=0.1, max_nr_populations=200, min_acceptance_rate=0.005)"
   ]
  },
  {
   "cell_type": "code",
   "execution_count": null,
   "metadata": {},
   "outputs": [],
   "source": [
    "history = abc.run(minimum_epsilon=0.0, max_nr_populations=100, min_acceptance_rate=0.001)"
   ]
  },
  {
   "cell_type": "markdown",
   "metadata": {},
   "source": [
    "# Results analysis"
   ]
  },
  {
   "cell_type": "code",
   "execution_count": 16,
   "metadata": {},
   "outputs": [],
   "source": [
    "from pyabc import History"
   ]
  },
  {
   "cell_type": "code",
   "execution_count": 17,
   "metadata": {},
   "outputs": [
    {
     "data": {
      "text/plain": [
       "[<ABCSMC(id=1, start_time=2019-07-18 08:22:04.565648, end_time=2019-07-21 14:09:33.799263)>]"
      ]
     },
     "execution_count": 17,
     "metadata": {},
     "output_type": "execute_result"
    }
   ],
   "source": [
    "history = History(db_path)\n",
    "history.all_runs()"
   ]
  },
  {
   "cell_type": "code",
   "execution_count": 18,
   "metadata": {},
   "outputs": [],
   "source": [
    "history.id = 1"
   ]
  },
  {
   "cell_type": "code",
   "execution_count": 19,
   "metadata": {},
   "outputs": [],
   "source": [
    "df, w = history.get_distribution(m=0)"
   ]
  },
  {
   "cell_type": "code",
   "execution_count": 20,
   "metadata": {
    "scrolled": true
   },
   "outputs": [
    {
     "data": {
      "text/html": [
       "<div>\n",
       "<style scoped>\n",
       "    .dataframe tbody tr th:only-of-type {\n",
       "        vertical-align: middle;\n",
       "    }\n",
       "\n",
       "    .dataframe tbody tr th {\n",
       "        vertical-align: top;\n",
       "    }\n",
       "\n",
       "    .dataframe thead th {\n",
       "        text-align: right;\n",
       "    }\n",
       "</style>\n",
       "<table border=\"1\" class=\"dataframe\">\n",
       "  <thead>\n",
       "    <tr style=\"text-align: right;\">\n",
       "      <th>name</th>\n",
       "      <th>icat.E_Ca_offset</th>\n",
       "      <th>icat.g_CaT</th>\n",
       "      <th>icat.p_2</th>\n",
       "      <th>icat.p_4</th>\n",
       "      <th>icat.p_6</th>\n",
       "      <th>icat.p_8</th>\n",
       "      <th>log_icat.p_1</th>\n",
       "      <th>log_icat.p_3</th>\n",
       "      <th>log_icat.p_5</th>\n",
       "      <th>log_icat.p_7</th>\n",
       "    </tr>\n",
       "  </thead>\n",
       "  <tbody>\n",
       "    <tr>\n",
       "      <th>count</th>\n",
       "      <td>5000.000000</td>\n",
       "      <td>5000.000000</td>\n",
       "      <td>5000.000000</td>\n",
       "      <td>5000.000000</td>\n",
       "      <td>5000.000000</td>\n",
       "      <td>5000.000000</td>\n",
       "      <td>5000.000000</td>\n",
       "      <td>5000.000000</td>\n",
       "      <td>5000.000000</td>\n",
       "      <td>5000.000000</td>\n",
       "    </tr>\n",
       "    <tr>\n",
       "      <th>mean</th>\n",
       "      <td>70.235023</td>\n",
       "      <td>0.158523</td>\n",
       "      <td>0.027162</td>\n",
       "      <td>0.186357</td>\n",
       "      <td>0.169601</td>\n",
       "      <td>0.051547</td>\n",
       "      <td>2.470910</td>\n",
       "      <td>-0.904688</td>\n",
       "      <td>0.923305</td>\n",
       "      <td>-3.829859</td>\n",
       "    </tr>\n",
       "    <tr>\n",
       "      <th>std</th>\n",
       "      <td>2.636887</td>\n",
       "      <td>0.004980</td>\n",
       "      <td>0.001786</td>\n",
       "      <td>0.001795</td>\n",
       "      <td>0.001107</td>\n",
       "      <td>0.000923</td>\n",
       "      <td>0.053579</td>\n",
       "      <td>0.066487</td>\n",
       "      <td>0.034504</td>\n",
       "      <td>0.032051</td>\n",
       "    </tr>\n",
       "    <tr>\n",
       "      <th>min</th>\n",
       "      <td>62.465855</td>\n",
       "      <td>0.143973</td>\n",
       "      <td>0.021783</td>\n",
       "      <td>0.180377</td>\n",
       "      <td>0.166577</td>\n",
       "      <td>0.048439</td>\n",
       "      <td>2.286447</td>\n",
       "      <td>-1.116441</td>\n",
       "      <td>0.828407</td>\n",
       "      <td>-3.923020</td>\n",
       "    </tr>\n",
       "    <tr>\n",
       "      <th>25%</th>\n",
       "      <td>70.242450</td>\n",
       "      <td>0.158387</td>\n",
       "      <td>0.025906</td>\n",
       "      <td>0.185188</td>\n",
       "      <td>0.168777</td>\n",
       "      <td>0.050896</td>\n",
       "      <td>2.445140</td>\n",
       "      <td>-0.928635</td>\n",
       "      <td>0.897636</td>\n",
       "      <td>-3.853198</td>\n",
       "    </tr>\n",
       "    <tr>\n",
       "      <th>50%</th>\n",
       "      <td>71.243244</td>\n",
       "      <td>0.160379</td>\n",
       "      <td>0.026996</td>\n",
       "      <td>0.186333</td>\n",
       "      <td>0.169560</td>\n",
       "      <td>0.051582</td>\n",
       "      <td>2.478733</td>\n",
       "      <td>-0.890688</td>\n",
       "      <td>0.921704</td>\n",
       "      <td>-3.831133</td>\n",
       "    </tr>\n",
       "    <tr>\n",
       "      <th>75%</th>\n",
       "      <td>71.762397</td>\n",
       "      <td>0.161468</td>\n",
       "      <td>0.028383</td>\n",
       "      <td>0.187441</td>\n",
       "      <td>0.170392</td>\n",
       "      <td>0.052221</td>\n",
       "      <td>2.508504</td>\n",
       "      <td>-0.859395</td>\n",
       "      <td>0.947750</td>\n",
       "      <td>-3.807146</td>\n",
       "    </tr>\n",
       "    <tr>\n",
       "      <th>max</th>\n",
       "      <td>73.195300</td>\n",
       "      <td>0.164538</td>\n",
       "      <td>0.033917</td>\n",
       "      <td>0.193562</td>\n",
       "      <td>0.173181</td>\n",
       "      <td>0.054214</td>\n",
       "      <td>2.590635</td>\n",
       "      <td>-0.770929</td>\n",
       "      <td>1.036807</td>\n",
       "      <td>-3.722263</td>\n",
       "    </tr>\n",
       "  </tbody>\n",
       "</table>\n",
       "</div>"
      ],
      "text/plain": [
       "name   icat.E_Ca_offset   icat.g_CaT     icat.p_2     icat.p_4     icat.p_6  \\\n",
       "count       5000.000000  5000.000000  5000.000000  5000.000000  5000.000000   \n",
       "mean          70.235023     0.158523     0.027162     0.186357     0.169601   \n",
       "std            2.636887     0.004980     0.001786     0.001795     0.001107   \n",
       "min           62.465855     0.143973     0.021783     0.180377     0.166577   \n",
       "25%           70.242450     0.158387     0.025906     0.185188     0.168777   \n",
       "50%           71.243244     0.160379     0.026996     0.186333     0.169560   \n",
       "75%           71.762397     0.161468     0.028383     0.187441     0.170392   \n",
       "max           73.195300     0.164538     0.033917     0.193562     0.173181   \n",
       "\n",
       "name      icat.p_8  log_icat.p_1  log_icat.p_3  log_icat.p_5  log_icat.p_7  \n",
       "count  5000.000000   5000.000000   5000.000000   5000.000000   5000.000000  \n",
       "mean      0.051547      2.470910     -0.904688      0.923305     -3.829859  \n",
       "std       0.000923      0.053579      0.066487      0.034504      0.032051  \n",
       "min       0.048439      2.286447     -1.116441      0.828407     -3.923020  \n",
       "25%       0.050896      2.445140     -0.928635      0.897636     -3.853198  \n",
       "50%       0.051582      2.478733     -0.890688      0.921704     -3.831133  \n",
       "75%       0.052221      2.508504     -0.859395      0.947750     -3.807146  \n",
       "max       0.054214      2.590635     -0.770929      1.036807     -3.722263  "
      ]
     },
     "execution_count": 20,
     "metadata": {},
     "output_type": "execute_result"
    }
   ],
   "source": [
    "df.describe()"
   ]
  },
  {
   "cell_type": "code",
   "execution_count": 21,
   "metadata": {
    "scrolled": true
   },
   "outputs": [
    {
     "name": "stderr",
     "output_type": "stream",
     "text": [
      "/scratch/cph211/miniconda3/envs/ionchannelABC/lib/python3.7/site-packages/seaborn/axisgrid.py:848: UserWarning: Tight layout not applied. tight_layout cannot make axes height small enough to accommodate all axes decorations\n",
      "  self.fig.tight_layout()\n",
      "/scratch/cph211/miniconda3/envs/ionchannelABC/lib/python3.7/site-packages/seaborn/axisgrid.py:848: UserWarning: Tight layout not applied. tight_layout cannot make axes height small enough to accommodate all axes decorations\n",
      "  self.fig.tight_layout()\n",
      "/scratch/cph211/miniconda3/envs/ionchannelABC/lib/python3.7/site-packages/seaborn/axisgrid.py:848: UserWarning: Tight layout not applied. tight_layout cannot make axes height small enough to accommodate all axes decorations\n",
      "  self.fig.tight_layout()\n",
      "/scratch/cph211/miniconda3/envs/ionchannelABC/lib/python3.7/site-packages/seaborn/axisgrid.py:848: UserWarning: Tight layout not applied. tight_layout cannot make axes height small enough to accommodate all axes decorations\n",
      "  self.fig.tight_layout()\n",
      "/scratch/cph211/miniconda3/envs/ionchannelABC/lib/python3.7/site-packages/seaborn/axisgrid.py:848: UserWarning: Tight layout not applied. tight_layout cannot make axes height small enough to accommodate all axes decorations\n",
      "  self.fig.tight_layout()\n"
     ]
    },
    {
     "data": {
      "image/png": "[encoded data removed]",
      "text/plain": [
       "<Figure size 518.4x432 with 10 Axes>"
      ]
     },
     "metadata": {},
     "output_type": "display_data"
    }
   ],
   "source": [
    "from ionchannelABC import plot_parameters_kde\n",
    "g = plot_parameters_kde(df, w, limits, aspect=12,height=0.6)"
   ]
  },
  {
   "cell_type": "markdown",
   "metadata": {},
   "source": [
    "# Samples for quantitative analysis"
   ]
  },
  {
   "cell_type": "code",
   "execution_count": 22,
   "metadata": {},
   "outputs": [],
   "source": [
    "# Generate parameter samples\n",
    "n_samples = 100\n",
    "df, w = history.get_distribution(m=0)\n",
    "th_samples = df.sample(n=n_samples, weights=w, replace=True).to_dict(orient='records')"
   ]
  },
  {
   "cell_type": "code",
   "execution_count": 23,
   "metadata": {},
   "outputs": [],
   "source": [
    "# Generate sim results samples\n",
    "import pandas as pd\n",
    "samples = pd.DataFrame({})\n",
    "for i, th in enumerate(th_samples):\n",
    "    results = summary_statistics(model(th))\n",
    "    output = pd.DataFrame({'x': observations.x, 'y': list(results.values()),\n",
    "                           'exp_id': observations.exp_id})\n",
    "    #output = model.sample(pars=th, n_x=50)\n",
    "    output['sample'] = i\n",
    "    output['distribution'] = 'post'\n",
    "    samples = samples.append(output, ignore_index=True)"
   ]
  },
  {
   "cell_type": "code",
   "execution_count": 24,
   "metadata": {
    "scrolled": true
   },
   "outputs": [
    {
     "data": {
      "image/png": "[encoded data removed]",
      "text/plain": [
       "<Figure size 1168.53x360 with 3 Axes>"
      ]
     },
     "metadata": {},
     "output_type": "display_data"
    }
   ],
   "source": [
    "from ionchannelABC import plot_sim_results\n",
    "import seaborn as sns\n",
    "sns.set_context('talk')\n",
    "g = plot_sim_results(samples, obs=observations)\n",
    "\n",
    "# Set axis labels\n",
    "#xlabels = [\"voltage, mV\", \"voltage, mV\", \"voltage, mV\", \"time, ms\"]#, \"time, ms\",\"voltage, mV\"]\n",
    "#ylabels = [\"normalised current density, pA/pF\", \"activation\", \"inactivation\", \"recovery\"]#, \"normalised current\",\"current density, pA/pF\"]\n",
    "#for ax, xl in zip(g.axes.flatten(), xlabels):\n",
    "#    ax.set_xlabel(xl)\n",
    "#for ax, yl in zip(g.axes.flatten(), ylabels):\n",
    "#    ax.set_ylabel(yl)"
   ]
  },
  {
   "cell_type": "code",
   "execution_count": 31,
   "metadata": {},
   "outputs": [],
   "source": [
    "#g.savefig('results/icat-generic/icat_sim_results.pdf')"
   ]
  },
  {
   "cell_type": "code",
   "execution_count": 103,
   "metadata": {},
   "outputs": [],
   "source": [
    "def plot_sim_results_all(samples: pd.DataFrame):\n",
    "    with sns.color_palette(\"gray\"):\n",
    "        grid = sns.relplot(x='x', y='y',\n",
    "                           col='exp',\n",
    "                           units='sample',\n",
    "                           kind='line',\n",
    "                           data=samples,\n",
    "                           estimator=None, lw=0.5,\n",
    "                           alpha=0.5,\n",
    "                           #estimator=np.median,\n",
    "                           facet_kws={'sharex': 'col',\n",
    "                                      'sharey': 'col'})\n",
    "    return grid"
   ]
  },
  {
   "cell_type": "code",
   "execution_count": 104,
   "metadata": {},
   "outputs": [
    {
     "data": {
      "image/png": "[encoded data removed]",
      "text/plain": [
       "<Figure size 1440x360 with 4 Axes>"
      ]
     },
     "metadata": {},
     "output_type": "display_data"
    }
   ],
   "source": [
    "grid2 = plot_sim_results_all(samples)"
   ]
  },
  {
   "cell_type": "code",
   "execution_count": 33,
   "metadata": {},
   "outputs": [],
   "source": [
    "#grid2.savefig('results/icat-generic/icat_sim_results_all.pdf')"
   ]
  },
  {
   "cell_type": "code",
   "execution_count": 35,
   "metadata": {},
   "outputs": [],
   "source": [
    "import numpy as np"
   ]
  },
  {
   "cell_type": "code",
   "execution_count": 42,
   "metadata": {},
   "outputs": [
    {
     "name": "stdout",
     "output_type": "stream",
     "text": [
      "-0.9792263129382246\n",
      "0.060452038127623814\n"
     ]
    }
   ],
   "source": [
    "# Mean current density\n",
    "print(np.mean(samples[samples.exp=='0'].groupby('sample').min()['y']))\n",
    "# Std current density\n",
    "print(np.std(samples[samples.exp=='0'].groupby('sample').min()['y']))"
   ]
  },
  {
   "cell_type": "code",
   "execution_count": 43,
   "metadata": {},
   "outputs": [],
   "source": [
    "import scipy.stats as st\n",
    "peak_current = samples[samples['exp']=='0'].groupby('sample').min()['y'].tolist()\n",
    "rv = st.rv_discrete(values=(peak_current, [1/len(peak_current),]*len(peak_current)))"
   ]
  },
  {
   "cell_type": "code",
   "execution_count": 44,
   "metadata": {},
   "outputs": [
    {
     "name": "stdout",
     "output_type": "stream",
     "text": [
      "median: -0.9929750589235674\n",
      "95% CI: (-1.0714884415582595, -0.8489199437971181)\n"
     ]
    }
   ],
   "source": [
    "print(\"median: {}\".format(rv.median()))\n",
    "print(\"95% CI: {}\".format(rv.interval(0.95)))"
   ]
  },
  {
   "cell_type": "code",
   "execution_count": 45,
   "metadata": {},
   "outputs": [
    {
     "name": "stdout",
     "output_type": "stream",
     "text": [
      "mean: -20.1\n",
      "STD: 0.7\n"
     ]
    }
   ],
   "source": [
    "# Voltage of peak current density\n",
    "idxs = samples[samples.exp=='0'].groupby('sample').idxmin()['y']\n",
    "print(\"mean: {}\".format(np.mean(samples.iloc[idxs]['x'])))\n",
    "print(\"STD: {}\".format(np.std(samples.iloc[idxs]['x'])))"
   ]
  },
  {
   "cell_type": "code",
   "execution_count": 46,
   "metadata": {},
   "outputs": [
    {
     "name": "stdout",
     "output_type": "stream",
     "text": [
      "median: -20.0\n",
      "95% CI: (-20.0, -20.0)\n"
     ]
    }
   ],
   "source": [
    "voltage_peak = samples.iloc[idxs]['x'].tolist()\n",
    "rv = st.rv_discrete(values=(voltage_peak, [1/len(voltage_peak),]*len(voltage_peak)))\n",
    "print(\"median: {}\".format(rv.median()))\n",
    "print(\"95% CI: {}\".format(rv.interval(0.95)))"
   ]
  },
  {
   "cell_type": "code",
   "execution_count": 48,
   "metadata": {},
   "outputs": [],
   "source": [
    "# Half activation potential\n",
    "# Fit of activation to Boltzmann equation\n",
    "from scipy.optimize import curve_fit\n",
    "grouped = samples[samples['exp']=='1'].groupby('sample')\n",
    "def fit_boltzmann(group):\n",
    "    def boltzmann(V, Vhalf, K):\n",
    "        return 1/(1+np.exp((Vhalf-V)/K))\n",
    "    guess = (-30, 10)\n",
    "    popt, _ = curve_fit(boltzmann, group.x, group.y)\n",
    "    return popt\n",
    "output = grouped.apply(fit_boltzmann).apply(pd.Series)"
   ]
  },
  {
   "cell_type": "code",
   "execution_count": 49,
   "metadata": {},
   "outputs": [
    {
     "name": "stdout",
     "output_type": "stream",
     "text": [
      "0   -33.399071\n",
      "1     5.739255\n",
      "dtype: float64\n",
      "0    0.823473\n",
      "1    0.366996\n",
      "dtype: float64\n"
     ]
    }
   ],
   "source": [
    "print(np.mean(output))\n",
    "print(np.std(output))"
   ]
  },
  {
   "cell_type": "code",
   "execution_count": 50,
   "metadata": {},
   "outputs": [
    {
     "name": "stdout",
     "output_type": "stream",
     "text": [
      "median: -33.407394098238164\n",
      "95% CI: (-34.93130871417603, -31.973122716861205)\n"
     ]
    }
   ],
   "source": [
    "Vhalf = output[0].tolist()\n",
    "rv = st.rv_discrete(values=(Vhalf, [1/len(Vhalf),]*len(Vhalf)))\n",
    "print(\"median: {}\".format(rv.median()))\n",
    "print(\"95% CI: {}\".format(rv.interval(0.95)))"
   ]
  },
  {
   "cell_type": "code",
   "execution_count": 51,
   "metadata": {},
   "outputs": [
    {
     "name": "stdout",
     "output_type": "stream",
     "text": [
      "median: 5.728938366573993\n",
      "95% CI: (5.117385157850234, 6.485585591389819)\n"
     ]
    }
   ],
   "source": [
    "slope = output[1].tolist()\n",
    "rv = st.rv_discrete(values=(slope, [1/len(slope),]*len(slope)))\n",
    "print(\"median: {}\".format(rv.median()))\n",
    "print(\"95% CI: {}\".format(rv.interval(0.95)))"
   ]
  },
  {
   "cell_type": "code",
   "execution_count": 52,
   "metadata": {},
   "outputs": [],
   "source": [
    "# Half activation potential\n",
    "grouped = samples[samples['exp']=='2'].groupby('sample')\n",
    "def fit_boltzmann(group):\n",
    "    def boltzmann(V, Vhalf, K):\n",
    "        return 1-1/(1+np.exp((Vhalf-V)/K))\n",
    "    guess = (-100, 10)\n",
    "    popt, _ = curve_fit(boltzmann, group.x, group.y,\n",
    "                        bounds=([-100, 1], [0, 30]))\n",
    "    return popt\n",
    "output = grouped.apply(fit_boltzmann).apply(pd.Series)"
   ]
  },
  {
   "cell_type": "code",
   "execution_count": 53,
   "metadata": {},
   "outputs": [
    {
     "name": "stdout",
     "output_type": "stream",
     "text": [
      "0   -49.011222\n",
      "1     4.399126\n",
      "dtype: float64\n",
      "0    0.613833\n",
      "1    0.306758\n",
      "dtype: float64\n"
     ]
    }
   ],
   "source": [
    "print(np.mean(output))\n",
    "print(np.std(output))"
   ]
  },
  {
   "cell_type": "code",
   "execution_count": 54,
   "metadata": {},
   "outputs": [
    {
     "name": "stdout",
     "output_type": "stream",
     "text": [
      "median: -49.01404281457659\n",
      "95% CI: (-50.06478757419054, -47.57952101705519)\n"
     ]
    }
   ],
   "source": [
    "Vhalf = output[0].tolist()\n",
    "rv = st.rv_discrete(values=(Vhalf, [1/len(Vhalf),]*len(Vhalf)))\n",
    "print(\"median: {}\".format(rv.median()))\n",
    "print(\"95% CI: {}\".format(rv.interval(0.95)))"
   ]
  },
  {
   "cell_type": "code",
   "execution_count": 55,
   "metadata": {},
   "outputs": [
    {
     "name": "stdout",
     "output_type": "stream",
     "text": [
      "median: 4.420440009120772\n",
      "95% CI: (3.7821747606540193, 4.959106709731536)\n"
     ]
    }
   ],
   "source": [
    "slope = output[1].tolist()\n",
    "rv = st.rv_discrete(values=(slope, [1/len(slope),]*len(slope)))\n",
    "print(\"median: {}\".format(rv.median()))\n",
    "print(\"95% CI: {}\".format(rv.interval(0.95)))"
   ]
  },
  {
   "cell_type": "code",
   "execution_count": 56,
   "metadata": {},
   "outputs": [],
   "source": [
    "# Recovery time constant\n",
    "grouped = samples[samples.exp=='3'].groupby('sample')\n",
    "def fit_single_exp(group):\n",
    "    def single_exp(t, I_max, tau):\n",
    "        return I_max*(1-np.exp(-t/tau))\n",
    "    guess = (1, 50)\n",
    "    popt, _ = curve_fit(single_exp, group.x, group.y, guess)\n",
    "    return popt[1]\n",
    "output = grouped.apply(fit_single_exp)"
   ]
  },
  {
   "cell_type": "code",
   "execution_count": 57,
   "metadata": {
    "scrolled": true
   },
   "outputs": [
    {
     "name": "stdout",
     "output_type": "stream",
     "text": [
      "114.50830523453935\n",
      "5.781251582667316\n"
     ]
    }
   ],
   "source": [
    "print(np.mean(output))\n",
    "print(np.std(output))"
   ]
  },
  {
   "cell_type": "code",
   "execution_count": 58,
   "metadata": {},
   "outputs": [
    {
     "name": "stdout",
     "output_type": "stream",
     "text": [
      "median: 113.75533911706513\n",
      "95% CI: (104.11137902797657, 125.98102619971708)\n"
     ]
    }
   ],
   "source": [
    "tau = output.tolist()\n",
    "rv = st.rv_discrete(values=(tau, [1/len(tau),]*len(tau)))\n",
    "print(\"median: {}\".format(rv.median()))\n",
    "print(\"95% CI: {}\".format(rv.interval(0.95)))"
   ]
  },
  {
   "cell_type": "code",
   "execution_count": null,
   "metadata": {},
   "outputs": [],
   "source": []
  }
 ],
 "metadata": {
  "kernelspec": {
   "display_name": "Python 3",
   "language": "python",
   "name": "python3"
  },
  "language_info": {
   "codemirror_mode": {
    "name": "ipython",
    "version": 3
   },
   "file_extension": ".py",
   "mimetype": "text/x-python",
   "name": "python",
   "nbconvert_exporter": "python",
   "pygments_lexer": "ipython3",
   "version": "3.7.3"
  }
 },
 "nbformat": 4,
 "nbformat_minor": 2
}
