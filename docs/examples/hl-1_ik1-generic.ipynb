{
 "cells": [
  {
   "cell_type": "markdown",
   "metadata": {},
   "source": [
    "# Imports"
   ]
  },
  {
   "cell_type": "code",
   "execution_count": 9,
   "metadata": {},
   "outputs": [],
   "source": [
    "# PyABC imports\n",
    "from pyabc import (ABCSMC, Distribution, RV,\n",
    "                   History, MedianEpsilon)\n",
    "from pyabc.populationstrategy import ConstantPopulationSize, AdaptivePopulationSize\n",
    "from pyabc.epsilon import MedianEpsilon\n",
    "from pyabc.sampler import MulticoreEvalParallelSampler"
   ]
  },
  {
   "cell_type": "code",
   "execution_count": 1,
   "metadata": {},
   "outputs": [
    {
     "name": "stderr",
     "output_type": "stream",
     "text": [
      "INFO:myokit:Loading Myokit version 1.27.4\n"
     ]
    }
   ],
   "source": [
    "# Custom imports\n",
    "from ionchannelABC import (ion_channel_sum_stats_calculator,\n",
    "                           IonChannelAcceptor,\n",
    "                           IonChannelDistance,\n",
    "                           EfficientMultivariateNormalTransition,\n",
    "                           calculate_parameter_sensitivity,\n",
    "                           plot_parameter_sensitivity,\n",
    "                           plot_regression_fit,\n",
    "                           plot_parameters_kde,\n",
    "                           plot_distance_weights)"
   ]
  },
  {
   "cell_type": "code",
   "execution_count": 2,
   "metadata": {},
   "outputs": [],
   "source": [
    "# Other necessary imports\n",
    "import numpy as np\n",
    "import subprocess\n",
    "import pandas as pd\n",
    "import io\n",
    "import os\n",
    "import tempfile"
   ]
  },
  {
   "cell_type": "code",
   "execution_count": 3,
   "metadata": {},
   "outputs": [],
   "source": [
    "# Plotting imports\n",
    "import seaborn as sns\n",
    "import matplotlib.pyplot as plt\n",
    "%matplotlib inline\n",
    "%config Inline.Backend.figure_format = 'retina'"
   ]
  },
  {
   "cell_type": "markdown",
   "metadata": {},
   "source": [
    "# Create the ion channel model"
   ]
  },
  {
   "cell_type": "code",
   "execution_count": 5,
   "metadata": {},
   "outputs": [
    {
     "data": {
      "text/html": [
       "<div>\n",
       "<style scoped>\n",
       "    .dataframe tbody tr th:only-of-type {\n",
       "        vertical-align: middle;\n",
       "    }\n",
       "\n",
       "    .dataframe tbody tr th {\n",
       "        vertical-align: top;\n",
       "    }\n",
       "\n",
       "    .dataframe thead th {\n",
       "        text-align: right;\n",
       "    }\n",
       "</style>\n",
       "<table border=\"1\" class=\"dataframe\">\n",
       "  <thead>\n",
       "    <tr style=\"text-align: right;\">\n",
       "      <th></th>\n",
       "      <th>x</th>\n",
       "      <th>y</th>\n",
       "      <th>exp</th>\n",
       "    </tr>\n",
       "  </thead>\n",
       "  <tbody>\n",
       "    <tr>\n",
       "      <th>0</th>\n",
       "      <td>-150</td>\n",
       "      <td>-0.662984</td>\n",
       "      <td>0</td>\n",
       "    </tr>\n",
       "    <tr>\n",
       "      <th>1</th>\n",
       "      <td>-140</td>\n",
       "      <td>-0.832721</td>\n",
       "      <td>0</td>\n",
       "    </tr>\n",
       "    <tr>\n",
       "      <th>2</th>\n",
       "      <td>-130</td>\n",
       "      <td>-1.028144</td>\n",
       "      <td>0</td>\n",
       "    </tr>\n",
       "    <tr>\n",
       "      <th>3</th>\n",
       "      <td>-120</td>\n",
       "      <td>-1.242795</td>\n",
       "      <td>0</td>\n",
       "    </tr>\n",
       "    <tr>\n",
       "      <th>4</th>\n",
       "      <td>-110</td>\n",
       "      <td>-1.463968</td>\n",
       "      <td>0</td>\n",
       "    </tr>\n",
       "    <tr>\n",
       "      <th>5</th>\n",
       "      <td>-100</td>\n",
       "      <td>-1.672248</td>\n",
       "      <td>0</td>\n",
       "    </tr>\n",
       "    <tr>\n",
       "      <th>6</th>\n",
       "      <td>-90</td>\n",
       "      <td>-1.843054</td>\n",
       "      <td>0</td>\n",
       "    </tr>\n",
       "    <tr>\n",
       "      <th>7</th>\n",
       "      <td>-80</td>\n",
       "      <td>-1.950572</td>\n",
       "      <td>0</td>\n",
       "    </tr>\n",
       "    <tr>\n",
       "      <th>8</th>\n",
       "      <td>-70</td>\n",
       "      <td>-1.973190</td>\n",
       "      <td>0</td>\n",
       "    </tr>\n",
       "    <tr>\n",
       "      <th>9</th>\n",
       "      <td>-60</td>\n",
       "      <td>-1.898315</td>\n",
       "      <td>0</td>\n",
       "    </tr>\n",
       "    <tr>\n",
       "      <th>10</th>\n",
       "      <td>-50</td>\n",
       "      <td>-1.724452</td>\n",
       "      <td>0</td>\n",
       "    </tr>\n",
       "    <tr>\n",
       "      <th>11</th>\n",
       "      <td>-40</td>\n",
       "      <td>-1.459913</td>\n",
       "      <td>0</td>\n",
       "    </tr>\n",
       "    <tr>\n",
       "      <th>12</th>\n",
       "      <td>-30</td>\n",
       "      <td>-1.119244</td>\n",
       "      <td>0</td>\n",
       "    </tr>\n",
       "    <tr>\n",
       "      <th>13</th>\n",
       "      <td>-20</td>\n",
       "      <td>-0.719207</td>\n",
       "      <td>0</td>\n",
       "    </tr>\n",
       "    <tr>\n",
       "      <th>14</th>\n",
       "      <td>-10</td>\n",
       "      <td>-0.275705</td>\n",
       "      <td>0</td>\n",
       "    </tr>\n",
       "    <tr>\n",
       "      <th>15</th>\n",
       "      <td>0</td>\n",
       "      <td>0.197908</td>\n",
       "      <td>0</td>\n",
       "    </tr>\n",
       "    <tr>\n",
       "      <th>16</th>\n",
       "      <td>10</td>\n",
       "      <td>0.691340</td>\n",
       "      <td>0</td>\n",
       "    </tr>\n",
       "    <tr>\n",
       "      <th>17</th>\n",
       "      <td>20</td>\n",
       "      <td>1.197153</td>\n",
       "      <td>0</td>\n",
       "    </tr>\n",
       "    <tr>\n",
       "      <th>18</th>\n",
       "      <td>30</td>\n",
       "      <td>1.710244</td>\n",
       "      <td>0</td>\n",
       "    </tr>\n",
       "  </tbody>\n",
       "</table>\n",
       "</div>"
      ],
      "text/plain": [
       "      x         y  exp\n",
       "0  -150 -0.662984    0\n",
       "1  -140 -0.832721    0\n",
       "2  -130 -1.028144    0\n",
       "3  -120 -1.242795    0\n",
       "4  -110 -1.463968    0\n",
       "5  -100 -1.672248    0\n",
       "6   -90 -1.843054    0\n",
       "7   -80 -1.950572    0\n",
       "8   -70 -1.973190    0\n",
       "9   -60 -1.898315    0\n",
       "10  -50 -1.724452    0\n",
       "11  -40 -1.459913    0\n",
       "12  -30 -1.119244    0\n",
       "13  -20 -0.719207    0\n",
       "14  -10 -0.275705    0\n",
       "15    0  0.197908    0\n",
       "16   10  0.691340    0\n",
       "17   20  1.197153    0\n",
       "18   30  1.710244    0"
      ]
     },
     "execution_count": 5,
     "metadata": {},
     "output_type": "execute_result"
    }
   ],
   "source": [
    "from channels.ik1_generic import ik1 as model\n",
    "model.sample({})"
   ]
  },
  {
   "cell_type": "markdown",
   "metadata": {},
   "source": [
    "# Get experimental measurements"
   ]
  },
  {
   "cell_type": "code",
   "execution_count": 6,
   "metadata": {},
   "outputs": [],
   "source": [
    "measurements = model.get_experiment_data()\n",
    "obs = measurements.to_dict()['y']\n",
    "exp = measurements.to_dict()['exp']\n",
    "errs = measurements.to_dict()['errs']\n",
    "\n",
    "# Normalise as conductance is not fit in this notebook\n",
    "#obs = {k: v / abs(max(obs.values(), key=abs)) for k, v in obs.items()}"
   ]
  },
  {
   "cell_type": "code",
   "execution_count": 7,
   "metadata": {},
   "outputs": [],
   "source": [
    "#measurements['y'] = obs.values()"
   ]
  },
  {
   "cell_type": "markdown",
   "metadata": {},
   "source": [
    "# Set limits and generate uniform initial priors"
   ]
  },
  {
   "cell_type": "code",
   "execution_count": 10,
   "metadata": {},
   "outputs": [],
   "source": [
    "limits = dict(g_K1=(0,1),\n",
    "              Vhalf_x=(-200,200),\n",
    "              k_x=(-100,100))\n",
    "prior = Distribution(**{key: RV(\"uniform\", a, b - a)\n",
    "                        for key, (a,b) in limits.items()})"
   ]
  },
  {
   "cell_type": "markdown",
   "metadata": {},
   "source": [
    "# Test parameter sensitivity"
   ]
  },
  {
   "cell_type": "code",
   "execution_count": 8,
   "metadata": {},
   "outputs": [],
   "source": [
    "parameters = ['ik1.'+k for k in limits.keys()]"
   ]
  },
  {
   "cell_type": "code",
   "execution_count": 9,
   "metadata": {},
   "outputs": [],
   "source": [
    "distance_fn=IonChannelDistance(\n",
    "    obs=obs,\n",
    "    exp_map=exp,\n",
    "    err_bars=errs,\n",
    "    err_th=0.1)"
   ]
  },
  {
   "cell_type": "code",
   "execution_count": 10,
   "metadata": {},
   "outputs": [
    {
     "data": {
      "image/png": "[encoded data removed]",
      "text/plain": [
       "<Figure size 360x360 with 1 Axes>"
      ]
     },
     "metadata": {
      "needs_background": "light"
     },
     "output_type": "display_data"
    }
   ],
   "source": [
    "sns.set_context('talk')\n",
    "g = plot_distance_weights(model, distance_fn)\n",
    "g.savefig('results/ik1/dist_weights.pdf')"
   ]
  },
  {
   "cell_type": "code",
   "execution_count": 12,
   "metadata": {},
   "outputs": [
    {
     "data": {
      "image/png": "[encoded data removed]",
      "text/plain": [
       "<Figure size 1440x360 with 1 Axes>"
      ]
     },
     "metadata": {
      "needs_background": "light"
     },
     "output_type": "display_data"
    },
    {
     "data": {
      "image/png": "[encoded data removed]",
      "text/plain": [
       "<Figure size 360x360 with 1 Axes>"
      ]
     },
     "metadata": {
      "needs_background": "light"
     },
     "output_type": "display_data"
    }
   ],
   "source": [
    "grid1, grid2 = plot_parameter_sensitivity(\n",
    "    model,\n",
    "    parameters,\n",
    "    distance_fn,\n",
    "    sigma=0.1,\n",
    "    n_samples=1000,\n",
    "    plot_cutoff=0.05)"
   ]
  },
  {
   "cell_type": "code",
   "execution_count": 13,
   "metadata": {},
   "outputs": [],
   "source": [
    "grid1.savefig('results/ik1/sensitivity.pdf')\n",
    "grid2.savefig('results/ik1/sensitivity_fit.pdf')"
   ]
  },
  {
   "cell_type": "code",
   "execution_count": 14,
   "metadata": {},
   "outputs": [],
   "source": [
    "# Update limits from study\n",
    "limits = dict(k_2=(0, 100),\n",
    "              k_3=(0, 1),\n",
    "              k_4=(0, 0.1))\n",
    "prior = Distribution(**{key: RV(\"uniform\", a, b - a)\n",
    "                        for key, (a,b) in limits.items()})"
   ]
  },
  {
   "cell_type": "markdown",
   "metadata": {},
   "source": [
    "# Define ABC parameters and initialise database"
   ]
  },
  {
   "cell_type": "code",
   "execution_count": 11,
   "metadata": {},
   "outputs": [
    {
     "name": "stdout",
     "output_type": "stream",
     "text": [
      "sqlite:////scratch/cph211/tmp/hl-1_ik1-generic.db\n"
     ]
    }
   ],
   "source": [
    "db_path = ('sqlite:///' + \n",
    "           os.path.join(tempfile.gettempdir(), \"hl-1_ik1-generic.db\"))\n",
    "print(db_path)"
   ]
  },
  {
   "cell_type": "code",
   "execution_count": 12,
   "metadata": {},
   "outputs": [],
   "source": [
    "# Let's log all the sh!t\n",
    "import logging\n",
    "logging.basicConfig()\n",
    "abc_logger = logging.getLogger('ABC')\n",
    "abc_logger.setLevel(logging.DEBUG)\n",
    "eps_logger = logging.getLogger('Epsilon')\n",
    "eps_logger.setLevel(logging.DEBUG)\n",
    "cv_logger = logging.getLogger('CV Estimation')\n",
    "cv_logger.setLevel(logging.DEBUG)"
   ]
  },
  {
   "cell_type": "code",
   "execution_count": 13,
   "metadata": {},
   "outputs": [
    {
     "name": "stderr",
     "output_type": "stream",
     "text": [
      "DEBUG:ABC:ion channel weights: {0: 0.9999999999999999, 1: 0.9999999999999999, 2: 0.9999999999999999, 3: 0.9999999999999999, 4: 0.9999999999999999, 5: 0.9999999999999999, 6: 0.9999999999999999, 7: 0.9999999999999999, 8: 0.9999999999999999, 9: 0.9999999999999999, 10: 0.9999999999999999, 11: 0.9999999999999999, 12: 0.9999999999999999, 13: 0.9999999999999999, 14: 0.9999999999999999, 15: 0.9999999999999999, 16: 0.9999999999999999, 17: 0.9999999999999999, 18: 0.9999999999999999}\n",
      "DEBUG:Epsilon:init quantile_epsilon initial_epsilon=from_sample, quantile_multiplier=1\n"
     ]
    }
   ],
   "source": [
    "abc = ABCSMC(models=model,\n",
    "             parameter_priors=prior,\n",
    "             distance_function=IonChannelDistance(\n",
    "                 obs=obs,\n",
    "                 exp_map=exp,\n",
    "                 err_bars=errs,\n",
    "                 err_th=0.1),\n",
    "             population_size=ConstantPopulationSize(\n",
    "                 nr_particles=2000),\n",
    "             #population_size=AdaptivePopulationSize(\n",
    "             #    start_nr_particles=5000,\n",
    "             #    mean_cv=0.2,\n",
    "             #    max_population_size=5000,\n",
    "             #    min_population_size=2500),\n",
    "             summary_statistics=ion_channel_sum_stats_calculator,\n",
    "             transitions=EfficientMultivariateNormalTransition(),\n",
    "             eps=MedianEpsilon(),\n",
    "             sampler=MulticoreEvalParallelSampler(n_procs=1),\n",
    "             acceptor=IonChannelAcceptor())"
   ]
  },
  {
   "cell_type": "code",
   "execution_count": 14,
   "metadata": {},
   "outputs": [
    {
     "name": "stderr",
     "output_type": "stream",
     "text": [
      "INFO:History:Start <ABCSMC(id=1, start_time=2018-11-20 12:01:16.676570, end_time=None)>\n",
      "INFO:Epsilon:initial epsilon is 78.69890261498134\n"
     ]
    }
   ],
   "source": [
    "abc_id = abc.new(db_path, obs)"
   ]
  },
  {
   "cell_type": "code",
   "execution_count": 24,
   "metadata": {
    "scrolled": true
   },
   "outputs": [
    {
     "name": "stderr",
     "output_type": "stream",
     "text": [
      "INFO:ABC:t:12 eps:6.295996622970523\n",
      "DEBUG:ABC:now submitting population 12\n",
      "DEBUG:ABC:population 12 done\n",
      "DEBUG:ABC:\n",
      "total nr simulations up to t =12 is 60980\n",
      "DEBUG:Epsilon:new eps, t=13, eps=5.9414694224734\n",
      "INFO:ABC:t:13 eps:5.9414694224734\n",
      "DEBUG:ABC:now submitting population 13\n",
      "DEBUG:ABC:population 13 done\n",
      "DEBUG:ABC:\n",
      "total nr simulations up to t =13 is 65190\n",
      "DEBUG:Epsilon:new eps, t=14, eps=5.683339465309045\n",
      "INFO:ABC:t:14 eps:5.683339465309045\n",
      "DEBUG:ABC:now submitting population 14\n",
      "DEBUG:ABC:population 14 done\n",
      "DEBUG:ABC:\n",
      "total nr simulations up to t =14 is 69322\n",
      "DEBUG:Epsilon:new eps, t=15, eps=5.488708532585761\n",
      "INFO:ABC:t:15 eps:5.488708532585761\n",
      "DEBUG:ABC:now submitting population 15\n",
      "DEBUG:ABC:population 15 done\n",
      "DEBUG:ABC:\n",
      "total nr simulations up to t =15 is 73413\n",
      "DEBUG:Epsilon:new eps, t=16, eps=5.355034923507091\n",
      "INFO:ABC:t:16 eps:5.355034923507091\n",
      "DEBUG:ABC:now submitting population 16\n",
      "DEBUG:ABC:population 16 done\n",
      "DEBUG:ABC:\n",
      "total nr simulations up to t =16 is 77574\n",
      "DEBUG:Epsilon:new eps, t=17, eps=5.264136066012599\n",
      "INFO:ABC:t:17 eps:5.264136066012599\n",
      "DEBUG:ABC:now submitting population 17\n",
      "DEBUG:ABC:population 17 done\n",
      "DEBUG:ABC:\n",
      "total nr simulations up to t =17 is 81681\n",
      "DEBUG:Epsilon:new eps, t=18, eps=5.204704983160847\n",
      "INFO:ABC:t:18 eps:5.204704983160847\n",
      "DEBUG:ABC:now submitting population 18\n",
      "DEBUG:ABC:population 18 done\n",
      "DEBUG:ABC:\n",
      "total nr simulations up to t =18 is 85835\n",
      "DEBUG:Epsilon:new eps, t=19, eps=5.165809358140769\n",
      "INFO:ABC:t:19 eps:5.165809358140769\n",
      "DEBUG:ABC:now submitting population 19\n",
      "DEBUG:ABC:population 19 done\n",
      "DEBUG:ABC:\n",
      "total nr simulations up to t =19 is 89868\n",
      "DEBUG:Epsilon:new eps, t=20, eps=5.138570655862577\n",
      "INFO:ABC:t:20 eps:5.138570655862577\n",
      "DEBUG:ABC:now submitting population 20\n",
      "DEBUG:ABC:population 20 done\n",
      "DEBUG:ABC:\n",
      "total nr simulations up to t =20 is 93953\n",
      "DEBUG:Epsilon:new eps, t=21, eps=5.12194130141695\n",
      "INFO:ABC:t:21 eps:5.12194130141695\n",
      "DEBUG:ABC:now submitting population 21\n",
      "DEBUG:ABC:population 21 done\n",
      "DEBUG:ABC:\n",
      "total nr simulations up to t =21 is 98101\n",
      "DEBUG:Epsilon:new eps, t=22, eps=5.111124535301707\n",
      "INFO:ABC:t:22 eps:5.111124535301707\n",
      "DEBUG:ABC:now submitting population 22\n",
      "DEBUG:ABC:population 22 done\n",
      "DEBUG:ABC:\n",
      "total nr simulations up to t =22 is 102162\n",
      "DEBUG:Epsilon:new eps, t=23, eps=5.104611252438455\n",
      "INFO:ABC:t:23 eps:5.104611252438455\n",
      "DEBUG:ABC:now submitting population 23\n",
      "DEBUG:ABC:population 23 done\n",
      "DEBUG:ABC:\n",
      "total nr simulations up to t =23 is 106294\n",
      "DEBUG:Epsilon:new eps, t=24, eps=5.10052178869148\n",
      "INFO:ABC:t:24 eps:5.10052178869148\n",
      "DEBUG:ABC:now submitting population 24\n",
      "DEBUG:ABC:population 24 done\n",
      "DEBUG:ABC:\n",
      "total nr simulations up to t =24 is 110279\n",
      "DEBUG:Epsilon:new eps, t=25, eps=5.097752253974293\n",
      "INFO:ABC:t:25 eps:5.097752253974293\n",
      "DEBUG:ABC:now submitting population 25\n",
      "DEBUG:ABC:population 25 done\n",
      "DEBUG:ABC:\n",
      "total nr simulations up to t =25 is 114391\n",
      "DEBUG:Epsilon:new eps, t=26, eps=5.096029383815036\n",
      "INFO:ABC:t:26 eps:5.096029383815036\n",
      "DEBUG:ABC:now submitting population 26\n",
      "DEBUG:ABC:population 26 done\n",
      "DEBUG:ABC:\n",
      "total nr simulations up to t =26 is 118373\n",
      "DEBUG:Epsilon:new eps, t=27, eps=5.095017120068802\n",
      "INFO:ABC:t:27 eps:5.095017120068802\n",
      "DEBUG:ABC:now submitting population 27\n",
      "DEBUG:ABC:population 27 done\n",
      "DEBUG:ABC:\n",
      "total nr simulations up to t =27 is 122377\n",
      "DEBUG:Epsilon:new eps, t=28, eps=5.0943338101045565\n",
      "INFO:ABC:t:28 eps:5.0943338101045565\n",
      "DEBUG:ABC:now submitting population 28\n"
     ]
    },
    {
     "ename": "KeyboardInterrupt",
     "evalue": "",
     "output_type": "error",
     "traceback": [
      "\u001b[0;31m---------------------------------------------------------------------------\u001b[0m",
      "\u001b[0;31mKeyboardInterrupt\u001b[0m                         Traceback (most recent call last)",
      "\u001b[0;32m<ipython-input-24-7f8e0a0fce0f>\u001b[0m in \u001b[0;36m<module>\u001b[0;34m\u001b[0m\n\u001b[0;32m----> 1\u001b[0;31m \u001b[0mhistory\u001b[0m \u001b[0;34m=\u001b[0m \u001b[0mabc\u001b[0m\u001b[0;34m.\u001b[0m\u001b[0mrun\u001b[0m\u001b[0;34m(\u001b[0m\u001b[0mminimum_epsilon\u001b[0m\u001b[0;34m=\u001b[0m\u001b[0;36m0.01\u001b[0m\u001b[0;34m,\u001b[0m \u001b[0mmax_nr_populations\u001b[0m\u001b[0;34m=\u001b[0m\u001b[0;36m30\u001b[0m\u001b[0;34m,\u001b[0m \u001b[0mmin_acceptance_rate\u001b[0m\u001b[0;34m=\u001b[0m\u001b[0;36m0.01\u001b[0m\u001b[0;34m)\u001b[0m\u001b[0;34m\u001b[0m\u001b[0m\n\u001b[0m",
      "\u001b[0;32m/scratch/cph211/miniconda3/envs/ionchannelABC/lib/python3.6/site-packages/pyabc-0.9.2-py3.6.egg/pyabc/smc.py\u001b[0m in \u001b[0;36mrun\u001b[0;34m(self, minimum_epsilon, max_nr_populations, min_acceptance_rate, **kwargs)\u001b[0m\n\u001b[1;32m    666\u001b[0m             \u001b[0;31m# sample for new population\u001b[0m\u001b[0;34m\u001b[0m\u001b[0;34m\u001b[0m\u001b[0m\n\u001b[1;32m    667\u001b[0m             sample = self.sampler.sample_until_n_accepted(\n\u001b[0;32m--> 668\u001b[0;31m                 self.population_strategy.nr_particles, simulate_one)\n\u001b[0m\u001b[1;32m    669\u001b[0m \u001b[0;34m\u001b[0m\u001b[0m\n\u001b[1;32m    670\u001b[0m             \u001b[0;31m# retrieve accepted population\u001b[0m\u001b[0;34m\u001b[0m\u001b[0;34m\u001b[0m\u001b[0m\n",
      "\u001b[0;32m/scratch/cph211/miniconda3/envs/ionchannelABC/lib/python3.6/site-packages/pyabc-0.9.2-py3.6.egg/pyabc/sampler/multicore_evaluation_parallel.py\u001b[0m in \u001b[0;36msample_until_n_accepted\u001b[0;34m(self, n, simulate_one)\u001b[0m\n\u001b[1;32m    109\u001b[0m         \u001b[0mn_done\u001b[0m \u001b[0;34m=\u001b[0m \u001b[0;36m0\u001b[0m\u001b[0;34m\u001b[0m\u001b[0m\n\u001b[1;32m    110\u001b[0m         \u001b[0;32mwhile\u001b[0m \u001b[0mn_done\u001b[0m \u001b[0;34m<\u001b[0m \u001b[0mlen\u001b[0m\u001b[0;34m(\u001b[0m\u001b[0mprocesses\u001b[0m\u001b[0;34m)\u001b[0m\u001b[0;34m:\u001b[0m\u001b[0;34m\u001b[0m\u001b[0m\n\u001b[0;32m--> 111\u001b[0;31m             \u001b[0mval\u001b[0m \u001b[0;34m=\u001b[0m \u001b[0mget_if_worker_healthy\u001b[0m\u001b[0;34m(\u001b[0m\u001b[0mprocesses\u001b[0m\u001b[0;34m,\u001b[0m \u001b[0mqueue\u001b[0m\u001b[0;34m)\u001b[0m\u001b[0;34m\u001b[0m\u001b[0m\n\u001b[0m\u001b[1;32m    112\u001b[0m             \u001b[0;32mif\u001b[0m \u001b[0mval\u001b[0m \u001b[0;34m==\u001b[0m \u001b[0mDONE\u001b[0m\u001b[0;34m:\u001b[0m\u001b[0;34m\u001b[0m\u001b[0m\n\u001b[1;32m    113\u001b[0m                 \u001b[0mn_done\u001b[0m \u001b[0;34m+=\u001b[0m \u001b[0;36m1\u001b[0m\u001b[0;34m\u001b[0m\u001b[0m\n",
      "\u001b[0;32m/scratch/cph211/miniconda3/envs/ionchannelABC/lib/python3.6/site-packages/pyabc-0.9.2-py3.6.egg/pyabc/sampler/multicorebase.py\u001b[0m in \u001b[0;36mget_if_worker_healthy\u001b[0;34m(workers, queue)\u001b[0m\n\u001b[1;32m     51\u001b[0m     \u001b[0;32mwhile\u001b[0m \u001b[0;32mTrue\u001b[0m\u001b[0;34m:\u001b[0m\u001b[0;34m\u001b[0m\u001b[0m\n\u001b[1;32m     52\u001b[0m         \u001b[0;32mtry\u001b[0m\u001b[0;34m:\u001b[0m\u001b[0;34m\u001b[0m\u001b[0m\n\u001b[0;32m---> 53\u001b[0;31m             \u001b[0mitem\u001b[0m \u001b[0;34m=\u001b[0m \u001b[0mqueue\u001b[0m\u001b[0;34m.\u001b[0m\u001b[0mget\u001b[0m\u001b[0;34m(\u001b[0m\u001b[0;32mTrue\u001b[0m\u001b[0;34m,\u001b[0m \u001b[0;36m5\u001b[0m\u001b[0;34m)\u001b[0m\u001b[0;34m\u001b[0m\u001b[0m\n\u001b[0m\u001b[1;32m     54\u001b[0m             \u001b[0;32mreturn\u001b[0m \u001b[0mitem\u001b[0m\u001b[0;34m\u001b[0m\u001b[0m\n\u001b[1;32m     55\u001b[0m         \u001b[0;32mexcept\u001b[0m \u001b[0mEmpty\u001b[0m\u001b[0;34m:\u001b[0m\u001b[0;34m\u001b[0m\u001b[0m\n",
      "\u001b[0;32m/scratch/cph211/miniconda3/envs/ionchannelABC/lib/python3.6/multiprocessing/queues.py\u001b[0m in \u001b[0;36mget\u001b[0;34m(self, block, timeout)\u001b[0m\n\u001b[1;32m    102\u001b[0m                 \u001b[0;32mif\u001b[0m \u001b[0mblock\u001b[0m\u001b[0;34m:\u001b[0m\u001b[0;34m\u001b[0m\u001b[0m\n\u001b[1;32m    103\u001b[0m                     \u001b[0mtimeout\u001b[0m \u001b[0;34m=\u001b[0m \u001b[0mdeadline\u001b[0m \u001b[0;34m-\u001b[0m \u001b[0mtime\u001b[0m\u001b[0;34m.\u001b[0m\u001b[0mtime\u001b[0m\u001b[0;34m(\u001b[0m\u001b[0;34m)\u001b[0m\u001b[0;34m\u001b[0m\u001b[0m\n\u001b[0;32m--> 104\u001b[0;31m                     \u001b[0;32mif\u001b[0m \u001b[0;32mnot\u001b[0m \u001b[0mself\u001b[0m\u001b[0;34m.\u001b[0m\u001b[0m_poll\u001b[0m\u001b[0;34m(\u001b[0m\u001b[0mtimeout\u001b[0m\u001b[0;34m)\u001b[0m\u001b[0;34m:\u001b[0m\u001b[0;34m\u001b[0m\u001b[0m\n\u001b[0m\u001b[1;32m    105\u001b[0m                         \u001b[0;32mraise\u001b[0m \u001b[0mEmpty\u001b[0m\u001b[0;34m\u001b[0m\u001b[0m\n\u001b[1;32m    106\u001b[0m                 \u001b[0;32melif\u001b[0m \u001b[0;32mnot\u001b[0m \u001b[0mself\u001b[0m\u001b[0;34m.\u001b[0m\u001b[0m_poll\u001b[0m\u001b[0;34m(\u001b[0m\u001b[0;34m)\u001b[0m\u001b[0;34m:\u001b[0m\u001b[0;34m\u001b[0m\u001b[0m\n",
      "\u001b[0;32m/scratch/cph211/miniconda3/envs/ionchannelABC/lib/python3.6/multiprocessing/connection.py\u001b[0m in \u001b[0;36mpoll\u001b[0;34m(self, timeout)\u001b[0m\n\u001b[1;32m    255\u001b[0m         \u001b[0mself\u001b[0m\u001b[0;34m.\u001b[0m\u001b[0m_check_closed\u001b[0m\u001b[0;34m(\u001b[0m\u001b[0;34m)\u001b[0m\u001b[0;34m\u001b[0m\u001b[0m\n\u001b[1;32m    256\u001b[0m         \u001b[0mself\u001b[0m\u001b[0;34m.\u001b[0m\u001b[0m_check_readable\u001b[0m\u001b[0;34m(\u001b[0m\u001b[0;34m)\u001b[0m\u001b[0;34m\u001b[0m\u001b[0m\n\u001b[0;32m--> 257\u001b[0;31m         \u001b[0;32mreturn\u001b[0m \u001b[0mself\u001b[0m\u001b[0;34m.\u001b[0m\u001b[0m_poll\u001b[0m\u001b[0;34m(\u001b[0m\u001b[0mtimeout\u001b[0m\u001b[0;34m)\u001b[0m\u001b[0;34m\u001b[0m\u001b[0m\n\u001b[0m\u001b[1;32m    258\u001b[0m \u001b[0;34m\u001b[0m\u001b[0m\n\u001b[1;32m    259\u001b[0m     \u001b[0;32mdef\u001b[0m \u001b[0m__enter__\u001b[0m\u001b[0;34m(\u001b[0m\u001b[0mself\u001b[0m\u001b[0;34m)\u001b[0m\u001b[0;34m:\u001b[0m\u001b[0;34m\u001b[0m\u001b[0m\n",
      "\u001b[0;32m/scratch/cph211/miniconda3/envs/ionchannelABC/lib/python3.6/multiprocessing/connection.py\u001b[0m in \u001b[0;36m_poll\u001b[0;34m(self, timeout)\u001b[0m\n\u001b[1;32m    412\u001b[0m \u001b[0;34m\u001b[0m\u001b[0m\n\u001b[1;32m    413\u001b[0m     \u001b[0;32mdef\u001b[0m \u001b[0m_poll\u001b[0m\u001b[0;34m(\u001b[0m\u001b[0mself\u001b[0m\u001b[0;34m,\u001b[0m \u001b[0mtimeout\u001b[0m\u001b[0;34m)\u001b[0m\u001b[0;34m:\u001b[0m\u001b[0;34m\u001b[0m\u001b[0m\n\u001b[0;32m--> 414\u001b[0;31m         \u001b[0mr\u001b[0m \u001b[0;34m=\u001b[0m \u001b[0mwait\u001b[0m\u001b[0;34m(\u001b[0m\u001b[0;34m[\u001b[0m\u001b[0mself\u001b[0m\u001b[0;34m]\u001b[0m\u001b[0;34m,\u001b[0m \u001b[0mtimeout\u001b[0m\u001b[0;34m)\u001b[0m\u001b[0;34m\u001b[0m\u001b[0m\n\u001b[0m\u001b[1;32m    415\u001b[0m         \u001b[0;32mreturn\u001b[0m \u001b[0mbool\u001b[0m\u001b[0;34m(\u001b[0m\u001b[0mr\u001b[0m\u001b[0;34m)\u001b[0m\u001b[0;34m\u001b[0m\u001b[0m\n\u001b[1;32m    416\u001b[0m \u001b[0;34m\u001b[0m\u001b[0m\n",
      "\u001b[0;32m/scratch/cph211/miniconda3/envs/ionchannelABC/lib/python3.6/multiprocessing/connection.py\u001b[0m in \u001b[0;36mwait\u001b[0;34m(object_list, timeout)\u001b[0m\n\u001b[1;32m    909\u001b[0m \u001b[0;34m\u001b[0m\u001b[0m\n\u001b[1;32m    910\u001b[0m             \u001b[0;32mwhile\u001b[0m \u001b[0;32mTrue\u001b[0m\u001b[0;34m:\u001b[0m\u001b[0;34m\u001b[0m\u001b[0m\n\u001b[0;32m--> 911\u001b[0;31m                 \u001b[0mready\u001b[0m \u001b[0;34m=\u001b[0m \u001b[0mselector\u001b[0m\u001b[0;34m.\u001b[0m\u001b[0mselect\u001b[0m\u001b[0;34m(\u001b[0m\u001b[0mtimeout\u001b[0m\u001b[0;34m)\u001b[0m\u001b[0;34m\u001b[0m\u001b[0m\n\u001b[0m\u001b[1;32m    912\u001b[0m                 \u001b[0;32mif\u001b[0m \u001b[0mready\u001b[0m\u001b[0;34m:\u001b[0m\u001b[0;34m\u001b[0m\u001b[0m\n\u001b[1;32m    913\u001b[0m                     \u001b[0;32mreturn\u001b[0m \u001b[0;34m[\u001b[0m\u001b[0mkey\u001b[0m\u001b[0;34m.\u001b[0m\u001b[0mfileobj\u001b[0m \u001b[0;32mfor\u001b[0m \u001b[0;34m(\u001b[0m\u001b[0mkey\u001b[0m\u001b[0;34m,\u001b[0m \u001b[0mevents\u001b[0m\u001b[0;34m)\u001b[0m \u001b[0;32min\u001b[0m \u001b[0mready\u001b[0m\u001b[0;34m]\u001b[0m\u001b[0;34m\u001b[0m\u001b[0m\n",
      "\u001b[0;32m/scratch/cph211/miniconda3/envs/ionchannelABC/lib/python3.6/selectors.py\u001b[0m in \u001b[0;36mselect\u001b[0;34m(self, timeout)\u001b[0m\n\u001b[1;32m    374\u001b[0m             \u001b[0mready\u001b[0m \u001b[0;34m=\u001b[0m \u001b[0;34m[\u001b[0m\u001b[0;34m]\u001b[0m\u001b[0;34m\u001b[0m\u001b[0m\n\u001b[1;32m    375\u001b[0m             \u001b[0;32mtry\u001b[0m\u001b[0;34m:\u001b[0m\u001b[0;34m\u001b[0m\u001b[0m\n\u001b[0;32m--> 376\u001b[0;31m                 \u001b[0mfd_event_list\u001b[0m \u001b[0;34m=\u001b[0m \u001b[0mself\u001b[0m\u001b[0;34m.\u001b[0m\u001b[0m_poll\u001b[0m\u001b[0;34m.\u001b[0m\u001b[0mpoll\u001b[0m\u001b[0;34m(\u001b[0m\u001b[0mtimeout\u001b[0m\u001b[0;34m)\u001b[0m\u001b[0;34m\u001b[0m\u001b[0m\n\u001b[0m\u001b[1;32m    377\u001b[0m             \u001b[0;32mexcept\u001b[0m \u001b[0mInterruptedError\u001b[0m\u001b[0;34m:\u001b[0m\u001b[0;34m\u001b[0m\u001b[0m\n\u001b[1;32m    378\u001b[0m                 \u001b[0;32mreturn\u001b[0m \u001b[0mready\u001b[0m\u001b[0;34m\u001b[0m\u001b[0m\n",
      "\u001b[0;31mKeyboardInterrupt\u001b[0m: "
     ]
    }
   ],
   "source": [
    "history = abc.run(minimum_epsilon=0.01, max_nr_populations=30, min_acceptance_rate=0.01)"
   ]
  },
  {
   "cell_type": "markdown",
   "metadata": {},
   "source": [
    "# Results analysis"
   ]
  },
  {
   "cell_type": "code",
   "execution_count": 36,
   "metadata": {},
   "outputs": [
    {
     "data": {
      "text/plain": [
       "[<ABCSMC(id=1, start_time=2018-11-20 12:01:16.676570, end_time=None)>]"
      ]
     },
     "execution_count": 36,
     "metadata": {},
     "output_type": "execute_result"
    }
   ],
   "source": [
    "db_path = 'sqlite:////scratch/cph211/ion-channel-ABC/docs/examples/results/ik1-generic/hl-1_ik1-generic.db'\n",
    "history = History(db_path)\n",
    "history.all_runs()"
   ]
  },
  {
   "cell_type": "code",
   "execution_count": 37,
   "metadata": {},
   "outputs": [],
   "source": [
    "history.id = 1"
   ]
  },
  {
   "cell_type": "code",
   "execution_count": 38,
   "metadata": {},
   "outputs": [
    {
     "data": {
      "image/png": "[encoded data removed]",
      "text/plain": [
       "<Figure size 488.025x360 with 1 Axes>"
      ]
     },
     "metadata": {},
     "output_type": "display_data"
    }
   ],
   "source": [
    "sns.set_context('talk')\n",
    "evolution = history.get_all_populations()\n",
    "grid = sns.relplot(x='t', y='epsilon', size='samples', data=evolution[evolution.t>=0])\n",
    "grid.savefig('results/ik1-generic/eps_evolution.pdf')"
   ]
  },
  {
   "cell_type": "code",
   "execution_count": 39,
   "metadata": {},
   "outputs": [],
   "source": [
    "df, w = history.get_distribution(m=0)"
   ]
  },
  {
   "cell_type": "code",
   "execution_count": 40,
   "metadata": {},
   "outputs": [
    {
     "data": {
      "image/png": "[encoded data removed]",
      "text/plain": [
       "<Figure size 345.6x172.8 with 3 Axes>"
      ]
     },
     "metadata": {},
     "output_type": "display_data"
    }
   ],
   "source": [
    "g = plot_parameters_kde(df, w, limits, aspect=6, height=0.8)\n",
    "g.savefig('results/ik1-generic/parameters_kde.pdf')"
   ]
  },
  {
   "cell_type": "markdown",
   "metadata": {},
   "source": [
    "# Samples for quantitative analysis"
   ]
  },
  {
   "cell_type": "code",
   "execution_count": 41,
   "metadata": {},
   "outputs": [],
   "source": [
    "# Generate parameter samples\n",
    "n_samples = 100\n",
    "df, w = history.get_distribution(m=0)\n",
    "th_samples = df.sample(n=n_samples, weights=w, replace=True).to_dict(orient='records')"
   ]
  },
  {
   "cell_type": "code",
   "execution_count": 42,
   "metadata": {},
   "outputs": [],
   "source": [
    "# Generate sim results samples\n",
    "samples = pd.DataFrame({})\n",
    "for i, th in enumerate(th_samples):\n",
    "    output = model.sample(pars=th, n_x=50)\n",
    "    output['sample'] = i\n",
    "    output['distribution'] = 'post'\n",
    "    samples = samples.append(output, ignore_index=True)"
   ]
  },
  {
   "cell_type": "code",
   "execution_count": 45,
   "metadata": {},
   "outputs": [
    {
     "data": {
      "image/png": "[encoded data removed]",
      "text/plain": [
       "<Figure size 448.525x360 with 1 Axes>"
      ]
     },
     "metadata": {},
     "output_type": "display_data"
    }
   ],
   "source": [
    "from ionchannelABC import plot_sim_results\n",
    "sns.set_context('talk')\n",
    "g = plot_sim_results(samples, obs=measurements)\n",
    "\n",
    "# Set axis labels\n",
    "xlabels = [\"voltage, mV\"]\n",
    "ylabels = [\"current density\"]\n",
    "for ax, xl in zip(g.axes.flatten(), xlabels):\n",
    "    ax.set_xlabel(xl)\n",
    "for ax, yl in zip(g.axes.flatten(), ylabels):\n",
    "    ax.set_ylabel(yl)"
   ]
  },
  {
   "cell_type": "code",
   "execution_count": 46,
   "metadata": {},
   "outputs": [],
   "source": [
    "g.savefig('results/ik1-generic/ik1_sim_results.pdf')"
   ]
  },
  {
   "cell_type": "code",
   "execution_count": null,
   "metadata": {},
   "outputs": [],
   "source": []
  }
 ],
 "metadata": {
  "kernelspec": {
   "display_name": "Python 3",
   "language": "python",
   "name": "python3"
  },
  "language_info": {
   "codemirror_mode": {
    "name": "ipython",
    "version": 3
   },
   "file_extension": ".py",
   "mimetype": "text/x-python",
   "name": "python",
   "nbconvert_exporter": "python",
   "pygments_lexer": "ipython3",
   "version": "3.6.6"
  }
 },
 "nbformat": 4,
 "nbformat_minor": 2
}
