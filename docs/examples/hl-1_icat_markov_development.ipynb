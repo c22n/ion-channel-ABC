{
 "cells": [
  {
   "cell_type": "markdown",
   "metadata": {},
   "source": [
    "## Create and test ion channel model"
   ]
  },
  {
   "cell_type": "code",
   "execution_count": 1,
   "metadata": {},
   "outputs": [
    {
     "name": "stderr",
     "output_type": "stream",
     "text": [
      "INFO:myokit:Loading Myokit version 1.28.3\n"
     ]
    }
   ],
   "source": [
    "from channels.icat_markov_testing import (protocols,\n",
    "                                          conditions,\n",
    "                                          observations,\n",
    "                                          simulations,\n",
    "                                          times,\n",
    "                                          summary_statistics)"
   ]
  },
  {
   "cell_type": "code",
   "execution_count": 2,
   "metadata": {},
   "outputs": [],
   "source": [
    "def simulate_model(**pars):\n",
    "    \"\"\"Wrapper function around simulations.\"\"\"\n",
    "    data = []\n",
    "    for sim, time in zip(simulations, times):\n",
    "        for p, v in pars.items():\n",
    "            try:\n",
    "                sim.set_constant(p, v)\n",
    "            except:\n",
    "                raise RuntimeWarning('Could not set value of {}'.format(p))\n",
    "                return None\n",
    "        sim.reset()\n",
    "        try:\n",
    "            data.append(sim.run(time, log=['environment.time','icat.i_CaT','icat.g']))\n",
    "        except:\n",
    "            # Failed simulation\n",
    "            del(data)\n",
    "            return None\n",
    "    return data\n",
    "\n",
    "def pyabc_simulate(pars):\n",
    "    res = simulate_model(**pars)\n",
    "    return res"
   ]
  },
  {
   "cell_type": "code",
   "execution_count": 3,
   "metadata": {},
   "outputs": [],
   "source": [
    "test = simulate_model()"
   ]
  },
  {
   "cell_type": "code",
   "execution_count": 4,
   "metadata": {},
   "outputs": [],
   "source": [
    "ss = summary_statistics(test)"
   ]
  },
  {
   "cell_type": "markdown",
   "metadata": {},
   "source": [
    "## Set limits and generate uniform initial priors"
   ]
  },
  {
   "cell_type": "code",
   "execution_count": 6,
   "metadata": {},
   "outputs": [],
   "source": [
    "from pyabc import Distribution, RV\n",
    "limits = {'icat.g_CaT': (0, 10.),\n",
    "          'icat.p_1': (-50, 50),\n",
    "          'icat.p_2': (0, 1.),\n",
    "          'icat.p_3': (-50, 50),\n",
    "          'icat.p_4': (0, 1.),\n",
    "          'icat.p_5': (-50, 50),\n",
    "          'icat.p_6': (0, 1.),\n",
    "          'icat.p_7': (-50, 50),\n",
    "          'icat.p_8': (0, 1.)}\n",
    "prior = Distribution(**{key: RV(\"uniform\", a, b - a)\n",
    "                        for key, (a,b) in limits.items()})"
   ]
  },
  {
   "cell_type": "markdown",
   "metadata": {},
   "source": [
    "## Run ABC calibration"
   ]
  },
  {
   "cell_type": "code",
   "execution_count": 7,
   "metadata": {},
   "outputs": [
    {
     "name": "stdout",
     "output_type": "stream",
     "text": [
      "sqlite:////scratch/cph211/tmp/hl-1_icat_markov_development.db\n"
     ]
    }
   ],
   "source": [
    "import os, tempfile\n",
    "db_path = (\"sqlite:///\" +\n",
    "           os.path.join(tempfile.gettempdir(), \"hl-1_icat_markov_development.db\"))\n",
    "print(db_path)"
   ]
  },
  {
   "cell_type": "code",
   "execution_count": 8,
   "metadata": {},
   "outputs": [],
   "source": [
    "# Let's log all the sh!t\n",
    "import logging\n",
    "logging.basicConfig()\n",
    "abc_logger = logging.getLogger('ABC')\n",
    "abc_logger.setLevel(logging.DEBUG)\n",
    "eps_logger = logging.getLogger('Epsilon')\n",
    "eps_logger.setLevel(logging.DEBUG)\n",
    "cv_logger = logging.getLogger('CV Estimation')\n",
    "cv_logger.setLevel(logging.DEBUG)"
   ]
  },
  {
   "cell_type": "code",
   "execution_count": 11,
   "metadata": {},
   "outputs": [
    {
     "name": "stdout",
     "output_type": "stream",
     "text": [
      "Theoretical minimum population size is 512 particles\n"
     ]
    }
   ],
   "source": [
    "from pyabc.populationstrategy import AdaptivePopulationSize, ConstantPopulationSize\n",
    "from ionchannelABC import theoretical_population_size\n",
    "pop_size = theoretical_population_size(2, len(limits))\n",
    "print(\"Theoretical minimum population size is {} particles\".format(pop_size))"
   ]
  },
  {
   "cell_type": "code",
   "execution_count": 18,
   "metadata": {},
   "outputs": [
    {
     "name": "stderr",
     "output_type": "stream",
     "text": [
      "DEBUG:ABC:ion channel weights: {'0': 2.446847083869247, '1': 0.8156156946230823, '2': 0.3058558854836559, '3': 0.3495495834098924, '4': 0.18821900645148107, '5': 0.07893055109255653, '6': 0.04531198303461575, '7': 0.03823198568545707, '8': 0.03823198568545707, '9': 0.03823198568545707, '10': 0.037643801290296236, '11': 0.03946527554627827, '12': 0.04369369792623655, '13': 0.040780784731154214, '14': 0.04616692611074057, '15': 0.05319232791020118, '16': 0.05825826390164895, '17': 0.06273966881716028, '18': 0.07893055109255653, '19': 0.08437403737480162, '20': 0.1063846558204022, '21': 0.11651652780329767, '22': 0.10638465582040237, '23': 0.9916618319792545, '24': 1.0743003179775352, '25': 0.9208288439807395, '26': 2.5783207631461034, '27': 3.2229009539326055, '28': 0.6785054639858049, '29': 0.42972012719101194, '30': 0.34842172474946903, '31': 0.37916481810971575, '32': 0.46041442199036975, '33': 0.6445801907865162, '34': 0.8594402543820217, '35': 1.2891603815730421, '36': 1.2891603815730324, '37': 2.5783207631460647, '38': 3.2229009539324847, '39': 1.432400423970029, '40': 5.020444019520007, '41': 5.024044194507055, '42': 3.7666825963656607, '43': 3.7666825963656607, '44': 1.2555608654552202, '45': 0.6026692154185056, '46': 0.28975080664364916, '47': 0.36748122891372303, '48': 0.6551058608855134, '49': 1.6740811539402938, '50': 3.013346077092433, '51': 1.6740811539402938, '52': 6.04535116851279, '53': 0.1314206775763688, '54': 0.10991547579114454, '55': 0.0991041175166057, '56': 0.11195094756505469, '57': 0.0991041175166057, '58': 0.155009004320845, '59': 0.17780444613273397, '60': 0.16792642134758246, '61': 0.17272431910037}\n",
      "DEBUG:Epsilon:init quantile_epsilon initial_epsilon=20, quantile_multiplier=1\n"
     ]
    }
   ],
   "source": [
    "from pyabc import ABCSMC\n",
    "from pyabc.epsilon import MedianEpsilon\n",
    "from pyabc.sampler import MulticoreEvalParallelSampler, SingleCoreSampler\n",
    "from ionchannelABC import IonChannelDistance, EfficientMultivariateNormalTransition, IonChannelAcceptor\n",
    "\n",
    "abc = ABCSMC(models=pyabc_simulate,\n",
    "             parameter_priors=prior,\n",
    "             distance_function=IonChannelDistance(\n",
    "                 exp_id=list(observations.exp_id),\n",
    "                 variance=list(observations.variance),\n",
    "                 delta=0.001),\n",
    "             population_size=ConstantPopulationSize(10000),\n",
    "             #population_size=AdaptivePopulationSize(\n",
    "             #    start_nr_particles=10000,\n",
    "             #    mean_cv=0.4,\n",
    "             #    max_population_size=30000,\n",
    "             #    min_population_size=pop_size),\n",
    "             summary_statistics=summary_statistics,\n",
    "             transitions=EfficientMultivariateNormalTransition(),\n",
    "             eps=MedianEpsilon(initial_epsilon=20),\n",
    "             sampler=MulticoreEvalParallelSampler(n_procs=12),\n",
    "             acceptor=IonChannelAcceptor())"
   ]
  },
  {
   "cell_type": "code",
   "execution_count": 19,
   "metadata": {},
   "outputs": [],
   "source": [
    "obs = observations.to_dict()['y']\n",
    "obs = {str(k): v for k, v in obs.items()}"
   ]
  },
  {
   "cell_type": "code",
   "execution_count": 20,
   "metadata": {
    "scrolled": true
   },
   "outputs": [
    {
     "name": "stderr",
     "output_type": "stream",
     "text": [
      "INFO:History:Start <ABCSMC(id=5, start_time=2019-06-03 08:31:42.926297, end_time=None)>\n"
     ]
    }
   ],
   "source": [
    "abc_id = abc.new(db_path, obs)"
   ]
  },
  {
   "cell_type": "code",
   "execution_count": null,
   "metadata": {
    "scrolled": true
   },
   "outputs": [
    {
     "name": "stderr",
     "output_type": "stream",
     "text": [
      "INFO:ABC:t:0 eps:20\n",
      "DEBUG:ABC:now submitting population 0\n",
      "DEBUG:ABC:population 0 done\n",
      "DEBUG:ABC:\n",
      "total nr simulations up to t =0 is 60227\n",
      "DEBUG:Epsilon:new eps, t=1, eps=11.045790389051628\n",
      "INFO:ABC:t:1 eps:11.045790389051628\n",
      "DEBUG:ABC:now submitting population 1\n",
      "DEBUG:ABC:population 1 done\n",
      "DEBUG:ABC:\n",
      "total nr simulations up to t =1 is 89722\n",
      "DEBUG:Epsilon:new eps, t=2, eps=11.04442677000465\n",
      "INFO:ABC:t:2 eps:11.04442677000465\n",
      "DEBUG:ABC:now submitting population 2\n",
      "DEBUG:ABC:population 2 done\n",
      "DEBUG:ABC:\n",
      "total nr simulations up to t =2 is 132138\n",
      "DEBUG:Epsilon:new eps, t=3, eps=10.063025673024695\n",
      "INFO:ABC:t:3 eps:10.063025673024695\n",
      "DEBUG:ABC:now submitting population 3\n",
      "DEBUG:ABC:population 3 done\n",
      "DEBUG:ABC:\n",
      "total nr simulations up to t =3 is 172414\n",
      "DEBUG:Epsilon:new eps, t=4, eps=7.7431014908015054\n",
      "INFO:ABC:t:4 eps:7.7431014908015054\n",
      "DEBUG:ABC:now submitting population 4\n",
      "DEBUG:ABC:population 4 done\n",
      "DEBUG:ABC:\n",
      "total nr simulations up to t =4 is 209046\n",
      "DEBUG:Epsilon:new eps, t=5, eps=6.342304886279277\n",
      "INFO:ABC:t:5 eps:6.342304886279277\n",
      "DEBUG:ABC:now submitting population 5\n",
      "DEBUG:ABC:population 5 done\n",
      "DEBUG:ABC:\n",
      "total nr simulations up to t =5 is 248253\n",
      "DEBUG:Epsilon:new eps, t=6, eps=5.828942409474589\n",
      "INFO:ABC:t:6 eps:5.828942409474589\n",
      "DEBUG:ABC:now submitting population 6\n",
      "DEBUG:ABC:population 6 done\n",
      "DEBUG:ABC:\n",
      "total nr simulations up to t =6 is 301557\n",
      "DEBUG:Epsilon:new eps, t=7, eps=4.880938287893403\n",
      "INFO:ABC:t:7 eps:4.880938287893403\n",
      "DEBUG:ABC:now submitting population 7\n",
      "DEBUG:ABC:population 7 done\n",
      "DEBUG:ABC:\n",
      "total nr simulations up to t =7 is 379191\n",
      "DEBUG:Epsilon:new eps, t=8, eps=4.351287149167082\n",
      "INFO:ABC:t:8 eps:4.351287149167082\n",
      "DEBUG:ABC:now submitting population 8\n",
      "DEBUG:ABC:population 8 done\n",
      "DEBUG:ABC:\n",
      "total nr simulations up to t =8 is 470010\n",
      "DEBUG:Epsilon:new eps, t=9, eps=4.082983236563485\n",
      "INFO:ABC:t:9 eps:4.082983236563485\n",
      "DEBUG:ABC:now submitting population 9\n",
      "DEBUG:ABC:population 9 done\n",
      "DEBUG:ABC:\n",
      "total nr simulations up to t =9 is 590510\n",
      "DEBUG:Epsilon:new eps, t=10, eps=3.6677102732522444\n",
      "INFO:ABC:t:10 eps:3.6677102732522444\n",
      "DEBUG:ABC:now submitting population 10\n",
      "DEBUG:ABC:population 10 done\n",
      "DEBUG:ABC:\n",
      "total nr simulations up to t =10 is 741277\n",
      "DEBUG:Epsilon:new eps, t=11, eps=2.7681302266060084\n",
      "INFO:ABC:t:11 eps:2.7681302266060084\n",
      "DEBUG:ABC:now submitting population 11\n",
      "DEBUG:ABC:population 11 done\n",
      "DEBUG:ABC:\n",
      "total nr simulations up to t =11 is 863639\n",
      "DEBUG:Epsilon:new eps, t=12, eps=2.245381916636253\n",
      "INFO:ABC:t:12 eps:2.245381916636253\n",
      "DEBUG:ABC:now submitting population 12\n",
      "DEBUG:ABC:population 12 done\n",
      "DEBUG:ABC:\n",
      "total nr simulations up to t =12 is 979673\n",
      "DEBUG:Epsilon:new eps, t=13, eps=1.9125825943533032\n",
      "INFO:ABC:t:13 eps:1.9125825943533032\n",
      "DEBUG:ABC:now submitting population 13\n",
      "DEBUG:ABC:population 13 done\n",
      "DEBUG:ABC:\n",
      "total nr simulations up to t =13 is 1109846\n",
      "DEBUG:Epsilon:new eps, t=14, eps=1.7011586029122516\n",
      "INFO:ABC:t:14 eps:1.7011586029122516\n",
      "DEBUG:ABC:now submitting population 14\n",
      "DEBUG:ABC:population 14 done\n",
      "DEBUG:ABC:\n",
      "total nr simulations up to t =14 is 1310886\n",
      "DEBUG:Epsilon:new eps, t=15, eps=1.5817577278872967\n",
      "INFO:ABC:t:15 eps:1.5817577278872967\n",
      "DEBUG:ABC:now submitting population 15\n",
      "DEBUG:ABC:population 15 done\n"
     ]
    }
   ],
   "source": [
    "history = abc.run(minimum_epsilon=0.1, max_nr_populations=100, min_acceptance_rate=0.01)"
   ]
  },
  {
   "cell_type": "markdown",
   "metadata": {},
   "source": [
    "# Results analysis"
   ]
  },
  {
   "cell_type": "code",
   "execution_count": 15,
   "metadata": {},
   "outputs": [],
   "source": [
    "from pyabc import History"
   ]
  },
  {
   "cell_type": "code",
   "execution_count": 16,
   "metadata": {},
   "outputs": [
    {
     "data": {
      "text/plain": [
       "[<ABCSMC(id=1, start_time=2019-05-30 18:07:40.408441, end_time=None)>,\n",
       " <ABCSMC(id=2, start_time=2019-05-30 18:10:25.594125, end_time=None)>,\n",
       " <ABCSMC(id=3, start_time=2019-06-01 19:02:44.112039, end_time=None)>,\n",
       " <ABCSMC(id=4, start_time=2019-06-01 19:35:13.827705, end_time=2019-06-02 22:22:42.886944)>]"
      ]
     },
     "execution_count": 16,
     "metadata": {},
     "output_type": "execute_result"
    }
   ],
   "source": [
    "history = History('sqlite:////scratch/cph211/tmp/hl-1_icat_markov_development.db')\n",
    "history.all_runs()"
   ]
  },
  {
   "cell_type": "code",
   "execution_count": 17,
   "metadata": {},
   "outputs": [],
   "source": [
    "history.id = 4"
   ]
  },
  {
   "cell_type": "code",
   "execution_count": 18,
   "metadata": {},
   "outputs": [],
   "source": [
    "df, w = history.get_distribution(m=0)"
   ]
  },
  {
   "cell_type": "code",
   "execution_count": 19,
   "metadata": {
    "scrolled": true
   },
   "outputs": [
    {
     "data": {
      "text/html": [
       "<div>\n",
       "<style scoped>\n",
       "    .dataframe tbody tr th:only-of-type {\n",
       "        vertical-align: middle;\n",
       "    }\n",
       "\n",
       "    .dataframe tbody tr th {\n",
       "        vertical-align: top;\n",
       "    }\n",
       "\n",
       "    .dataframe thead th {\n",
       "        text-align: right;\n",
       "    }\n",
       "</style>\n",
       "<table border=\"1\" class=\"dataframe\">\n",
       "  <thead>\n",
       "    <tr style=\"text-align: right;\">\n",
       "      <th>name</th>\n",
       "      <th>icat.g_CaT</th>\n",
       "      <th>icat.p_1</th>\n",
       "      <th>icat.p_2</th>\n",
       "      <th>icat.p_3</th>\n",
       "      <th>icat.p_4</th>\n",
       "      <th>icat.p_5</th>\n",
       "      <th>icat.p_6</th>\n",
       "      <th>icat.p_7</th>\n",
       "      <th>icat.p_8</th>\n",
       "    </tr>\n",
       "  </thead>\n",
       "  <tbody>\n",
       "    <tr>\n",
       "      <th>count</th>\n",
       "      <td>5000.000000</td>\n",
       "      <td>5.000000e+03</td>\n",
       "      <td>5.000000e+03</td>\n",
       "      <td>5000.000000</td>\n",
       "      <td>5000.000000</td>\n",
       "      <td>5000.000000</td>\n",
       "      <td>5000.000000</td>\n",
       "      <td>5000.000000</td>\n",
       "      <td>5000.000000</td>\n",
       "    </tr>\n",
       "    <tr>\n",
       "      <th>mean</th>\n",
       "      <td>0.232430</td>\n",
       "      <td>-1.421922e-03</td>\n",
       "      <td>3.630339e-04</td>\n",
       "      <td>-5.871734</td>\n",
       "      <td>0.175539</td>\n",
       "      <td>-4.623145</td>\n",
       "      <td>0.070681</td>\n",
       "      <td>-10.753881</td>\n",
       "      <td>0.073365</td>\n",
       "    </tr>\n",
       "    <tr>\n",
       "      <th>std</th>\n",
       "      <td>0.006057</td>\n",
       "      <td>1.176873e-03</td>\n",
       "      <td>2.997346e-04</td>\n",
       "      <td>0.135891</td>\n",
       "      <td>0.003656</td>\n",
       "      <td>0.150865</td>\n",
       "      <td>0.002122</td>\n",
       "      <td>0.162097</td>\n",
       "      <td>0.002946</td>\n",
       "    </tr>\n",
       "    <tr>\n",
       "      <th>min</th>\n",
       "      <td>0.227082</td>\n",
       "      <td>-9.099955e-03</td>\n",
       "      <td>4.243544e-08</td>\n",
       "      <td>-6.279441</td>\n",
       "      <td>0.170856</td>\n",
       "      <td>-4.738013</td>\n",
       "      <td>0.067550</td>\n",
       "      <td>-10.917199</td>\n",
       "      <td>0.066254</td>\n",
       "    </tr>\n",
       "    <tr>\n",
       "      <th>25%</th>\n",
       "      <td>0.229277</td>\n",
       "      <td>-1.950512e-03</td>\n",
       "      <td>1.327663e-04</td>\n",
       "      <td>-5.854155</td>\n",
       "      <td>0.173571</td>\n",
       "      <td>-4.700539</td>\n",
       "      <td>0.069388</td>\n",
       "      <td>-10.841310</td>\n",
       "      <td>0.074081</td>\n",
       "    </tr>\n",
       "    <tr>\n",
       "      <th>50%</th>\n",
       "      <td>0.229885</td>\n",
       "      <td>-1.134223e-03</td>\n",
       "      <td>2.874803e-04</td>\n",
       "      <td>-5.827421</td>\n",
       "      <td>0.174362</td>\n",
       "      <td>-4.687924</td>\n",
       "      <td>0.069942</td>\n",
       "      <td>-10.819846</td>\n",
       "      <td>0.074579</td>\n",
       "    </tr>\n",
       "    <tr>\n",
       "      <th>75%</th>\n",
       "      <td>0.230664</td>\n",
       "      <td>-5.512651e-04</td>\n",
       "      <td>5.113797e-04</td>\n",
       "      <td>-5.794177</td>\n",
       "      <td>0.175098</td>\n",
       "      <td>-4.671145</td>\n",
       "      <td>0.070682</td>\n",
       "      <td>-10.790998</td>\n",
       "      <td>0.074943</td>\n",
       "    </tr>\n",
       "    <tr>\n",
       "      <th>max</th>\n",
       "      <td>0.247419</td>\n",
       "      <td>-5.239338e-07</td>\n",
       "      <td>2.495142e-03</td>\n",
       "      <td>-5.709942</td>\n",
       "      <td>0.186855</td>\n",
       "      <td>-4.258596</td>\n",
       "      <td>0.077036</td>\n",
       "      <td>-10.353657</td>\n",
       "      <td>0.076275</td>\n",
       "    </tr>\n",
       "  </tbody>\n",
       "</table>\n",
       "</div>"
      ],
      "text/plain": [
       "name    icat.g_CaT      icat.p_1      icat.p_2     icat.p_3     icat.p_4  \\\n",
       "count  5000.000000  5.000000e+03  5.000000e+03  5000.000000  5000.000000   \n",
       "mean      0.232430 -1.421922e-03  3.630339e-04    -5.871734     0.175539   \n",
       "std       0.006057  1.176873e-03  2.997346e-04     0.135891     0.003656   \n",
       "min       0.227082 -9.099955e-03  4.243544e-08    -6.279441     0.170856   \n",
       "25%       0.229277 -1.950512e-03  1.327663e-04    -5.854155     0.173571   \n",
       "50%       0.229885 -1.134223e-03  2.874803e-04    -5.827421     0.174362   \n",
       "75%       0.230664 -5.512651e-04  5.113797e-04    -5.794177     0.175098   \n",
       "max       0.247419 -5.239338e-07  2.495142e-03    -5.709942     0.186855   \n",
       "\n",
       "name      icat.p_5     icat.p_6     icat.p_7     icat.p_8  \n",
       "count  5000.000000  5000.000000  5000.000000  5000.000000  \n",
       "mean     -4.623145     0.070681   -10.753881     0.073365  \n",
       "std       0.150865     0.002122     0.162097     0.002946  \n",
       "min      -4.738013     0.067550   -10.917199     0.066254  \n",
       "25%      -4.700539     0.069388   -10.841310     0.074081  \n",
       "50%      -4.687924     0.069942   -10.819846     0.074579  \n",
       "75%      -4.671145     0.070682   -10.790998     0.074943  \n",
       "max      -4.258596     0.077036   -10.353657     0.076275  "
      ]
     },
     "execution_count": 19,
     "metadata": {},
     "output_type": "execute_result"
    }
   ],
   "source": [
    "df.describe()"
   ]
  },
  {
   "cell_type": "code",
   "execution_count": 20,
   "metadata": {
    "scrolled": true
   },
   "outputs": [
    {
     "name": "stderr",
     "output_type": "stream",
     "text": [
      "/scratch/cph211/miniconda3/envs/ionchannelABC/lib/python3.7/site-packages/matplotlib/tight_layout.py:211: UserWarning: Tight layout not applied. tight_layout cannot make axes height small enough to accommodate all axes decorations\n",
      "  warnings.warn('Tight layout not applied. '\n",
      "/scratch/cph211/miniconda3/envs/ionchannelABC/lib/python3.7/site-packages/matplotlib/tight_layout.py:211: UserWarning: Tight layout not applied. tight_layout cannot make axes height small enough to accommodate all axes decorations\n",
      "  warnings.warn('Tight layout not applied. '\n",
      "/scratch/cph211/miniconda3/envs/ionchannelABC/lib/python3.7/site-packages/matplotlib/tight_layout.py:211: UserWarning: Tight layout not applied. tight_layout cannot make axes height small enough to accommodate all axes decorations\n",
      "  warnings.warn('Tight layout not applied. '\n",
      "/scratch/cph211/miniconda3/envs/ionchannelABC/lib/python3.7/site-packages/matplotlib/tight_layout.py:211: UserWarning: Tight layout not applied. tight_layout cannot make axes height small enough to accommodate all axes decorations\n",
      "  warnings.warn('Tight layout not applied. '\n",
      "/scratch/cph211/miniconda3/envs/ionchannelABC/lib/python3.7/site-packages/matplotlib/tight_layout.py:211: UserWarning: Tight layout not applied. tight_layout cannot make axes height small enough to accommodate all axes decorations\n",
      "  warnings.warn('Tight layout not applied. '\n"
     ]
    },
    {
     "data": {
      "image/png": "[encoded data removed]",
      "text/plain": [
       "<Figure size 518.4x388.8 with 9 Axes>"
      ]
     },
     "metadata": {},
     "output_type": "display_data"
    }
   ],
   "source": [
    "from ionchannelABC import plot_parameters_kde\n",
    "g = plot_parameters_kde(df, w, limits, aspect=12,height=0.6)"
   ]
  },
  {
   "cell_type": "code",
   "execution_count": 48,
   "metadata": {
    "scrolled": true
   },
   "outputs": [
    {
     "data": {
      "image/png": "[encoded data removed]",
      "text/plain": [
       "<Figure size 445.6x360 with 1 Axes>"
      ]
     },
     "metadata": {},
     "output_type": "display_data"
    }
   ],
   "source": [
    "evolution = history.get_all_populations()\n",
    "g = sns.relplot(x='t', y='epsilon', size='samples', data=evolution[evolution.t>=0])\n",
    "#g.savefig('results/icat-generic/eps_evolution.pdf')"
   ]
  },
  {
   "cell_type": "markdown",
   "metadata": {},
   "source": [
    "# Samples for quantitative analysis"
   ]
  },
  {
   "cell_type": "code",
   "execution_count": 21,
   "metadata": {},
   "outputs": [],
   "source": [
    "# Generate parameter samples\n",
    "n_samples = 100\n",
    "df, w = history.get_distribution(m=0)\n",
    "th_samples = df.sample(n=n_samples, weights=w, replace=True).to_dict(orient='records')"
   ]
  },
  {
   "cell_type": "code",
   "execution_count": 23,
   "metadata": {},
   "outputs": [],
   "source": [
    "plotting_obs = observations.copy()"
   ]
  },
  {
   "cell_type": "code",
   "execution_count": 27,
   "metadata": {},
   "outputs": [],
   "source": [
    "plotting_obs.rename({'exp_id': 'exp', 'variance': 'errs'}, axis=1, inplace=True)"
   ]
  },
  {
   "cell_type": "code",
   "execution_count": 29,
   "metadata": {},
   "outputs": [],
   "source": [
    "# Generate sim results samples\n",
    "import pandas as pd\n",
    "samples = pd.DataFrame({})\n",
    "for i, th in enumerate(th_samples):\n",
    "    results = summary_statistics(pyabc_simulate(pars=th))\n",
    "    output = pd.DataFrame({'x': plotting_obs.x, 'y': list(results.values()),\n",
    "                           'exp': plotting_obs.exp})\n",
    "    #output = model.sample(pars=th, n_x=50)\n",
    "    output['sample'] = i\n",
    "    output['distribution'] = 'post'\n",
    "    samples = samples.append(output, ignore_index=True)"
   ]
  },
  {
   "cell_type": "code",
   "execution_count": 31,
   "metadata": {
    "scrolled": true
   },
   "outputs": [
    {
     "data": {
      "image/png": "[encoded data removed]",
      "text/plain": [
       "<Figure size 1528.53x360 with 4 Axes>"
      ]
     },
     "metadata": {},
     "output_type": "display_data"
    }
   ],
   "source": [
    "from ionchannelABC import plot_sim_results\n",
    "import seaborn as sns\n",
    "sns.set_context('talk')\n",
    "g = plot_sim_results(samples, obs=plotting_obs)\n",
    "\n",
    "# Set axis labels\n",
    "#xlabels = [\"voltage, mV\", \"voltage, mV\", \"voltage, mV\", \"time, ms\", \"time, ms\",\"voltage, mV\"]\n",
    "#ylabels = [\"current density, pA/pF\", \"activation\", \"inactivation\", \"recovery\", \"normalised current\",\"current density, pA/pF\"]\n",
    "#for ax, xl in zip(g.axes.flatten(), xlabels):\n",
    "#    ax.set_xlabel(xl)\n",
    "#for ax, yl in zip(g.axes.flatten(), ylabels):\n",
    "#    ax.set_ylabel(yl)"
   ]
  },
  {
   "cell_type": "code",
   "execution_count": 70,
   "metadata": {},
   "outputs": [],
   "source": [
    "g.savefig('results/icat-generic/icat_sim_results.pdf')"
   ]
  },
  {
   "cell_type": "code",
   "execution_count": 32,
   "metadata": {},
   "outputs": [],
   "source": [
    "def plot_sim_results_all(samples: pd.DataFrame):\n",
    "    with sns.color_palette(\"gray\"):\n",
    "        grid = sns.relplot(x='x', y='y',\n",
    "                           col='exp',\n",
    "                           units='sample',\n",
    "                           kind='line',\n",
    "                           data=samples,\n",
    "                           estimator=None, lw=0.5,\n",
    "                           alpha=0.5,\n",
    "                           #estimator=np.median,\n",
    "                           facet_kws={'sharex': 'col',\n",
    "                                      'sharey': 'col'})\n",
    "    return grid"
   ]
  },
  {
   "cell_type": "code",
   "execution_count": 33,
   "metadata": {},
   "outputs": [
    {
     "data": {
      "image/png": "[encoded data removed]",
      "text/plain": [
       "<Figure size 1440x360 with 4 Axes>"
      ]
     },
     "metadata": {},
     "output_type": "display_data"
    }
   ],
   "source": [
    "grid2 = plot_sim_results_all(samples)"
   ]
  },
  {
   "cell_type": "code",
   "execution_count": 73,
   "metadata": {},
   "outputs": [],
   "source": [
    "grid2.savefig('results/icat-generic/icat_sim_results_all.pdf')"
   ]
  },
  {
   "cell_type": "code",
   "execution_count": 74,
   "metadata": {},
   "outputs": [
    {
     "name": "stdout",
     "output_type": "stream",
     "text": [
      "-12.28849522978163\n",
      "0.11884277718478846\n"
     ]
    }
   ],
   "source": [
    "# Mean current density\n",
    "print(np.mean(samples[samples.exp==0].groupby('sample').min()['y']))\n",
    "# Std current density\n",
    "print(np.std(samples[samples.exp==0].groupby('sample').min()['y']))"
   ]
  },
  {
   "cell_type": "code",
   "execution_count": 75,
   "metadata": {},
   "outputs": [],
   "source": [
    "import scipy.stats as st\n",
    "peak_current = samples[samples['exp']==0].groupby('sample').min()['y'].tolist()\n",
    "rv = st.rv_discrete(values=(peak_current, [1/len(peak_current),]*len(peak_current)))"
   ]
  },
  {
   "cell_type": "code",
   "execution_count": 76,
   "metadata": {},
   "outputs": [
    {
     "name": "stdout",
     "output_type": "stream",
     "text": [
      "median: -12.305081453952692\n",
      "95% CI: (-12.500217629136861, -12.042063814242947)\n"
     ]
    }
   ],
   "source": [
    "print(\"median: {}\".format(rv.median()))\n",
    "print(\"95% CI: {}\".format(rv.interval(0.95)))"
   ]
  },
  {
   "cell_type": "code",
   "execution_count": 77,
   "metadata": {},
   "outputs": [
    {
     "name": "stdout",
     "output_type": "stream",
     "text": [
      "mean: -21.885714285714286\n",
      "STD: 1.0634278539232422\n"
     ]
    }
   ],
   "source": [
    "# Voltage of peak current density\n",
    "idxs = samples[samples.exp==0].groupby('sample').idxmin()['y']\n",
    "print(\"mean: {}\".format(np.mean(samples.iloc[idxs]['x'])))\n",
    "print(\"STD: {}\".format(np.std(samples.iloc[idxs]['x'])))"
   ]
  },
  {
   "cell_type": "code",
   "execution_count": 78,
   "metadata": {},
   "outputs": [
    {
     "name": "stdout",
     "output_type": "stream",
     "text": [
      "median: -21.122448979591837\n",
      "95% CI: (-23.367346938775512, -21.122448979591837)\n"
     ]
    }
   ],
   "source": [
    "voltage_peak = samples.iloc[idxs]['x'].tolist()\n",
    "rv = st.rv_discrete(values=(voltage_peak, [1/len(voltage_peak),]*len(voltage_peak)))\n",
    "print(\"median: {}\".format(rv.median()))\n",
    "print(\"95% CI: {}\".format(rv.interval(0.95)))"
   ]
  },
  {
   "cell_type": "code",
   "execution_count": 79,
   "metadata": {},
   "outputs": [],
   "source": [
    "# Half activation potential\n",
    "# Fit of activation to Boltzmann equation\n",
    "from scipy.optimize import curve_fit\n",
    "grouped = samples[samples['exp']==1].groupby('sample')\n",
    "def fit_boltzmann(group):\n",
    "    def boltzmann(V, Vhalf, K):\n",
    "        return 1/(1+np.exp((Vhalf-V)/K))\n",
    "    guess = (-30, 10)\n",
    "    popt, _ = curve_fit(boltzmann, group.x, group.y)\n",
    "    return popt\n",
    "output = grouped.apply(fit_boltzmann).apply(pd.Series)"
   ]
  },
  {
   "cell_type": "code",
   "execution_count": 80,
   "metadata": {},
   "outputs": [
    {
     "name": "stdout",
     "output_type": "stream",
     "text": [
      "0   -34.577896\n",
      "1     5.249907\n",
      "dtype: float64\n",
      "0    0.235155\n",
      "1    0.153233\n",
      "dtype: float64\n"
     ]
    }
   ],
   "source": [
    "print(np.mean(output))\n",
    "print(np.std(output))"
   ]
  },
  {
   "cell_type": "code",
   "execution_count": 81,
   "metadata": {},
   "outputs": [
    {
     "name": "stdout",
     "output_type": "stream",
     "text": [
      "median: -34.58363058983856\n",
      "95% CI: (-35.0824309590915, -34.05139450727638)\n"
     ]
    }
   ],
   "source": [
    "Vhalf = output[0].tolist()\n",
    "rv = st.rv_discrete(values=(Vhalf, [1/len(Vhalf),]*len(Vhalf)))\n",
    "print(\"median: {}\".format(rv.median()))\n",
    "print(\"95% CI: {}\".format(rv.interval(0.95)))"
   ]
  },
  {
   "cell_type": "code",
   "execution_count": 82,
   "metadata": {},
   "outputs": [
    {
     "name": "stdout",
     "output_type": "stream",
     "text": [
      "median: 5.224802366288811\n",
      "95% CI: (4.983346458403857, 5.580422234103727)\n"
     ]
    }
   ],
   "source": [
    "slope = output[1].tolist()\n",
    "rv = st.rv_discrete(values=(slope, [1/len(slope),]*len(slope)))\n",
    "print(\"median: {}\".format(rv.median()))\n",
    "print(\"95% CI: {}\".format(rv.interval(0.95)))"
   ]
  },
  {
   "cell_type": "code",
   "execution_count": 83,
   "metadata": {},
   "outputs": [],
   "source": [
    "# Half activation potential\n",
    "grouped = samples[samples['exp']==2].groupby('sample')\n",
    "def fit_boltzmann(group):\n",
    "    def boltzmann(V, Vhalf, K):\n",
    "        return 1-1/(1+np.exp((Vhalf-V)/K))\n",
    "    guess = (-100, 10)\n",
    "    popt, _ = curve_fit(boltzmann, group.x, group.y,\n",
    "                        bounds=([-100, 1], [0, 30]))\n",
    "    return popt\n",
    "output = grouped.apply(fit_boltzmann).apply(pd.Series)"
   ]
  },
  {
   "cell_type": "code",
   "execution_count": 84,
   "metadata": {},
   "outputs": [
    {
     "name": "stdout",
     "output_type": "stream",
     "text": [
      "0   -51.099701\n",
      "1     2.015624\n",
      "dtype: float64\n",
      "0    0.324099\n",
      "1    0.124022\n",
      "dtype: float64\n"
     ]
    }
   ],
   "source": [
    "print(np.mean(output))\n",
    "print(np.std(output))"
   ]
  },
  {
   "cell_type": "code",
   "execution_count": 85,
   "metadata": {},
   "outputs": [
    {
     "name": "stdout",
     "output_type": "stream",
     "text": [
      "median: -51.139541001530084\n",
      "95% CI: (-51.91973135023897, -50.483201273719196)\n"
     ]
    }
   ],
   "source": [
    "Vhalf = output[0].tolist()\n",
    "rv = st.rv_discrete(values=(Vhalf, [1/len(Vhalf),]*len(Vhalf)))\n",
    "print(\"median: {}\".format(rv.median()))\n",
    "print(\"95% CI: {}\".format(rv.interval(0.95)))"
   ]
  },
  {
   "cell_type": "code",
   "execution_count": 86,
   "metadata": {},
   "outputs": [
    {
     "name": "stdout",
     "output_type": "stream",
     "text": [
      "median: 1.9931521591606465\n",
      "95% CI: (1.7945341598364295, 2.2778268479073294)\n"
     ]
    }
   ],
   "source": [
    "slope = output[1].tolist()\n",
    "rv = st.rv_discrete(values=(slope, [1/len(slope),]*len(slope)))\n",
    "print(\"median: {}\".format(rv.median()))\n",
    "print(\"95% CI: {}\".format(rv.interval(0.95)))"
   ]
  },
  {
   "cell_type": "code",
   "execution_count": 87,
   "metadata": {},
   "outputs": [],
   "source": [
    "# Recovery time constant\n",
    "grouped = samples[samples.exp==3].groupby('sample')\n",
    "def fit_single_exp(group):\n",
    "    def single_exp(t, I_max, tau):\n",
    "        return I_max*(1-np.exp(-t/tau))\n",
    "    guess = (1, 50)\n",
    "    popt, _ = curve_fit(single_exp, group.x, group.y, guess)\n",
    "    return popt[1]\n",
    "output = grouped.apply(fit_single_exp)"
   ]
  },
  {
   "cell_type": "code",
   "execution_count": 88,
   "metadata": {
    "scrolled": true
   },
   "outputs": [
    {
     "name": "stdout",
     "output_type": "stream",
     "text": [
      "134.15783981052365\n",
      "6.8765524851314765\n"
     ]
    }
   ],
   "source": [
    "print(np.mean(output))\n",
    "print(np.std(output))"
   ]
  },
  {
   "cell_type": "code",
   "execution_count": 89,
   "metadata": {},
   "outputs": [
    {
     "name": "stdout",
     "output_type": "stream",
     "text": [
      "median: 134.09052469517178\n",
      "95% CI: (124.17078543531227, 147.7723663936914)\n"
     ]
    }
   ],
   "source": [
    "tau = output.tolist()\n",
    "rv = st.rv_discrete(values=(tau, [1/len(tau),]*len(tau)))\n",
    "print(\"median: {}\".format(rv.median()))\n",
    "print(\"95% CI: {}\".format(rv.interval(0.95)))"
   ]
  },
  {
   "cell_type": "code",
   "execution_count": null,
   "metadata": {},
   "outputs": [],
   "source": []
  }
 ],
 "metadata": {
  "kernelspec": {
   "display_name": "Python 3",
   "language": "python",
   "name": "python3"
  },
  "language_info": {
   "codemirror_mode": {
    "name": "ipython",
    "version": 3
   },
   "file_extension": ".py",
   "mimetype": "text/x-python",
   "name": "python",
   "nbconvert_exporter": "python",
   "pygments_lexer": "ipython3",
   "version": "3.7.3"
  }
 },
 "nbformat": 4,
 "nbformat_minor": 2
}
