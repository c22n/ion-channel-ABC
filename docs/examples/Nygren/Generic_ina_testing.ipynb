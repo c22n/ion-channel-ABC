{
 "cells": [
  {
   "cell_type": "markdown",
   "metadata": {},
   "source": [
    "## Create and test ion channel model"
   ]
  },
  {
   "cell_type": "code",
   "execution_count": 1,
   "metadata": {},
   "outputs": [
    {
     "name": "stderr",
     "output_type": "stream",
     "text": [
      "INFO:myokit:Loading Myokit version 1.28.4\n",
      "WARNING:myokit._config:Sundials version not set in myokit.ini. Continuing with detected version (40100). For a tiny performance boost, please set this version in /home/brm18/.config/myokit/myokit.ini\n"
     ]
    }
   ],
   "source": [
    "from experiments.ina_generic import (sakakibara_iv,\n",
    "                                    sakakibara_act,\n",
    "                                    sakakibara_inact,\n",
    "                                    sakakibara_inact_kin_1,\n",
    "                                    sakakibara_inact_kin_2,\n",
    "                                    sakakibara_recov,\n",
    "                                    sakakibara_recov_kin)\n",
    "\n",
    "import matplotlib.pyplot as plt\n",
    "import numpy as np\n",
    "import pandas as pd\n",
    "from pyabc import Distribution, RV\n",
    "import os, tempfile\n",
    "import logging\n",
    "from pyabc.populationstrategy import AdaptivePopulationSize, ConstantPopulationSize\n",
    "from ionchannelABC import theoretical_population_size\n",
    "from pyabc import ABCSMC\n",
    "from pyabc.epsilon import MedianEpsilon\n",
    "from pyabc.sampler import MulticoreEvalParallelSampler, SingleCoreSampler\n",
    "from ionchannelABC import IonChannelDistance, EfficientMultivariateNormalTransition, IonChannelAcceptor\n",
    "from pyabc import History\n",
    "from ionchannelABC import plot_sim_results\n",
    "import seaborn as sns\n",
    "from ionchannelABC import plot_parameters_kde\n",
    "from ionchannelABC.experiment import setup"
   ]
  },
  {
   "cell_type": "code",
   "execution_count": 2,
   "metadata": {},
   "outputs": [],
   "source": [
    "modelfile = 'models/Generic_iNa.mmt'"
   ]
  },
  {
   "cell_type": "code",
   "execution_count": 3,
   "metadata": {},
   "outputs": [],
   "source": [
    "observations, model, summary_statistics = setup(modelfile,\n",
    "                                                sakakibara_iv,\n",
    "                                                sakakibara_act,\n",
    "                                                sakakibara_inact,\n",
    "                                                sakakibara_inact_kin_1,\n",
    "                                                sakakibara_inact_kin_2,\n",
    "                                                sakakibara_recov,\n",
    "                                                sakakibara_recov_kin)"
   ]
  },
  {
   "cell_type": "code",
   "execution_count": 4,
   "metadata": {
    "scrolled": true
   },
   "outputs": [],
   "source": [
    "assert len(observations)==len(summary_statistics(model({})))"
   ]
  },
  {
   "cell_type": "markdown",
   "metadata": {},
   "source": [
    "## Set limits and generate uniform initial priors"
   ]
  },
  {
   "cell_type": "code",
   "execution_count": 5,
   "metadata": {},
   "outputs": [],
   "source": [
    "\n",
    "limits = {'ina.g_Na' : (0,100),\n",
    "          'ina.Vhalf_m': (-60,40),\n",
    "          'ina.k_m': (0,20),\n",
    "          'ina.c_bm': (0.0001,1),\n",
    "          'ina.c_am': (0.0001,10),\n",
    "          'ina.sigma_m': (0,50),\n",
    "          'ina.Vmax_m': (-60,40),\n",
    "          'ina.Vhalf_h': (-100,0),\n",
    "          'ina.k_h': (-20,0),\n",
    "          'ina.c_bh': (0.0001,1),\n",
    "          'ina.c_ah': (0,50),\n",
    "          'ina.Vmax_h': (-100,0),\n",
    "          'ina.sigma_h': (0,60),\n",
    "          'ina.c_bj': (0,50),\n",
    "          'ina.c_aj': (0,100),\n",
    "          'ina.Vmax_j': (-100,0),\n",
    "          'ina.sigma_j': (0,300)}\n",
    "\n",
    "\n",
    "\n",
    "prior = Distribution(**{key: RV(\"uniform\", a, b - a)\n",
    "                        for key, (a,b) in limits.items()})"
   ]
  },
  {
   "cell_type": "markdown",
   "metadata": {},
   "source": [
    "## Run ABC calibration"
   ]
  },
  {
   "cell_type": "code",
   "execution_count": 6,
   "metadata": {},
   "outputs": [],
   "source": [
    "db_path = (\"sqlite:///\" +\n",
    "           os.path.join(tempfile.gettempdir(), \"nygren_ina_testing.db\"))"
   ]
  },
  {
   "cell_type": "code",
   "execution_count": 7,
   "metadata": {},
   "outputs": [],
   "source": [
    "logging.basicConfig()\n",
    "abc_logger = logging.getLogger('ABC')\n",
    "abc_logger.setLevel(logging.DEBUG)\n",
    "eps_logger = logging.getLogger('Epsilon')\n",
    "eps_logger.setLevel(logging.DEBUG)"
   ]
  },
  {
   "cell_type": "code",
   "execution_count": 8,
   "metadata": {},
   "outputs": [
    {
     "name": "stdout",
     "output_type": "stream",
     "text": [
      "Theoretical minimum population size is 131072 particles\n"
     ]
    }
   ],
   "source": [
    "pop_size = theoretical_population_size(2, len(limits))\n",
    "print(\"Theoretical minimum population size is {} particles\".format(pop_size))"
   ]
  },
  {
   "cell_type": "code",
   "execution_count": 9,
   "metadata": {
    "scrolled": true
   },
   "outputs": [
    {
     "name": "stderr",
     "output_type": "stream",
     "text": [
      "DEBUG:ABC:ion channel weights: {'0': 1.2072150657413763, '1': 1.2072150657413763, '2': 1.2072150657413763, '3': 1.2072150657413763, '4': 1.2072150657413763, '5': 1.2072150657413763, '6': 1.2072150657413763, '7': 1.2072150657413763, '8': 1.2072150657413763, '9': 1.2072150657413763, '10': 1.2072150657413763, '11': 1.2072150657413763, '12': 1.2072150657413763, '13': 1.2072150657413763, '14': 1.2072150657413763, '15': 1.2072150657413763, '16': 1.2072150657413763, '17': 1.2072150657413763, '18': 0.45569535711195136, '19': 0.3545292012046639, '20': 0.44065462334321276, '21': 1.2072150657413763, '22': 1.2072150657413763, '23': 1.2072150657413763, '24': 1.2072150657413763, '25': 1.2072150657413763, '26': 1.4267087140579902, '27': 1.4267087140579902, '28': 1.4267087140579902, '29': 1.4267087140579902, '30': 1.4267087140579902, '31': 0.5338596646548436, '32': 0.33176258901227934, '33': 0.3674613844474347, '34': 0.9167388223930231, '35': 1.4267087140579902, '36': 1.4267087140579902, '37': 0.19848853430689178, '38': 0.3907743019166932, '39': 0.5436859852753992, '40': 0.8931984043810132, '41': 1.3252467553723302, '42': 0.13949965846024528, '43': 0.39757402661169905, '44': 0.7951480532233981, '45': 1.307816321219824, '46': 1.307816321219824, '47': 1.307816321219824, '48': 1.307816321219824, '49': 1.307816321219824, '50': 1.307816321219824, '51': 1.307816321219824, '52': 1.307816321219824, '53': 1.307816321219824, '54': 1.307816321219824, '55': 1.307816321219824, '56': 1.307816321219824, '57': 1.4267087140579902, '58': 1.4267087140579902, '59': 1.4267087140579902, '60': 1.4267087140579902, '61': 1.4267087140579902, '62': 1.4267087140579902, '63': 1.4267087140579902, '64': 1.4267087140579902, '65': 1.4267087140579902, '66': 1.4267087140579902, '67': 1.4267087140579902, '68': 0.6823389502016474, '69': 0.6823389502016474, '70': 0.6823389502016474, '71': 0.6823389502016474, '72': 0.6823389502016474, '73': 0.6823389502016474, '74': 0.6823389502016474, '75': 0.6823389502016474, '76': 0.6823389502016474, '77': 0.6823389502016474, '78': 0.6823389502016474, '79': 0.6823389502016474, '80': 0.6823389502016474, '81': 0.6823389502016474, '82': 0.6823389502016474, '83': 0.6823389502016474, '84': 0.6823389502016474, '85': 0.6823389502016474, '86': 0.6823389502016474, '87': 0.6823389502016474, '88': 0.6823389502016474, '89': 0.6823389502016474, '90': 0.6823389502016474, '91': 0.6823389502016474, '92': 0.6823389502016474, '93': 0.6823389502016474, '94': 0.6823389502016474, '95': 0.6823389502016474, '96': 0.6823389502016474, '97': 0.6823389502016474, '98': 0.6823389502016474, '99': 0.6823389502016474, '100': 0.6823389502016474, '101': 0.6823389502016474, '102': 0.6823389502016474, '103': 0.6823389502016474, '104': 0.6823389502016474, '105': 0.6823389502016474, '106': 0.6823389502016474, '107': 0.6823389502016474, '108': 0.6823389502016474, '109': 0.6823389502016474, '110': 0.6823389502016474, '111': 0.6823389502016474, '112': 0.6823389502016474, '113': 0.6823389502016474, '114': 0.7473236121256137, '115': 0.7473236121256137, '116': 0.7473236121256137, '117': 0.7473236121256137, '118': 0.7473236121256137, '119': 0.7473236121256137, '120': 0.7473236121256137, '121': 0.7473236121256137, '122': 0.7473236121256137, '123': 0.7473236121256137, '124': 0.7473236121256137, '125': 0.7473236121256137, '126': 0.7473236121256137, '127': 0.7473236121256137, '128': 0.7473236121256137, '129': 0.7473236121256137, '130': 0.7473236121256137, '131': 0.7473236121256137, '132': 0.7473236121256137, '133': 0.7473236121256137, '134': 0.7473236121256137, '135': 3.1387591709275777, '136': 3.1387591709275777, '137': 3.1387591709275777, '138': 3.1387591709275777, '139': 3.1387591709275777}\n",
      "DEBUG:Epsilon:init quantile_epsilon initial_epsilon=20, quantile_multiplier=1\n"
     ]
    }
   ],
   "source": [
    "\n",
    "abc = ABCSMC(models=model,\n",
    "             parameter_priors=prior,\n",
    "             distance_function=IonChannelDistance(\n",
    "                 exp_id=list(observations.exp_id),\n",
    "                 variance=list(observations.variance),\n",
    "                 delta=0.05),\n",
    "             population_size=ConstantPopulationSize(1000), # Small pop to test\n",
    "             summary_statistics=summary_statistics,\n",
    "             transitions=EfficientMultivariateNormalTransition(),\n",
    "             eps=MedianEpsilon(initial_epsilon=20),\n",
    "             sampler=MulticoreEvalParallelSampler(n_procs=6),\n",
    "             acceptor=IonChannelAcceptor())"
   ]
  },
  {
   "cell_type": "code",
   "execution_count": 10,
   "metadata": {},
   "outputs": [],
   "source": [
    "obs = observations.to_dict()['y']\n",
    "obs = {str(k): v for k, v in obs.items()}"
   ]
  },
  {
   "cell_type": "code",
   "execution_count": 11,
   "metadata": {
    "scrolled": true
   },
   "outputs": [
    {
     "name": "stderr",
     "output_type": "stream",
     "text": [
      "INFO:History:Start <ABCSMC(id=1, start_time=2019-07-25 03:42:06.086787, end_time=None)>\n"
     ]
    }
   ],
   "source": [
    "abc_id = abc.new(db_path, obs)"
   ]
  },
  {
   "cell_type": "code",
   "execution_count": 13,
   "metadata": {
    "scrolled": true
   },
   "outputs": [
    {
     "name": "stderr",
     "output_type": "stream",
     "text": [
      "INFO:ABC:t:0 eps:20\n",
      "DEBUG:ABC:now submitting population 0\n",
      "Process Process-7:\n",
      "Traceback (most recent call last):\n",
      "  File \"/apps/anaconda3/lib/python3.7/multiprocessing/process.py\", line 297, in _bootstrap\n",
      "    self.run()\n",
      "  File \"/apps/anaconda3/lib/python3.7/multiprocessing/process.py\", line 99, in run\n",
      "    self._target(*self._args, **self._kwargs)\n"
     ]
    },
    {
     "ename": "KeyboardInterrupt",
     "evalue": "",
     "output_type": "error",
     "traceback": [
      "\u001b[0;31m---------------------------------------------------------------------------\u001b[0m",
      "\u001b[0;31mKeyboardInterrupt\u001b[0m                         Traceback (most recent call last)",
      "\u001b[0;32m<ipython-input-13-36e2b8e89f7d>\u001b[0m in \u001b[0;36m<module>\u001b[0;34m\u001b[0m\n\u001b[0;32m----> 1\u001b[0;31m \u001b[0mhistory\u001b[0m \u001b[0;34m=\u001b[0m \u001b[0mabc\u001b[0m\u001b[0;34m.\u001b[0m\u001b[0mrun\u001b[0m\u001b[0;34m(\u001b[0m\u001b[0mminimum_epsilon\u001b[0m\u001b[0;34m=\u001b[0m\u001b[0;36m0.1\u001b[0m\u001b[0;34m,\u001b[0m \u001b[0mmax_nr_populations\u001b[0m\u001b[0;34m=\u001b[0m\u001b[0;36m20\u001b[0m\u001b[0;34m,\u001b[0m \u001b[0mmin_acceptance_rate\u001b[0m\u001b[0;34m=\u001b[0m\u001b[0;36m0.005\u001b[0m\u001b[0;34m)\u001b[0m\u001b[0;34m\u001b[0m\u001b[0;34m\u001b[0m\u001b[0m\n\u001b[0m",
      "\u001b[0;32m~/.local/lib/python3.7/site-packages/pyabc/smc.py\u001b[0m in \u001b[0;36mrun\u001b[0;34m(self, minimum_epsilon, max_nr_populations, min_acceptance_rate, **kwargs)\u001b[0m\n\u001b[1;32m    803\u001b[0m             \u001b[0;31m# perform the sampling\u001b[0m\u001b[0;34m\u001b[0m\u001b[0;34m\u001b[0m\u001b[0;34m\u001b[0m\u001b[0m\n\u001b[1;32m    804\u001b[0m             sample = self.sampler.sample_until_n_accepted(\n\u001b[0;32m--> 805\u001b[0;31m                 self.population_strategy.nr_particles, simulate_one)\n\u001b[0m\u001b[1;32m    806\u001b[0m \u001b[0;34m\u001b[0m\u001b[0m\n\u001b[1;32m    807\u001b[0m             \u001b[0;31m# retrieve accepted population\u001b[0m\u001b[0;34m\u001b[0m\u001b[0;34m\u001b[0m\u001b[0;34m\u001b[0m\u001b[0m\n",
      "\u001b[0;32m~/.local/lib/python3.7/site-packages/pyabc/sampler/base.py\u001b[0m in \u001b[0;36msample_until_n_accepted\u001b[0;34m(self, n, simulate_one, all_accepted)\u001b[0m\n\u001b[1;32m    121\u001b[0m     \"\"\"\n\u001b[1;32m    122\u001b[0m     \u001b[0;32mdef\u001b[0m \u001b[0msample_until_n_accepted\u001b[0m\u001b[0;34m(\u001b[0m\u001b[0mself\u001b[0m\u001b[0;34m,\u001b[0m \u001b[0mn\u001b[0m\u001b[0;34m,\u001b[0m \u001b[0msimulate_one\u001b[0m\u001b[0;34m,\u001b[0m \u001b[0mall_accepted\u001b[0m\u001b[0;34m=\u001b[0m\u001b[0;32mFalse\u001b[0m\u001b[0;34m)\u001b[0m\u001b[0;34m:\u001b[0m\u001b[0;34m\u001b[0m\u001b[0;34m\u001b[0m\u001b[0m\n\u001b[0;32m--> 123\u001b[0;31m         \u001b[0msample\u001b[0m \u001b[0;34m=\u001b[0m \u001b[0mf\u001b[0m\u001b[0;34m(\u001b[0m\u001b[0mself\u001b[0m\u001b[0;34m,\u001b[0m \u001b[0mn\u001b[0m\u001b[0;34m,\u001b[0m \u001b[0msimulate_one\u001b[0m\u001b[0;34m,\u001b[0m \u001b[0mall_accepted\u001b[0m\u001b[0;34m)\u001b[0m\u001b[0;34m\u001b[0m\u001b[0;34m\u001b[0m\u001b[0m\n\u001b[0m\u001b[1;32m    124\u001b[0m         \u001b[0;32mif\u001b[0m \u001b[0msample\u001b[0m\u001b[0;34m.\u001b[0m\u001b[0mn_accepted\u001b[0m \u001b[0;34m!=\u001b[0m \u001b[0mn\u001b[0m\u001b[0;34m:\u001b[0m\u001b[0;34m\u001b[0m\u001b[0;34m\u001b[0m\u001b[0m\n\u001b[1;32m    125\u001b[0m             raise AssertionError(\n",
      "\u001b[0;32m~/.local/lib/python3.7/site-packages/pyabc/sampler/multicore_evaluation_parallel.py\u001b[0m in \u001b[0;36msample_until_n_accepted\u001b[0;34m(self, n, simulate_one, all_accepted)\u001b[0m\n\u001b[1;32m    115\u001b[0m         \u001b[0mn_done\u001b[0m \u001b[0;34m=\u001b[0m \u001b[0;36m0\u001b[0m\u001b[0;34m\u001b[0m\u001b[0;34m\u001b[0m\u001b[0m\n\u001b[1;32m    116\u001b[0m         \u001b[0;32mwhile\u001b[0m \u001b[0mn_done\u001b[0m \u001b[0;34m<\u001b[0m \u001b[0mlen\u001b[0m\u001b[0;34m(\u001b[0m\u001b[0mprocesses\u001b[0m\u001b[0;34m)\u001b[0m\u001b[0;34m:\u001b[0m\u001b[0;34m\u001b[0m\u001b[0;34m\u001b[0m\u001b[0m\n\u001b[0;32m--> 117\u001b[0;31m             \u001b[0mval\u001b[0m \u001b[0;34m=\u001b[0m \u001b[0mget_if_worker_healthy\u001b[0m\u001b[0;34m(\u001b[0m\u001b[0mprocesses\u001b[0m\u001b[0;34m,\u001b[0m \u001b[0mqueue\u001b[0m\u001b[0;34m)\u001b[0m\u001b[0;34m\u001b[0m\u001b[0;34m\u001b[0m\u001b[0m\n\u001b[0m\u001b[1;32m    118\u001b[0m             \u001b[0;32mif\u001b[0m \u001b[0mval\u001b[0m \u001b[0;34m==\u001b[0m \u001b[0mDONE\u001b[0m\u001b[0;34m:\u001b[0m\u001b[0;34m\u001b[0m\u001b[0;34m\u001b[0m\u001b[0m\n\u001b[1;32m    119\u001b[0m                 \u001b[0mn_done\u001b[0m \u001b[0;34m+=\u001b[0m \u001b[0;36m1\u001b[0m\u001b[0;34m\u001b[0m\u001b[0;34m\u001b[0m\u001b[0m\n",
      "\u001b[0;32m~/.local/lib/python3.7/site-packages/pyabc/sampler/multicorebase.py\u001b[0m in \u001b[0;36mget_if_worker_healthy\u001b[0;34m(workers, queue)\u001b[0m\n\u001b[1;32m     51\u001b[0m     \u001b[0;32mwhile\u001b[0m \u001b[0;32mTrue\u001b[0m\u001b[0;34m:\u001b[0m\u001b[0;34m\u001b[0m\u001b[0;34m\u001b[0m\u001b[0m\n\u001b[1;32m     52\u001b[0m         \u001b[0;32mtry\u001b[0m\u001b[0;34m:\u001b[0m\u001b[0;34m\u001b[0m\u001b[0;34m\u001b[0m\u001b[0m\n\u001b[0;32m---> 53\u001b[0;31m             \u001b[0mitem\u001b[0m \u001b[0;34m=\u001b[0m \u001b[0mqueue\u001b[0m\u001b[0;34m.\u001b[0m\u001b[0mget\u001b[0m\u001b[0;34m(\u001b[0m\u001b[0;32mTrue\u001b[0m\u001b[0;34m,\u001b[0m \u001b[0;36m5\u001b[0m\u001b[0;34m)\u001b[0m\u001b[0;34m\u001b[0m\u001b[0;34m\u001b[0m\u001b[0m\n\u001b[0m\u001b[1;32m     54\u001b[0m             \u001b[0;32mreturn\u001b[0m \u001b[0mitem\u001b[0m\u001b[0;34m\u001b[0m\u001b[0;34m\u001b[0m\u001b[0m\n\u001b[1;32m     55\u001b[0m         \u001b[0;32mexcept\u001b[0m \u001b[0mEmpty\u001b[0m\u001b[0;34m:\u001b[0m\u001b[0;34m\u001b[0m\u001b[0;34m\u001b[0m\u001b[0m\n",
      "\u001b[0;32m/apps/anaconda3/lib/python3.7/multiprocessing/queues.py\u001b[0m in \u001b[0;36mget\u001b[0;34m(self, block, timeout)\u001b[0m\n\u001b[1;32m    102\u001b[0m                 \u001b[0;32mif\u001b[0m \u001b[0mblock\u001b[0m\u001b[0;34m:\u001b[0m\u001b[0;34m\u001b[0m\u001b[0;34m\u001b[0m\u001b[0m\n\u001b[1;32m    103\u001b[0m                     \u001b[0mtimeout\u001b[0m \u001b[0;34m=\u001b[0m \u001b[0mdeadline\u001b[0m \u001b[0;34m-\u001b[0m \u001b[0mtime\u001b[0m\u001b[0;34m.\u001b[0m\u001b[0mmonotonic\u001b[0m\u001b[0;34m(\u001b[0m\u001b[0;34m)\u001b[0m\u001b[0;34m\u001b[0m\u001b[0;34m\u001b[0m\u001b[0m\n\u001b[0;32m--> 104\u001b[0;31m                     \u001b[0;32mif\u001b[0m \u001b[0;32mnot\u001b[0m \u001b[0mself\u001b[0m\u001b[0;34m.\u001b[0m\u001b[0m_poll\u001b[0m\u001b[0;34m(\u001b[0m\u001b[0mtimeout\u001b[0m\u001b[0;34m)\u001b[0m\u001b[0;34m:\u001b[0m\u001b[0;34m\u001b[0m\u001b[0;34m\u001b[0m\u001b[0m\n\u001b[0m\u001b[1;32m    105\u001b[0m                         \u001b[0;32mraise\u001b[0m \u001b[0mEmpty\u001b[0m\u001b[0;34m\u001b[0m\u001b[0;34m\u001b[0m\u001b[0m\n\u001b[1;32m    106\u001b[0m                 \u001b[0;32melif\u001b[0m \u001b[0;32mnot\u001b[0m \u001b[0mself\u001b[0m\u001b[0;34m.\u001b[0m\u001b[0m_poll\u001b[0m\u001b[0;34m(\u001b[0m\u001b[0;34m)\u001b[0m\u001b[0;34m:\u001b[0m\u001b[0;34m\u001b[0m\u001b[0;34m\u001b[0m\u001b[0m\n",
      "\u001b[0;32m/apps/anaconda3/lib/python3.7/multiprocessing/connection.py\u001b[0m in \u001b[0;36mpoll\u001b[0;34m(self, timeout)\u001b[0m\n\u001b[1;32m    255\u001b[0m         \u001b[0mself\u001b[0m\u001b[0;34m.\u001b[0m\u001b[0m_check_closed\u001b[0m\u001b[0;34m(\u001b[0m\u001b[0;34m)\u001b[0m\u001b[0;34m\u001b[0m\u001b[0;34m\u001b[0m\u001b[0m\n\u001b[1;32m    256\u001b[0m         \u001b[0mself\u001b[0m\u001b[0;34m.\u001b[0m\u001b[0m_check_readable\u001b[0m\u001b[0;34m(\u001b[0m\u001b[0;34m)\u001b[0m\u001b[0;34m\u001b[0m\u001b[0;34m\u001b[0m\u001b[0m\n\u001b[0;32m--> 257\u001b[0;31m         \u001b[0;32mreturn\u001b[0m \u001b[0mself\u001b[0m\u001b[0;34m.\u001b[0m\u001b[0m_poll\u001b[0m\u001b[0;34m(\u001b[0m\u001b[0mtimeout\u001b[0m\u001b[0;34m)\u001b[0m\u001b[0;34m\u001b[0m\u001b[0;34m\u001b[0m\u001b[0m\n\u001b[0m\u001b[1;32m    258\u001b[0m \u001b[0;34m\u001b[0m\u001b[0m\n\u001b[1;32m    259\u001b[0m     \u001b[0;32mdef\u001b[0m \u001b[0m__enter__\u001b[0m\u001b[0;34m(\u001b[0m\u001b[0mself\u001b[0m\u001b[0;34m)\u001b[0m\u001b[0;34m:\u001b[0m\u001b[0;34m\u001b[0m\u001b[0;34m\u001b[0m\u001b[0m\n",
      "\u001b[0;32m/apps/anaconda3/lib/python3.7/multiprocessing/connection.py\u001b[0m in \u001b[0;36m_poll\u001b[0;34m(self, timeout)\u001b[0m\n\u001b[1;32m    412\u001b[0m \u001b[0;34m\u001b[0m\u001b[0m\n\u001b[1;32m    413\u001b[0m     \u001b[0;32mdef\u001b[0m \u001b[0m_poll\u001b[0m\u001b[0;34m(\u001b[0m\u001b[0mself\u001b[0m\u001b[0;34m,\u001b[0m \u001b[0mtimeout\u001b[0m\u001b[0;34m)\u001b[0m\u001b[0;34m:\u001b[0m\u001b[0;34m\u001b[0m\u001b[0;34m\u001b[0m\u001b[0m\n\u001b[0;32m--> 414\u001b[0;31m         \u001b[0mr\u001b[0m \u001b[0;34m=\u001b[0m \u001b[0mwait\u001b[0m\u001b[0;34m(\u001b[0m\u001b[0;34m[\u001b[0m\u001b[0mself\u001b[0m\u001b[0;34m]\u001b[0m\u001b[0;34m,\u001b[0m \u001b[0mtimeout\u001b[0m\u001b[0;34m)\u001b[0m\u001b[0;34m\u001b[0m\u001b[0;34m\u001b[0m\u001b[0m\n\u001b[0m\u001b[1;32m    415\u001b[0m         \u001b[0;32mreturn\u001b[0m \u001b[0mbool\u001b[0m\u001b[0;34m(\u001b[0m\u001b[0mr\u001b[0m\u001b[0;34m)\u001b[0m\u001b[0;34m\u001b[0m\u001b[0;34m\u001b[0m\u001b[0m\n\u001b[1;32m    416\u001b[0m \u001b[0;34m\u001b[0m\u001b[0m\n",
      "\u001b[0;32m/apps/anaconda3/lib/python3.7/multiprocessing/connection.py\u001b[0m in \u001b[0;36mwait\u001b[0;34m(object_list, timeout)\u001b[0m\n\u001b[1;32m    918\u001b[0m \u001b[0;34m\u001b[0m\u001b[0m\n\u001b[1;32m    919\u001b[0m             \u001b[0;32mwhile\u001b[0m \u001b[0;32mTrue\u001b[0m\u001b[0;34m:\u001b[0m\u001b[0;34m\u001b[0m\u001b[0;34m\u001b[0m\u001b[0m\n\u001b[0;32m--> 920\u001b[0;31m                 \u001b[0mready\u001b[0m \u001b[0;34m=\u001b[0m \u001b[0mselector\u001b[0m\u001b[0;34m.\u001b[0m\u001b[0mselect\u001b[0m\u001b[0;34m(\u001b[0m\u001b[0mtimeout\u001b[0m\u001b[0;34m)\u001b[0m\u001b[0;34m\u001b[0m\u001b[0;34m\u001b[0m\u001b[0m\n\u001b[0m\u001b[1;32m    921\u001b[0m                 \u001b[0;32mif\u001b[0m \u001b[0mready\u001b[0m\u001b[0;34m:\u001b[0m\u001b[0;34m\u001b[0m\u001b[0;34m\u001b[0m\u001b[0m\n\u001b[1;32m    922\u001b[0m                     \u001b[0;32mreturn\u001b[0m \u001b[0;34m[\u001b[0m\u001b[0mkey\u001b[0m\u001b[0;34m.\u001b[0m\u001b[0mfileobj\u001b[0m \u001b[0;32mfor\u001b[0m \u001b[0;34m(\u001b[0m\u001b[0mkey\u001b[0m\u001b[0;34m,\u001b[0m \u001b[0mevents\u001b[0m\u001b[0;34m)\u001b[0m \u001b[0;32min\u001b[0m \u001b[0mready\u001b[0m\u001b[0;34m]\u001b[0m\u001b[0;34m\u001b[0m\u001b[0;34m\u001b[0m\u001b[0m\n",
      "\u001b[0;32m/apps/anaconda3/lib/python3.7/selectors.py\u001b[0m in \u001b[0;36mselect\u001b[0;34m(self, timeout)\u001b[0m\n\u001b[1;32m    413\u001b[0m         \u001b[0mready\u001b[0m \u001b[0;34m=\u001b[0m \u001b[0;34m[\u001b[0m\u001b[0;34m]\u001b[0m\u001b[0;34m\u001b[0m\u001b[0;34m\u001b[0m\u001b[0m\n\u001b[1;32m    414\u001b[0m         \u001b[0;32mtry\u001b[0m\u001b[0;34m:\u001b[0m\u001b[0;34m\u001b[0m\u001b[0;34m\u001b[0m\u001b[0m\n\u001b[0;32m--> 415\u001b[0;31m             \u001b[0mfd_event_list\u001b[0m \u001b[0;34m=\u001b[0m \u001b[0mself\u001b[0m\u001b[0;34m.\u001b[0m\u001b[0m_selector\u001b[0m\u001b[0;34m.\u001b[0m\u001b[0mpoll\u001b[0m\u001b[0;34m(\u001b[0m\u001b[0mtimeout\u001b[0m\u001b[0;34m)\u001b[0m\u001b[0;34m\u001b[0m\u001b[0;34m\u001b[0m\u001b[0m\n\u001b[0m\u001b[1;32m    416\u001b[0m         \u001b[0;32mexcept\u001b[0m \u001b[0mInterruptedError\u001b[0m\u001b[0;34m:\u001b[0m\u001b[0;34m\u001b[0m\u001b[0;34m\u001b[0m\u001b[0m\n\u001b[1;32m    417\u001b[0m             \u001b[0;32mreturn\u001b[0m \u001b[0mready\u001b[0m\u001b[0;34m\u001b[0m\u001b[0;34m\u001b[0m\u001b[0m\n",
      "\u001b[0;31mKeyboardInterrupt\u001b[0m: "
     ]
    },
    {
     "name": "stderr",
     "output_type": "stream",
     "text": [
      "  File \"/home/brm18/.local/lib/python3.7/site-packages/pyabc/sampler/multicore_evaluation_parallel.py\", line 30, in work\n",
      "    new_sim = simulate_one()\n",
      "  File \"/home/brm18/.local/lib/python3.7/site-packages/pyabc/smc.py\", line 560, in simulate_one\n",
      "    transitions)\n",
      "  File \"/home/brm18/.local/lib/python3.7/site-packages/pyabc/smc.py\", line 651, in _evaluate_proposal\n",
      "    x_0)\n",
      "  File \"/home/brm18/.local/lib/python3.7/site-packages/pyabc/model.py\", line 222, in accept\n",
      "    sum_stats_calculator)\n",
      "  File \"/home/brm18/.local/lib/python3.7/site-packages/pyabc/model.py\", line 117, in summary_statistics\n",
      "    sum_stats = sum_stats_calculator(raw_data)\n",
      "  File \"/home/brm18/.local/lib/python3.7/site-packages/ionchannelABC-0.2.0-py3.7.egg/ionchannelABC/experiment.py\", line 165, in summary_statistics\n",
      "    for i, val in enumerate(sum_stats_combined(data))}\n",
      "  File \"/home/brm18/.local/lib/python3.7/site-packages/ionchannelABC-0.2.0-py3.7.egg/ionchannelABC/experiment.py\", line 26, in <lambda>\n",
      "    return lambda x: sum_stats_fn(x)\n",
      "  File \"/home/brm18/.local/lib/python3.7/site-packages/ionchannelABC-0.2.0-py3.7.egg/ionchannelABC/experiment.py\", line 24, in sum_stats_fn\n",
      "    sum_stats = sum_stats+f(x[i])\n",
      "  File \"/home/brm18/Downloads/GitCode/ion-channel-ABC-development/docs/examples/Nygren/experiments/ina_generic.py\", line 716, in sakakibara_recov_kin_sum_stats\n",
      "    d_split = dOneProtocol.split_periodic(tperiod_recov, adjust = True)\n",
      "  File \"/home/brm18/.local/lib/python3.7/site-packages/myokit/_datalog.py\", line 1144, in split_periodic\n",
      "    d = self[k][imin:imax]\n",
      "  File \"/home/brm18/.local/lib/python3.7/site-packages/myokit/_datalog.py\", line 321, in __getitem__\n",
      "    return super(DataLog, self).__getitem__(self._parse_key(key))\n",
      "KeyboardInterrupt\n"
     ]
    }
   ],
   "source": [
    "history = abc.run(minimum_epsilon=0.1, max_nr_populations=20, min_acceptance_rate=0.005)"
   ]
  },
  {
   "cell_type": "markdown",
   "metadata": {},
   "source": [
    "# Results analysis"
   ]
  },
  {
   "cell_type": "code",
   "execution_count": 33,
   "metadata": {},
   "outputs": [],
   "source": [
    "history = History(db_path)\n",
    "history.all_runs()\n",
    "history.id = 1  \n",
    "df, w = history.get_distribution(m=0)\n",
    "\n",
    "# Generate parameter samples\n",
    "n_samples = 100\n",
    "df, w = history.get_distribution(m=0)\n",
    "th_samples = df.sample(n=n_samples, weights=w, replace=True).to_dict(orient='records')\n",
    "plotting_obs = observations.copy()\n",
    "\n",
    "# Generate sim results samples\n",
    "samples = pd.DataFrame({})\n",
    "for i, th in enumerate(th_samples):\n",
    "    results = summary_statistics(pyabc_simulate(pars=th))\n",
    "    output = pd.DataFrame({'x': plotting_obs.x, 'y': list(results.values()),\n",
    "                           'exp_id': plotting_obs.exp_id})\n",
    "    output['sample'] = i\n",
    "    output['distribution'] = 'post'\n",
    "    samples = samples.append(output, ignore_index=True)\n",
    "\n",
    "sns.set_context('talk')\n",
    "\n",
    "\n",
    "grid1 = plot_sim_results(samples, obs=plotting_obs)\n",
    "grid2 = plot_parameters_kde(df, w, limits, aspect=12,height=0.6)"
   ]
  }
 ],
 "metadata": {
  "kernelspec": {
   "display_name": "Python 3",
   "language": "python",
   "name": "python3"
  },
  "language_info": {
   "codemirror_mode": {
    "name": "ipython",
    "version": 3
   },
   "file_extension": ".py",
   "mimetype": "text/x-python",
   "name": "python",
   "nbconvert_exporter": "python",
   "pygments_lexer": "ipython3",
   "version": "3.7.1"
  },
  "toc": {
   "base_numbering": 1,
   "nav_menu": {},
   "number_sections": true,
   "sideBar": true,
   "skip_h1_title": false,
   "title_cell": "Table of Contents",
   "title_sidebar": "Contents",
   "toc_cell": false,
   "toc_position": {},
   "toc_section_display": true,
   "toc_window_display": false
  }
 },
 "nbformat": 4,
 "nbformat_minor": 2
}
