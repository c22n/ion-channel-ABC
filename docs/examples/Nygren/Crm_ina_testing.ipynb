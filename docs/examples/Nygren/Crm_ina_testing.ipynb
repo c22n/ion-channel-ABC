{
 "cells": [
  {
   "cell_type": "markdown",
   "metadata": {},
   "source": [
    "## Create and test ion channel model"
   ]
  },
  {
   "cell_type": "code",
   "execution_count": 13,
   "metadata": {},
   "outputs": [],
   "source": [
    "from experiments.ina_sakakibara import (sakakibara_iv,\n",
    "                                        sakakibara_iv_Nao2 ,\n",
    "                                        sakakibara_iv_Nao5 ,\n",
    "                                        sakakibara_iv_Nao20 ,\n",
    "                                        sakakibara_act,\n",
    "                                        sakakibara_inact,\n",
    "                                        sakakibara_inact_kin_1,\n",
    "                                        sakakibara_inact_kin_2,\n",
    "                                        sakakibara_inact_kin_80,\n",
    "                                        sakakibara_inact_kin_100,\n",
    "                                        sakakibara_recov,\n",
    "                                        sakakibara_recov_100,\n",
    "                                        sakakibara_recov_kin)\n",
    "\n",
    "import matplotlib.pyplot as plt\n",
    "import numpy as np\n",
    "import pandas as pd\n",
    "from pyabc import Distribution, RV\n",
    "import os, tempfile\n",
    "import logging\n",
    "from pyabc.populationstrategy import AdaptivePopulationSize, ConstantPopulationSize\n",
    "from ionchannelABC import theoretical_population_size\n",
    "from pyabc import ABCSMC\n",
    "from pyabc.epsilon import MedianEpsilon\n",
    "from pyabc.sampler import MulticoreEvalParallelSampler, SingleCoreSampler\n",
    "from ionchannelABC import IonChannelDistance, EfficientMultivariateNormalTransition, IonChannelAcceptor\n",
    "from pyabc import History\n",
    "from ionchannelABC import plot_sim_results\n",
    "import seaborn as sns\n",
    "from ionchannelABC import plot_parameters_kde\n",
    "from ionchannelABC.experiment import setup"
   ]
  },
  {
   "cell_type": "code",
   "execution_count": 2,
   "metadata": {},
   "outputs": [],
   "source": [
    "modelfile = 'models/Courtemanche_iNa.mmt'"
   ]
  },
  {
   "cell_type": "code",
   "execution_count": 19,
   "metadata": {},
   "outputs": [],
   "source": [
    "observations, model, summary_statistics = setup(modelfile,\n",
    "                                                sakakibara_inact_kin_100)"
   ]
  },
  {
   "cell_type": "code",
   "execution_count": 4,
   "metadata": {
    "scrolled": true
   },
   "outputs": [],
   "source": [
    "assert len(observations)==len(summary_statistics(model({})))"
   ]
  },
  {
   "cell_type": "code",
   "execution_count": 5,
   "metadata": {},
   "outputs": [
    {
     "data": {
      "text/plain": [
       "{'0': 7.481251137429047,\n",
       " '1': 7.227415713004508,\n",
       " '2': 7.170344184357049,\n",
       " '3': 7.1522423325773055,\n",
       " '4': 7.148395196938219,\n",
       " '5': 7.148384175670795,\n",
       " '6': 7.148421540017495,\n",
       " '7': 7.148367733295623,\n",
       " '8': 7.148369795086218,\n",
       " '9': 7.148365455592815,\n",
       " '10': 7.148312599796325}"
      ]
     },
     "execution_count": 5,
     "metadata": {},
     "output_type": "execute_result"
    }
   ],
   "source": [
    "summary_statistics(model({}))"
   ]
  },
  {
   "cell_type": "markdown",
   "metadata": {},
   "source": [
    "## Set limits and generate uniform initial priors"
   ]
  },
  {
   "cell_type": "code",
   "execution_count": 24,
   "metadata": {},
   "outputs": [],
   "source": [
    "gate = 'j'\n",
    "\n",
    "if gate == 'h':\n",
    "    limits = {'ina.g_Na' : (0.01,100),\n",
    "              'ina.c1_h': (0,50),\n",
    "              'ina.a1_h': (-10,10),\n",
    "              'ina.a2_h': (0,20),\n",
    "              'ina.a3_h': (0,100),\n",
    "              'ina.b1_h': (0,10),\n",
    "              'ina.b2_h': (0,100),\n",
    "              'ina.b3_h': (0,50),\n",
    "              'ina.b4_h': (0,20),\n",
    "              'ina.b5_h': (0.0001,1),\n",
    "              'ina.b6_h': (0.000001,0.001),\n",
    "              'ina.b7_h': (0,1)}\n",
    "\n",
    "elif gate =='m':\n",
    "    limits = {'ina.g_Na' : (0.01,100),\n",
    "              'ina.a1_m': (0,100),\n",
    "              'ina.a2_m': (-50,50),\n",
    "              'ina.a3_m': (-50,50),\n",
    "              'ina.a4_m': (-50,50),\n",
    "              'ina.b1_m': (-50,50),\n",
    "              'ina.b2_m': (0,100)}\n",
    "\n",
    "elif gate == 'j':\n",
    "    limits = {'ina.c1_j': (0,100),\n",
    "              'ina.a1_j': (100000,300000),\n",
    "              'log_ina.a2_j': (-4,1),\n",
    "              'log_ina.a3_j': (-6,-3),\n",
    "              'log_ina.a4_j': (-4,0),\n",
    "              'ina.a5_j': (0,50),\n",
    "              'ina.a6_j': (0.001,10),\n",
    "              'ina.a7_j': (50,150),\n",
    "              'ina.b1_j': (0.001,10),\n",
    "              'log_ina.b2_j': (-8,-5),\n",
    "              'log_ina.b3_j': (-3,1),\n",
    "              'ina.b4_j': (0,50),\n",
    "              'log_ina.b5_j': (-4,0),\n",
    "              'log_ina.b6_j': (-4,0),\n",
    "              'log_ina.b7_j': (-4,0),\n",
    "              'ina.b8_j': (20,70)}\n",
    "\n",
    "prior = Distribution(**{key: RV(\"uniform\", a, b - a)\n",
    "                        for key, (a,b) in limits.items()})\n"
   ]
  },
  {
   "cell_type": "code",
   "execution_count": 23,
   "metadata": {},
   "outputs": [
    {
     "name": "stdout",
     "output_type": "stream",
     "text": [
      "{'ina.g_Na': (0.01, 100), 'ina.c1_j': (0, 100), 'ina.a1_j': (100000, 300000), 'log_ina.a2_j': (-4, 1), 'log_ina.a3_j': (-6, -3), 'log_ina.a4_j': (-4, 0), 'ina.a5_j': (0, 50), 'ina.a6_j': (0.001, 10), 'ina.a7_j': (50, 150), 'ina.b1_j': (0.001, 10), 'log_ina.b2_j': (-8, -5), 'log_ina.b3_j': (-3, 1), 'ina.b4_j': (0, 50), 'log_ina.b5_j': (-4, 0), 'log_ina.b6_j': (-4, 0), 'log_ina.b7_j': (-4, 0), 'ina.b8_j': (20, 70)}\n"
     ]
    }
   ],
   "source": [
    "print(limits)"
   ]
  },
  {
   "cell_type": "markdown",
   "metadata": {},
   "source": [
    "## Run ABC calibration"
   ]
  },
  {
   "cell_type": "code",
   "execution_count": 7,
   "metadata": {},
   "outputs": [],
   "source": [
    "db_path = (\"sqlite:///\" +\n",
    "           os.path.join(tempfile.gettempdir(), \"crm_ina_testing_gate_\"+gate+\".db\"))"
   ]
  },
  {
   "cell_type": "code",
   "execution_count": 8,
   "metadata": {},
   "outputs": [],
   "source": [
    "logging.basicConfig()\n",
    "abc_logger = logging.getLogger('ABC')\n",
    "abc_logger.setLevel(logging.DEBUG)\n",
    "eps_logger = logging.getLogger('Epsilon')\n",
    "eps_logger.setLevel(logging.DEBUG)"
   ]
  },
  {
   "cell_type": "code",
   "execution_count": 9,
   "metadata": {},
   "outputs": [
    {
     "name": "stdout",
     "output_type": "stream",
     "text": [
      "Theoretical minimum population size is 131072 particles\n"
     ]
    }
   ],
   "source": [
    "pop_size = theoretical_population_size(2, len(limits))\n",
    "print(\"Theoretical minimum population size is {} particles\".format(pop_size))"
   ]
  },
  {
   "cell_type": "code",
   "execution_count": 29,
   "metadata": {
    "scrolled": true
   },
   "outputs": [
    {
     "name": "stderr",
     "output_type": "stream",
     "text": [
      "DEBUG:ABC:ion channel weights: {'0': 0.9999999999999999, '1': 0.9999999999999999, '2': 0.9999999999999999, '3': 0.9999999999999999, '4': 0.9999999999999999, '5': 0.9999999999999999, '6': 0.9999999999999999, '7': 0.9999999999999999, '8': 0.9999999999999999, '9': 0.9999999999999999, '10': 0.9999999999999999, '11': 0.9999999999999999}\n",
      "DEBUG:Epsilon:init quantile_epsilon initial_epsilon=1, quantile_multiplier=1\n"
     ]
    }
   ],
   "source": [
    "\n",
    "abc = ABCSMC(models=model,\n",
    "             parameter_priors=prior,\n",
    "             distance_function=IonChannelDistance(\n",
    "                 exp_id=list(observations.exp_id),\n",
    "                 variance=list(observations.variance),\n",
    "                 delta=0.05),\n",
    "             population_size=ConstantPopulationSize(2000), # Small pop to test\n",
    "             summary_statistics=summary_statistics,\n",
    "             transitions=EfficientMultivariateNormalTransition(),\n",
    "             eps=MedianEpsilon(initial_epsilon=1),\n",
    "             sampler=MulticoreEvalParallelSampler(n_procs=40),\n",
    "             acceptor=IonChannelAcceptor())"
   ]
  },
  {
   "cell_type": "code",
   "execution_count": 30,
   "metadata": {},
   "outputs": [],
   "source": [
    "obs = observations.to_dict()['y']\n",
    "obs = {str(k): v for k, v in obs.items()}"
   ]
  },
  {
   "cell_type": "code",
   "execution_count": 31,
   "metadata": {},
   "outputs": [
    {
     "data": {
      "text/plain": [
       "3"
      ]
     },
     "execution_count": 31,
     "metadata": {},
     "output_type": "execute_result"
    }
   ],
   "source": [
    "abc.load(db_path,3)"
   ]
  },
  {
   "cell_type": "code",
   "execution_count": 58,
   "metadata": {
    "scrolled": true
   },
   "outputs": [
    {
     "name": "stderr",
     "output_type": "stream",
     "text": [
      "INFO:History:Start <ABCSMC(id=3, start_time=2019-08-23 10:45:07.148250, end_time=None)>\n"
     ]
    }
   ],
   "source": [
    "abc_id = abc.new(db_path, obs)"
   ]
  },
  {
   "cell_type": "code",
   "execution_count": 32,
   "metadata": {
    "scrolled": true
   },
   "outputs": [
    {
     "name": "stderr",
     "output_type": "stream",
     "text": [
      "INFO:ABC:t:10 eps:1\n",
      "DEBUG:ABC:now submitting population 10\n",
      "DEBUG:ABC:population 10 done\n",
      "DEBUG:ABC:\n",
      "total nr simulations up to t =10 is 7026234\n",
      "DEBUG:Epsilon:new eps, t=11, eps=0.9392317151225115\n",
      "INFO:History:Done <ABCSMC(id=3, start_time=2019-08-22 10:29:23.438224, end_time=2019-08-26 16:30:52.148221)>\n"
     ]
    }
   ],
   "source": [
    "history = abc.run(minimum_epsilon=0.1, max_nr_populations=10, min_acceptance_rate=0.005)"
   ]
  },
  {
   "cell_type": "markdown",
   "metadata": {},
   "source": [
    "# Results analysis"
   ]
  },
  {
   "cell_type": "code",
   "execution_count": 33,
   "metadata": {
    "scrolled": false
   },
   "outputs": [
    {
     "data": {
      "image/png": "[encoded data removed]",
      "text/plain": [
       "<Figure size 419.1x360 with 1 Axes>"
      ]
     },
     "metadata": {},
     "output_type": "display_data"
    }
   ],
   "source": [
    "history = History(db_path)\n",
    "history.id = 3 # 2 correponds to the recovery curve : j gate\n",
    "# 3 : correponds to the availability (inact_kin_80) : j gate, but failed to retrieve a correct curve\n",
    "# 5 : correponds to the availability (inact_kin_80) : m gate, still running :\n",
    "# stoped after 3h without improvement (128 particles and still submitting population 0)\n",
    "# 3 : correponds to the availability (inact_kin_80) : h gate, still running : stopped \n",
    "\n",
    "\n",
    "df, w = history.get_distribution(m=0)\n",
    "\n",
    "grid1 = plot_sim_results(modelfile,sakakibara_inact_kin_100 ,df=df, w=w) \n",
    "#grid2 = plot_parameters_kde(df, w, limits, aspect=12,height=0.6)"
   ]
  },
  {
   "cell_type": "code",
   "execution_count": 22,
   "metadata": {},
   "outputs": [],
   "source": [
    "#grid1.savefig('results/Ina Crm model/ina_crm_exp_availability_saka_pop_10000.pdf')\n",
    "#grid2.savefig('results/Ina Crm model/ina_crm_post_availability_saka_pop_10000.pdf')"
   ]
  }
 ],
 "metadata": {
  "kernelspec": {
   "display_name": "Python 3",
   "language": "python",
   "name": "python3"
  },
  "language_info": {
   "codemirror_mode": {
    "name": "ipython",
    "version": 3
   },
   "file_extension": ".py",
   "mimetype": "text/x-python",
   "name": "python",
   "nbconvert_exporter": "python",
   "pygments_lexer": "ipython3",
   "version": "3.7.1"
  },
  "toc": {
   "base_numbering": 1,
   "nav_menu": {},
   "number_sections": true,
   "sideBar": true,
   "skip_h1_title": false,
   "title_cell": "Table of Contents",
   "title_sidebar": "Contents",
   "toc_cell": false,
   "toc_position": {},
   "toc_section_display": true,
   "toc_window_display": false
  }
 },
 "nbformat": 4,
 "nbformat_minor": 2
}
