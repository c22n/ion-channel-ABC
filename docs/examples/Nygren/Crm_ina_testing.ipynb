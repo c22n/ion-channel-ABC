{
 "cells": [
  {
   "cell_type": "markdown",
   "metadata": {},
   "source": [
    "## Create and test ion channel model"
   ]
  },
  {
   "cell_type": "code",
   "execution_count": 1,
   "metadata": {},
   "outputs": [
    {
     "name": "stderr",
     "output_type": "stream",
     "text": [
      "INFO:myokit:Loading Myokit version 1.28.4\n",
      "WARNING:myokit._config:Sundials version not set in myokit.ini. Continuing with detected version (40100). For a tiny performance boost, please set this version in /home/brm18/.config/myokit/myokit.ini\n"
     ]
    }
   ],
   "source": [
    "from experiments.ina_courtemanche import (sakakibara_iv,\n",
    "                                    sakakibara_act,\n",
    "                                    sakakibara_inact,\n",
    "                                    sakakibara_inact_kin_1,\n",
    "                                    sakakibara_inact_kin_2,\n",
    "                                    sakakibara_recov,\n",
    "                                    sakakibara_recov_kin)\n",
    "\n",
    "import matplotlib.pyplot as plt\n",
    "import numpy as np\n",
    "import pandas as pd\n",
    "from pyabc import Distribution, RV\n",
    "import os, tempfile\n",
    "import logging\n",
    "from pyabc.populationstrategy import AdaptivePopulationSize, ConstantPopulationSize\n",
    "from ionchannelABC import theoretical_population_size\n",
    "from pyabc import ABCSMC\n",
    "from pyabc.epsilon import MedianEpsilon\n",
    "from pyabc.sampler import MulticoreEvalParallelSampler, SingleCoreSampler\n",
    "from ionchannelABC import IonChannelDistance, EfficientMultivariateNormalTransition, IonChannelAcceptor\n",
    "from pyabc import History\n",
    "from ionchannelABC import plot_sim_results\n",
    "import seaborn as sns\n",
    "from ionchannelABC import plot_parameters_kde\n",
    "from ionchannelABC.experiment import setup"
   ]
  },
  {
   "cell_type": "code",
   "execution_count": 2,
   "metadata": {},
   "outputs": [],
   "source": [
    "modelfile = 'models/Courtemanche_iNa.mmt'"
   ]
  },
  {
   "cell_type": "code",
   "execution_count": 3,
   "metadata": {},
   "outputs": [],
   "source": [
    "observations, model, summary_statistics = setup(modelfile,\n",
    "                                                sakakibara_iv,\n",
    "                                                sakakibara_act,\n",
    "                                                sakakibara_inact,\n",
    "                                                sakakibara_inact_kin_1,\n",
    "                                                sakakibara_inact_kin_2,\n",
    "                                                sakakibara_recov,\n",
    "                                                sakakibara_recov_kin)"
   ]
  },
  {
   "cell_type": "code",
   "execution_count": 4,
   "metadata": {
    "scrolled": true
   },
   "outputs": [],
   "source": [
    "assert len(observations)==len(summary_statistics(model({})))"
   ]
  },
  {
   "cell_type": "code",
   "execution_count": 18,
   "metadata": {},
   "outputs": [
    {
     "data": {
      "text/plain": [
       "10"
      ]
     },
     "execution_count": 18,
     "metadata": {},
     "output_type": "execute_result"
    }
   ],
   "source": [
    "tryList = [-5,-2,-1,0,1,4]\n",
    "max(10,2)"
   ]
  },
  {
   "cell_type": "markdown",
   "metadata": {},
   "source": [
    "## Set limits and generate uniform initial priors"
   ]
  },
  {
   "cell_type": "code",
   "execution_count": 5,
   "metadata": {},
   "outputs": [],
   "source": [
    "\n",
    "limits = {'ina.c1_h': (0,50),\n",
    "          'ina.a1_h': (-10,10),\n",
    "          'ina.a2_h': (0,20),\n",
    "          'ina.a3_h': (0,100),\n",
    "          'ina.b1_h': (0,10),\n",
    "          'ina.b2_h': (0,100),\n",
    "          'ina.b3_h': (0,50),\n",
    "          'ina.b4_h': (0,20),\n",
    "          'ina.b5_h': (0.0001,1),\n",
    "          'ina.b6_h': (0.000001,0.001),\n",
    "          'ina.b7_h': (0,1)}\n",
    "\n",
    "\"\"\"   \n",
    "'ina.g_Na' : (0.01,100),\n",
    "          'ina.a1_m': (0,100),\n",
    "          'ina.a2_m': (-50,50),\n",
    "          'ina.a3_m': (-50,50),\n",
    "          'ina.a4_m': (-50,50),\n",
    "          'ina.b1_m': (-50,50),\n",
    "          'ina.b2_m': (0,100)\n",
    "\n",
    "\n",
    "          'ina.c1_j': (0,100),\n",
    "          'ina.a1_j': (100000,300000),\n",
    "          'ina.a2_j': (0.0001,10),\n",
    "          'ina.a3_j': (0.000001,0.001),\n",
    "          'ina.a4_j': (0.0001,1),\n",
    "          'ina.a5_j': (0,50),\n",
    "          'ina.a6_j': (0.001,10),\n",
    "          'ina.a7_j': (50,150),\n",
    "          'ina.b1_j': (0.001,10),\n",
    "          'ina.b2_j': (1e-8,1e-5),\n",
    "          'ina.b3_j': (0.001,10),\n",
    "          'ina.b4_j': (0,50),\n",
    "          'ina.b5_j': (0.0001,1),\n",
    "          'ina.b6_j': (0.0001,1),\n",
    "          'ina.b7_j': (0.0001,1),\n",
    "          'ina.b8_j': (20,70)}\n",
    "\"\"\"\n",
    "prior = Distribution(**{key: RV(\"uniform\", a, b - a)\n",
    "                        for key, (a,b) in limits.items()})"
   ]
  },
  {
   "cell_type": "code",
   "execution_count": 11,
   "metadata": {},
   "outputs": [],
   "source": [
    "          \n",
    "limits = {'ina.g_Na' : (0.01,100),\n",
    "          'ina.a1_m': (0,100),\n",
    "          'ina.a2_m': (-50,50),\n",
    "          'ina.a3_m': (-50,50),\n",
    "          'ina.a4_m': (-50,50),\n",
    "          'ina.b1_m': (-50,50),\n",
    "          'ina.b2_m': (0,100)}\n",
    "            \n",
    "prior = Distribution(**{key: RV(\"uniform\", a, b - a)\n",
    "                        for key, (a,b) in limits.items()})"
   ]
  },
  {
   "cell_type": "markdown",
   "metadata": {},
   "source": [
    "## Run ABC calibration"
   ]
  },
  {
   "cell_type": "code",
   "execution_count": 6,
   "metadata": {},
   "outputs": [],
   "source": [
    "db_path = (\"sqlite:///\" +\n",
    "           os.path.join(tempfile.gettempdir(), \"crm_ina_testing_gate_m.db\"))"
   ]
  },
  {
   "cell_type": "code",
   "execution_count": 7,
   "metadata": {},
   "outputs": [],
   "source": [
    "logging.basicConfig()\n",
    "abc_logger = logging.getLogger('ABC')\n",
    "abc_logger.setLevel(logging.DEBUG)\n",
    "eps_logger = logging.getLogger('Epsilon')\n",
    "eps_logger.setLevel(logging.DEBUG)"
   ]
  },
  {
   "cell_type": "code",
   "execution_count": 8,
   "metadata": {},
   "outputs": [
    {
     "name": "stdout",
     "output_type": "stream",
     "text": [
      "Theoretical minimum population size is 2048 particles\n"
     ]
    }
   ],
   "source": [
    "pop_size = theoretical_population_size(2, len(limits))\n",
    "print(\"Theoretical minimum population size is {} particles\".format(pop_size))"
   ]
  },
  {
   "cell_type": "code",
   "execution_count": 30,
   "metadata": {
    "scrolled": true
   },
   "outputs": [
    {
     "name": "stderr",
     "output_type": "stream",
     "text": [
      "DEBUG:ABC:ion channel weights: {'0': 1.2072150657413763, '1': 1.2072150657413763, '2': 1.2072150657413763, '3': 1.2072150657413763, '4': 1.2072150657413763, '5': 1.2072150657413763, '6': 1.2072150657413763, '7': 1.2072150657413763, '8': 1.2072150657413763, '9': 1.2072150657413763, '10': 1.2072150657413763, '11': 1.2072150657413763, '12': 1.2072150657413763, '13': 1.2072150657413763, '14': 1.2072150657413763, '15': 1.2072150657413763, '16': 1.2072150657413763, '17': 1.2072150657413763, '18': 0.45569535711195136, '19': 0.3545292012046639, '20': 0.44065462334321276, '21': 1.2072150657413763, '22': 1.2072150657413763, '23': 1.2072150657413763, '24': 1.2072150657413763, '25': 1.2072150657413763, '26': 1.4267087140579902, '27': 1.4267087140579902, '28': 1.4267087140579902, '29': 1.4267087140579902, '30': 1.4267087140579902, '31': 0.5338596646548436, '32': 0.33176258901227934, '33': 0.3674613844474347, '34': 0.9167388223930231, '35': 1.4267087140579902, '36': 1.4267087140579902, '37': 0.19848853430689178, '38': 0.3907743019166932, '39': 0.5436859852753992, '40': 0.8931984043810132, '41': 1.3252467553723302, '42': 0.13949965846024528, '43': 0.39757402661169905, '44': 0.7951480532233981, '45': 1.307816321219824, '46': 1.307816321219824, '47': 1.307816321219824, '48': 1.307816321219824, '49': 1.307816321219824, '50': 1.307816321219824, '51': 1.307816321219824, '52': 1.307816321219824, '53': 1.307816321219824, '54': 1.307816321219824, '55': 1.307816321219824, '56': 1.307816321219824, '57': 1.4267087140579902, '58': 1.4267087140579902, '59': 1.4267087140579902, '60': 1.4267087140579902, '61': 1.4267087140579902, '62': 1.4267087140579902, '63': 1.4267087140579902, '64': 1.4267087140579902, '65': 1.4267087140579902, '66': 1.4267087140579902, '67': 1.4267087140579902, '68': 0.6823389502016474, '69': 0.6823389502016474, '70': 0.6823389502016474, '71': 0.6823389502016474, '72': 0.6823389502016474, '73': 0.6823389502016474, '74': 0.6823389502016474, '75': 0.6823389502016474, '76': 0.6823389502016474, '77': 0.6823389502016474, '78': 0.6823389502016474, '79': 0.6823389502016474, '80': 0.6823389502016474, '81': 0.6823389502016474, '82': 0.6823389502016474, '83': 0.6823389502016474, '84': 0.6823389502016474, '85': 0.6823389502016474, '86': 0.6823389502016474, '87': 0.6823389502016474, '88': 0.6823389502016474, '89': 0.6823389502016474, '90': 0.6823389502016474, '91': 0.6823389502016474, '92': 0.6823389502016474, '93': 0.6823389502016474, '94': 0.6823389502016474, '95': 0.6823389502016474, '96': 0.6823389502016474, '97': 0.6823389502016474, '98': 0.6823389502016474, '99': 0.6823389502016474, '100': 0.6823389502016474, '101': 0.6823389502016474, '102': 0.6823389502016474, '103': 0.6823389502016474, '104': 0.6823389502016474, '105': 0.6823389502016474, '106': 0.6823389502016474, '107': 0.6823389502016474, '108': 0.6823389502016474, '109': 0.6823389502016474, '110': 0.6823389502016474, '111': 0.6823389502016474, '112': 0.6823389502016474, '113': 0.6823389502016474, '114': 0.7473236121256137, '115': 0.7473236121256137, '116': 0.7473236121256137, '117': 0.7473236121256137, '118': 0.7473236121256137, '119': 0.7473236121256137, '120': 0.7473236121256137, '121': 0.7473236121256137, '122': 0.7473236121256137, '123': 0.7473236121256137, '124': 0.7473236121256137, '125': 0.7473236121256137, '126': 0.7473236121256137, '127': 0.7473236121256137, '128': 0.7473236121256137, '129': 0.7473236121256137, '130': 0.7473236121256137, '131': 0.7473236121256137, '132': 0.7473236121256137, '133': 0.7473236121256137, '134': 0.7473236121256137, '135': 3.1387591709275777, '136': 3.1387591709275777, '137': 3.1387591709275777, '138': 3.1387591709275777, '139': 3.1387591709275777}\n",
      "DEBUG:Epsilon:init quantile_epsilon initial_epsilon=20, quantile_multiplier=1\n"
     ]
    }
   ],
   "source": [
    "\n",
    "abc = ABCSMC(models=model,\n",
    "             parameter_priors=prior,\n",
    "             distance_function=IonChannelDistance(\n",
    "                 exp_id=list(observations.exp_id),\n",
    "                 variance=list(observations.variance),\n",
    "                 delta=0.05),\n",
    "             population_size=ConstantPopulationSize(1000), # Small pop to test\n",
    "             summary_statistics=summary_statistics,\n",
    "             transitions=EfficientMultivariateNormalTransition(),\n",
    "             eps=MedianEpsilon(initial_epsilon=20),\n",
    "             sampler=MulticoreEvalParallelSampler(n_procs=12),\n",
    "             acceptor=IonChannelAcceptor())"
   ]
  },
  {
   "cell_type": "code",
   "execution_count": 31,
   "metadata": {},
   "outputs": [],
   "source": [
    "obs = observations.to_dict()['y']\n",
    "obs = {str(k): v for k, v in obs.items()}"
   ]
  },
  {
   "cell_type": "code",
   "execution_count": 32,
   "metadata": {
    "scrolled": true
   },
   "outputs": [
    {
     "name": "stderr",
     "output_type": "stream",
     "text": [
      "INFO:History:Start <ABCSMC(id=1, start_time=2019-08-01 11:39:48.024542, end_time=None)>\n"
     ]
    }
   ],
   "source": [
    "abc_id = abc.new(db_path, obs)"
   ]
  },
  {
   "cell_type": "code",
   "execution_count": 33,
   "metadata": {
    "scrolled": true
   },
   "outputs": [
    {
     "name": "stderr",
     "output_type": "stream",
     "text": [
      "INFO:ABC:t:0 eps:20\n",
      "DEBUG:ABC:now submitting population 0\n",
      "DEBUG:ABC:population 0 done\n",
      "DEBUG:ABC:\n",
      "total nr simulations up to t =0 is 2365\n",
      "DEBUG:Epsilon:new eps, t=1, eps=13.173486893851264\n",
      "INFO:ABC:t:1 eps:13.173486893851264\n",
      "DEBUG:ABC:now submitting population 1\n",
      "DEBUG:ABC:population 1 done\n",
      "DEBUG:ABC:\n",
      "total nr simulations up to t =1 is 4704\n",
      "DEBUG:Epsilon:new eps, t=2, eps=12.634607666266447\n",
      "INFO:ABC:t:2 eps:12.634607666266447\n",
      "DEBUG:ABC:now submitting population 2\n",
      "DEBUG:ABC:population 2 done\n",
      "DEBUG:ABC:\n",
      "total nr simulations up to t =2 is 7478\n",
      "DEBUG:Epsilon:new eps, t=3, eps=11.895465147374406\n",
      "INFO:ABC:t:3 eps:11.895465147374406\n",
      "DEBUG:ABC:now submitting population 3\n",
      "DEBUG:ABC:population 3 done\n",
      "DEBUG:ABC:\n",
      "total nr simulations up to t =3 is 10882\n",
      "DEBUG:Epsilon:new eps, t=4, eps=11.049720472602521\n",
      "INFO:ABC:t:4 eps:11.049720472602521\n",
      "DEBUG:ABC:now submitting population 4\n",
      "DEBUG:ABC:population 4 done\n",
      "DEBUG:ABC:\n",
      "total nr simulations up to t =4 is 15373\n",
      "DEBUG:Epsilon:new eps, t=5, eps=10.160310760753292\n",
      "INFO:ABC:t:5 eps:10.160310760753292\n",
      "DEBUG:ABC:now submitting population 5\n",
      "DEBUG:ABC:population 5 done\n",
      "DEBUG:ABC:\n",
      "total nr simulations up to t =5 is 24325\n",
      "DEBUG:Epsilon:new eps, t=6, eps=9.171491165938786\n",
      "INFO:ABC:t:6 eps:9.171491165938786\n",
      "DEBUG:ABC:now submitting population 6\n",
      "DEBUG:ABC:population 6 done\n",
      "DEBUG:ABC:\n",
      "total nr simulations up to t =6 is 31268\n",
      "DEBUG:Epsilon:new eps, t=7, eps=7.72382856490995\n",
      "INFO:ABC:t:7 eps:7.72382856490995\n",
      "DEBUG:ABC:now submitting population 7\n",
      "DEBUG:ABC:population 7 done\n",
      "DEBUG:ABC:\n",
      "total nr simulations up to t =7 is 40439\n",
      "DEBUG:Epsilon:new eps, t=8, eps=6.989519667673714\n",
      "INFO:ABC:t:8 eps:6.989519667673714\n",
      "DEBUG:ABC:now submitting population 8\n",
      "DEBUG:ABC:population 8 done\n",
      "DEBUG:ABC:\n",
      "total nr simulations up to t =8 is 43007\n",
      "DEBUG:Epsilon:new eps, t=9, eps=6.249049541959756\n",
      "INFO:ABC:t:9 eps:6.249049541959756\n",
      "DEBUG:ABC:now submitting population 9\n",
      "DEBUG:ABC:population 9 done\n",
      "DEBUG:ABC:\n",
      "total nr simulations up to t =9 is 45924\n",
      "DEBUG:Epsilon:new eps, t=10, eps=6.031969857382088\n",
      "INFO:ABC:t:10 eps:6.031969857382088\n",
      "DEBUG:ABC:now submitting population 10\n",
      "DEBUG:ABC:population 10 done\n",
      "DEBUG:ABC:\n",
      "total nr simulations up to t =10 is 48466\n",
      "DEBUG:Epsilon:new eps, t=11, eps=5.969890774505586\n",
      "INFO:ABC:t:11 eps:5.969890774505586\n",
      "DEBUG:ABC:now submitting population 11\n",
      "DEBUG:ABC:population 11 done\n",
      "DEBUG:ABC:\n",
      "total nr simulations up to t =11 is 52171\n",
      "DEBUG:Epsilon:new eps, t=12, eps=5.939561095181745\n",
      "INFO:ABC:t:12 eps:5.939561095181745\n",
      "DEBUG:ABC:now submitting population 12\n",
      "DEBUG:ABC:population 12 done\n",
      "DEBUG:ABC:\n",
      "total nr simulations up to t =12 is 60378\n",
      "DEBUG:Epsilon:new eps, t=13, eps=5.879814139717675\n",
      "INFO:ABC:t:13 eps:5.879814139717675\n",
      "DEBUG:ABC:now submitting population 13\n",
      "DEBUG:ABC:population 13 done\n",
      "DEBUG:ABC:\n",
      "total nr simulations up to t =13 is 75825\n",
      "DEBUG:Epsilon:new eps, t=14, eps=5.630078169018545\n",
      "INFO:ABC:t:14 eps:5.630078169018545\n",
      "DEBUG:ABC:now submitting population 14\n",
      "DEBUG:ABC:population 14 done\n",
      "DEBUG:ABC:\n",
      "total nr simulations up to t =14 is 89295\n",
      "DEBUG:Epsilon:new eps, t=15, eps=5.482830288900265\n",
      "INFO:ABC:t:15 eps:5.482830288900265\n",
      "DEBUG:ABC:now submitting population 15\n",
      "DEBUG:ABC:population 15 done\n",
      "DEBUG:ABC:\n",
      "total nr simulations up to t =15 is 101578\n",
      "DEBUG:Epsilon:new eps, t=16, eps=5.268500444948121\n",
      "INFO:ABC:t:16 eps:5.268500444948121\n",
      "DEBUG:ABC:now submitting population 16\n",
      "DEBUG:ABC:population 16 done\n",
      "DEBUG:ABC:\n",
      "total nr simulations up to t =16 is 108067\n",
      "DEBUG:Epsilon:new eps, t=17, eps=5.187047494674287\n",
      "INFO:ABC:t:17 eps:5.187047494674287\n",
      "DEBUG:ABC:now submitting population 17\n",
      "DEBUG:ABC:population 17 done\n",
      "DEBUG:ABC:\n",
      "total nr simulations up to t =17 is 112673\n",
      "DEBUG:Epsilon:new eps, t=18, eps=5.140351646107984\n",
      "INFO:ABC:t:18 eps:5.140351646107984\n",
      "DEBUG:ABC:now submitting population 18\n",
      "DEBUG:ABC:population 18 done\n",
      "DEBUG:ABC:\n",
      "total nr simulations up to t =18 is 119887\n",
      "DEBUG:Epsilon:new eps, t=19, eps=5.107445027441858\n",
      "INFO:ABC:t:19 eps:5.107445027441858\n",
      "DEBUG:ABC:now submitting population 19\n",
      "DEBUG:ABC:population 19 done\n",
      "DEBUG:ABC:\n",
      "total nr simulations up to t =19 is 132702\n",
      "DEBUG:Epsilon:new eps, t=20, eps=4.961217653368379\n",
      "INFO:History:Done <ABCSMC(id=1, start_time=2019-08-01 11:39:48.024542, end_time=2019-08-01 16:21:50.870720)>\n"
     ]
    }
   ],
   "source": [
    "history = abc.run(minimum_epsilon=0.1, max_nr_populations=20, min_acceptance_rate=0.005)"
   ]
  },
  {
   "cell_type": "markdown",
   "metadata": {},
   "source": [
    "# Results analysis"
   ]
  },
  {
   "cell_type": "code",
   "execution_count": 9,
   "metadata": {},
   "outputs": [
    {
     "data": {
      "text/plain": [
       "[<ABCSMC(id=1, start_time=2019-07-31 17:18:22.665700, end_time=None)>,\n",
       " <ABCSMC(id=2, start_time=2019-07-31 17:22:28.063766, end_time=None)>,\n",
       " <ABCSMC(id=3, start_time=2019-07-31 17:25:59.342801, end_time=2019-08-01 04:00:02.140846)>]"
      ]
     },
     "execution_count": 9,
     "metadata": {},
     "output_type": "execute_result"
    }
   ],
   "source": [
    "history = History(db_path)\n",
    "history.all_runs()"
   ]
  },
  {
   "cell_type": "code",
   "execution_count": 12,
   "metadata": {},
   "outputs": [
    {
     "name": "stderr",
     "output_type": "stream",
     "text": [
      "/apps/anaconda3/lib/python3.7/site-packages/matplotlib/tight_layout.py:211: UserWarning: Tight layout not applied. tight_layout cannot make axes height small enough to accommodate all axes decorations\n",
      "  warnings.warn('Tight layout not applied. '\n",
      "/apps/anaconda3/lib/python3.7/site-packages/matplotlib/tight_layout.py:211: UserWarning: Tight layout not applied. tight_layout cannot make axes height small enough to accommodate all axes decorations\n",
      "  warnings.warn('Tight layout not applied. '\n",
      "/apps/anaconda3/lib/python3.7/site-packages/matplotlib/tight_layout.py:211: UserWarning: Tight layout not applied. tight_layout cannot make axes height small enough to accommodate all axes decorations\n",
      "  warnings.warn('Tight layout not applied. '\n",
      "/apps/anaconda3/lib/python3.7/site-packages/matplotlib/tight_layout.py:211: UserWarning: Tight layout not applied. tight_layout cannot make axes height small enough to accommodate all axes decorations\n",
      "  warnings.warn('Tight layout not applied. '\n",
      "/apps/anaconda3/lib/python3.7/site-packages/matplotlib/tight_layout.py:211: UserWarning: Tight layout not applied. tight_layout cannot make axes height small enough to accommodate all axes decorations\n",
      "  warnings.warn('Tight layout not applied. '\n"
     ]
    },
    {
     "data": {
      "image/png": "[encoded data removed]",
      "text/plain": [
       "<Figure size 518.4x302.4 with 7 Axes>"
      ]
     },
     "metadata": {},
     "output_type": "display_data"
    }
   ],
   "source": [
    "\n",
    "history.id = 3\n",
    "df, w = history.get_distribution(m=0)\n",
    "\n",
    "# Generate parameter samples\n",
    "n_samples = 100\n",
    "df, w = history.get_distribution(m=0)\n",
    "th_samples = df.sample(n=n_samples, weights=w, replace=True).to_dict(orient='records')\n",
    "plotting_obs = observations.copy()\n",
    "\n",
    "\n",
    "grid2 = plot_parameters_kde(df, w, limits, aspect=12,height=0.6)"
   ]
  },
  {
   "cell_type": "code",
   "execution_count": null,
   "metadata": {},
   "outputs": [],
   "source": [
    "grid1.savefig('../results/ina/Crm/ina_crm_posterior_sakakibara_exp_pop_1000.pdf')\n",
    "grid2.savefig('../results/ina/Crm/ina_crm_experiments_sakakibara_exp_pop_1000.pdf')"
   ]
  }
 ],
 "metadata": {
  "kernelspec": {
   "display_name": "Python 3",
   "language": "python",
   "name": "python3"
  },
  "language_info": {
   "codemirror_mode": {
    "name": "ipython",
    "version": 3
   },
   "file_extension": ".py",
   "mimetype": "text/x-python",
   "name": "python",
   "nbconvert_exporter": "python",
   "pygments_lexer": "ipython3",
   "version": "3.7.1"
  },
  "toc": {
   "base_numbering": 1,
   "nav_menu": {},
   "number_sections": true,
   "sideBar": true,
   "skip_h1_title": false,
   "title_cell": "Table of Contents",
   "title_sidebar": "Contents",
   "toc_cell": false,
   "toc_position": {},
   "toc_section_display": true,
   "toc_window_display": false
  }
 },
 "nbformat": 4,
 "nbformat_minor": 2
}
