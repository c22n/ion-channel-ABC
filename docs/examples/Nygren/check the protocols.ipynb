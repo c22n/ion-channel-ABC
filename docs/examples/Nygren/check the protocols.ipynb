{
 "cells": [
  {
   "cell_type": "code",
   "execution_count": 1,
   "metadata": {},
   "outputs": [
    {
     "name": "stderr",
     "output_type": "stream",
     "text": [
      "INFO:myokit:Loading Myokit version 1.28.4\n",
      "WARNING:myokit._config:Sundials version not set in myokit.ini. Continuing with detected version (40100). For a tiny performance boost, please set this version in /home/brm18/.config/myokit/myokit.ini\n"
     ]
    }
   ],
   "source": [
    "#from experiments.ina_schneider import (schneider_iv,\n",
    "#                                    schneider_tauf,\n",
    "#                                    schneider_taum,\n",
    "#                                    schneider_taus,\n",
    "#                                      schneider_inact,\n",
    "#                                      schneider_reduc,\n",
    "#                                      schneider_recov)\n",
    "#\n",
    "#from experiments.ina_sakakibara import (sakakibara_iv_Nao2 ,\n",
    "#                                                sakakibara_iv_Nao5 ,\n",
    "#                                                sakakibara_iv_Nao20 ,\n",
    "#                                                sakakibara_act,\n",
    "#                                                sakakibara_inact,\n",
    "#                                                sakakibara_inact_kin_1,\n",
    "#                                                sakakibara_inact_kin_2,\n",
    "#                                                sakakibara_inact_kin_80,\n",
    "#                                                sakakibara_recov,\n",
    "#                                                sakakibara_recov_100,\n",
    "#                                                sakakibara_recov_kin) \n",
    "\n",
    "from experiments.ica_Li import (Li_iv_80,\n",
    "                               Li_iv_60,\n",
    "                                Li_iv_40,\n",
    "                               Li_act,\n",
    "                               Li_inact_1000,\n",
    "                                Li_inact_300,\n",
    "                                Li_inact_150,\n",
    "                                Li_inact_kin_40,\n",
    "                                Li_inact_kin_60,\n",
    "                                Li_inact_kin_80,\n",
    "                                Li_recov_80\n",
    "                               )\n",
    "# Li_iv_80 : assert len ok, curve ok\n",
    "# Li_iv_60 : assert len ok, curve ok\n",
    "# Li_iv_40 : assert len ok, curve ok\n",
    "# Li_act : assert len ok, curve ok , doesn't finish at 1 though\n",
    "# Li_inact_(all) : assert len ok, curve ok , start at 1 when printing output, \n",
    "# but summary statistics doesn't return the same output\n",
    "# Li_inact_kin(all) : assert len ok, curve not ok : decreasing instead of being normal\n",
    "\n",
    "from ionchannelABC.experiment import setup\n",
    "from ionchannelABC.visualization import plot_sim_results\n",
    "import pandas as pd\n",
    "from pyabc import History\n",
    "import os, tempfile\n",
    "#modelfile = 'models/nygren_Na.mmt'\n",
    "modelfile = 'models/nygren_IcaL.mmt'"
   ]
  },
  {
   "cell_type": "code",
   "execution_count": 7,
   "metadata": {
    "scrolled": false
   },
   "outputs": [],
   "source": [
    "observations, model, summary_statistics = setup(modelfile,\n",
    "                                                Li_recov_80)\n",
    "\n",
    "#print(observations)\n",
    "assert len(observations)==len(summary_statistics(model({})))"
   ]
  },
  {
   "cell_type": "code",
   "execution_count": 3,
   "metadata": {},
   "outputs": [],
   "source": [
    "#print(observations)"
   ]
  },
  {
   "cell_type": "code",
   "execution_count": 4,
   "metadata": {},
   "outputs": [
    {
     "data": {
      "text/plain": [
       "{'0': 0.9899564867678906,\n",
       " '1': 0.9899575053361243,\n",
       " '2': 0.9899573870036377,\n",
       " '3': 0.9899532762158455,\n",
       " '4': 0.9899612817544298,\n",
       " '5': 0.9899532473535273,\n",
       " '6': 0.9899510440713738,\n",
       " '7': 0.989955162856836,\n",
       " '8': 0.9899553918340781,\n",
       " '9': 0.9899559071928247,\n",
       " '10': 0.9899563732366191,\n",
       " '11': 0.9899568494802007,\n",
       " '12': 0.9899574428654326,\n",
       " '13': 0.9899545738053637,\n",
       " '14': 0.9899583640123096,\n",
       " '15': 0.9899555230436375}"
      ]
     },
     "execution_count": 4,
     "metadata": {},
     "output_type": "execute_result"
    }
   ],
   "source": [
    "summary_statistics(model({}))"
   ]
  },
  {
   "cell_type": "code",
   "execution_count": 5,
   "metadata": {},
   "outputs": [],
   "source": [
    "#db_path = (\"sqlite:///\" +\n",
    "#           os.path.join(tempfile.gettempdir(), \"nygren_ina_testing.db\"))\n",
    "#history = History(db_path)\n",
    "#history.id = 41 \n",
    "#df, w = history.get_distribution(m=0)\n",
    "\n",
    "#n_samples = 10 # increasing this number will produce a better approximation to the true output, recommended: >= 100\n",
    "               # we keep 10 to keep running time low\n",
    "#parameter_samples = df.sample(n=n_samples, weights=w, replace=True)\n",
    "#parameter_samples.head()\n"
   ]
  },
  {
   "cell_type": "code",
   "execution_count": 6,
   "metadata": {},
   "outputs": [],
   "source": [
    "#df.describe()"
   ]
  }
 ],
 "metadata": {
  "kernelspec": {
   "display_name": "Python 3",
   "language": "python",
   "name": "python3"
  },
  "language_info": {
   "codemirror_mode": {
    "name": "ipython",
    "version": 3
   },
   "file_extension": ".py",
   "mimetype": "text/x-python",
   "name": "python",
   "nbconvert_exporter": "python",
   "pygments_lexer": "ipython3",
   "version": "3.7.1"
  },
  "toc": {
   "base_numbering": 1,
   "nav_menu": {},
   "number_sections": true,
   "sideBar": true,
   "skip_h1_title": false,
   "title_cell": "Table of Contents",
   "title_sidebar": "Contents",
   "toc_cell": false,
   "toc_position": {},
   "toc_section_display": true,
   "toc_window_display": false
  }
 },
 "nbformat": 4,
 "nbformat_minor": 2
}
