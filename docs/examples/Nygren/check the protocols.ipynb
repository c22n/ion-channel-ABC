{
 "cells": [
  {
   "cell_type": "code",
   "execution_count": 1,
   "metadata": {},
   "outputs": [
    {
     "name": "stderr",
     "output_type": "stream",
     "text": [
      "INFO:myokit:Loading Myokit version 1.28.4\n",
      "WARNING:myokit._config:Sundials version not set in myokit.ini. Continuing with detected version (40100). For a tiny performance boost, please set this version in /home/brm18/.config/myokit/myokit.ini\n"
     ]
    }
   ],
   "source": [
    "#from experiments.ina_schneider import (schneider_iv,\n",
    "#                                    schneider_tauf,\n",
    "#                                    schneider_taum,\n",
    "#                                    schneider_taus,\n",
    "#                                      schneider_inact,\n",
    "#                                      schneider_reduc,\n",
    "#                                      schneider_recov)\n",
    "#\n",
    "from experiments.ina_sakakibara import (sakakibara_iv_Nao2 ,\n",
    "#                                                sakakibara_iv_Nao5 ,\n",
    "#                                                sakakibara_iv_Nao20 ,\n",
    "#                                                sakakibara_act,\n",
    "#                                                sakakibara_inact,\n",
    "#                                                sakakibara_inact_kin_1,\n",
    "#                                                sakakibara_inact_kin_2,\n",
    "#                                                sakakibara_inact_kin_80,\n",
    "                                                sakakibara_inact_kin_100)\n",
    "#                                                sakakibara_recov,\n",
    "#                                                sakakibara_recov_100,\n",
    "#                                                sakakibara_recov_kin) \n",
    "\n",
    "from experiments.ica_Li import (Li_iv_80,\n",
    "                               Li_iv_60,\n",
    "                                Li_iv_40,\n",
    "                               Li_act,\n",
    "                               Li_inact_1000,\n",
    "                                Li_inact_300,\n",
    "                                Li_inact_150,\n",
    "                                Li_inact_kin_40,\n",
    "                                Li_inact_kin_60,\n",
    "                                Li_inact_kin_80,\n",
    "                                Li_recov_80\n",
    "                               )\n",
    "# Li_iv_80 : assert len ok, curve ok\n",
    "# Li_iv_60 : assert len ok, curve ok\n",
    "# Li_iv_40 : assert len ok, curve ok\n",
    "# Li_act : assert len ok, curve ok , doesn't finish at 1 though\n",
    "# Li_inact_(all) : assert len ok, curve ok , start at 1 when printing output, \n",
    "# but summary statistics doesn't return the same output\n",
    "# Li_inact_kin(all) : assert len ok, curve not ok : decreasing instead of being normal\n",
    "\n",
    "from ionchannelABC.experiment import setup\n",
    "from ionchannelABC.visualization import plot_sim_results\n",
    "import pandas as pd\n",
    "from pyabc import History\n",
    "import os, tempfile\n",
    "#modelfile = 'models/nygren_Na.mmt'\n",
    "modelfile = 'models/nygren_IcaL.mmt'"
   ]
  },
  {
   "cell_type": "code",
   "execution_count": 2,
   "metadata": {
    "scrolled": false
   },
   "outputs": [],
   "source": [
    "observations, model, summary_statistics = setup(modelfile,\n",
    "                                                Li_inact_kin_80)\n",
    "\n",
    "#print(observations)\n",
    "assert len(observations)==len(summary_statistics(model({})))"
   ]
  },
  {
   "cell_type": "code",
   "execution_count": 3,
   "metadata": {},
   "outputs": [],
   "source": [
    "#print(observations)"
   ]
  },
  {
   "cell_type": "code",
   "execution_count": 4,
   "metadata": {},
   "outputs": [
    {
     "data": {
      "text/plain": [
       "{'0': 1.882153070666908,\n",
       " '1': 0.0020208143663458804,\n",
       " '2': 0.004378463557371502,\n",
       " '3': 0.007011782065408496,\n",
       " '4': 0.0044076860380095955,\n",
       " '5': 2.424691942656703,\n",
       " '6': 1.6544868357073461,\n",
       " '7': 1.5600925070104261,\n",
       " '8': 1.5416715753513086,\n",
       " '9': 1.5372363701974527}"
      ]
     },
     "execution_count": 4,
     "metadata": {},
     "output_type": "execute_result"
    }
   ],
   "source": [
    "summary_statistics(model({}))"
   ]
  },
  {
   "cell_type": "code",
   "execution_count": 5,
   "metadata": {},
   "outputs": [
    {
     "data": {
      "image/png": "[encoded data removed]",
      "text/plain": [
       "<Figure size 773.5x360 with 2 Axes>"
      ]
     },
     "metadata": {
      "needs_background": "light"
     },
     "output_type": "display_data"
    }
   ],
   "source": [
    "grid1 = plot_sim_results(modelfile,\n",
    "                                Li_inact_kin_80,n_samples=1) "
   ]
  },
  {
   "cell_type": "code",
   "execution_count": 6,
   "metadata": {},
   "outputs": [],
   "source": [
    "#db_path = (\"sqlite:///\" +\n",
    "#           os.path.join(tempfile.gettempdir(), \"nygren_ina_testing.db\"))\n",
    "#history = History(db_path)\n",
    "#history.id = 41 \n",
    "#df, w = history.get_distribution(m=0)\n",
    "\n",
    "#n_samples = 10 # increasing this number will produce a better approximation to the true output, recommended: >= 100\n",
    "               # we keep 10 to keep running time low\n",
    "#parameter_samples = df.sample(n=n_samples, weights=w, replace=True)\n",
    "#parameter_samples.head()\n"
   ]
  },
  {
   "cell_type": "code",
   "execution_count": 7,
   "metadata": {},
   "outputs": [],
   "source": [
    "#df.describe()"
   ]
  }
 ],
 "metadata": {
  "kernelspec": {
   "display_name": "Python 3",
   "language": "python",
   "name": "python3"
  },
  "language_info": {
   "codemirror_mode": {
    "name": "ipython",
    "version": 3
   },
   "file_extension": ".py",
   "mimetype": "text/x-python",
   "name": "python",
   "nbconvert_exporter": "python",
   "pygments_lexer": "ipython3",
   "version": "3.7.1"
  },
  "toc": {
   "base_numbering": 1,
   "nav_menu": {},
   "number_sections": true,
   "sideBar": true,
   "skip_h1_title": false,
   "title_cell": "Table of Contents",
   "title_sidebar": "Contents",
   "toc_cell": false,
   "toc_position": {},
   "toc_section_display": true,
   "toc_window_display": false
  }
 },
 "nbformat": 4,
 "nbformat_minor": 2
}
