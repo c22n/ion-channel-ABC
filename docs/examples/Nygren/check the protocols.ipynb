{
 "cells": [
  {
   "cell_type": "code",
   "execution_count": 8,
   "metadata": {},
   "outputs": [],
   "source": [
    "from experiments.ina_nygren import (sakakibara_iv,\n",
    "                                    sakakibara_act,\n",
    "                                    sakakibara_inact,\n",
    "                                    sakakibara_inact_kin_1,\n",
    "                                    sakakibara_inact_kin_2,\n",
    "                                    sakakibara_recov,\n",
    "                                    sakakibara_recov_kin)\n",
    "# checked : \n",
    "#sakakibara_iv,\n",
    "#sakakibara_act,\n",
    "#sakakibara_inact,\n",
    "#sakakibara_inact_kin_1\n",
    "#sakakibara_inact_kin_2\n",
    "#sakakibara_recov\n",
    "#sakakibara_recov_kin\n",
    "#schneider_iv,\n",
    "#schneider_tauf,\n",
    "#schneider_taum,\n",
    "#schneider_taus,\n",
    "from ionchannelABC.experiment import setup\n",
    "modelfile = 'models/nygren_Na.mmt'"
   ]
  },
  {
   "cell_type": "code",
   "execution_count": 9,
   "metadata": {
    "scrolled": true
   },
   "outputs": [],
   "source": [
    "observations, model, summary_statistics = setup(modelfile,\n",
    "                                                sakakibara_iv,\n",
    "                                                sakakibara_act,\n",
    "                                                sakakibara_inact,\n",
    "                                                sakakibara_inact_kin_1,\n",
    "                                                sakakibara_inact_kin_2,\n",
    "                                                sakakibara_recov,\n",
    "                                                sakakibara_recov_kin)\n",
    "\n",
    "\n",
    "assert len(observations)==len(summary_statistics(model({})))"
   ]
  },
  {
   "cell_type": "code",
   "execution_count": null,
   "metadata": {},
   "outputs": [],
   "source": []
  }
 ],
 "metadata": {
  "kernelspec": {
   "display_name": "Python 3",
   "language": "python",
   "name": "python3"
  },
  "language_info": {
   "codemirror_mode": {
    "name": "ipython",
    "version": 3
   },
   "file_extension": ".py",
   "mimetype": "text/x-python",
   "name": "python",
   "nbconvert_exporter": "python",
   "pygments_lexer": "ipython3",
   "version": "3.6.4"
  }
 },
 "nbformat": 4,
 "nbformat_minor": 2
}
