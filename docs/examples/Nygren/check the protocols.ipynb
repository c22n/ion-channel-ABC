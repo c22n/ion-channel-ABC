{
 "cells": [
  {
   "cell_type": "code",
   "execution_count": 1,
   "metadata": {},
   "outputs": [
    {
     "name": "stderr",
     "output_type": "stream",
     "text": [
      "INFO:myokit:Loading Myokit version 1.28.4\n",
      "WARNING:myokit._config:Sundials version not set in myokit.ini. Continuing with detected version (40100). For a tiny performance boost, please set this version in /home/brm18/.config/myokit/myokit.ini\n"
     ]
    }
   ],
   "source": [
    "from experiments.ina_sakakibara import (sakakibara_iv_Nao2,\n",
    "                                        sakakibara_iv_Nao5,\n",
    "                                        sakakibara_iv_Nao20,\n",
    "                                    sakakibara_act,\n",
    "                                    sakakibara_inact,\n",
    "                                    sakakibara_inact_kin_1,\n",
    "                                    sakakibara_inact_kin_2,\n",
    "                                    sakakibara_recov,\n",
    "                                    sakakibara_recov_kin)\n",
    "# checked : \n",
    "#sakakibara_iv,\n",
    "#sakakibara_act,\n",
    "#sakakibara_inact,\n",
    "#sakakibara_inact_kin_1,\n",
    "#sakakibara_inact_kin_2,\n",
    "#sakakibara_recov,\n",
    "#sakakibara_recov_kin\n",
    "#schneider_iv,\n",
    "#schneider_tauf,\n",
    "#schneider_taum,\n",
    "#schneider_taus,\n",
    "from ionchannelABC.experiment import setup\n",
    "modelfile = 'models/nygren_Na.mmt'"
   ]
  },
  {
   "cell_type": "code",
   "execution_count": 2,
   "metadata": {
    "scrolled": true
   },
   "outputs": [
    {
     "name": "stdout",
     "output_type": "stream",
     "text": [
      "             x         y  variance exp_id\n",
      "0  -100.119210 -0.006434       0.0      0\n",
      "1   -90.087265 -0.007572       0.0      0\n",
      "2   -80.322200 -0.012648       0.0      0\n",
      "3   -70.165700 -0.042908       0.0      0\n",
      "4   -60.301064 -0.164427       0.0      0\n",
      "5   -50.182930 -0.561175       0.0      0\n",
      "6   -40.455853 -0.931418       0.0      0\n",
      "7   -30.708950 -1.000000       0.0      0\n",
      "8   -20.923836 -0.934956       0.0      0\n",
      "9   -10.911792 -0.773352       0.0      0\n",
      "10   -0.974129 -0.639525       0.0      0\n",
      "11    9.379557 -0.444884       0.0      0\n",
      "12   19.483387 -0.194644       0.0      0\n",
      "13   29.708740  0.015889       0.0      0\n",
      "14   39.927660  0.203930       0.0      0\n"
     ]
    }
   ],
   "source": [
    "observations, model, summary_statistics = setup(modelfile,\n",
    "                                                sakakibara_iv_Nao20)\n",
    "\n",
    "print(observations)\n",
    "assert len(observations)==len(summary_statistics(model({})))"
   ]
  },
  {
   "cell_type": "code",
   "execution_count": 3,
   "metadata": {},
   "outputs": [
    {
     "name": "stdout",
     "output_type": "stream",
     "text": [
      "{'0': -0.0007172799415264011, '1': -0.006273094247759942, '2': -0.05003095934237346, '3': -0.3354977653903576, '4': -1.6791788777438477, '5': -5.543983802097096, '6': -11.491078970110406, '7': -14.036580337642263, '8': -7.426376698267026, '9': -5.288116041774972, '10': -8.580092408759283, '11': -8.330670864884395, '12': -4.896748802941372, '13': -1.4966671646235188, '14': 1.6445327341372795}\n"
     ]
    }
   ],
   "source": [
    "print(summary_statistics(model({})))"
   ]
  }
 ],
 "metadata": {
  "kernelspec": {
   "display_name": "Python 3",
   "language": "python",
   "name": "python3"
  },
  "language_info": {
   "codemirror_mode": {
    "name": "ipython",
    "version": 3
   },
   "file_extension": ".py",
   "mimetype": "text/x-python",
   "name": "python",
   "nbconvert_exporter": "python",
   "pygments_lexer": "ipython3",
   "version": "3.7.1"
  },
  "toc": {
   "base_numbering": 1,
   "nav_menu": {},
   "number_sections": true,
   "sideBar": true,
   "skip_h1_title": false,
   "title_cell": "Table of Contents",
   "title_sidebar": "Contents",
   "toc_cell": false,
   "toc_position": {},
   "toc_section_display": true,
   "toc_window_display": false
  }
 },
 "nbformat": 4,
 "nbformat_minor": 2
}
