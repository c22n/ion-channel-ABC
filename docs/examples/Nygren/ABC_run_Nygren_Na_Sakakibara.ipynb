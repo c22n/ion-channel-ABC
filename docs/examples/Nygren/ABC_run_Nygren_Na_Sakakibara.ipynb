{
 "cells": [
  {
   "cell_type": "code",
   "execution_count": 1,
   "metadata": {
    "scrolled": true
   },
   "outputs": [
    {
     "name": "stderr",
     "output_type": "stream",
     "text": [
      "INFO:myokit:Loading Myokit version 1.28.3\n",
      "WARNING:myokit._config:Sundials version not set in myokit.ini. Continuing with detected version (20700). For a tiny performance boost, please set this version in C:\\Users\\Benji\\.config\\myokit\\myokit.ini\n"
     ]
    }
   ],
   "source": [
    "from channels.ina_nygren_sakakibara import *\n",
    "\n",
    "import matplotlib.pyplot as plt\n",
    "import numpy as np\n",
    "import pandas as pd\n",
    "from pyabc import Distribution, RV\n",
    "import os, tempfile\n",
    "import logging\n",
    "from pyabc.populationstrategy import AdaptivePopulationSize, ConstantPopulationSize\n",
    "from ionchannelABC import theoretical_population_size\n",
    "from pyabc import ABCSMC\n",
    "from pyabc.epsilon import MedianEpsilon\n",
    "from pyabc.sampler import MulticoreEvalParallelSampler, SingleCoreSampler\n",
    "from ionchannelABC import IonChannelDistance, EfficientMultivariateNormalTransition, IonChannelAcceptor\n",
    "from pyabc import History\n",
    "from ionchannelABC import plot_sim_results\n",
    "import seaborn as sns\n",
    "from ionchannelABC import plot_parameters_kde\n",
    "\n",
    "def simulate_model(**pars):\n",
    "    \"\"\"Wrapper function around simulations.\"\"\"\n",
    "    data = []\n",
    "    for sim, time in zip(simulations, times):\n",
    "        for p, v in pars.items():\n",
    "            try:\n",
    "                sim.set_constant(p, v)\n",
    "            except:\n",
    "                raise RuntimeWarning('Could not set value of {}'.format(p))\n",
    "                return None\n",
    "        sim.reset()\n",
    "        try:\n",
    "            data.append(sim.run(time, log=['environment.time','sodium_current.i_Na','sodium_current.m_infinity_cube','sodium_current.h_infinity','membrane.V']))\n",
    "        except:\n",
    "            # Failed simulation\n",
    "            print(\"Failed Simulation !\")\n",
    "            del(data)\n",
    "            return None\n",
    "    return data\n",
    "\n",
    "def pyabc_simulate(pars):\n",
    "    res = simulate_model(**pars)\n",
    "    return res\n",
    "\n",
    "logging.basicConfig()\n",
    "abc_logger = logging.getLogger('ABC')\n",
    "abc_logger.setLevel(logging.DEBUG)\n",
    "eps_logger = logging.getLogger('Epsilon')\n",
    "eps_logger.setLevel(logging.DEBUG)\n",
    "cv_logger = logging.getLogger('CV Estimation')\n",
    "cv_logger.setLevel(logging.DEBUG)"
   ]
  },
  {
   "cell_type": "code",
   "execution_count": 3,
   "metadata": {},
   "outputs": [],
   "source": [
    "test = simulate_model()"
   ]
  },
  {
   "cell_type": "code",
   "execution_count": 23,
   "metadata": {
    "scrolled": true
   },
   "outputs": [],
   "source": [
    "ss = summary_statistics(test)"
   ]
  },
  {
   "cell_type": "code",
   "execution_count": 24,
   "metadata": {
    "scrolled": true
   },
   "outputs": [
    {
     "data": {
      "image/png": "[encoded data removed]",
      "text/plain": [
       "<Figure size 432x288 with 1 Axes>"
      ]
     },
     "metadata": {},
     "output_type": "display_data"
    },
    {
     "data": {
      "image/png": "[encoded data removed]",
      "text/plain": [
       "<Figure size 432x288 with 1 Axes>"
      ]
     },
     "metadata": {},
     "output_type": "display_data"
    }
   ],
   "source": [
    "ss_list = (ss.items())\n",
    "j = 13 # cut between IV curve and Act\n",
    "k = j +13 # cut between Act and Inact\n",
    "l = k +11 # cut between Inact and reversal potential\n",
    "m = l + 4 #cut between reversal potential and tau_f\n",
    "n = m + 4  # cut between tau_f and tau_s\n",
    "o = n + 4 # cut between tau_s and the inactivation at Vcond = -100mV\n",
    "p = o + 12 # cut between the inactivation at Vcond = -100mV and the inactivation at Vcond = -80mV\n",
    "q = p + 11 #cut between the inactivation at Vcond = -80mV and the recovery at Vhold = -140mV\n",
    "r = q + 23 #cut between the recovery at Vhold = -140mV and the recovery at Vhold = -120mV\n",
    "s = r + 23 #cut between the recovery at Vhold = -120mV and the recovery at Vhold = -100mV\n",
    "t = s + 21 #cut between the recovery at Vhold = -100mV and the recovery time constant\n",
    "\n",
    "\n",
    "_, y = zip(*ss_list) # unpack a list of pairs into two tuples\n",
    "\"\"\"\n",
    "y_curr = list(y)[:j]\n",
    "\n",
    "\n",
    "plt.plot(vsteps, y_curr,\n",
    "        vsteps, peaks,'kx')\n",
    "plt.xlabel('mV')\n",
    "plt.ylabel('normalized peak_curr')\n",
    "plt.show()\n",
    "\n",
    "y_act = list(y)[j:k]\n",
    "plt.plot(vsteps_act, y_act,\n",
    "        vsteps_act, act,'kx')\n",
    "plt.xlabel('mV')\n",
    "plt.ylabel('Activation gate')\n",
    "plt.show()\n",
    "\n",
    "y_inact = list(y)[k:l]\n",
    "plt.plot(vsteps_inact, y_inact,\n",
    "        vsteps_inact, inact,'kx')\n",
    "plt.xlabel('mV')\n",
    "plt.ylabel('inactivation gate')\n",
    "plt.show()\n",
    "\n",
    "y_rever = list(y)[l:m]\n",
    "plt.semilogx(Na_c, y_rever,\n",
    "        Na_c, rever,'kx')\n",
    "plt.xlabel('Na_c')\n",
    "plt.ylabel('mV')\n",
    "plt.show()\n",
    "\n",
    "\n",
    "y_tauh1 = list(y)[m:n]\n",
    "\n",
    "plt.semilogy(vsteps_th1, y_tauh1,\n",
    "        vsteps_th1, th1,'kx')\n",
    "plt.ylabel(\"tau h1 or tau f\")\n",
    "plt.show()\n",
    "\n",
    "y_tauh2 = list(y)[n:o]\n",
    "plt.semilogy(vsteps_th2, y_tauh2,\n",
    "        vsteps_th2, th2,'kx')\n",
    "plt.ylabel(\"tau h2 or tau s\")\n",
    "plt.show()\n",
    "\n",
    "time100, inact100,_ = dataS.Time_course_Inactivation_Sakakibara_all(-100)\n",
    "time80, inact80,_ = dataS.Time_course_Inactivation_Sakakibara_all(-80)\n",
    "\n",
    "y_inact100 = list(y)[o:p]\n",
    "plt.semilogy(time100, y_inact100,\n",
    "        time100, inact100,'kx')\n",
    "plt.ylabel(\"Nomalized peak_curr\")\n",
    "plt.show()\n",
    "\n",
    "y_inact80 = list(y)[p:q]\n",
    "plt.semilogy(time80, y_inact80,\n",
    "        time80, inact80,'kx')\n",
    "plt.ylabel(\"Nomalized peak_curr\")\n",
    "plt.show()\n",
    "\"\"\"\n",
    "timeR140,recov140,_  = dataS.Recovery_Sakakibara_all(-140)\n",
    "timeR120,recov120,_  = dataS.Recovery_Sakakibara_all(-120)\n",
    "timeR100,recov100,_  = dataS.Recovery_Sakakibara_all(-100)\n",
    "\n",
    "y_recov140 = list(y)[q:r]\n",
    "plt.plot(timeR140, y_recov140,\n",
    "        timeR140, recov140,'kx')\n",
    "plt.ylabel(\"I_test/I_cond Vhold = -140\")\n",
    "#plt.show()\n",
    "\n",
    "y_recov120 = list(y)[r:s]\n",
    "plt.plot(timeR120, y_recov120,\n",
    "        timeR120, recov120,'kx')\n",
    "plt.ylabel(\"I_test/I_cond Vhold = -120\")\n",
    "#plt.show()\n",
    "\n",
    "y_recov100 = list(y)[s:t]\n",
    "plt.plot(timeR100, y_recov100,\n",
    "        timeR100, recov100,'kx')\n",
    "plt.ylabel(\"I_test/I_cond Vhold = -100\")\n",
    "plt.show()\n",
    "\n",
    "\n",
    "\n",
    "y_rec = list(y)[t:]\n",
    "plt.semilogy(vsteps_th_depol, y_rec,\n",
    "        vsteps_th_depol, th_depol,'kx')\n",
    "plt.ylabel(\"fast time constant recovery\")\n",
    "plt.show()\n"
   ]
  },
  {
   "cell_type": "code",
   "execution_count": 21,
   "metadata": {},
   "outputs": [
    {
     "data": {
      "text/plain": [
       "[0.036356177796703824,\n",
       " 0.07060500080117038,\n",
       " 0.12217005935188975,\n",
       " 0.1260202314100959,\n",
       " 0.14264797746984015]"
      ]
     },
     "execution_count": 21,
     "metadata": {},
     "output_type": "execute_result"
    }
   ],
   "source": [
    "y_rec"
   ]
  }
 ],
 "metadata": {
  "kernelspec": {
   "display_name": "Python 3",
   "language": "python",
   "name": "python3"
  },
  "language_info": {
   "codemirror_mode": {
    "name": "ipython",
    "version": 3
   },
   "file_extension": ".py",
   "mimetype": "text/x-python",
   "name": "python",
   "nbconvert_exporter": "python",
   "pygments_lexer": "ipython3",
   "version": "3.6.4"
  },
  "toc": {
   "base_numbering": 1,
   "nav_menu": {},
   "number_sections": true,
   "sideBar": true,
   "skip_h1_title": false,
   "title_cell": "Table of Contents",
   "title_sidebar": "Contents",
   "toc_cell": false,
   "toc_position": {},
   "toc_section_display": true,
   "toc_window_display": false
  }
 },
 "nbformat": 4,
 "nbformat_minor": 2
}
