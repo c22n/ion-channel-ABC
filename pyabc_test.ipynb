{
 "cells": [
  {
   "cell_type": "code",
   "execution_count": 1,
   "metadata": {},
   "outputs": [],
   "source": [
    "from pyabc import (ABCSMC, Distribution, RV,\n",
    "                   MultivariateNormalTransition)\n",
    "from pyabc.populationstrategy import AdaptivePopulationSize\n",
    "import matplotlib.pyplot as plt\n",
    "%matplotlib inline\n",
    "import os\n",
    "import tempfile\n",
    "import pandas as pd\n",
    "import scipy as sp\n",
    "import numpy as np\n",
    "import subprocess\n",
    "from io import BytesIO\n",
    "db_path = (\"sqlite:///\" +\n",
    "           os.path.join(tempfile.gettempdir(), \"test.db\"))"
   ]
  },
  {
   "cell_type": "code",
   "execution_count": 2,
   "metadata": {},
   "outputs": [],
   "source": [
    "def simulate(**pars):\n",
    "    \"\"\"Wrapper to simulate the myokit model.\n",
    "    \n",
    "    Simulates in a subprocess running python2 by passing\n",
    "    parameters as arguments to (another) wrapper script.\n",
    "    \"\"\"\n",
    "    myokit_python = (\"/Users/charles/miniconda3/envs\" +\n",
    "                     \"/ion_channel_ABC/bin/python\")\n",
    "    script = \"run_channel.py\"\n",
    "    args = [myokit_python, script]\n",
    "    for p in pars:\n",
    "        try:\n",
    "            args.append(\"-\" + str(p))\n",
    "            args.append(str(pars[p]))\n",
    "        except:\n",
    "            print(\"Error: \" +\n",
    "                  \"args is \" + str(args))\n",
    "    re = subprocess.run(args, stdout=subprocess.PIPE)\n",
    "    d = pd.read_table(BytesIO(re.stdout),\n",
    "                      delim_whitespace=True,\n",
    "                      header=0, index_col=0)\n",
    "    return d"
   ]
  },
  {
   "cell_type": "code",
   "execution_count": 3,
   "metadata": {},
   "outputs": [],
   "source": [
    "myokit_python = (\"/Users/charles/miniconda3/envs\" +\n",
    "                 \"/ion_channel_ABC/bin/python\")\n",
    "args = [myokit_python, \"get_measurements.py\"]\n",
    "re = subprocess.run(args, stdout=subprocess.PIPE)\n",
    "measurements = pd.read_table(BytesIO(re.stdout),\n",
    "                             delim_whitespace=True,\n",
    "                             header=0, index_col=0)"
   ]
  },
  {
   "cell_type": "code",
   "execution_count": 4,
   "metadata": {},
   "outputs": [],
   "source": [
    "prior = Distribution(\n",
    "    g_CaT=RV(\"uniform\", 0, 2),\n",
    "    E_CaT=RV(\"uniform\", 0, 50),\n",
    "    p1=RV(\"uniform\", 0, 100),\n",
    "    p2=RV(\"uniform\", 1, 9),\n",
    "    p3=RV(\"uniform\", 0, 1),\n",
    "    p4=RV(\"uniform\", 0, 10),\n",
    "    p5=RV(\"uniform\", 0, 0.1),\n",
    "    p6=RV(\"uniform\", 0, 200),\n",
    "    q1=RV(\"uniform\", 0, 100),\n",
    "    q2=RV(\"uniform\", 1, 9),\n",
    "    q3=RV(\"uniform\", 0, 10),\n",
    "    q4=RV(\"uniform\", 0, 100),\n",
    "    q5=RV(\"uniform\", 0, 0.1),\n",
    "    q6=RV(\"uniform\", 0, 100))"
   ]
  },
  {
   "cell_type": "code",
   "execution_count": 5,
   "metadata": {},
   "outputs": [],
   "source": [
    "def distance(sim, obs):\n",
    "    dist = 0\n",
    "    for i in obs.exp.unique():\n",
    "        try:\n",
    "            err = np.sum(np.square(obs[obs.exp == i].y - sim[sim.exp == i].y))\n",
    "        except:\n",
    "            return float(\"inf\")\n",
    "        err = pow(err / len(obs[obs.exp == i].y), 0.5)\n",
    "        err /= np.ptp(obs[obs.exp == i].y)\n",
    "        dist += err\n",
    "    return dist"
   ]
  },
  {
   "cell_type": "code",
   "execution_count": 6,
   "metadata": {},
   "outputs": [],
   "source": [
    "def simulate_pyabc(parameter):\n",
    "    res = simulate(**parameter)\n",
    "    return res"
   ]
  },
  {
   "cell_type": "code",
   "execution_count": 12,
   "metadata": {},
   "outputs": [
    {
     "name": "stderr",
     "output_type": "stream",
     "text": [
      "INFO:Epsilon:initial epsilon is 1.9918391437948484\n",
      "INFO:History:Start <ABCSMC(id=13, start_time=2018-04-19 15:26:43.510924, end_time=None)>\n"
     ]
    }
   ],
   "source": [
    "abc = ABCSMC(simulate_pyabc, prior, distance,\n",
    "             population_size=AdaptivePopulationSize(50, 0.8))\n",
    "abc_id = abc.new(db_path, measurements)"
   ]
  },
  {
   "cell_type": "code",
   "execution_count": 13,
   "metadata": {},
   "outputs": [
    {
     "name": "stderr",
     "output_type": "stream",
     "text": [
      "INFO:ABC:t:0 eps:1.9918391437948484\n",
      "INFO:ABC:t:1 eps:1.5779436639304452\n",
      "INFO:Adaptation:Change nr particles 50 -> 247\n",
      "INFO:ABC:t:2 eps:1.2598272924111102\n",
      "INFO:Adaptation:Change nr particles 247 -> 387\n",
      "Process Process-43:\n",
      "Process Process-41:\n",
      "Process Process-44:\n",
      "Traceback (most recent call last):\n",
      "Traceback (most recent call last):\n",
      "  File \"/Users/charles/miniconda3/envs/pyabc/lib/python3.6/multiprocessing/process.py\", line 258, in _bootstrap\n",
      "    self.run()\n",
      "  File \"/Users/charles/miniconda3/envs/pyabc/lib/python3.6/multiprocessing/process.py\", line 258, in _bootstrap\n",
      "    self.run()\n",
      "Traceback (most recent call last):\n",
      "  File \"/Users/charles/miniconda3/envs/pyabc/lib/python3.6/multiprocessing/process.py\", line 93, in run\n",
      "    self._target(*self._args, **self._kwargs)\n",
      "  File \"/Users/charles/miniconda3/envs/pyabc/lib/python3.6/multiprocessing/process.py\", line 93, in run\n",
      "    self._target(*self._args, **self._kwargs)\n",
      "  File \"/Users/charles/miniconda3/envs/pyabc/lib/python3.6/multiprocessing/process.py\", line 258, in _bootstrap\n",
      "    self.run()\n",
      "  File \"/Users/charles/miniconda3/envs/pyabc/lib/python3.6/site-packages/pyabc/sampler/multicore_evaluation_parallel.py\", line 23, in work\n",
      "    new_sim = simulate(new_param)\n",
      "  File \"/Users/charles/miniconda3/envs/pyabc/lib/python3.6/site-packages/pyabc/sampler/multicore_evaluation_parallel.py\", line 23, in work\n",
      "    new_sim = simulate(new_param)\n",
      "  File \"/Users/charles/miniconda3/envs/pyabc/lib/python3.6/site-packages/pyabc/smc.py\", line 556, in eval_one\n",
      "    model_probabilities)\n",
      "  File \"/Users/charles/miniconda3/envs/pyabc/lib/python3.6/multiprocessing/process.py\", line 93, in run\n",
      "    self._target(*self._args, **self._kwargs)\n",
      "  File \"/Users/charles/miniconda3/envs/pyabc/lib/python3.6/site-packages/pyabc/sampler/multicore_evaluation_parallel.py\", line 23, in work\n",
      "    new_sim = simulate(new_param)\n",
      "  File \"/Users/charles/miniconda3/envs/pyabc/lib/python3.6/site-packages/pyabc/smc.py\", line 556, in eval_one\n",
      "    model_probabilities)\n",
      "  File \"/Users/charles/miniconda3/envs/pyabc/lib/python3.6/site-packages/pyabc/smc.py\", line 405, in _evaluate_proposal\n",
      "    lambda x: self.distance_function(x, self.x_0), current_eps)\n",
      "  File \"/Users/charles/miniconda3/envs/pyabc/lib/python3.6/site-packages/pyabc/smc.py\", line 405, in _evaluate_proposal\n",
      "    lambda x: self.distance_function(x, self.x_0), current_eps)\n",
      "  File \"/Users/charles/miniconda3/envs/pyabc/lib/python3.6/site-packages/pyabc/smc.py\", line 556, in eval_one\n",
      "    model_probabilities)\n",
      "  File \"/Users/charles/miniconda3/envs/pyabc/lib/python3.6/site-packages/pyabc/model.py\", line 148, in accept\n",
      "    distance_calculator)\n",
      "Process Process-42:\n",
      "  File \"/Users/charles/miniconda3/envs/pyabc/lib/python3.6/site-packages/pyabc/smc.py\", line 405, in _evaluate_proposal\n",
      "    lambda x: self.distance_function(x, self.x_0), current_eps)\n",
      "  File \"/Users/charles/miniconda3/envs/pyabc/lib/python3.6/site-packages/pyabc/model.py\", line 148, in accept\n",
      "    distance_calculator)\n",
      "  File \"/Users/charles/miniconda3/envs/pyabc/lib/python3.6/site-packages/pyabc/model.py\", line 120, in distance\n",
      "    sum_stats_result = self.summary_statistics(pars, sum_stats_calculator)\n",
      "  File \"/Users/charles/miniconda3/envs/pyabc/lib/python3.6/site-packages/pyabc/model.py\", line 148, in accept\n",
      "    distance_calculator)\n",
      "  File \"/Users/charles/miniconda3/envs/pyabc/lib/python3.6/site-packages/pyabc/model.py\", line 120, in distance\n",
      "    sum_stats_result = self.summary_statistics(pars, sum_stats_calculator)\n",
      "  File \"/Users/charles/miniconda3/envs/pyabc/lib/python3.6/site-packages/pyabc/model.py\", line 97, in summary_statistics\n",
      "    raw_data = self.sample(pars)\n",
      "  File \"/Users/charles/miniconda3/envs/pyabc/lib/python3.6/site-packages/pyabc/model.py\", line 97, in summary_statistics\n",
      "    raw_data = self.sample(pars)\n",
      "  File \"/Users/charles/miniconda3/envs/pyabc/lib/python3.6/site-packages/pyabc/model.py\", line 120, in distance\n",
      "    sum_stats_result = self.summary_statistics(pars, sum_stats_calculator)\n",
      "  File \"/Users/charles/miniconda3/envs/pyabc/lib/python3.6/site-packages/pyabc/model.py\", line 179, in sample\n",
      "    return self.sample_function(pars)\n",
      "  File \"/Users/charles/miniconda3/envs/pyabc/lib/python3.6/site-packages/pyabc/model.py\", line 97, in summary_statistics\n",
      "    raw_data = self.sample(pars)\n",
      "  File \"/Users/charles/miniconda3/envs/pyabc/lib/python3.6/site-packages/pyabc/model.py\", line 179, in sample\n",
      "    return self.sample_function(pars)\n",
      "  File \"<ipython-input-6-ce6ed0c518db>\", line 2, in simulate_pyabc\n",
      "    res = simulate(**parameter)\n",
      "  File \"/Users/charles/miniconda3/envs/pyabc/lib/python3.6/site-packages/pyabc/model.py\", line 179, in sample\n",
      "    return self.sample_function(pars)\n",
      "  File \"<ipython-input-6-ce6ed0c518db>\", line 2, in simulate_pyabc\n",
      "    res = simulate(**parameter)\n",
      "  File \"<ipython-input-2-7c2eff65d820>\", line 18, in simulate\n",
      "    re = subprocess.run(args, stdout=subprocess.PIPE)\n",
      "  File \"<ipython-input-6-ce6ed0c518db>\", line 2, in simulate_pyabc\n",
      "    res = simulate(**parameter)\n",
      "  File \"<ipython-input-2-7c2eff65d820>\", line 18, in simulate\n",
      "    re = subprocess.run(args, stdout=subprocess.PIPE)\n",
      "  File \"<ipython-input-2-7c2eff65d820>\", line 18, in simulate\n",
      "    re = subprocess.run(args, stdout=subprocess.PIPE)\n",
      "  File \"/Users/charles/miniconda3/envs/pyabc/lib/python3.6/subprocess.py\", line 405, in run\n",
      "    stdout, stderr = process.communicate(input, timeout=timeout)\n",
      "  File \"/Users/charles/miniconda3/envs/pyabc/lib/python3.6/subprocess.py\", line 405, in run\n",
      "    stdout, stderr = process.communicate(input, timeout=timeout)\n",
      "  File \"/Users/charles/miniconda3/envs/pyabc/lib/python3.6/subprocess.py\", line 405, in run\n",
      "    stdout, stderr = process.communicate(input, timeout=timeout)\n",
      "  File \"/Users/charles/miniconda3/envs/pyabc/lib/python3.6/subprocess.py\", line 830, in communicate\n",
      "    stdout = self.stdout.read()\n",
      "  File \"/Users/charles/miniconda3/envs/pyabc/lib/python3.6/subprocess.py\", line 830, in communicate\n",
      "    stdout = self.stdout.read()\n",
      "  File \"/Users/charles/miniconda3/envs/pyabc/lib/python3.6/subprocess.py\", line 830, in communicate\n",
      "    stdout = self.stdout.read()\n",
      "KeyboardInterrupt\n",
      "KeyboardInterrupt\n",
      "Traceback (most recent call last):\n"
     ]
    },
    {
     "ename": "KeyboardInterrupt",
     "evalue": "",
     "output_type": "error",
     "traceback": [
      "\u001b[0;31m---------------------------------------------------------------------------\u001b[0m",
      "\u001b[0;31mKeyboardInterrupt\u001b[0m                         Traceback (most recent call last)",
      "\u001b[0;32m<ipython-input-13-6bb1a0ab9f0e>\u001b[0m in \u001b[0;36m<module>\u001b[0;34m()\u001b[0m\n\u001b[0;32m----> 1\u001b[0;31m \u001b[0mhistory\u001b[0m \u001b[0;34m=\u001b[0m \u001b[0mabc\u001b[0m\u001b[0;34m.\u001b[0m\u001b[0mrun\u001b[0m\u001b[0;34m(\u001b[0m\u001b[0mmax_nr_populations\u001b[0m\u001b[0;34m=\u001b[0m\u001b[0;36m10\u001b[0m\u001b[0;34m,\u001b[0m \u001b[0mminimum_epsilon\u001b[0m\u001b[0;34m=\u001b[0m\u001b[0;36m0.4\u001b[0m\u001b[0;34m)\u001b[0m\u001b[0;34m\u001b[0m\u001b[0m\n\u001b[0m",
      "\u001b[0;32m~/miniconda3/envs/pyabc/lib/python3.6/site-packages/pyabc/smc.py\u001b[0m in \u001b[0;36mrun\u001b[0;34m(self, minimum_epsilon, max_nr_populations, min_acceptance_rate, **kwargs)\u001b[0m\n\u001b[1;32m    561\u001b[0m             population = self.sampler.sample_until_n_accepted(\n\u001b[1;32m    562\u001b[0m                 \u001b[0msample_one\u001b[0m\u001b[0;34m,\u001b[0m \u001b[0meval_one\u001b[0m\u001b[0;34m,\u001b[0m \u001b[0maccept_one\u001b[0m\u001b[0;34m,\u001b[0m\u001b[0;34m\u001b[0m\u001b[0m\n\u001b[0;32m--> 563\u001b[0;31m                 self.population_strategy.nr_particles)\n\u001b[0m\u001b[1;32m    564\u001b[0m \u001b[0;34m\u001b[0m\u001b[0m\n\u001b[1;32m    565\u001b[0m             population = [particle for particle in population\n",
      "\u001b[0;32m~/miniconda3/envs/pyabc/lib/python3.6/site-packages/pyabc/sampler/multicore_evaluation_parallel.py\u001b[0m in \u001b[0;36msample_until_n_accepted\u001b[0;34m(self, sample_one, simulate_one, accept_one, n)\u001b[0m\n\u001b[1;32m     98\u001b[0m         \u001b[0mn_done\u001b[0m \u001b[0;34m=\u001b[0m \u001b[0;36m0\u001b[0m\u001b[0;34m\u001b[0m\u001b[0m\n\u001b[1;32m     99\u001b[0m         \u001b[0;32mwhile\u001b[0m \u001b[0mn_done\u001b[0m \u001b[0;34m<\u001b[0m \u001b[0mlen\u001b[0m\u001b[0;34m(\u001b[0m\u001b[0mprocesses\u001b[0m\u001b[0;34m)\u001b[0m\u001b[0;34m:\u001b[0m\u001b[0;34m\u001b[0m\u001b[0m\n\u001b[0;32m--> 100\u001b[0;31m             \u001b[0mval\u001b[0m \u001b[0;34m=\u001b[0m \u001b[0mget_if_worker_healthy\u001b[0m\u001b[0;34m(\u001b[0m\u001b[0mprocesses\u001b[0m\u001b[0;34m,\u001b[0m \u001b[0mqueue\u001b[0m\u001b[0;34m)\u001b[0m\u001b[0;34m\u001b[0m\u001b[0m\n\u001b[0m\u001b[1;32m    101\u001b[0m             \u001b[0;32mif\u001b[0m \u001b[0mval\u001b[0m \u001b[0;34m==\u001b[0m \u001b[0mDONE\u001b[0m\u001b[0;34m:\u001b[0m\u001b[0;34m\u001b[0m\u001b[0m\n\u001b[1;32m    102\u001b[0m                 \u001b[0mn_done\u001b[0m \u001b[0;34m+=\u001b[0m \u001b[0;36m1\u001b[0m\u001b[0;34m\u001b[0m\u001b[0m\n",
      "\u001b[0;32m~/miniconda3/envs/pyabc/lib/python3.6/site-packages/pyabc/sampler/multicorebase.py\u001b[0m in \u001b[0;36mget_if_worker_healthy\u001b[0;34m(workers, queue)\u001b[0m\n\u001b[1;32m     48\u001b[0m     \u001b[0;32mwhile\u001b[0m \u001b[0;32mTrue\u001b[0m\u001b[0;34m:\u001b[0m\u001b[0;34m\u001b[0m\u001b[0m\n\u001b[1;32m     49\u001b[0m         \u001b[0;32mtry\u001b[0m\u001b[0;34m:\u001b[0m\u001b[0;34m\u001b[0m\u001b[0m\n\u001b[0;32m---> 50\u001b[0;31m             \u001b[0mitem\u001b[0m \u001b[0;34m=\u001b[0m \u001b[0mqueue\u001b[0m\u001b[0;34m.\u001b[0m\u001b[0mget\u001b[0m\u001b[0;34m(\u001b[0m\u001b[0;32mTrue\u001b[0m\u001b[0;34m,\u001b[0m \u001b[0;36m5\u001b[0m\u001b[0;34m)\u001b[0m\u001b[0;34m\u001b[0m\u001b[0m\n\u001b[0m\u001b[1;32m     51\u001b[0m             \u001b[0;32mreturn\u001b[0m \u001b[0mitem\u001b[0m\u001b[0;34m\u001b[0m\u001b[0m\n\u001b[1;32m     52\u001b[0m         \u001b[0;32mexcept\u001b[0m \u001b[0mEmpty\u001b[0m\u001b[0;34m:\u001b[0m\u001b[0;34m\u001b[0m\u001b[0m\n",
      "\u001b[0;32m~/miniconda3/envs/pyabc/lib/python3.6/multiprocessing/queues.py\u001b[0m in \u001b[0;36mget\u001b[0;34m(self, block, timeout)\u001b[0m\n\u001b[1;32m    102\u001b[0m                 \u001b[0;32mif\u001b[0m \u001b[0mblock\u001b[0m\u001b[0;34m:\u001b[0m\u001b[0;34m\u001b[0m\u001b[0m\n\u001b[1;32m    103\u001b[0m                     \u001b[0mtimeout\u001b[0m \u001b[0;34m=\u001b[0m \u001b[0mdeadline\u001b[0m \u001b[0;34m-\u001b[0m \u001b[0mtime\u001b[0m\u001b[0;34m.\u001b[0m\u001b[0mtime\u001b[0m\u001b[0;34m(\u001b[0m\u001b[0;34m)\u001b[0m\u001b[0;34m\u001b[0m\u001b[0m\n\u001b[0;32m--> 104\u001b[0;31m                     \u001b[0;32mif\u001b[0m \u001b[0;32mnot\u001b[0m \u001b[0mself\u001b[0m\u001b[0;34m.\u001b[0m\u001b[0m_poll\u001b[0m\u001b[0;34m(\u001b[0m\u001b[0mtimeout\u001b[0m\u001b[0;34m)\u001b[0m\u001b[0;34m:\u001b[0m\u001b[0;34m\u001b[0m\u001b[0m\n\u001b[0m\u001b[1;32m    105\u001b[0m                         \u001b[0;32mraise\u001b[0m \u001b[0mEmpty\u001b[0m\u001b[0;34m\u001b[0m\u001b[0m\n\u001b[1;32m    106\u001b[0m                 \u001b[0;32melif\u001b[0m \u001b[0;32mnot\u001b[0m \u001b[0mself\u001b[0m\u001b[0;34m.\u001b[0m\u001b[0m_poll\u001b[0m\u001b[0;34m(\u001b[0m\u001b[0;34m)\u001b[0m\u001b[0;34m:\u001b[0m\u001b[0;34m\u001b[0m\u001b[0m\n",
      "\u001b[0;32m~/miniconda3/envs/pyabc/lib/python3.6/multiprocessing/connection.py\u001b[0m in \u001b[0;36mpoll\u001b[0;34m(self, timeout)\u001b[0m\n\u001b[1;32m    255\u001b[0m         \u001b[0mself\u001b[0m\u001b[0;34m.\u001b[0m\u001b[0m_check_closed\u001b[0m\u001b[0;34m(\u001b[0m\u001b[0;34m)\u001b[0m\u001b[0;34m\u001b[0m\u001b[0m\n\u001b[1;32m    256\u001b[0m         \u001b[0mself\u001b[0m\u001b[0;34m.\u001b[0m\u001b[0m_check_readable\u001b[0m\u001b[0;34m(\u001b[0m\u001b[0;34m)\u001b[0m\u001b[0;34m\u001b[0m\u001b[0m\n\u001b[0;32m--> 257\u001b[0;31m         \u001b[0;32mreturn\u001b[0m \u001b[0mself\u001b[0m\u001b[0;34m.\u001b[0m\u001b[0m_poll\u001b[0m\u001b[0;34m(\u001b[0m\u001b[0mtimeout\u001b[0m\u001b[0;34m)\u001b[0m\u001b[0;34m\u001b[0m\u001b[0m\n\u001b[0m\u001b[1;32m    258\u001b[0m \u001b[0;34m\u001b[0m\u001b[0m\n\u001b[1;32m    259\u001b[0m     \u001b[0;32mdef\u001b[0m \u001b[0m__enter__\u001b[0m\u001b[0;34m(\u001b[0m\u001b[0mself\u001b[0m\u001b[0;34m)\u001b[0m\u001b[0;34m:\u001b[0m\u001b[0;34m\u001b[0m\u001b[0m\n",
      "\u001b[0;32m~/miniconda3/envs/pyabc/lib/python3.6/multiprocessing/connection.py\u001b[0m in \u001b[0;36m_poll\u001b[0;34m(self, timeout)\u001b[0m\n\u001b[1;32m    412\u001b[0m \u001b[0;34m\u001b[0m\u001b[0m\n\u001b[1;32m    413\u001b[0m     \u001b[0;32mdef\u001b[0m \u001b[0m_poll\u001b[0m\u001b[0;34m(\u001b[0m\u001b[0mself\u001b[0m\u001b[0;34m,\u001b[0m \u001b[0mtimeout\u001b[0m\u001b[0;34m)\u001b[0m\u001b[0;34m:\u001b[0m\u001b[0;34m\u001b[0m\u001b[0m\n\u001b[0;32m--> 414\u001b[0;31m         \u001b[0mr\u001b[0m \u001b[0;34m=\u001b[0m \u001b[0mwait\u001b[0m\u001b[0;34m(\u001b[0m\u001b[0;34m[\u001b[0m\u001b[0mself\u001b[0m\u001b[0;34m]\u001b[0m\u001b[0;34m,\u001b[0m \u001b[0mtimeout\u001b[0m\u001b[0;34m)\u001b[0m\u001b[0;34m\u001b[0m\u001b[0m\n\u001b[0m\u001b[1;32m    415\u001b[0m         \u001b[0;32mreturn\u001b[0m \u001b[0mbool\u001b[0m\u001b[0;34m(\u001b[0m\u001b[0mr\u001b[0m\u001b[0;34m)\u001b[0m\u001b[0;34m\u001b[0m\u001b[0m\n\u001b[1;32m    416\u001b[0m \u001b[0;34m\u001b[0m\u001b[0m\n",
      "\u001b[0;32m~/miniconda3/envs/pyabc/lib/python3.6/multiprocessing/connection.py\u001b[0m in \u001b[0;36mwait\u001b[0;34m(object_list, timeout)\u001b[0m\n\u001b[1;32m    909\u001b[0m \u001b[0;34m\u001b[0m\u001b[0m\n\u001b[1;32m    910\u001b[0m             \u001b[0;32mwhile\u001b[0m \u001b[0;32mTrue\u001b[0m\u001b[0;34m:\u001b[0m\u001b[0;34m\u001b[0m\u001b[0m\n\u001b[0;32m--> 911\u001b[0;31m                 \u001b[0mready\u001b[0m \u001b[0;34m=\u001b[0m \u001b[0mselector\u001b[0m\u001b[0;34m.\u001b[0m\u001b[0mselect\u001b[0m\u001b[0;34m(\u001b[0m\u001b[0mtimeout\u001b[0m\u001b[0;34m)\u001b[0m\u001b[0;34m\u001b[0m\u001b[0m\n\u001b[0m\u001b[1;32m    912\u001b[0m                 \u001b[0;32mif\u001b[0m \u001b[0mready\u001b[0m\u001b[0;34m:\u001b[0m\u001b[0;34m\u001b[0m\u001b[0m\n\u001b[1;32m    913\u001b[0m                     \u001b[0;32mreturn\u001b[0m \u001b[0;34m[\u001b[0m\u001b[0mkey\u001b[0m\u001b[0;34m.\u001b[0m\u001b[0mfileobj\u001b[0m \u001b[0;32mfor\u001b[0m \u001b[0;34m(\u001b[0m\u001b[0mkey\u001b[0m\u001b[0;34m,\u001b[0m \u001b[0mevents\u001b[0m\u001b[0;34m)\u001b[0m \u001b[0;32min\u001b[0m \u001b[0mready\u001b[0m\u001b[0;34m]\u001b[0m\u001b[0;34m\u001b[0m\u001b[0m\n",
      "\u001b[0;32m~/miniconda3/envs/pyabc/lib/python3.6/selectors.py\u001b[0m in \u001b[0;36mselect\u001b[0;34m(self, timeout)\u001b[0m\n\u001b[1;32m    374\u001b[0m             \u001b[0mready\u001b[0m \u001b[0;34m=\u001b[0m \u001b[0;34m[\u001b[0m\u001b[0;34m]\u001b[0m\u001b[0;34m\u001b[0m\u001b[0m\n\u001b[1;32m    375\u001b[0m             \u001b[0;32mtry\u001b[0m\u001b[0;34m:\u001b[0m\u001b[0;34m\u001b[0m\u001b[0m\n\u001b[0;32m--> 376\u001b[0;31m                 \u001b[0mfd_event_list\u001b[0m \u001b[0;34m=\u001b[0m \u001b[0mself\u001b[0m\u001b[0;34m.\u001b[0m\u001b[0m_poll\u001b[0m\u001b[0;34m.\u001b[0m\u001b[0mpoll\u001b[0m\u001b[0;34m(\u001b[0m\u001b[0mtimeout\u001b[0m\u001b[0;34m)\u001b[0m\u001b[0;34m\u001b[0m\u001b[0m\n\u001b[0m\u001b[1;32m    377\u001b[0m             \u001b[0;32mexcept\u001b[0m \u001b[0mInterruptedError\u001b[0m\u001b[0;34m:\u001b[0m\u001b[0;34m\u001b[0m\u001b[0m\n\u001b[1;32m    378\u001b[0m                 \u001b[0;32mreturn\u001b[0m \u001b[0mready\u001b[0m\u001b[0;34m\u001b[0m\u001b[0m\n",
      "\u001b[0;31mKeyboardInterrupt\u001b[0m: "
     ]
    },
    {
     "name": "stderr",
     "output_type": "stream",
     "text": [
      "KeyboardInterrupt\n",
      "  File \"/Users/charles/miniconda3/envs/pyabc/lib/python3.6/multiprocessing/process.py\", line 258, in _bootstrap\n",
      "    self.run()\n",
      "  File \"/Users/charles/miniconda3/envs/pyabc/lib/python3.6/multiprocessing/process.py\", line 93, in run\n",
      "    self._target(*self._args, **self._kwargs)\n",
      "  File \"/Users/charles/miniconda3/envs/pyabc/lib/python3.6/site-packages/pyabc/sampler/multicore_evaluation_parallel.py\", line 23, in work\n",
      "    new_sim = simulate(new_param)\n",
      "  File \"/Users/charles/miniconda3/envs/pyabc/lib/python3.6/site-packages/pyabc/smc.py\", line 556, in eval_one\n",
      "    model_probabilities)\n",
      "  File \"/Users/charles/miniconda3/envs/pyabc/lib/python3.6/site-packages/pyabc/smc.py\", line 405, in _evaluate_proposal\n",
      "    lambda x: self.distance_function(x, self.x_0), current_eps)\n",
      "  File \"/Users/charles/miniconda3/envs/pyabc/lib/python3.6/site-packages/pyabc/model.py\", line 148, in accept\n",
      "    distance_calculator)\n",
      "  File \"/Users/charles/miniconda3/envs/pyabc/lib/python3.6/site-packages/pyabc/model.py\", line 120, in distance\n",
      "    sum_stats_result = self.summary_statistics(pars, sum_stats_calculator)\n",
      "  File \"/Users/charles/miniconda3/envs/pyabc/lib/python3.6/site-packages/pyabc/model.py\", line 97, in summary_statistics\n",
      "    raw_data = self.sample(pars)\n",
      "  File \"/Users/charles/miniconda3/envs/pyabc/lib/python3.6/site-packages/pyabc/model.py\", line 179, in sample\n",
      "    return self.sample_function(pars)\n",
      "  File \"<ipython-input-6-ce6ed0c518db>\", line 2, in simulate_pyabc\n",
      "    res = simulate(**parameter)\n",
      "  File \"<ipython-input-2-7c2eff65d820>\", line 18, in simulate\n",
      "    re = subprocess.run(args, stdout=subprocess.PIPE)\n",
      "  File \"/Users/charles/miniconda3/envs/pyabc/lib/python3.6/subprocess.py\", line 405, in run\n",
      "    stdout, stderr = process.communicate(input, timeout=timeout)\n",
      "  File \"/Users/charles/miniconda3/envs/pyabc/lib/python3.6/subprocess.py\", line 830, in communicate\n",
      "    stdout = self.stdout.read()\n",
      "KeyboardInterrupt\n"
     ]
    }
   ],
   "source": [
    "history = abc.run(max_nr_populations=10, minimum_epsilon=0.4)"
   ]
  },
  {
   "cell_type": "code",
   "execution_count": null,
   "metadata": {},
   "outputs": [],
   "source": []
  }
 ],
 "metadata": {
  "kernelspec": {
   "display_name": "Python 3",
   "language": "python",
   "name": "python3"
  },
  "language_info": {
   "codemirror_mode": {
    "name": "ipython",
    "version": 3
   },
   "file_extension": ".py",
   "mimetype": "text/x-python",
   "name": "python",
   "nbconvert_exporter": "python",
   "pygments_lexer": "ipython3",
   "version": "3.6.5"
  }
 },
 "nbformat": 4,
 "nbformat_minor": 2
}
