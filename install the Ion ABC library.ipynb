{
 "cells": [
  {
   "cell_type": "code",
   "execution_count": 2,
   "metadata": {},
   "outputs": [
    {
     "name": "stdout",
     "output_type": "stream",
     "text": [
      "running install\n",
      "running bdist_egg\n",
      "running egg_info\n",
      "writing ionchannelABC.egg-info/PKG-INFO\n",
      "writing dependency_links to ionchannelABC.egg-info/dependency_links.txt\n",
      "writing top-level names to ionchannelABC.egg-info/top_level.txt\n",
      "reading manifest file 'ionchannelABC.egg-info/SOURCES.txt'\n",
      "writing manifest file 'ionchannelABC.egg-info/SOURCES.txt'\n",
      "installing library code to build/bdist.linux-x86_64/egg\n",
      "running install_lib\n",
      "running build_py\n",
      "copying ionchannelABC/experiment.py -> build/lib/ionchannelABC\n",
      "creating build/bdist.linux-x86_64/egg\n",
      "creating build/bdist.linux-x86_64/egg/ionchannelABC\n",
      "copying build/lib/ionchannelABC/full_parameters.py -> build/bdist.linux-x86_64/egg/ionchannelABC\n",
      "copying build/lib/ionchannelABC/__init__.py -> build/bdist.linux-x86_64/egg/ionchannelABC\n",
      "copying build/lib/ionchannelABC/protocol.py -> build/bdist.linux-x86_64/egg/ionchannelABC\n",
      "copying build/lib/ionchannelABC/distance.py -> build/bdist.linux-x86_64/egg/ionchannelABC\n",
      "copying build/lib/ionchannelABC/experiment.py -> build/bdist.linux-x86_64/egg/ionchannelABC\n",
      "copying build/lib/ionchannelABC/parameter_sensitivity.py -> build/bdist.linux-x86_64/egg/ionchannelABC\n",
      "copying build/lib/ionchannelABC/ion_channel_pyabc.py -> build/bdist.linux-x86_64/egg/ionchannelABC\n",
      "copying build/lib/ionchannelABC/visualization.py -> build/bdist.linux-x86_64/egg/ionchannelABC\n",
      "copying build/lib/ionchannelABC/utils.py -> build/bdist.linux-x86_64/egg/ionchannelABC\n",
      "byte-compiling build/bdist.linux-x86_64/egg/ionchannelABC/full_parameters.py to full_parameters.cpython-37.pyc\n",
      "byte-compiling build/bdist.linux-x86_64/egg/ionchannelABC/__init__.py to __init__.cpython-37.pyc\n",
      "byte-compiling build/bdist.linux-x86_64/egg/ionchannelABC/protocol.py to protocol.cpython-37.pyc\n",
      "byte-compiling build/bdist.linux-x86_64/egg/ionchannelABC/distance.py to distance.cpython-37.pyc\n",
      "byte-compiling build/bdist.linux-x86_64/egg/ionchannelABC/experiment.py to experiment.cpython-37.pyc\n",
      "byte-compiling build/bdist.linux-x86_64/egg/ionchannelABC/parameter_sensitivity.py to parameter_sensitivity.cpython-37.pyc\n",
      "byte-compiling build/bdist.linux-x86_64/egg/ionchannelABC/ion_channel_pyabc.py to ion_channel_pyabc.cpython-37.pyc\n",
      "byte-compiling build/bdist.linux-x86_64/egg/ionchannelABC/visualization.py to visualization.cpython-37.pyc\n",
      "byte-compiling build/bdist.linux-x86_64/egg/ionchannelABC/utils.py to utils.cpython-37.pyc\n",
      "creating build/bdist.linux-x86_64/egg/EGG-INFO\n",
      "copying ionchannelABC.egg-info/PKG-INFO -> build/bdist.linux-x86_64/egg/EGG-INFO\n",
      "copying ionchannelABC.egg-info/SOURCES.txt -> build/bdist.linux-x86_64/egg/EGG-INFO\n",
      "copying ionchannelABC.egg-info/dependency_links.txt -> build/bdist.linux-x86_64/egg/EGG-INFO\n",
      "copying ionchannelABC.egg-info/top_level.txt -> build/bdist.linux-x86_64/egg/EGG-INFO\n",
      "zip_safe flag not set; analyzing archive contents...\n",
      "creating 'dist/ionchannelABC-0.2.0-py3.7.egg' and adding 'build/bdist.linux-x86_64/egg' to it\n",
      "removing 'build/bdist.linux-x86_64/egg' (and everything under it)\n",
      "Processing ionchannelABC-0.2.0-py3.7.egg\n",
      "Removing /home/brm18/.local/lib/python3.7/site-packages/ionchannelABC-0.2.0-py3.7.egg\n",
      "Copying ionchannelABC-0.2.0-py3.7.egg to /home/brm18/.local/lib/python3.7/site-packages\n",
      "ionchannelABC 0.2.0 is already the active version in easy-install.pth\n",
      "\n",
      "Installed /home/brm18/.local/lib/python3.7/site-packages/ionchannelABC-0.2.0-py3.7.egg\n",
      "Processing dependencies for ionchannelABC==0.2.0\n",
      "Finished processing dependencies for ionchannelABC==0.2.0\n"
     ]
    }
   ],
   "source": [
    "!python setup.py install --user"
   ]
  }
 ],
 "metadata": {
  "kernelspec": {
   "display_name": "Python 3",
   "language": "python",
   "name": "python3"
  },
  "language_info": {
   "codemirror_mode": {
    "name": "ipython",
    "version": 3
   },
   "file_extension": ".py",
   "mimetype": "text/x-python",
   "name": "python",
   "nbconvert_exporter": "python",
   "pygments_lexer": "ipython3",
   "version": "3.7.1"
  },
  "toc": {
   "base_numbering": 1,
   "nav_menu": {},
   "number_sections": true,
   "sideBar": true,
   "skip_h1_title": false,
   "title_cell": "Table of Contents",
   "title_sidebar": "Contents",
   "toc_cell": false,
   "toc_position": {},
   "toc_section_display": true,
   "toc_window_display": false
  }
 },
 "nbformat": 4,
 "nbformat_minor": 2
}
